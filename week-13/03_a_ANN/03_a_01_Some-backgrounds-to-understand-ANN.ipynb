{
 "cells": [
  {
   "cell_type": "markdown",
   "metadata": {
    "slideshow": {
     "slide_type": "slide"
    }
   },
   "source": [
    "# Some preliminaries for Artificial Neural Network Understanding\n"
   ]
  },
  {
   "cell_type": "markdown",
   "metadata": {
    "slideshow": {
     "slide_type": "skip"
    }
   },
   "source": [
    "## Using nbconvert to print the presentation\n",
    "* Generate the slides and serve them using nbconvert:\n",
    "<pre>jupyter nbconvert --to slides your_talk.ipynb --post serve<pre>\n",
    "\n",
    "It opens up a webpage in the browser at http://127.0.0.1:8000/your_talk.slides.html#/\n",
    "\n",
    "* Add ?print-pdf to the query string as http://127.0.0.1:8000/your_talk.slides.html?print-pdf\n",
    "\n",
    "Note that you need to remove the # at the end. The page will render the slides vertically.\n",
    "\n",
    "* Save to PDF in Chrome using the print option\n",
    "\n",
    "* Open the in-browser print dialog (Cmd/Ctrl + P).\n",
    "* Change the Destination setting to Save as PDF.\n",
    "* Change the Layout to Landscape.\n",
    "* Change the Margins to None.\n",
    "* Enable the Background graphics option.\n",
    "* Click Save."
   ]
  },
  {
   "cell_type": "markdown",
   "metadata": {
    "slideshow": {
     "slide_type": "subslide"
    }
   },
   "source": [
    "## Neurons and what they do\n",
    "![neurons](figs/neurons.png)\n",
    "* Figure courtesy: http://cs231n.github.io/neural-networks-1/"
   ]
  },
  {
   "cell_type": "markdown",
   "metadata": {
    "slideshow": {
     "slide_type": "subslide"
    }
   },
   "source": [
    "## Neurons and what they do?\n",
    "\n",
    "[![Neurons](https://img.youtube.com/vi/vyNkAuX29OU/0.jpg)](https://www.youtube.com/watch?v=vyNkAuX29OU)"
   ]
  },
  {
   "cell_type": "markdown",
   "metadata": {
    "slideshow": {
     "slide_type": "subslide"
    }
   },
   "source": [
    "# A biological neuron vs. the artificial neuron (a.k.a., the perceptron)"
   ]
  },
  {
   "cell_type": "markdown",
   "metadata": {
    "slideshow": {
     "slide_type": "fragment"
    }
   },
   "source": [
    "![neurons](figs/neuron+perceptron.png)"
   ]
  },
  {
   "cell_type": "markdown",
   "metadata": {
    "slideshow": {
     "slide_type": "subslide"
    }
   },
   "source": [
    "## Artificial Neural Network\n",
    "* It is a network with the perceptrons spanning across several layers forming a *multi-partite graph*\n",
    "![ann-01](figs/ann-01.png)"
   ]
  },
  {
   "cell_type": "markdown",
   "metadata": {
    "slideshow": {
     "slide_type": "subslide"
    }
   },
   "source": [
    "![ann-02](figs/ann-02.png)"
   ]
  },
  {
   "cell_type": "markdown",
   "metadata": {
    "slideshow": {
     "slide_type": "subslide"
    }
   },
   "source": [
    "## Function to compute a neuron's output\n",
    "$$ \n",
    "\\begin{eqnarray}\n",
    "\\text{raw output of a neuron} &=& \\sum weight_i \\cdot input_i\\\\\n",
    "&=& w_1\\cdot i_1 + w_2\\cdot i_2 + \\cdots\n",
    "\\end{eqnarray}\n",
    "$$\n",
    "Here, $i_i$ is the $i^{th}$ input signal to that neuron, and $w_i$ is the associated weight of that input signal.\n",
    "\n",
    "* Then, we normalize this with the use of an activation function. For example, sigmoid(.). Therefore, the final output of the neuron is:\n",
    "$$\n",
    "H(neuron) = sigmoid(\\sum weight_i \\cdot input_i)\n",
    "$$"
   ]
  },
  {
   "cell_type": "markdown",
   "metadata": {
    "slideshow": {
     "slide_type": "slide"
    }
   },
   "source": [
    "# Another Artificial Neural Network (ANN)\n",
    "<img src=\"figs/nn-diag-02.d.png\" />"
   ]
  },
  {
   "cell_type": "markdown",
   "metadata": {
    "slideshow": {
     "slide_type": "slide"
    }
   },
   "source": [
    "# Steps in a Feed forward network\n",
    "## Step 1: $\\sum $, weighted sum calculation\n",
    "\n",
    "<img src=\"figs/01.png\" />"
   ]
  },
  {
   "cell_type": "markdown",
   "metadata": {
    "slideshow": {
     "slide_type": "subslide"
    }
   },
   "source": [
    "## Step 2: $\\phi$, applying the activation function on the weighted sum\n",
    "<img src=\"figs/02.png\" />"
   ]
  },
  {
   "cell_type": "markdown",
   "metadata": {
    "slideshow": {
     "slide_type": "subslide"
    }
   },
   "source": [
    "## Step 3: Pass the activation output to the next neuron it is connected to.\n",
    "\n",
    "<img src=\"figs/03.png\" />"
   ]
  },
  {
   "cell_type": "markdown",
   "metadata": {
    "slideshow": {
     "slide_type": "subslide"
    }
   },
   "source": [
    "<img src=\"figs/04.png\" />"
   ]
  },
  {
   "cell_type": "markdown",
   "metadata": {
    "slideshow": {
     "slide_type": "subslide"
    }
   },
   "source": [
    "<img src=\"figs/05.png\" />"
   ]
  },
  {
   "cell_type": "markdown",
   "metadata": {
    "slideshow": {
     "slide_type": "subslide"
    }
   },
   "source": [
    "<img src=\"figs/06.png\" />"
   ]
  },
  {
   "cell_type": "markdown",
   "metadata": {
    "slideshow": {
     "slide_type": "subslide"
    }
   },
   "source": [
    "# Hyperbolic tangent function as activation function\n",
    "![tanh](figs/tanhx.png)"
   ]
  },
  {
   "cell_type": "markdown",
   "metadata": {
    "slideshow": {
     "slide_type": "subslide"
    }
   },
   "source": [
    "## Reasons to use activation functions\n",
    "* An activation function essentially squashes the input and transforms it into an output value that represents how much a node should contribute (i.e., how much a node should fire)\n",
    "* Activation functions introduce non-linearity in the model to solve non-linear classification problems.\n",
    "<img src=\"figs/lin+non-lin.png\">\n",
    "* Activation functions limit the output of a node to a certain range. In most cases, reduce number of weights to learn."
   ]
  },
  {
   "cell_type": "markdown",
   "metadata": {
    "slideshow": {
     "slide_type": "slide"
    }
   },
   "source": [
    "# Intuition of weights in an ANN\n",
    "<img src=\"figs/08.png\" />"
   ]
  },
  {
   "cell_type": "markdown",
   "metadata": {
    "slideshow": {
     "slide_type": "subslide"
    }
   },
   "source": [
    "<img src=\"figs/09.png\" />"
   ]
  },
  {
   "cell_type": "markdown",
   "metadata": {
    "slideshow": {
     "slide_type": "subslide"
    }
   },
   "source": [
    "<img src=\"figs/10.png\" />"
   ]
  },
  {
   "cell_type": "markdown",
   "metadata": {
    "slideshow": {
     "slide_type": "subslide"
    }
   },
   "source": [
    "<img src=\"figs/11.png\" />"
   ]
  },
  {
   "cell_type": "markdown",
   "metadata": {
    "slideshow": {
     "slide_type": "subslide"
    }
   },
   "source": [
    "<img src=\"figs/12.png\" />"
   ]
  },
  {
   "cell_type": "markdown",
   "metadata": {
    "slideshow": {
     "slide_type": "subslide"
    }
   },
   "source": [
    "<img src=\"figs/13.png\" />"
   ]
  },
  {
   "cell_type": "markdown",
   "metadata": {
    "slideshow": {
     "slide_type": "subslide"
    }
   },
   "source": [
    "<img src=\"figs/14.png\" />"
   ]
  },
  {
   "cell_type": "markdown",
   "metadata": {
    "slideshow": {
     "slide_type": "subslide"
    }
   },
   "source": [
    "<img src=\"figs/15.png\" />"
   ]
  },
  {
   "cell_type": "markdown",
   "metadata": {
    "slideshow": {
     "slide_type": "subslide"
    }
   },
   "source": [
    "<img src=\"figs/16.png\" />"
   ]
  },
  {
   "cell_type": "markdown",
   "metadata": {
    "slideshow": {
     "slide_type": "subslide"
    }
   },
   "source": [
    "<img src=\"figs/17.png\" />"
   ]
  },
  {
   "cell_type": "markdown",
   "metadata": {
    "slideshow": {
     "slide_type": "slide"
    }
   },
   "source": [
    "# Idea behind the backpropagation algorithm\n",
    "<img src=\"figs/18.png\" />"
   ]
  },
  {
   "cell_type": "markdown",
   "metadata": {
    "slideshow": {
     "slide_type": "subslide"
    }
   },
   "source": [
    "<img src=\"figs/19.png\" />"
   ]
  },
  {
   "cell_type": "markdown",
   "metadata": {
    "slideshow": {
     "slide_type": "subslide"
    }
   },
   "source": [
    "<img src=\"figs/22.png\" />"
   ]
  },
  {
   "cell_type": "markdown",
   "metadata": {
    "slideshow": {
     "slide_type": "subslide"
    }
   },
   "source": [
    "<img src=\"figs/24.png\" />"
   ]
  },
  {
   "cell_type": "markdown",
   "metadata": {
    "slideshow": {
     "slide_type": "subslide"
    }
   },
   "source": [
    "<img src=\"figs/25.png\" />"
   ]
  },
  {
   "cell_type": "markdown",
   "metadata": {
    "slideshow": {
     "slide_type": "subslide"
    }
   },
   "source": [
    "<img src=\"figs/26.png\" />"
   ]
  },
  {
   "cell_type": "markdown",
   "metadata": {
    "slideshow": {
     "slide_type": "subslide"
    }
   },
   "source": [
    "<img src=\"figs/29.png\" />"
   ]
  },
  {
   "cell_type": "markdown",
   "metadata": {
    "slideshow": {
     "slide_type": "subslide"
    }
   },
   "source": [
    "<img src=\"figs/30.png\" />"
   ]
  },
  {
   "cell_type": "markdown",
   "metadata": {
    "slideshow": {
     "slide_type": "subslide"
    }
   },
   "source": [
    "<img src=\"figs/30a.png\" />"
   ]
  },
  {
   "cell_type": "markdown",
   "metadata": {
    "slideshow": {
     "slide_type": "subslide"
    }
   },
   "source": [
    "<img src=\"figs/34.png\" />"
   ]
  },
  {
   "cell_type": "markdown",
   "metadata": {
    "slideshow": {
     "slide_type": "subslide"
    }
   },
   "source": [
    "<img src=\"figs/35.png\" />"
   ]
  },
  {
   "cell_type": "markdown",
   "metadata": {
    "slideshow": {
     "slide_type": "subslide"
    }
   },
   "source": [
    "<img src=\"figs/36.png\" />"
   ]
  },
  {
   "cell_type": "markdown",
   "metadata": {
    "slideshow": {
     "slide_type": "subslide"
    }
   },
   "source": [
    "<img src=\"figs/37.png\" />"
   ]
  },
  {
   "cell_type": "markdown",
   "metadata": {
    "slideshow": {
     "slide_type": "subslide"
    }
   },
   "source": [
    "<img src=\"figs/39.png\" />"
   ]
  },
  {
   "cell_type": "markdown",
   "metadata": {
    "slideshow": {
     "slide_type": "subslide"
    }
   },
   "source": [
    "<img src=\"figs/41.png\" />"
   ]
  },
  {
   "cell_type": "markdown",
   "metadata": {
    "slideshow": {
     "slide_type": "subslide"
    }
   },
   "source": [
    "<img src=\"figs/42.png\" />"
   ]
  },
  {
   "cell_type": "markdown",
   "metadata": {
    "slideshow": {
     "slide_type": "subslide"
    }
   },
   "source": [
    "<img src=\"figs/45.png\" />"
   ]
  },
  {
   "cell_type": "markdown",
   "metadata": {
    "slideshow": {
     "slide_type": "subslide"
    }
   },
   "source": [
    "<img src=\"figs/46.png\" />"
   ]
  },
  {
   "cell_type": "markdown",
   "metadata": {
    "slideshow": {
     "slide_type": "subslide"
    }
   },
   "source": [
    "### Goal is to find optimum set of weights that gives you the best $C$ score.\n",
    "<img src=\"figs/47.png\" />"
   ]
  },
  {
   "cell_type": "markdown",
   "metadata": {
    "slideshow": {
     "slide_type": "subslide"
    }
   },
   "source": [
    "## Using brute-force algorithm to solve for optimum set of weights might take millions of years.\n",
    "<img src=\"figs/56.png\" />"
   ]
  },
  {
   "cell_type": "markdown",
   "metadata": {
    "slideshow": {
     "slide_type": "subslide"
    }
   },
   "source": [
    "# So, here is Gradient Descent algorithm to solve it.\n",
    "<img src=\"figs/57.png\" />"
   ]
  },
  {
   "cell_type": "markdown",
   "metadata": {
    "slideshow": {
     "slide_type": "subslide"
    }
   },
   "source": [
    "<img src=\"figs/58.png\" />"
   ]
  },
  {
   "cell_type": "markdown",
   "metadata": {
    "slideshow": {
     "slide_type": "subslide"
    }
   },
   "source": [
    "<img src=\"figs/59.png\" />"
   ]
  },
  {
   "cell_type": "markdown",
   "metadata": {
    "slideshow": {
     "slide_type": "subslide"
    }
   },
   "source": [
    "<img src=\"figs/60.png\" />"
   ]
  },
  {
   "cell_type": "markdown",
   "metadata": {
    "slideshow": {
     "slide_type": "subslide"
    }
   },
   "source": [
    "<img src=\"figs/61.png\" />"
   ]
  },
  {
   "cell_type": "markdown",
   "metadata": {
    "slideshow": {
     "slide_type": "subslide"
    }
   },
   "source": [
    "<img src=\"figs/62.png\" />"
   ]
  },
  {
   "cell_type": "markdown",
   "metadata": {
    "slideshow": {
     "slide_type": "subslide"
    }
   },
   "source": [
    "<img src=\"figs/63.png\" />"
   ]
  },
  {
   "cell_type": "markdown",
   "metadata": {
    "slideshow": {
     "slide_type": "subslide"
    }
   },
   "source": [
    "<img src=\"figs/64.png\" />"
   ]
  },
  {
   "cell_type": "markdown",
   "metadata": {
    "slideshow": {
     "slide_type": "subslide"
    }
   },
   "source": [
    "<img src=\"figs/65.png\" />"
   ]
  },
  {
   "cell_type": "markdown",
   "metadata": {
    "slideshow": {
     "slide_type": "subslide"
    }
   },
   "source": [
    "<img src=\"figs/66.png\" />"
   ]
  },
  {
   "cell_type": "markdown",
   "metadata": {
    "slideshow": {
     "slide_type": "subslide"
    }
   },
   "source": [
    "# But, this will work perfectly only if the $C$ function is convex.\n",
    "<img src=\"figs/70.png\" />"
   ]
  },
  {
   "cell_type": "markdown",
   "metadata": {
    "slideshow": {
     "slide_type": "subslide"
    }
   },
   "source": [
    "# How about now? Can we obtain the best weight solution if we start from there?\n",
    "### This is a plot of a non-convex function.\n",
    "<img src=\"figs/71.png\" />"
   ]
  },
  {
   "cell_type": "markdown",
   "metadata": {
    "slideshow": {
     "slide_type": "subslide"
    }
   },
   "source": [
    "<img src=\"figs/72.png\" />"
   ]
  },
  {
   "cell_type": "markdown",
   "metadata": {
    "slideshow": {
     "slide_type": "subslide"
    }
   },
   "source": [
    "<img src=\"figs/73.png\" />"
   ]
  },
  {
   "cell_type": "markdown",
   "metadata": {
    "slideshow": {
     "slide_type": "subslide"
    }
   },
   "source": [
    "# Solution: Stochastic Gradient Descent\n",
    "<img src=\"figs/74.png\" />"
   ]
  },
  {
   "cell_type": "markdown",
   "metadata": {
    "slideshow": {
     "slide_type": "subslide"
    }
   },
   "source": [
    "# (Batch) gradient descent:\n",
    "* You read the entire training dataset, and then you compute $C$, and then adjust weights.\n",
    "<img src=\"figs/76.png\" />"
   ]
  },
  {
   "cell_type": "markdown",
   "metadata": {
    "slideshow": {
     "slide_type": "subslide"
    }
   },
   "source": [
    "# Stochastic gradient descent:\n",
    "* You read the first sample, compute $C$, and then adjust weights.\n",
    "* Then you read the second sample, compute $C$, and then adjust weights\n",
    "* and so on.\n",
    "<img src=\"figs/77.png\" />"
   ]
  },
  {
   "cell_type": "markdown",
   "metadata": {
    "slideshow": {
     "slide_type": "subslide"
    }
   },
   "source": [
    "<img src=\"figs/78.png\" />"
   ]
  },
  {
   "cell_type": "markdown",
   "metadata": {
    "slideshow": {
     "slide_type": "subslide"
    }
   },
   "source": [
    "<img src=\"figs/79.png\" />"
   ]
  },
  {
   "cell_type": "markdown",
   "metadata": {
    "slideshow": {
     "slide_type": "subslide"
    }
   },
   "source": [
    "<img src=\"figs/80.png\" />"
   ]
  },
  {
   "cell_type": "markdown",
   "metadata": {
    "slideshow": {
     "slide_type": "slide"
    }
   },
   "source": [
    "# Creating the ANN structure\n",
    "<img src=\"figs/ann-01.gvz.png\"/>"
   ]
  },
  {
   "cell_type": "markdown",
   "metadata": {
    "slideshow": {
     "slide_type": "slide"
    }
   },
   "source": [
    "# Creating the ANN structure\n",
    "<img src=\"figs/ANN-01.png\"/>"
   ]
  },
  {
   "cell_type": "markdown",
   "metadata": {
    "slideshow": {
     "slide_type": "subslide"
    }
   },
   "source": [
    "## Parameters of an ANN\n",
    "* **Input layer, Input nodes** An input node contains the input of the network and this input is always numerical. If the input is not numerical by default, it is always converted.\n"
   ]
  },
  {
   "cell_type": "markdown",
   "metadata": {
    "slideshow": {
     "slide_type": "fragment"
    }
   },
   "source": [
    "* **Hidden layer, hidden nodes**: A hidden layer is a lyer of nodes between input and output layers. There can be either a single hidden layer, or multiple hidden layers in a network.  The more that exist, the deeper the learning that a network can perform. In fact, multiple hidden layers are what the term deep learning refers to.\n"
   ]
  },
  {
   "cell_type": "markdown",
   "metadata": {
    "slideshow": {
     "slide_type": "subslide"
    }
   },
   "source": [
    "* **Output layer, output nodes**: An output node is a node within an output layer. There can be a single or multiple output nodes depending on the objective of the network. For example, for a network to classify cat and dog from a pool of images, then there would be 2 output nodes."
   ]
  },
  {
   "cell_type": "markdown",
   "metadata": {
    "slideshow": {
     "slide_type": "subslide"
    }
   },
   "source": [
    "* **Weight values**: A weight is a variable that sits on an edge between two nodes. It may reflect the contribution/importance of nodes to accomplish the objective.\n"
   ]
  },
  {
   "cell_type": "markdown",
   "metadata": {
    "slideshow": {
     "slide_type": "subslide"
    }
   },
   "source": [
    "* **Bias nodes, Bias values**: A bias is an extra node added to each hidden and output layer. It connects to every node within each respective layer. A bias is never connected to a previous layer, but is simply added to the input of a layer. It typically has a constant value of 1 or -1, and also has a weight on its connecting edges which also needs to be trained.\n",
    "![bias](figs/bias.png)\n",
    "And, suppose the inputs are: $x_1=x_2=0$, \n",
    "Without the bias node, only one output value is possible, which is 0. **It may lead to a very poor fit of the given dataset**\n",
    "\n",
    "- Bias enables activation function to be shifted to the left or right; i.e., make the offset between multiple node outputs 0.\n"
   ]
  },
  {
   "cell_type": "markdown",
   "metadata": {
    "slideshow": {
     "slide_type": "fragment"
    }
   },
   "source": [
    "* **Learning rate**: It is a value that speeds up or slows down how quickly the gradient descent learns."
   ]
  },
  {
   "cell_type": "markdown",
   "metadata": {
    "slideshow": {
     "slide_type": "subslide"
    }
   },
   "source": [
    "# Forward propagation: Summation Operator\n",
    "## netinput of a node = the weighted bias + the weighted sum of the inputs\n",
    "$$ \\text{netinput} = 1*w_b + \\sum_{i=1}^n{ x_iw_i} $$\n",
    "![ann](figs/ann-01.gvz.png)"
   ]
  },
  {
   "cell_type": "markdown",
   "metadata": {
    "slideshow": {
     "slide_type": "subslide"
    }
   },
   "source": [
    "![ann](figs/ann-01.gvz.png)\n",
    "\n",
    "$$ \n",
    "\\begin{align*}\n",
    "b1_{net} &=& bias*bw1 + a1w1 + a2w3\\\\\n",
    "&=& 1*bw1 + a1w1 + a2w3\\\\\n",
    "b1_{out} &=& \\phi(b1_{net})\n",
    "\\end{align*}\n",
    "$$"
   ]
  },
  {
   "cell_type": "markdown",
   "metadata": {
    "slideshow": {
     "slide_type": "subslide"
    }
   },
   "source": [
    "![ann](figs/ann-01.gvz.png)\n",
    "$$ \n",
    "\\begin{align*}\n",
    "b2_{net} &=& 1*bw2 + a1w2 + a2w4\\\\\n",
    "b2_{out} &=& \\phi(b2_{net})\n",
    "\\end{align*}\n",
    "$$"
   ]
  },
  {
   "cell_type": "markdown",
   "metadata": {
    "slideshow": {
     "slide_type": "subslide"
    }
   },
   "source": [
    "![ann](figs/ann-01.gvz.png)\n",
    "$$ \\begin{align*}\n",
    "\\nonumber c1_{net} &=& 1*bw3 + b1_{out}w5 + b2_{out}w6\\\\\n",
    "\\nonumber c1_{out} &=& \\phi(c1_{net})\n",
    "\\end{align*}\n",
    "$$"
   ]
  },
  {
   "cell_type": "markdown",
   "metadata": {
    "slideshow": {
     "slide_type": "subslide"
    }
   },
   "source": [
    "![ann](figs/ann-01.gvz.png)\n",
    "$$ \\begin{align*}\n",
    "\\nonumber c1_{net} &=& 1*bw3 + b1_{out}w5 + b2_{out}w6\\\\\n",
    "\\nonumber \\hat{c1}_{out} &=& \\phi(c1_{net}) \\quad \\text{in fact this is an estimated value}\n",
    "\\end{align*}$$"
   ]
  },
  {
   "cell_type": "markdown",
   "metadata": {
    "slideshow": {
     "slide_type": "subslide"
    }
   },
   "source": [
    "# Calculating the total error: the cost function\n",
    "In order for a neural network to successfully train, it must minimize the difference between its actual output and the target output to find the global minimum (or a local minimum that is close enough to the global). This difference is the total error, which essentially tells us how wrong a network is.\n",
    "\n",
    "A cost function gives us the sense of the total error between the target output and actual output.\n",
    "## Types of cost functions\n",
    "For $n$ rows (instances, or samples) in the dataset, and $z_i$ is the ground truth output value of the $i^\\text{th}$ sample, and $\\hat{z}_i$ is the predicted output value of that sample:\n",
    "### Mean Squared Error (MSE)\n",
    "$$ MSE = \\dfrac{1}{n} \\sum_{i=1}^n (\\hat{z}_i-z_i)^2$$\n"
   ]
  },
  {
   "cell_type": "markdown",
   "metadata": {
    "slideshow": {
     "slide_type": "subslide"
    }
   },
   "source": [
    "### Root Mean Squared error (RMSE)\n",
    "$$ RMSE = \\sqrt{\\dfrac{1}{n} \\sum_{i=1}^n (\\hat{z}_i-z_i)^2}$$\n"
   ]
  },
  {
   "cell_type": "markdown",
   "metadata": {
    "slideshow": {
     "slide_type": "subslide"
    }
   },
   "source": [
    "### Sum of Squared Error (SSE)\n",
    "$$ SSE = \\sum_{i=1}^n (\\hat{z}_i-z_i)^2$$\n"
   ]
  },
  {
   "cell_type": "markdown",
   "metadata": {
    "slideshow": {
     "slide_type": "slide"
    }
   },
   "source": [
    "# Calculating the gradients\n",
    "* We need to discover how the total error is spread across every weight in the ANN so that we can adjust the weights to minimize the error."
   ]
  },
  {
   "cell_type": "markdown",
   "metadata": {
    "slideshow": {
     "slide_type": "fragment"
    }
   },
   "source": [
    "* To do this, we are going to compute the error of every weight in the network."
   ]
  },
  {
   "cell_type": "markdown",
   "metadata": {
    "slideshow": {
     "slide_type": "fragment"
    }
   },
   "source": [
    "* The error of a weight is technically its analytical gradient.\n",
    "* Once calculated, the ANN tries to minimize the errors and thus minimize the total error.\n",
    "* This algorithm is called *Backpropagation* algorithm."
   ]
  },
  {
   "cell_type": "markdown",
   "metadata": {
    "slideshow": {
     "slide_type": "subslide"
    }
   },
   "source": [
    "# Partial Derivative\n",
    "<img src=\"figs/derivative.png\" width=600>\n",
    "<ul>\n",
    "    <li>A derivative provides the slope of a tangent line at a single point.</li>\n",
    "    <li>A partial derivative is the derivative of a function which has 2 or more variables but with respect to a single variable. All the other variables are treated as constant.</li>\n",
    "</ul>"
   ]
  },
  {
   "cell_type": "markdown",
   "metadata": {
    "slideshow": {
     "slide_type": "subslide"
    }
   },
   "source": [
    "# Calculating Partial Derivative of Output layer weights\n",
    "![ann](figs/ann-01.gvz.png)\n",
    "Let's discover how a change in weight $w5$ affects the total error $E$ -- while all the other weights remain constant. It is $$ \\dfrac{\\partial E}{\\partial w5}$$"
   ]
  },
  {
   "cell_type": "markdown",
   "metadata": {
    "slideshow": {
     "slide_type": "subslide"
    }
   },
   "source": [
    "![ann](figs/ann-01.gvz.png)\n",
    "Since, $$ E = f(Z)$$\n",
    "$$Z = g(w5)$$\n",
    "Therefore, utilizing the chain rule we get:\n",
    "\\begin{align*}\n",
    "\\dfrac{\\partial E}{\\partial w5} = \\dfrac{\\partial E}{\\partial Z}\\cdot \\dfrac{\\partial Z}{\\partial w5}\n",
    "\\end{align*}"
   ]
  },
  {
   "cell_type": "markdown",
   "metadata": {
    "slideshow": {
     "slide_type": "subslide"
    }
   },
   "source": [
    "![ann](figs/ann-01.gvz.png)\n",
    "Even, $Z$ is a function of $netc1=1\\times bw3 + b1\\times w5 + b2\\times w6$. So,\n",
    "$$Z = h(netc1)$$\n",
    "$$netc1 = q(w5)$$\n",
    "Therefore, $\\dfrac{\\partial Z}{\\partial w5}$ can be written as:\n",
    "$$\\dfrac{\\partial Z}{\\partial w5} = \\dfrac{\\partial Z}{\\partial netc1}\\cdot \\dfrac{\\partial netc1}{\\partial w5}$$\n",
    "Equation of $\\dfrac{\\partial E}{\\partial w5}$ becomes:\n",
    "\\begin{align*}\n",
    "\\dfrac{\\partial E}{\\partial w5} = \\dfrac{\\partial E}{\\partial Z}\\cdot \\dfrac{\\partial Z}{\\partial netc1}\\cdot \\dfrac{\\partial netc1}{\\partial w5}\n",
    "\\end{align*}"
   ]
  },
  {
   "cell_type": "markdown",
   "metadata": {
    "slideshow": {
     "slide_type": "subslide"
    }
   },
   "source": [
    "# Now, let's compute the following:\n",
    "\\begin{eqnarray}\n",
    "\\dfrac{\\partial E}{\\partial w5} = \\dfrac{\\partial E}{\\partial Z}\\cdot \\dfrac{\\partial Z}{\\partial netc1}\\cdot \\dfrac{\\partial netc1}{\\partial w5}\n",
    "\\end{eqnarray}"
   ]
  },
  {
   "cell_type": "markdown",
   "metadata": {
    "slideshow": {
     "slide_type": "fragment"
    }
   },
   "source": [
    "Considering $ E = MSE = \\frac{1}{n}\\sum_{i=1}^n(t_i - z_i)^2$, \n",
    "where $t_i$ is the ground truth output, and $z_i = \\hat{z}_i$ is the predicted output."
   ]
  },
  {
   "cell_type": "markdown",
   "metadata": {
    "slideshow": {
     "slide_type": "fragment"
    }
   },
   "source": [
    "$$\n",
    "\\begin{align*}\n",
    "\\dfrac{\\partial E}{\\partial Z} &=& -(t-z)\\\\\n",
    "&=& z-t\n",
    "\\end{align*}\n",
    "$$"
   ]
  },
  {
   "cell_type": "markdown",
   "metadata": {
    "slideshow": {
     "slide_type": "subslide"
    }
   },
   "source": [
    "# Computing:\n",
    "\\begin{eqnarray}\n",
    "\\dfrac{\\partial E}{\\partial w5} = \\dfrac{\\partial E}{\\partial Z}\\cdot \\dfrac{\\partial Z}{\\partial netc1}\\cdot \\dfrac{\\partial netc1}{\\partial w5}\n",
    "\\end{eqnarray}\n",
    "![ann](figs/ann-01.gvz.png)\n",
    "Here, $$ Z = \\phi(netc1) = sigmoid(netc1) = \\dfrac{1}{1+e^{-netc1}}$$\n",
    "Therefore, $$\\dfrac{\\partial Z}{\\partial netc1} = z(1-z)$$   **You can prove it, right?**"
   ]
  },
  {
   "cell_type": "markdown",
   "metadata": {
    "slideshow": {
     "slide_type": "subslide"
    }
   },
   "source": [
    "# Computing:\n",
    "\\begin{eqnarray}\n",
    "\\dfrac{\\partial E}{\\partial w5} = \\dfrac{\\partial E}{\\partial Z}\\cdot \\dfrac{\\partial Z}{\\partial netc1}\\cdot \\dfrac{\\partial netc1}{\\partial w5}\n",
    "\\end{eqnarray}\n",
    "![ann](figs/ann-01.gvz.png)\n",
    "Since, $netc1 = 1\\times bw3 + b1\\times w5$\n",
    "\\begin{align*}\n",
    "\\dfrac{\\partial netc1}{\\partial w5} = b1\n",
    "\\end{align*}"
   ]
  },
  {
   "cell_type": "markdown",
   "metadata": {
    "slideshow": {
     "slide_type": "subslide"
    }
   },
   "source": [
    "# Now putting it all together to compute the following:\n",
    "\\begin{eqnarray}\n",
    "\\dfrac{\\partial E}{\\partial w5} = \\dfrac{\\partial E}{\\partial Z}\\cdot \\dfrac{\\partial Z}{\\partial netc1}\\cdot \\dfrac{\\partial netc1}{\\partial w5}\n",
    "\\end{eqnarray}\n",
    "![ann](figs/ann-01.gvz.png)\n",
    "\\begin{align*}\n",
    "\\dfrac{\\partial E}{\\partial w5} = (z-t)z(1-z)b1\n",
    "\\end{align*}"
   ]
  },
  {
   "cell_type": "markdown",
   "metadata": {
    "slideshow": {
     "slide_type": "subslide"
    }
   },
   "source": [
    "# Introducing Node Delta, $Delta_z$, $\\delta_z$:\n",
    "\\begin{eqnarray}\n",
    "\\dfrac{\\partial E}{\\partial w5} = \\dfrac{\\partial E}{\\partial Z}\\cdot \\dfrac{\\partial Z}{\\partial netc1}\\cdot \\dfrac{\\partial netc1}{\\partial w5}\n",
    "\\end{eqnarray}\n",
    "![ann](figs/ann-01.gvz.png)\n",
    "$$\\delta_z = (z-t)z(1-z)$$\n",
    "Therefore,\n",
    "\\begin{align*}\n",
    "\\dfrac{\\partial E}{\\partial w5} = \\delta_z \\cdot b1\n",
    "\\end{align*}"
   ]
  },
  {
   "cell_type": "markdown",
   "metadata": {
    "slideshow": {
     "slide_type": "subslide"
    }
   },
   "source": [
    "# now calculate partial derivative of output layer bias weights\n",
    "![ann](figs/ann-01.gvz.png)\n",
    "\\begin{align*}\n",
    "\\dfrac{\\partial E}{\\partial bw3} = (z-t)z(1-z) = \\delta_z\n",
    "\\end{align*}\n",
    "* Question: Why is there no $b1$ in the equation like what we saw in the non-bias output weights?"
   ]
  },
  {
   "cell_type": "markdown",
   "metadata": {
    "slideshow": {
     "slide_type": "subslide"
    }
   },
   "source": [
    "Answer: A bias is not connected to a previous layer and therefore does not have an input.\n",
    "But, be careful about different $\\delta_z$'s:\n",
    "![ann](figs/ann-02.gvz.png)\n",
    "Here, bias weight $bw3$ is connected to output nodes $c1$, and bias weight $bw4$ is connected to output node $c2$.\n",
    "* Therefore, $bw3$ should use the $\\delta_z$ for node $c1$, and\n",
    "* $bw4$ would use $\\delta_z$ for node $c2$"
   ]
  },
  {
   "cell_type": "markdown",
   "metadata": {
    "slideshow": {
     "slide_type": "subslide"
    }
   },
   "source": [
    "# now calculate partial derivative of hidden layer weights\n",
    "![ann](figs/ann-01.gvz.png)\n",
    "How to compute $$\\dfrac{\\partial E}{\\partial w1}$$"
   ]
  },
  {
   "cell_type": "markdown",
   "metadata": {
    "slideshow": {
     "slide_type": "subslide"
    }
   },
   "source": [
    "![ann](figs/ann-01.gvz.png)\n",
    "\\begin{align*}\n",
    "\\dfrac{\\partial E}{\\partial w1} = \\dfrac{\\partial E}{\\partial netb1}\\cdot \\dfrac{\\partial netb1}{\\partial w1}\n",
    "\\end{align*}\n",
    "Because, $E = f(netb1)$, and $netb1 = g(w1)$"
   ]
  },
  {
   "cell_type": "markdown",
   "metadata": {
    "slideshow": {
     "slide_type": "subslide"
    }
   },
   "source": [
    "![ann](figs/ann-01.gvz.png)\n",
    "$$\n",
    "\\begin{align*}\n",
    "\\dfrac{\\partial E}{\\partial netb1} = \\dfrac{\\partial E}{\\partial netc1}\\cdot \\dfrac{\\partial netc1}{\\partial netb1}\n",
    "\\end{align*}\n",
    "$$\n",
    "\n",
    "Because, $E = f(netc1)$, and $netc1 = g(netb1)$"
   ]
  },
  {
   "cell_type": "markdown",
   "metadata": {
    "slideshow": {
     "slide_type": "subslide"
    }
   },
   "source": [
    "![ann](figs/ann-01.gvz.png)\n",
    "$$\n",
    "\\begin{align*}\n",
    "\\dfrac{\\partial netc1}{\\partial netb1} = \\dfrac{\\partial netc1}{\\partial b1}\\cdot \\dfrac{\\partial b1}{\\partial netb1}\n",
    "\\end{align*}\n",
    "$$\n",
    "Because, $netc1 = f(b1)$, and $b1 = g(netb1)$"
   ]
  },
  {
   "cell_type": "markdown",
   "metadata": {
    "slideshow": {
     "slide_type": "subslide"
    }
   },
   "source": [
    "# In a nutshell, to compute $\\dfrac{\\partial E}{\\partial w1}$\n",
    "![ann](figs/ann-01.gvz.png)\n",
    "\\begin{align*}\n",
    "\\dfrac{\\partial E}{\\partial w1} = \\dfrac{\\partial E}{\\partial netc1}\\cdot \\dfrac{\\partial netc1}{\\partial b1}\\cdot\\dfrac{\\partial b1}{\\partial netb1}\\cdot \\dfrac{\\partial netb1}{\\partial w1}\n",
    "\\end{align*}"
   ]
  },
  {
   "cell_type": "markdown",
   "metadata": {
    "slideshow": {
     "slide_type": "subslide"
    }
   },
   "source": [
    "# Now compute the derivative, $\\dfrac{\\partial E}{\\partial netc1}$\n",
    "![ann](figs/ann-01.gvz.png)\n",
    "\n",
    "$$\\dfrac{\\partial E}{\\partial netc1} =\\delta_z$$\n",
    "where, \n",
    "$$\\delta_z = (z-t)z(1-z)$$\n",
    "If there are more than one output nodes, the formula would incorporate that:\n",
    "$$\\dfrac{\\partial E}{\\partial netc} =\\sum_c\\delta_z$$\n"
   ]
  },
  {
   "cell_type": "markdown",
   "metadata": {
    "slideshow": {
     "slide_type": "subslide"
    }
   },
   "source": [
    "# Now compute the derivative, $\\dfrac{\\partial netc1}{\\partial b1}$\n",
    "![ann](figs/ann-01.gvz.png)\n",
    "\n",
    "$$\\dfrac{\\partial netc1}{\\partial b1} =w5$$\n",
    "\n",
    "If there are more than one output nodes, the formula would incorporate that:\n",
    "$$\\dfrac{\\partial netc}{\\partial b1} =\\sum_c w5$$\n"
   ]
  },
  {
   "cell_type": "markdown",
   "metadata": {
    "slideshow": {
     "slide_type": "subslide"
    }
   },
   "source": [
    "# Now compute the derivative, $\\dfrac{\\partial b1}{\\partial netb1}$\n",
    "![ann](figs/ann-01.gvz.png)\n",
    "\n",
    "$$\\dfrac{\\partial b1}{\\partial netb1} =b1(1-b1)$$\n",
    "\n"
   ]
  },
  {
   "cell_type": "markdown",
   "metadata": {
    "slideshow": {
     "slide_type": "subslide"
    }
   },
   "source": [
    "# Now compute the derivative, $\\dfrac{\\partial netb1}{\\partial w1}$\n",
    "![ann](figs/ann-01.gvz.png)\n",
    "\n",
    "$$\\dfrac{\\partial netb1}{\\partial w1} =a1$$\n",
    "\n"
   ]
  },
  {
   "cell_type": "markdown",
   "metadata": {
    "slideshow": {
     "slide_type": "subslide"
    }
   },
   "source": [
    "# Finally, $\\dfrac{\\partial E}{\\partial w1}$\n",
    "![ann](figs/ann-01.gvz.png)\n",
    "\n",
    "\\begin{align*}\n",
    "\\dfrac{\\partial E}{\\partial w1} &=&\\left(\\sum_c\\delta_z w_5\\right)\\cdot b1\\cdot (1-b1)\\cdot a1\n",
    "&=& \\delta_b a1\n",
    "\\end{align*}\n",
    "where, $$\\delta_b=\\left(\\sum_c\\delta_z w_5\\right)\\cdot b1\\cdot (1-b1)$$\n",
    "\n"
   ]
  },
  {
   "cell_type": "markdown",
   "metadata": {
    "slideshow": {
     "slide_type": "subslide"
    }
   },
   "source": [
    "# Computing the partial derivative of hidden layer bias weights\n",
    "![ann](figs/ann-01.gvz.png)\n",
    "$$\\dfrac{\\partial E}{\\partial bw1} = \\delta_b$$\n",
    "Question: why is there no $a1$ here in the equation?\n",
    "Answer: Because the bias is not connected to previous layer, and so does not have an input. Therefore, we are left with the node delta of a previous layer as the partial derivative of any weight in a hidden layer."
   ]
  },
  {
   "cell_type": "markdown",
   "metadata": {
    "slideshow": {
     "slide_type": "subslide"
    }
   },
   "source": [
    "# General weight update equation\n",
    "$$ w5_{new} = w5 - \\alpha\\cdot \\dfrac{\\partial E}{\\partial w5}$$\n",
    "Here, $\\alpha$ is the learning rate.\n",
    "![learning-rate](figs/learning-rate.png)"
   ]
  },
  {
   "cell_type": "markdown",
   "metadata": {
    "slideshow": {
     "slide_type": "subslide"
    }
   },
   "source": [
    "# Batch gradient descent update\n",
    "\\begin{eqnarray}\n",
    "w5_{new} &=& w5 - \\alpha\\cdot\\dfrac{\\partial E}{\\partial w5}\n",
    "&=& w5 - \\alpha\\cdot\\left( \\frac{1}{n}\\sum_{i=1}^n(z_i-t_i)E_{i,w}\\right)\n",
    "\\end{eqnarray}\n",
    "here, $E_{i,w}$ denotes the partial derivative of the cost function, $E$ with respect to $w$ for $i^{th}$ training sample."
   ]
  },
  {
   "cell_type": "markdown",
   "metadata": {
    "slideshow": {
     "slide_type": "subslide"
    }
   },
   "source": [
    "# Stochastic gradient descent update\n",
    "Here, the weights are updated after each sample is passed through the network.\n",
    "\n",
    "![cats+dogs](figs/cat+dog.gif)\n"
   ]
  },
  {
   "cell_type": "markdown",
   "metadata": {
    "slideshow": {
     "slide_type": "slide"
    }
   },
   "source": [
    "# Class 06 - Deep Feedforward Networks\n",
    "#### Reading materials: Chapter 6 from the textbook for this class\n",
    "![DNN](figs/ann-01.gvz.png)\n",
    "* Also known as **Feedforward Neural Networks**, or **Multilayer Perceptrons (MLP)**, or **Deep Neural Networks**\n",
    "* The goal of the network is to approximate some function $f^*$.\n",
    "    * For example, a classifier $y=f^*(\\mathbf{x})$ maps an input $\\mathbf{x}$ to a class $y$.\n",
    "* The network defines a mapping $y=f(\\mathbf{x}; \\mathbf{\\theta})$ and learns the value of parameters $\\mathbf{\\theta}$ that result in the best function approximation."
   ]
  },
  {
   "cell_type": "markdown",
   "metadata": {
    "slideshow": {
     "slide_type": "slide"
    }
   },
   "source": [
    "![DNN](figs/ann-01.gvz.png)\n",
    "* These models are called **feedforward** for a reason\n",
    "    * Information flows through the function being evaluated from $x$, through the intermediate computations used to define $f$, and finally to the output $y$.\n",
    "    * There are no feedback connections in which outputs of the model are fed back into itself.\n",
    "    * Here, *PLEASE DO NOT confuse it with the backpropagation algorithm to train the parameters $\\theta$ (i.e., the set of weights)*\n",
    "* When feedforward neural networks are extended to include feedback connections, they are called **recurrent neural networks**\n",
    "![RNN](figs/RNN.png)"
   ]
  },
  {
   "cell_type": "markdown",
   "metadata": {
    "slideshow": {
     "slide_type": "slide"
    }
   },
   "source": [
    "# Learning the *so called* XOR problem\n",
    "$x_1$ | $x_2$ | $y$\n",
    "------ | ------| -----\n",
    "0 | 0 | 0\n",
    "0 | 1 | 1\n",
    "1 | 0 | 1\n",
    "1 | 1 | 0\n",
    "\n",
    "\n",
    "<img src=\"figs/xor-problem.png\" width=400>"
   ]
  },
  {
   "cell_type": "markdown",
   "metadata": {
    "slideshow": {
     "slide_type": "subslide"
    }
   },
   "source": [
    "## Why can't a one perceptron Neural Network solve the XOR problem?\n",
    "<img src=\"figs/xor-01.gvz.png\">\n",
    "* Because, one perceptron (i.e., neuron) represents a single function which can divide the input space into two parts, whereas the XOR problem demands dividing the input space into more than two parts, right?\n",
    "$$ y = f(x_0w_0 + x_1w_1 + x_2w_2) = \\text{sigmoid}(x_0w_0 + x_1w_1 + x_2w_2)$$\n"
   ]
  },
  {
   "cell_type": "code",
   "execution_count": 11,
   "metadata": {
    "slideshow": {
     "slide_type": "fragment"
    }
   },
   "outputs": [
    {
     "data": {
      "application/javascript": [
       "/* Put everything inside the global mpl namespace */\n",
       "window.mpl = {};\n",
       "\n",
       "\n",
       "mpl.get_websocket_type = function() {\n",
       "    if (typeof(WebSocket) !== 'undefined') {\n",
       "        return WebSocket;\n",
       "    } else if (typeof(MozWebSocket) !== 'undefined') {\n",
       "        return MozWebSocket;\n",
       "    } else {\n",
       "        alert('Your browser does not have WebSocket support.' +\n",
       "              'Please try Chrome, Safari or Firefox ≥ 6. ' +\n",
       "              'Firefox 4 and 5 are also supported but you ' +\n",
       "              'have to enable WebSockets in about:config.');\n",
       "    };\n",
       "}\n",
       "\n",
       "mpl.figure = function(figure_id, websocket, ondownload, parent_element) {\n",
       "    this.id = figure_id;\n",
       "\n",
       "    this.ws = websocket;\n",
       "\n",
       "    this.supports_binary = (this.ws.binaryType != undefined);\n",
       "\n",
       "    if (!this.supports_binary) {\n",
       "        var warnings = document.getElementById(\"mpl-warnings\");\n",
       "        if (warnings) {\n",
       "            warnings.style.display = 'block';\n",
       "            warnings.textContent = (\n",
       "                \"This browser does not support binary websocket messages. \" +\n",
       "                    \"Performance may be slow.\");\n",
       "        }\n",
       "    }\n",
       "\n",
       "    this.imageObj = new Image();\n",
       "\n",
       "    this.context = undefined;\n",
       "    this.message = undefined;\n",
       "    this.canvas = undefined;\n",
       "    this.rubberband_canvas = undefined;\n",
       "    this.rubberband_context = undefined;\n",
       "    this.format_dropdown = undefined;\n",
       "\n",
       "    this.image_mode = 'full';\n",
       "\n",
       "    this.root = $('<div/>');\n",
       "    this._root_extra_style(this.root)\n",
       "    this.root.attr('style', 'display: inline-block');\n",
       "\n",
       "    $(parent_element).append(this.root);\n",
       "\n",
       "    this._init_header(this);\n",
       "    this._init_canvas(this);\n",
       "    this._init_toolbar(this);\n",
       "\n",
       "    var fig = this;\n",
       "\n",
       "    this.waiting = false;\n",
       "\n",
       "    this.ws.onopen =  function () {\n",
       "            fig.send_message(\"supports_binary\", {value: fig.supports_binary});\n",
       "            fig.send_message(\"send_image_mode\", {});\n",
       "            if (mpl.ratio != 1) {\n",
       "                fig.send_message(\"set_dpi_ratio\", {'dpi_ratio': mpl.ratio});\n",
       "            }\n",
       "            fig.send_message(\"refresh\", {});\n",
       "        }\n",
       "\n",
       "    this.imageObj.onload = function() {\n",
       "            if (fig.image_mode == 'full') {\n",
       "                // Full images could contain transparency (where diff images\n",
       "                // almost always do), so we need to clear the canvas so that\n",
       "                // there is no ghosting.\n",
       "                fig.context.clearRect(0, 0, fig.canvas.width, fig.canvas.height);\n",
       "            }\n",
       "            fig.context.drawImage(fig.imageObj, 0, 0);\n",
       "        };\n",
       "\n",
       "    this.imageObj.onunload = function() {\n",
       "        fig.ws.close();\n",
       "    }\n",
       "\n",
       "    this.ws.onmessage = this._make_on_message_function(this);\n",
       "\n",
       "    this.ondownload = ondownload;\n",
       "}\n",
       "\n",
       "mpl.figure.prototype._init_header = function() {\n",
       "    var titlebar = $(\n",
       "        '<div class=\"ui-dialog-titlebar ui-widget-header ui-corner-all ' +\n",
       "        'ui-helper-clearfix\"/>');\n",
       "    var titletext = $(\n",
       "        '<div class=\"ui-dialog-title\" style=\"width: 100%; ' +\n",
       "        'text-align: center; padding: 3px;\"/>');\n",
       "    titlebar.append(titletext)\n",
       "    this.root.append(titlebar);\n",
       "    this.header = titletext[0];\n",
       "}\n",
       "\n",
       "\n",
       "\n",
       "mpl.figure.prototype._canvas_extra_style = function(canvas_div) {\n",
       "\n",
       "}\n",
       "\n",
       "\n",
       "mpl.figure.prototype._root_extra_style = function(canvas_div) {\n",
       "\n",
       "}\n",
       "\n",
       "mpl.figure.prototype._init_canvas = function() {\n",
       "    var fig = this;\n",
       "\n",
       "    var canvas_div = $('<div/>');\n",
       "\n",
       "    canvas_div.attr('style', 'position: relative; clear: both; outline: 0');\n",
       "\n",
       "    function canvas_keyboard_event(event) {\n",
       "        return fig.key_event(event, event['data']);\n",
       "    }\n",
       "\n",
       "    canvas_div.keydown('key_press', canvas_keyboard_event);\n",
       "    canvas_div.keyup('key_release', canvas_keyboard_event);\n",
       "    this.canvas_div = canvas_div\n",
       "    this._canvas_extra_style(canvas_div)\n",
       "    this.root.append(canvas_div);\n",
       "\n",
       "    var canvas = $('<canvas/>');\n",
       "    canvas.addClass('mpl-canvas');\n",
       "    canvas.attr('style', \"left: 0; top: 0; z-index: 0; outline: 0\")\n",
       "\n",
       "    this.canvas = canvas[0];\n",
       "    this.context = canvas[0].getContext(\"2d\");\n",
       "\n",
       "    var backingStore = this.context.backingStorePixelRatio ||\n",
       "\tthis.context.webkitBackingStorePixelRatio ||\n",
       "\tthis.context.mozBackingStorePixelRatio ||\n",
       "\tthis.context.msBackingStorePixelRatio ||\n",
       "\tthis.context.oBackingStorePixelRatio ||\n",
       "\tthis.context.backingStorePixelRatio || 1;\n",
       "\n",
       "    mpl.ratio = (window.devicePixelRatio || 1) / backingStore;\n",
       "\n",
       "    var rubberband = $('<canvas/>');\n",
       "    rubberband.attr('style', \"position: absolute; left: 0; top: 0; z-index: 1;\")\n",
       "\n",
       "    var pass_mouse_events = true;\n",
       "\n",
       "    canvas_div.resizable({\n",
       "        start: function(event, ui) {\n",
       "            pass_mouse_events = false;\n",
       "        },\n",
       "        resize: function(event, ui) {\n",
       "            fig.request_resize(ui.size.width, ui.size.height);\n",
       "        },\n",
       "        stop: function(event, ui) {\n",
       "            pass_mouse_events = true;\n",
       "            fig.request_resize(ui.size.width, ui.size.height);\n",
       "        },\n",
       "    });\n",
       "\n",
       "    function mouse_event_fn(event) {\n",
       "        if (pass_mouse_events)\n",
       "            return fig.mouse_event(event, event['data']);\n",
       "    }\n",
       "\n",
       "    rubberband.mousedown('button_press', mouse_event_fn);\n",
       "    rubberband.mouseup('button_release', mouse_event_fn);\n",
       "    // Throttle sequential mouse events to 1 every 20ms.\n",
       "    rubberband.mousemove('motion_notify', mouse_event_fn);\n",
       "\n",
       "    rubberband.mouseenter('figure_enter', mouse_event_fn);\n",
       "    rubberband.mouseleave('figure_leave', mouse_event_fn);\n",
       "\n",
       "    canvas_div.on(\"wheel\", function (event) {\n",
       "        event = event.originalEvent;\n",
       "        event['data'] = 'scroll'\n",
       "        if (event.deltaY < 0) {\n",
       "            event.step = 1;\n",
       "        } else {\n",
       "            event.step = -1;\n",
       "        }\n",
       "        mouse_event_fn(event);\n",
       "    });\n",
       "\n",
       "    canvas_div.append(canvas);\n",
       "    canvas_div.append(rubberband);\n",
       "\n",
       "    this.rubberband = rubberband;\n",
       "    this.rubberband_canvas = rubberband[0];\n",
       "    this.rubberband_context = rubberband[0].getContext(\"2d\");\n",
       "    this.rubberband_context.strokeStyle = \"#000000\";\n",
       "\n",
       "    this._resize_canvas = function(width, height) {\n",
       "        // Keep the size of the canvas, canvas container, and rubber band\n",
       "        // canvas in synch.\n",
       "        canvas_div.css('width', width)\n",
       "        canvas_div.css('height', height)\n",
       "\n",
       "        canvas.attr('width', width * mpl.ratio);\n",
       "        canvas.attr('height', height * mpl.ratio);\n",
       "        canvas.attr('style', 'width: ' + width + 'px; height: ' + height + 'px;');\n",
       "\n",
       "        rubberband.attr('width', width);\n",
       "        rubberband.attr('height', height);\n",
       "    }\n",
       "\n",
       "    // Set the figure to an initial 600x600px, this will subsequently be updated\n",
       "    // upon first draw.\n",
       "    this._resize_canvas(600, 600);\n",
       "\n",
       "    // Disable right mouse context menu.\n",
       "    $(this.rubberband_canvas).bind(\"contextmenu\",function(e){\n",
       "        return false;\n",
       "    });\n",
       "\n",
       "    function set_focus () {\n",
       "        canvas.focus();\n",
       "        canvas_div.focus();\n",
       "    }\n",
       "\n",
       "    window.setTimeout(set_focus, 100);\n",
       "}\n",
       "\n",
       "mpl.figure.prototype._init_toolbar = function() {\n",
       "    var fig = this;\n",
       "\n",
       "    var nav_element = $('<div/>')\n",
       "    nav_element.attr('style', 'width: 100%');\n",
       "    this.root.append(nav_element);\n",
       "\n",
       "    // Define a callback function for later on.\n",
       "    function toolbar_event(event) {\n",
       "        return fig.toolbar_button_onclick(event['data']);\n",
       "    }\n",
       "    function toolbar_mouse_event(event) {\n",
       "        return fig.toolbar_button_onmouseover(event['data']);\n",
       "    }\n",
       "\n",
       "    for(var toolbar_ind in mpl.toolbar_items) {\n",
       "        var name = mpl.toolbar_items[toolbar_ind][0];\n",
       "        var tooltip = mpl.toolbar_items[toolbar_ind][1];\n",
       "        var image = mpl.toolbar_items[toolbar_ind][2];\n",
       "        var method_name = mpl.toolbar_items[toolbar_ind][3];\n",
       "\n",
       "        if (!name) {\n",
       "            // put a spacer in here.\n",
       "            continue;\n",
       "        }\n",
       "        var button = $('<button/>');\n",
       "        button.addClass('ui-button ui-widget ui-state-default ui-corner-all ' +\n",
       "                        'ui-button-icon-only');\n",
       "        button.attr('role', 'button');\n",
       "        button.attr('aria-disabled', 'false');\n",
       "        button.click(method_name, toolbar_event);\n",
       "        button.mouseover(tooltip, toolbar_mouse_event);\n",
       "\n",
       "        var icon_img = $('<span/>');\n",
       "        icon_img.addClass('ui-button-icon-primary ui-icon');\n",
       "        icon_img.addClass(image);\n",
       "        icon_img.addClass('ui-corner-all');\n",
       "\n",
       "        var tooltip_span = $('<span/>');\n",
       "        tooltip_span.addClass('ui-button-text');\n",
       "        tooltip_span.html(tooltip);\n",
       "\n",
       "        button.append(icon_img);\n",
       "        button.append(tooltip_span);\n",
       "\n",
       "        nav_element.append(button);\n",
       "    }\n",
       "\n",
       "    var fmt_picker_span = $('<span/>');\n",
       "\n",
       "    var fmt_picker = $('<select/>');\n",
       "    fmt_picker.addClass('mpl-toolbar-option ui-widget ui-widget-content');\n",
       "    fmt_picker_span.append(fmt_picker);\n",
       "    nav_element.append(fmt_picker_span);\n",
       "    this.format_dropdown = fmt_picker[0];\n",
       "\n",
       "    for (var ind in mpl.extensions) {\n",
       "        var fmt = mpl.extensions[ind];\n",
       "        var option = $(\n",
       "            '<option/>', {selected: fmt === mpl.default_extension}).html(fmt);\n",
       "        fmt_picker.append(option)\n",
       "    }\n",
       "\n",
       "    // Add hover states to the ui-buttons\n",
       "    $( \".ui-button\" ).hover(\n",
       "        function() { $(this).addClass(\"ui-state-hover\");},\n",
       "        function() { $(this).removeClass(\"ui-state-hover\");}\n",
       "    );\n",
       "\n",
       "    var status_bar = $('<span class=\"mpl-message\"/>');\n",
       "    nav_element.append(status_bar);\n",
       "    this.message = status_bar[0];\n",
       "}\n",
       "\n",
       "mpl.figure.prototype.request_resize = function(x_pixels, y_pixels) {\n",
       "    // Request matplotlib to resize the figure. Matplotlib will then trigger a resize in the client,\n",
       "    // which will in turn request a refresh of the image.\n",
       "    this.send_message('resize', {'width': x_pixels, 'height': y_pixels});\n",
       "}\n",
       "\n",
       "mpl.figure.prototype.send_message = function(type, properties) {\n",
       "    properties['type'] = type;\n",
       "    properties['figure_id'] = this.id;\n",
       "    this.ws.send(JSON.stringify(properties));\n",
       "}\n",
       "\n",
       "mpl.figure.prototype.send_draw_message = function() {\n",
       "    if (!this.waiting) {\n",
       "        this.waiting = true;\n",
       "        this.ws.send(JSON.stringify({type: \"draw\", figure_id: this.id}));\n",
       "    }\n",
       "}\n",
       "\n",
       "\n",
       "mpl.figure.prototype.handle_save = function(fig, msg) {\n",
       "    var format_dropdown = fig.format_dropdown;\n",
       "    var format = format_dropdown.options[format_dropdown.selectedIndex].value;\n",
       "    fig.ondownload(fig, format);\n",
       "}\n",
       "\n",
       "\n",
       "mpl.figure.prototype.handle_resize = function(fig, msg) {\n",
       "    var size = msg['size'];\n",
       "    if (size[0] != fig.canvas.width || size[1] != fig.canvas.height) {\n",
       "        fig._resize_canvas(size[0], size[1]);\n",
       "        fig.send_message(\"refresh\", {});\n",
       "    };\n",
       "}\n",
       "\n",
       "mpl.figure.prototype.handle_rubberband = function(fig, msg) {\n",
       "    var x0 = msg['x0'] / mpl.ratio;\n",
       "    var y0 = (fig.canvas.height - msg['y0']) / mpl.ratio;\n",
       "    var x1 = msg['x1'] / mpl.ratio;\n",
       "    var y1 = (fig.canvas.height - msg['y1']) / mpl.ratio;\n",
       "    x0 = Math.floor(x0) + 0.5;\n",
       "    y0 = Math.floor(y0) + 0.5;\n",
       "    x1 = Math.floor(x1) + 0.5;\n",
       "    y1 = Math.floor(y1) + 0.5;\n",
       "    var min_x = Math.min(x0, x1);\n",
       "    var min_y = Math.min(y0, y1);\n",
       "    var width = Math.abs(x1 - x0);\n",
       "    var height = Math.abs(y1 - y0);\n",
       "\n",
       "    fig.rubberband_context.clearRect(\n",
       "        0, 0, fig.canvas.width, fig.canvas.height);\n",
       "\n",
       "    fig.rubberband_context.strokeRect(min_x, min_y, width, height);\n",
       "}\n",
       "\n",
       "mpl.figure.prototype.handle_figure_label = function(fig, msg) {\n",
       "    // Updates the figure title.\n",
       "    fig.header.textContent = msg['label'];\n",
       "}\n",
       "\n",
       "mpl.figure.prototype.handle_cursor = function(fig, msg) {\n",
       "    var cursor = msg['cursor'];\n",
       "    switch(cursor)\n",
       "    {\n",
       "    case 0:\n",
       "        cursor = 'pointer';\n",
       "        break;\n",
       "    case 1:\n",
       "        cursor = 'default';\n",
       "        break;\n",
       "    case 2:\n",
       "        cursor = 'crosshair';\n",
       "        break;\n",
       "    case 3:\n",
       "        cursor = 'move';\n",
       "        break;\n",
       "    }\n",
       "    fig.rubberband_canvas.style.cursor = cursor;\n",
       "}\n",
       "\n",
       "mpl.figure.prototype.handle_message = function(fig, msg) {\n",
       "    fig.message.textContent = msg['message'];\n",
       "}\n",
       "\n",
       "mpl.figure.prototype.handle_draw = function(fig, msg) {\n",
       "    // Request the server to send over a new figure.\n",
       "    fig.send_draw_message();\n",
       "}\n",
       "\n",
       "mpl.figure.prototype.handle_image_mode = function(fig, msg) {\n",
       "    fig.image_mode = msg['mode'];\n",
       "}\n",
       "\n",
       "mpl.figure.prototype.updated_canvas_event = function() {\n",
       "    // Called whenever the canvas gets updated.\n",
       "    this.send_message(\"ack\", {});\n",
       "}\n",
       "\n",
       "// A function to construct a web socket function for onmessage handling.\n",
       "// Called in the figure constructor.\n",
       "mpl.figure.prototype._make_on_message_function = function(fig) {\n",
       "    return function socket_on_message(evt) {\n",
       "        if (evt.data instanceof Blob) {\n",
       "            /* FIXME: We get \"Resource interpreted as Image but\n",
       "             * transferred with MIME type text/plain:\" errors on\n",
       "             * Chrome.  But how to set the MIME type?  It doesn't seem\n",
       "             * to be part of the websocket stream */\n",
       "            evt.data.type = \"image/png\";\n",
       "\n",
       "            /* Free the memory for the previous frames */\n",
       "            if (fig.imageObj.src) {\n",
       "                (window.URL || window.webkitURL).revokeObjectURL(\n",
       "                    fig.imageObj.src);\n",
       "            }\n",
       "\n",
       "            fig.imageObj.src = (window.URL || window.webkitURL).createObjectURL(\n",
       "                evt.data);\n",
       "            fig.updated_canvas_event();\n",
       "            fig.waiting = false;\n",
       "            return;\n",
       "        }\n",
       "        else if (typeof evt.data === 'string' && evt.data.slice(0, 21) == \"data:image/png;base64\") {\n",
       "            fig.imageObj.src = evt.data;\n",
       "            fig.updated_canvas_event();\n",
       "            fig.waiting = false;\n",
       "            return;\n",
       "        }\n",
       "\n",
       "        var msg = JSON.parse(evt.data);\n",
       "        var msg_type = msg['type'];\n",
       "\n",
       "        // Call the  \"handle_{type}\" callback, which takes\n",
       "        // the figure and JSON message as its only arguments.\n",
       "        try {\n",
       "            var callback = fig[\"handle_\" + msg_type];\n",
       "        } catch (e) {\n",
       "            console.log(\"No handler for the '\" + msg_type + \"' message type: \", msg);\n",
       "            return;\n",
       "        }\n",
       "\n",
       "        if (callback) {\n",
       "            try {\n",
       "                // console.log(\"Handling '\" + msg_type + \"' message: \", msg);\n",
       "                callback(fig, msg);\n",
       "            } catch (e) {\n",
       "                console.log(\"Exception inside the 'handler_\" + msg_type + \"' callback:\", e, e.stack, msg);\n",
       "            }\n",
       "        }\n",
       "    };\n",
       "}\n",
       "\n",
       "// from http://stackoverflow.com/questions/1114465/getting-mouse-location-in-canvas\n",
       "mpl.findpos = function(e) {\n",
       "    //this section is from http://www.quirksmode.org/js/events_properties.html\n",
       "    var targ;\n",
       "    if (!e)\n",
       "        e = window.event;\n",
       "    if (e.target)\n",
       "        targ = e.target;\n",
       "    else if (e.srcElement)\n",
       "        targ = e.srcElement;\n",
       "    if (targ.nodeType == 3) // defeat Safari bug\n",
       "        targ = targ.parentNode;\n",
       "\n",
       "    // jQuery normalizes the pageX and pageY\n",
       "    // pageX,Y are the mouse positions relative to the document\n",
       "    // offset() returns the position of the element relative to the document\n",
       "    var x = e.pageX - $(targ).offset().left;\n",
       "    var y = e.pageY - $(targ).offset().top;\n",
       "\n",
       "    return {\"x\": x, \"y\": y};\n",
       "};\n",
       "\n",
       "/*\n",
       " * return a copy of an object with only non-object keys\n",
       " * we need this to avoid circular references\n",
       " * http://stackoverflow.com/a/24161582/3208463\n",
       " */\n",
       "function simpleKeys (original) {\n",
       "  return Object.keys(original).reduce(function (obj, key) {\n",
       "    if (typeof original[key] !== 'object')\n",
       "        obj[key] = original[key]\n",
       "    return obj;\n",
       "  }, {});\n",
       "}\n",
       "\n",
       "mpl.figure.prototype.mouse_event = function(event, name) {\n",
       "    var canvas_pos = mpl.findpos(event)\n",
       "\n",
       "    if (name === 'button_press')\n",
       "    {\n",
       "        this.canvas.focus();\n",
       "        this.canvas_div.focus();\n",
       "    }\n",
       "\n",
       "    var x = canvas_pos.x * mpl.ratio;\n",
       "    var y = canvas_pos.y * mpl.ratio;\n",
       "\n",
       "    this.send_message(name, {x: x, y: y, button: event.button,\n",
       "                             step: event.step,\n",
       "                             guiEvent: simpleKeys(event)});\n",
       "\n",
       "    /* This prevents the web browser from automatically changing to\n",
       "     * the text insertion cursor when the button is pressed.  We want\n",
       "     * to control all of the cursor setting manually through the\n",
       "     * 'cursor' event from matplotlib */\n",
       "    event.preventDefault();\n",
       "    return false;\n",
       "}\n",
       "\n",
       "mpl.figure.prototype._key_event_extra = function(event, name) {\n",
       "    // Handle any extra behaviour associated with a key event\n",
       "}\n",
       "\n",
       "mpl.figure.prototype.key_event = function(event, name) {\n",
       "\n",
       "    // Prevent repeat events\n",
       "    if (name == 'key_press')\n",
       "    {\n",
       "        if (event.which === this._key)\n",
       "            return;\n",
       "        else\n",
       "            this._key = event.which;\n",
       "    }\n",
       "    if (name == 'key_release')\n",
       "        this._key = null;\n",
       "\n",
       "    var value = '';\n",
       "    if (event.ctrlKey && event.which != 17)\n",
       "        value += \"ctrl+\";\n",
       "    if (event.altKey && event.which != 18)\n",
       "        value += \"alt+\";\n",
       "    if (event.shiftKey && event.which != 16)\n",
       "        value += \"shift+\";\n",
       "\n",
       "    value += 'k';\n",
       "    value += event.which.toString();\n",
       "\n",
       "    this._key_event_extra(event, name);\n",
       "\n",
       "    this.send_message(name, {key: value,\n",
       "                             guiEvent: simpleKeys(event)});\n",
       "    return false;\n",
       "}\n",
       "\n",
       "mpl.figure.prototype.toolbar_button_onclick = function(name) {\n",
       "    if (name == 'download') {\n",
       "        this.handle_save(this, null);\n",
       "    } else {\n",
       "        this.send_message(\"toolbar_button\", {name: name});\n",
       "    }\n",
       "};\n",
       "\n",
       "mpl.figure.prototype.toolbar_button_onmouseover = function(tooltip) {\n",
       "    this.message.textContent = tooltip;\n",
       "};\n",
       "mpl.toolbar_items = [[\"Home\", \"Reset original view\", \"fa fa-home icon-home\", \"home\"], [\"Back\", \"Back to  previous view\", \"fa fa-arrow-left icon-arrow-left\", \"back\"], [\"Forward\", \"Forward to next view\", \"fa fa-arrow-right icon-arrow-right\", \"forward\"], [\"\", \"\", \"\", \"\"], [\"Pan\", \"Pan axes with left mouse, zoom with right\", \"fa fa-arrows icon-move\", \"pan\"], [\"Zoom\", \"Zoom to rectangle\", \"fa fa-square-o icon-check-empty\", \"zoom\"], [\"\", \"\", \"\", \"\"], [\"Download\", \"Download plot\", \"fa fa-floppy-o icon-save\", \"download\"]];\n",
       "\n",
       "mpl.extensions = [\"eps\", \"jpeg\", \"pdf\", \"png\", \"ps\", \"raw\", \"svg\", \"tif\"];\n",
       "\n",
       "mpl.default_extension = \"png\";var comm_websocket_adapter = function(comm) {\n",
       "    // Create a \"websocket\"-like object which calls the given IPython comm\n",
       "    // object with the appropriate methods. Currently this is a non binary\n",
       "    // socket, so there is still some room for performance tuning.\n",
       "    var ws = {};\n",
       "\n",
       "    ws.close = function() {\n",
       "        comm.close()\n",
       "    };\n",
       "    ws.send = function(m) {\n",
       "        //console.log('sending', m);\n",
       "        comm.send(m);\n",
       "    };\n",
       "    // Register the callback with on_msg.\n",
       "    comm.on_msg(function(msg) {\n",
       "        //console.log('receiving', msg['content']['data'], msg);\n",
       "        // Pass the mpl event to the overridden (by mpl) onmessage function.\n",
       "        ws.onmessage(msg['content']['data'])\n",
       "    });\n",
       "    return ws;\n",
       "}\n",
       "\n",
       "mpl.mpl_figure_comm = function(comm, msg) {\n",
       "    // This is the function which gets called when the mpl process\n",
       "    // starts-up an IPython Comm through the \"matplotlib\" channel.\n",
       "\n",
       "    var id = msg.content.data.id;\n",
       "    // Get hold of the div created by the display call when the Comm\n",
       "    // socket was opened in Python.\n",
       "    var element = $(\"#\" + id);\n",
       "    var ws_proxy = comm_websocket_adapter(comm)\n",
       "\n",
       "    function ondownload(figure, format) {\n",
       "        window.open(figure.imageObj.src);\n",
       "    }\n",
       "\n",
       "    var fig = new mpl.figure(id, ws_proxy,\n",
       "                           ondownload,\n",
       "                           element.get(0));\n",
       "\n",
       "    // Call onopen now - mpl needs it, as it is assuming we've passed it a real\n",
       "    // web socket which is closed, not our websocket->open comm proxy.\n",
       "    ws_proxy.onopen();\n",
       "\n",
       "    fig.parent_element = element.get(0);\n",
       "    fig.cell_info = mpl.find_output_cell(\"<div id='\" + id + \"'></div>\");\n",
       "    if (!fig.cell_info) {\n",
       "        console.error(\"Failed to find cell for figure\", id, fig);\n",
       "        return;\n",
       "    }\n",
       "\n",
       "    var output_index = fig.cell_info[2]\n",
       "    var cell = fig.cell_info[0];\n",
       "\n",
       "};\n",
       "\n",
       "mpl.figure.prototype.handle_close = function(fig, msg) {\n",
       "    var width = fig.canvas.width/mpl.ratio\n",
       "    fig.root.unbind('remove')\n",
       "\n",
       "    // Update the output cell to use the data from the current canvas.\n",
       "    fig.push_to_output();\n",
       "    var dataURL = fig.canvas.toDataURL();\n",
       "    // Re-enable the keyboard manager in IPython - without this line, in FF,\n",
       "    // the notebook keyboard shortcuts fail.\n",
       "    IPython.keyboard_manager.enable()\n",
       "    $(fig.parent_element).html('<img src=\"' + dataURL + '\" width=\"' + width + '\">');\n",
       "    fig.close_ws(fig, msg);\n",
       "}\n",
       "\n",
       "mpl.figure.prototype.close_ws = function(fig, msg){\n",
       "    fig.send_message('closing', msg);\n",
       "    // fig.ws.close()\n",
       "}\n",
       "\n",
       "mpl.figure.prototype.push_to_output = function(remove_interactive) {\n",
       "    // Turn the data on the canvas into data in the output cell.\n",
       "    var width = this.canvas.width/mpl.ratio\n",
       "    var dataURL = this.canvas.toDataURL();\n",
       "    this.cell_info[1]['text/html'] = '<img src=\"' + dataURL + '\" width=\"' + width + '\">';\n",
       "}\n",
       "\n",
       "mpl.figure.prototype.updated_canvas_event = function() {\n",
       "    // Tell IPython that the notebook contents must change.\n",
       "    IPython.notebook.set_dirty(true);\n",
       "    this.send_message(\"ack\", {});\n",
       "    var fig = this;\n",
       "    // Wait a second, then push the new image to the DOM so\n",
       "    // that it is saved nicely (might be nice to debounce this).\n",
       "    setTimeout(function () { fig.push_to_output() }, 1000);\n",
       "}\n",
       "\n",
       "mpl.figure.prototype._init_toolbar = function() {\n",
       "    var fig = this;\n",
       "\n",
       "    var nav_element = $('<div/>')\n",
       "    nav_element.attr('style', 'width: 100%');\n",
       "    this.root.append(nav_element);\n",
       "\n",
       "    // Define a callback function for later on.\n",
       "    function toolbar_event(event) {\n",
       "        return fig.toolbar_button_onclick(event['data']);\n",
       "    }\n",
       "    function toolbar_mouse_event(event) {\n",
       "        return fig.toolbar_button_onmouseover(event['data']);\n",
       "    }\n",
       "\n",
       "    for(var toolbar_ind in mpl.toolbar_items){\n",
       "        var name = mpl.toolbar_items[toolbar_ind][0];\n",
       "        var tooltip = mpl.toolbar_items[toolbar_ind][1];\n",
       "        var image = mpl.toolbar_items[toolbar_ind][2];\n",
       "        var method_name = mpl.toolbar_items[toolbar_ind][3];\n",
       "\n",
       "        if (!name) { continue; };\n",
       "\n",
       "        var button = $('<button class=\"btn btn-default\" href=\"#\" title=\"' + name + '\"><i class=\"fa ' + image + ' fa-lg\"></i></button>');\n",
       "        button.click(method_name, toolbar_event);\n",
       "        button.mouseover(tooltip, toolbar_mouse_event);\n",
       "        nav_element.append(button);\n",
       "    }\n",
       "\n",
       "    // Add the status bar.\n",
       "    var status_bar = $('<span class=\"mpl-message\" style=\"text-align:right; float: right;\"/>');\n",
       "    nav_element.append(status_bar);\n",
       "    this.message = status_bar[0];\n",
       "\n",
       "    // Add the close button to the window.\n",
       "    var buttongrp = $('<div class=\"btn-group inline pull-right\"></div>');\n",
       "    var button = $('<button class=\"btn btn-mini btn-primary\" href=\"#\" title=\"Stop Interaction\"><i class=\"fa fa-power-off icon-remove icon-large\"></i></button>');\n",
       "    button.click(function (evt) { fig.handle_close(fig, {}); } );\n",
       "    button.mouseover('Stop Interaction', toolbar_mouse_event);\n",
       "    buttongrp.append(button);\n",
       "    var titlebar = this.root.find($('.ui-dialog-titlebar'));\n",
       "    titlebar.prepend(buttongrp);\n",
       "}\n",
       "\n",
       "mpl.figure.prototype._root_extra_style = function(el){\n",
       "    var fig = this\n",
       "    el.on(\"remove\", function(){\n",
       "\tfig.close_ws(fig, {});\n",
       "    });\n",
       "}\n",
       "\n",
       "mpl.figure.prototype._canvas_extra_style = function(el){\n",
       "    // this is important to make the div 'focusable\n",
       "    el.attr('tabindex', 0)\n",
       "    // reach out to IPython and tell the keyboard manager to turn it's self\n",
       "    // off when our div gets focus\n",
       "\n",
       "    // location in version 3\n",
       "    if (IPython.notebook.keyboard_manager) {\n",
       "        IPython.notebook.keyboard_manager.register_events(el);\n",
       "    }\n",
       "    else {\n",
       "        // location in version 2\n",
       "        IPython.keyboard_manager.register_events(el);\n",
       "    }\n",
       "\n",
       "}\n",
       "\n",
       "mpl.figure.prototype._key_event_extra = function(event, name) {\n",
       "    var manager = IPython.notebook.keyboard_manager;\n",
       "    if (!manager)\n",
       "        manager = IPython.keyboard_manager;\n",
       "\n",
       "    // Check for shift+enter\n",
       "    if (event.shiftKey && event.which == 13) {\n",
       "        this.canvas_div.blur();\n",
       "        event.shiftKey = false;\n",
       "        // Send a \"J\" for go to next cell\n",
       "        event.which = 74;\n",
       "        event.keyCode = 74;\n",
       "        manager.command_mode();\n",
       "        manager.handle_keydown(event);\n",
       "    }\n",
       "}\n",
       "\n",
       "mpl.figure.prototype.handle_save = function(fig, msg) {\n",
       "    fig.ondownload(fig, null);\n",
       "}\n",
       "\n",
       "\n",
       "mpl.find_output_cell = function(html_output) {\n",
       "    // Return the cell and output element which can be found *uniquely* in the notebook.\n",
       "    // Note - this is a bit hacky, but it is done because the \"notebook_saving.Notebook\"\n",
       "    // IPython event is triggered only after the cells have been serialised, which for\n",
       "    // our purposes (turning an active figure into a static one), is too late.\n",
       "    var cells = IPython.notebook.get_cells();\n",
       "    var ncells = cells.length;\n",
       "    for (var i=0; i<ncells; i++) {\n",
       "        var cell = cells[i];\n",
       "        if (cell.cell_type === 'code'){\n",
       "            for (var j=0; j<cell.output_area.outputs.length; j++) {\n",
       "                var data = cell.output_area.outputs[j];\n",
       "                if (data.data) {\n",
       "                    // IPython >= 3 moved mimebundle to data attribute of output\n",
       "                    data = data.data;\n",
       "                }\n",
       "                if (data['text/html'] == html_output) {\n",
       "                    return [cell, data, j];\n",
       "                }\n",
       "            }\n",
       "        }\n",
       "    }\n",
       "}\n",
       "\n",
       "// Register the function which deals with the matplotlib target/channel.\n",
       "// The kernel may be null if the page has been refreshed.\n",
       "if (IPython.notebook.kernel != null) {\n",
       "    IPython.notebook.kernel.comm_manager.register_target('matplotlib', mpl.mpl_figure_comm);\n",
       "}\n"
      ],
      "text/plain": [
       "<IPython.core.display.Javascript object>"
      ]
     },
     "metadata": {},
     "output_type": "display_data"
    },
    {
     "data": {
      "text/html": [
       "<img src=\"data:image/png;base64,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\" width=\"640\">"
      ],
      "text/plain": [
       "<IPython.core.display.HTML object>"
      ]
     },
     "metadata": {},
     "output_type": "display_data"
    }
   ],
   "source": [
    "%matplotlib notebook\n",
    "#Draw a sigmoid plot\n",
    "import numpy as np\n",
    "import matplotlib.pyplot as plt\n",
    "def sigmoid(x):\n",
    "    return 1/(1+np.exp(-x))\n",
    "x = np.arange(start=-5, stop=5, step=0.1)\n",
    "plt.plot(x,sigmoid(x))\n",
    "plt.xlabel('x')\n",
    "plt.ylabel('y=sigmoid(x)')\n",
    "plt.show()"
   ]
  },
  {
   "cell_type": "markdown",
   "metadata": {
    "slideshow": {
     "slide_type": "fragment"
    }
   },
   "source": [
    "#### So, we need at least two hidden neurons to properly learn the XOR problem"
   ]
  },
  {
   "cell_type": "code",
   "execution_count": 1,
   "metadata": {
    "slideshow": {
     "slide_type": "slide"
    }
   },
   "outputs": [],
   "source": [
    "import numpy as np\n",
    "\n",
    "def sigmoid(x):\n",
    "    return 1.0/(1.0 + np.exp(-x))\n",
    "\n",
    "def sigmoid_prime(x):\n",
    "    return sigmoid(x)*(1.0-sigmoid(x))\n",
    "\n",
    "def tanh(x):\n",
    "    return np.tanh(x)\n",
    "\n",
    "def tanh_prime(x):\n",
    "    return 1.0 - x**2\n"
   ]
  },
  {
   "cell_type": "code",
   "execution_count": 16,
   "metadata": {},
   "outputs": [],
   "source": [
    "class NeuralNetwork:\n",
    "\n",
    "    def __init__(self, layers, activation='tanh'):\n",
    "        if activation == 'sigmoid':\n",
    "            self.activation = sigmoid\n",
    "            self.activation_prime = sigmoid_prime\n",
    "        elif activation == 'tanh':\n",
    "            self.activation = tanh\n",
    "            self.activation_prime = tanh_prime\n",
    "\n",
    "        # Set weights\n",
    "        self.weights = []\n",
    "        # layers = [2,2,1]\n",
    "        # range of weight values (-1,1)\n",
    "        # input and hidden layers - random((2+1, 2+1)) : 3 x 3\n",
    "        for i in range(1, len(layers) - 1):\n",
    "            r = 2*np.random.random((layers[i-1] + 1, layers[i] + 1)) -1\n",
    "            self.weights.append(r)\n",
    "        # output layer - random((2+1, 1)) : 3 x 1\n",
    "        r = 2*np.random.random( (layers[i] + 1, layers[i+1])) - 1\n",
    "        self.weights.append(r)\n",
    "\n",
    "    def fit(self, X, y, learning_rate=0.2, epochs=100000):\n",
    "        # Add column of ones to X\n",
    "        # This is to add the bias unit to the input layer\n",
    "        ones = np.atleast_2d(np.ones(X.shape[0]))\n",
    "        X = np.concatenate((ones.T, X), axis=1)\n",
    "         \n",
    "        for k in range(epochs):\n",
    "            if k % 10000 == 0: print('epochs: %d'% k)\n",
    "            \n",
    "            i = np.random.randint(X.shape[0])\n",
    "            a = [X[i]]\n",
    "\n",
    "            for l in range(len(self.weights)):\n",
    "                    dot_value = np.dot(a[l], self.weights[l])\n",
    "                    activation = self.activation(dot_value)\n",
    "                    a.append(activation)\n",
    "            # output layer\n",
    "            #error = y[i] - a[-1]\n",
    "            error = a[-1] - y[i]\n",
    "            deltas = [error * self.activation_prime(a[-1])]\n",
    "\n",
    "            # we need to begin at the second to last layer \n",
    "            # (a layer before the output layer)\n",
    "            for l in range(len(a) - 2, 0, -1): \n",
    "                deltas.append(deltas[-1].dot(self.weights[l].T)*self.activation_prime(a[l]))\n",
    "\n",
    "            # reverse\n",
    "            # [level3(output)->level2(hidden)]  => [level2(hidden)->level3(output)]\n",
    "            deltas.reverse()\n",
    "\n",
    "            # backpropagation\n",
    "            # 1. Multiply its output delta and input activation \n",
    "            #    to get the gradient of the weight.\n",
    "            # 2. Subtract a ratio (percentage) of the gradient from the weight.\n",
    "            for i in range(len(self.weights)):\n",
    "                layer = np.atleast_2d(a[i])\n",
    "                delta = np.atleast_2d(deltas[i])\n",
    "                self.weights[i] -= learning_rate * layer.T.dot(delta)\n",
    "\n",
    "    def predict(self, x): \n",
    "        #a = np.concatenate((np.ones(1).T, np.array(x)), axis=1)      \n",
    "        a = np.concatenate((np.array([[1]]), np.array([x])), axis=1)\n",
    "        for l in range(0, len(self.weights)):\n",
    "            a = self.activation(np.dot(a, self.weights[l]))\n",
    "        return a"
   ]
  },
  {
   "cell_type": "code",
   "execution_count": 17,
   "metadata": {},
   "outputs": [
    {
     "name": "stdout",
     "output_type": "stream",
     "text": [
      "epochs: 0\n",
      "epochs: 10000\n",
      "epochs: 20000\n",
      "epochs: 30000\n",
      "epochs: 40000\n",
      "epochs: 50000\n",
      "epochs: 60000\n",
      "epochs: 70000\n",
      "epochs: 80000\n",
      "epochs: 90000\n",
      "[0 0] => 0.025995\n",
      "[0 1] => 0.990652\n",
      "[1 0] => 0.987167\n",
      "[1 1] => 0.000607\n"
     ]
    }
   ],
   "source": [
    "nn = NeuralNetwork([2,2,1])\n",
    "\n",
    "X = np.array([[0, 0],\n",
    "                  [0, 1],\n",
    "                  [1, 0],\n",
    "                  [1, 1]])\n",
    "\n",
    "y = np.array([0, 1, 1, 0])\n",
    "\n",
    "nn.fit(X, y)\n",
    "\n",
    "for e in X:\n",
    "    print(\"[%d %d] => %f\"%(e[0], e[1],nn.predict(e)))"
   ]
  },
  {
   "cell_type": "markdown",
   "metadata": {
    "slideshow": {
     "slide_type": "slide"
    }
   },
   "source": [
    "# Output units: Sigmoid vs Softmax\n",
    "## Sigmoid output units are for Bernoulli output distributions\n",
    "* Many tasks require predicting the value of a binary variable $y$.\n",
    "    * $Pr(y=1 | \\mathbf{x}) = \\frac{1}{1+e^{-x}}$\n",
    "    * For this number to be a valid probability, it must lie in the interval [0,1]\n",
    "    * Sigmoid activation unit: $\\hat{y} = \\sigma(w^Tx +b)$ converts $w^Tx+b$ into a probability."
   ]
  },
  {
   "cell_type": "markdown",
   "metadata": {},
   "source": [
    "## Softmax output units are for Multinoulli output distribution\n",
    "* Anytime we wish to represent a probability distribution over a discrete variable with $n$ possible values, we use the softmax function.\n",
    "    * It is a generalization of the sigmoid function.\n",
    "    * In case of binary variables, we wish to output a single number, $\\hat{y} = Pr(y=1|\\mathbf{x})$\n",
    "    * Generalized sigmoid for the case of discrete variable with $n$ values, we have a vector $\\mathbf{\\hat{y}}$ rather than a single number, with $ \\hat{y}_i = Pr(y=i|\\mathbf{x})$\n",
    "        * Also, we need $\\sum_{i=1}^n Pr(y=i|\\mathbf{x}) = 1$\n",
    "$$\n",
    "\\begin{align*}\n",
    "\\text{softmax}(\\mathbf{z})_i = \\dfrac{exp(z_i)}{\\sum_j exp(z_j)}\n",
    "\\end{align*}\n",
    "$$"
   ]
  },
  {
   "cell_type": "code",
   "execution_count": 12,
   "metadata": {},
   "outputs": [],
   "source": [
    "import numpy as np\n",
    "z = [1.0, 2.0, 3.0, 4.0, 1.0, 2.0, 3.0]\n",
    "softmax_out = np.exp(z) / np.sum(np.exp(z))"
   ]
  },
  {
   "cell_type": "code",
   "execution_count": 13,
   "metadata": {
    "scrolled": true
   },
   "outputs": [
    {
     "data": {
      "text/plain": [
       "array([0.02364054, 0.06426166, 0.1746813 , 0.474833  , 0.02364054,\n",
       "       0.06426166, 0.1746813 ])"
      ]
     },
     "execution_count": 13,
     "metadata": {},
     "output_type": "execute_result"
    }
   ],
   "source": [
    "softmax_out"
   ]
  },
  {
   "cell_type": "code",
   "execution_count": 14,
   "metadata": {
    "scrolled": true
   },
   "outputs": [
    {
     "data": {
      "text/plain": [
       "0.9999999999999999"
      ]
     },
     "execution_count": 14,
     "metadata": {},
     "output_type": "execute_result"
    }
   ],
   "source": [
    "sum(softmax_out)"
   ]
  },
  {
   "cell_type": "code",
   "execution_count": null,
   "metadata": {},
   "outputs": [],
   "source": []
  }
 ],
 "metadata": {
  "celltoolbar": "Slideshow",
  "kernelspec": {
   "display_name": "Python 3 (ipykernel)",
   "language": "python",
   "name": "python3"
  },
  "language_info": {
   "codemirror_mode": {
    "name": "ipython",
    "version": 3
   },
   "file_extension": ".py",
   "mimetype": "text/x-python",
   "name": "python",
   "nbconvert_exporter": "python",
   "pygments_lexer": "ipython3",
   "version": "3.10.12"
  },
  "varInspector": {
   "cols": {
    "lenName": 16,
    "lenType": 16,
    "lenVar": 40
   },
   "kernels_config": {
    "python": {
     "delete_cmd_postfix": "",
     "delete_cmd_prefix": "del ",
     "library": "var_list.py",
     "varRefreshCmd": "print(var_dic_list())"
    },
    "r": {
     "delete_cmd_postfix": ") ",
     "delete_cmd_prefix": "rm(",
     "library": "var_list.r",
     "varRefreshCmd": "cat(var_dic_list()) "
    }
   },
   "types_to_exclude": [
    "module",
    "function",
    "builtin_function_or_method",
    "instance",
    "_Feature"
   ],
   "window_display": false
  }
 },
 "nbformat": 4,
 "nbformat_minor": 4
}
