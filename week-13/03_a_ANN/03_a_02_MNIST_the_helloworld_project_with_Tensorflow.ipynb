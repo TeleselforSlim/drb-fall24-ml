{
 "cells": [
  {
   "cell_type": "markdown",
   "id": "experimental-preview",
   "metadata": {
    "id": "experimental-preview"
   },
   "source": [
    "# Week-05: Based on Week-03 materials (now with Tensorflow)\n",
    "## Based on Kaggle's competition: Digit Recognizer\n",
    "### and an article by Jonathan Weisberg\n",
    "- Link to the Digit recognizer competition [Link here](https://www.kaggle.com/c/digit-recognizer/data)\n",
    "- Link to the post by Jonathan Weisberg [Part 1](https://jonathanweisberg.org/post/A%20Neural%20Network%20from%20Scratch%20-%20Part%201/) [Part 2](https://jonathanweisberg.org/post/A%20Neural%20Network%20from%20Scratch%20-%20Part%202/)\n"
   ]
  },
  {
   "cell_type": "markdown",
   "id": "practical-empire",
   "metadata": {
    "id": "practical-empire"
   },
   "source": [
    "### Data Description\n",
    "The data files train.csv and test.csv contain gray-scale images of hand-drawn digits, from zero through nine.\n",
    "\n",
    "Each image is 28 pixels in height and 28 pixels in width, for a total of 784 pixels in total. Each pixel has a single pixel-value associated with it, indicating the lightness or darkness of that pixel, with higher numbers meaning darker. This pixel-value is an integer between 0 and 255, inclusive.\n",
    "\n",
    "The training data set, (train.csv), has 785 columns. The first column, called \"label\", is the digit that was drawn by the user. The rest of the columns contain the pixel-values of the associated image.\n",
    "\n"
   ]
  },
  {
   "cell_type": "markdown",
   "id": "packed-split",
   "metadata": {
    "id": "packed-split"
   },
   "source": [
    "Each pixel column in the training set has a name like pixelx, where x is an integer between 0 and 783, inclusive. To locate this pixel on the image, suppose that we have decomposed x as x = i * 28 + j, where i and j are integers between 0 and 27, inclusive. Then pixelx is located on row i and column j of a 28 x 28 matrix, (indexing by zero).\n",
    "\n",
    "For example, pixel31 indicates the pixel that is in the fourth column from the left, and the second row from the top, as in the ascii-diagram below.\n",
    "\n",
    "Visually, if we omit the \"pixel\" prefix, the pixels make up the image like this:\n",
    "\n",
    "<pre>\n",
    "000 001 002 003 ... 026 027\n",
    "028 029 030 031 ... 054 055\n",
    "056 057 058 059 ... 082 083\n",
    " |   |   |   |  ...  |   |\n",
    "728 729 730 731 ... 754 755\n",
    "756 757 758 759 ... 782 783 \n",
    "</pre>\n"
   ]
  },
  {
   "cell_type": "markdown",
   "id": "vietnamese-chess",
   "metadata": {
    "id": "vietnamese-chess"
   },
   "source": [
    "The test data set, (test.csv), is the same as the training set, except that it does not contain the \"label\" column.\n",
    "\n",
    "Your submission file should be in the following format: For each of the 28000 images in the test set, output a single line containing the ImageId and the digit you predict. For example, if you predict that the first image is of a 3, the second image is of a 7, and the third image is of a 8, then your submission file would look like:\n",
    "\n",
    "<pre>\n",
    "ImageId,Label\n",
    "1,3\n",
    "2,7\n",
    "3,8 \n",
    "(27997 more lines)\n",
    "</pre>\n",
    "\n",
    "The evaluation metric for this contest is the `categorization accuracy`, or the proportion of test images that are correctly classified. For example, a categorization accuracy of 0.97 indicates that you have correctly classified all but 3% of the images."
   ]
  },
  {
   "cell_type": "code",
   "execution_count": null,
   "id": "partial-european",
   "metadata": {
    "id": "partial-european"
   },
   "outputs": [],
   "source": [
    "import numpy as np\n",
    "import pandas as pd\n",
    "import matplotlib\n",
    "import matplotlib.pyplot as plt\n",
    "import plotly\n",
    "import plotly.express as px\n",
    "import plotly.graph_objects as go\n",
    "\n",
    "from sklearn.model_selection import train_test_split\n",
    "from sklearn.metrics import classification_report, confusion_matrix\n",
    "import seaborn as sns\n",
    "from tqdm import tqdm\n",
    "import warnings\n",
    "warnings.filterwarnings('ignore')"
   ]
  },
  {
   "cell_type": "code",
   "execution_count": null,
   "id": "large-shark",
   "metadata": {
    "id": "large-shark"
   },
   "outputs": [],
   "source": [
    "## Week - 05 material\n",
    "import tensorflow\n",
    "import tensorflow as tf"
   ]
  },
  {
   "cell_type": "code",
   "execution_count": null,
   "id": "Guz59Q58bFjc",
   "metadata": {
    "colab": {
     "base_uri": "https://localhost:8080/"
    },
    "id": "Guz59Q58bFjc",
    "outputId": "31506e0b-5a8e-44fd-f657-464432411240"
   },
   "outputs": [
    {
     "name": "stdout",
     "output_type": "stream",
     "text": [
      "2.8.0\n"
     ]
    }
   ],
   "source": [
    "print(tf.__version__)"
   ]
  },
  {
   "cell_type": "markdown",
   "id": "S1t3tIvQdcn7",
   "metadata": {
    "id": "S1t3tIvQdcn7"
   },
   "source": [
    "## Finding access to GPUs\n",
    "\n",
    "We've mentioned GPUs plenty of times throughout this notebook.\n",
    "\n",
    "So how do you check if you've got one available?\n",
    "\n",
    "You can check if you've got access to a GPU using [`tf.config.list_physical_devices()`](https://www.tensorflow.org/guide/gpu)."
   ]
  },
  {
   "cell_type": "code",
   "execution_count": null,
   "id": "VUYbvIuvdiQG",
   "metadata": {
    "colab": {
     "base_uri": "https://localhost:8080/"
    },
    "id": "VUYbvIuvdiQG",
    "outputId": "56d79071-b5c1-4840-84cc-e3f20c0bd4e6"
   },
   "outputs": [
    {
     "name": "stdout",
     "output_type": "stream",
     "text": [
      "[PhysicalDevice(name='/physical_device:GPU:0', device_type='GPU')]\n"
     ]
    }
   ],
   "source": [
    "print(tf.config.list_physical_devices('GPU'))"
   ]
  },
  {
   "cell_type": "markdown",
   "id": "7xgLF7KpdoNT",
   "metadata": {
    "id": "7xgLF7KpdoNT"
   },
   "source": [
    "If the above outputs an empty array (or nothing), it means you don't have access to a GPU (or at least TensorFlow can't find it).\n",
    "\n",
    "If you're running in Google Colab, you can access a GPU by going to *Runtime -> Change Runtime Type -> Select GPU* (**note:** after doing this your notebook will restart and any variables you've saved will be lost).\n",
    "\n",
    "Once you've changed your runtime type, run the cell below."
   ]
  },
  {
   "cell_type": "code",
   "execution_count": null,
   "id": "xHi9z5t7dwZF",
   "metadata": {
    "colab": {
     "base_uri": "https://localhost:8080/"
    },
    "id": "xHi9z5t7dwZF",
    "outputId": "289df2a9-7d51-4d44-e230-e7835145d9d0"
   },
   "outputs": [
    {
     "name": "stdout",
     "output_type": "stream",
     "text": [
      "[PhysicalDevice(name='/physical_device:GPU:0', device_type='GPU')]\n"
     ]
    }
   ],
   "source": [
    "import tensorflow as tf\n",
    "print(tf.config.list_physical_devices('GPU'))"
   ]
  },
  {
   "cell_type": "markdown",
   "id": "bc7mGLgcd2Q_",
   "metadata": {
    "id": "bc7mGLgcd2Q_"
   },
   "source": [
    "If you've got access to a GPU, the cell above should output something like:\n",
    "\n",
    "`[PhysicalDevice(name='/physical_device:GPU:0', device_type='GPU')]`\n",
    "\n",
    "You can also find information about your GPU using `!nvidia-smi`."
   ]
  },
  {
   "cell_type": "code",
   "execution_count": null,
   "id": "lUvtqUsTd4f0",
   "metadata": {
    "colab": {
     "base_uri": "https://localhost:8080/"
    },
    "id": "lUvtqUsTd4f0",
    "outputId": "421e7910-6bd8-40d0-b9fe-357632af2e1e"
   },
   "outputs": [
    {
     "name": "stdout",
     "output_type": "stream",
     "text": [
      "Thu Feb 17 13:42:40 2022       \n",
      "+-----------------------------------------------------------------------------+\n",
      "| NVIDIA-SMI 460.32.03    Driver Version: 460.32.03    CUDA Version: 11.2     |\n",
      "|-------------------------------+----------------------+----------------------+\n",
      "| GPU  Name        Persistence-M| Bus-Id        Disp.A | Volatile Uncorr. ECC |\n",
      "| Fan  Temp  Perf  Pwr:Usage/Cap|         Memory-Usage | GPU-Util  Compute M. |\n",
      "|                               |                      |               MIG M. |\n",
      "|===============================+======================+======================|\n",
      "|   0  Tesla P100-PCIE...  Off  | 00000000:00:04.0 Off |                    0 |\n",
      "| N/A   33C    P0    25W / 250W |      2MiB / 16280MiB |      0%      Default |\n",
      "|                               |                      |                  N/A |\n",
      "+-------------------------------+----------------------+----------------------+\n",
      "                                                                               \n",
      "+-----------------------------------------------------------------------------+\n",
      "| Processes:                                                                  |\n",
      "|  GPU   GI   CI        PID   Type   Process name                  GPU Memory |\n",
      "|        ID   ID                                                   Usage      |\n",
      "|=============================================================================|\n",
      "|  No running processes found                                                 |\n",
      "+-----------------------------------------------------------------------------+\n"
     ]
    }
   ],
   "source": [
    "!nvidia-smi"
   ]
  },
  {
   "cell_type": "markdown",
   "id": "rlRKEDWUd8AQ",
   "metadata": {
    "id": "rlRKEDWUd8AQ"
   },
   "source": [
    "> 🔑 **Note:** If you have access to a GPU, TensorFlow will automatically use it whenever possible."
   ]
  },
  {
   "cell_type": "code",
   "execution_count": null,
   "id": "3TvuUo3ucIas",
   "metadata": {
    "id": "3TvuUo3ucIas"
   },
   "outputs": [],
   "source": [
    "#Test if the code is running on Google colab\n",
    "try:\n",
    "  import google.colab\n",
    "  IN_COLAB = True\n",
    "except:\n",
    "  IN_COLAB = False"
   ]
  },
  {
   "cell_type": "code",
   "execution_count": null,
   "id": "hZUOc1NJbSvf",
   "metadata": {
    "colab": {
     "base_uri": "https://localhost:8080/"
    },
    "id": "hZUOc1NJbSvf",
    "outputId": "298b1ef6-ea93-4945-ff17-4d38e6d53d9d"
   },
   "outputs": [
    {
     "name": "stdout",
     "output_type": "stream",
     "text": [
      "Mounted at /content/gdrive\n"
     ]
    }
   ],
   "source": [
    "#if on google drive\n",
    "if IN_COLAB:\n",
    "  from google.colab import drive\n",
    "  drive.mount('/content/gdrive')\n",
    "  mnist_path = '/content/gdrive/MyDrive/Colab Notebooks/csci5931sp22/'\n",
    "else:\n",
    "  mnist_path = ''"
   ]
  },
  {
   "cell_type": "code",
   "execution_count": null,
   "id": "understanding-detector",
   "metadata": {
    "id": "understanding-detector"
   },
   "outputs": [],
   "source": [
    "#Loading the training and test dataset... also the submission_df\n",
    "dataset = pd.read_csv(mnist_path + 'mnist-dataset/train.csv')\n",
    "#test_df = pd.read_csv('mnist-dataset/test.csv')\n",
    "#submission_df = pd.read_csv('mnist-dataset/sample_submission.csv')"
   ]
  },
  {
   "cell_type": "code",
   "execution_count": null,
   "id": "scenic-peoples",
   "metadata": {
    "colab": {
     "base_uri": "https://localhost:8080/"
    },
    "id": "scenic-peoples",
    "outputId": "82c6f63a-9b72-4af8-e112-83d9ca5988b1",
    "scrolled": true
   },
   "outputs": [
    {
     "data": {
      "text/plain": [
       "Index(['label', 'pixel0', 'pixel1', 'pixel2', 'pixel3', 'pixel4', 'pixel5',\n",
       "       'pixel6', 'pixel7', 'pixel8',\n",
       "       ...\n",
       "       'pixel774', 'pixel775', 'pixel776', 'pixel777', 'pixel778', 'pixel779',\n",
       "       'pixel780', 'pixel781', 'pixel782', 'pixel783'],\n",
       "      dtype='object', length=785)"
      ]
     },
     "execution_count": 19,
     "metadata": {},
     "output_type": "execute_result"
    }
   ],
   "source": [
    "dataset.columns"
   ]
  },
  {
   "cell_type": "code",
   "execution_count": null,
   "id": "bronze-punch",
   "metadata": {
    "id": "bronze-punch"
   },
   "outputs": [],
   "source": [
    "X = dataset.drop('label',axis=1)\n",
    "y = dataset['label']"
   ]
  },
  {
   "cell_type": "code",
   "execution_count": null,
   "id": "educated-victor",
   "metadata": {
    "colab": {
     "base_uri": "https://localhost:8080/"
    },
    "id": "educated-victor",
    "outputId": "6a14b348-0b45-48d5-bcfb-2da45f037350",
    "scrolled": true
   },
   "outputs": [
    {
     "data": {
      "text/plain": [
       "Index(['pixel0', 'pixel1', 'pixel2', 'pixel3', 'pixel4', 'pixel5', 'pixel6',\n",
       "       'pixel7', 'pixel8', 'pixel9',\n",
       "       ...\n",
       "       'pixel774', 'pixel775', 'pixel776', 'pixel777', 'pixel778', 'pixel779',\n",
       "       'pixel780', 'pixel781', 'pixel782', 'pixel783'],\n",
       "      dtype='object', length=784)"
      ]
     },
     "execution_count": 21,
     "metadata": {},
     "output_type": "execute_result"
    }
   ],
   "source": [
    "X.columns"
   ]
  },
  {
   "cell_type": "code",
   "execution_count": null,
   "id": "spare-building",
   "metadata": {
    "colab": {
     "base_uri": "https://localhost:8080/"
    },
    "id": "spare-building",
    "outputId": "b75e9fbd-c1d4-4832-ff60-662325532d91"
   },
   "outputs": [
    {
     "data": {
      "text/plain": [
       "42000"
      ]
     },
     "execution_count": 22,
     "metadata": {},
     "output_type": "execute_result"
    }
   ],
   "source": [
    "len(y)"
   ]
  },
  {
   "cell_type": "markdown",
   "id": "hairy-basics",
   "metadata": {
    "id": "hairy-basics"
   },
   "source": [
    "### Checking if there is an issue of class imbalance"
   ]
  },
  {
   "cell_type": "code",
   "execution_count": null,
   "id": "weird-kruger",
   "metadata": {
    "colab": {
     "base_uri": "https://localhost:8080/",
     "height": 595
    },
    "id": "weird-kruger",
    "outputId": "5e72f76a-d46c-460b-8707-175fe080e696",
    "scrolled": false
   },
   "outputs": [
    {
     "data": {
      "image/png": "[encoded data removed]",
      "text/plain": [
       "<Figure size 1440x720 with 1 Axes>"
      ]
     },
     "metadata": {},
     "output_type": "display_data"
    }
   ],
   "source": [
    "sns.set(style=\"ticks\", context=\"talk\",font_scale = 1)\n",
    "plt.style.use(\"dark_background\")\n",
    "plt.figure(figsize = (20,10))\n",
    "ax = y.value_counts().sort_values(ascending=False).plot(kind='bar',\n",
    "                                                                        grid = False,\n",
    "                                                                        fontsize=20,\n",
    "                                                                        color='grey')\n",
    "plt.xticks(rotation=0)\n",
    "for p in ax.patches:\n",
    "    height = p.get_height()\n",
    "    ax.text(p.get_x()+ p.get_width() / 2., height + 30, height, ha = 'center', size = 30)\n",
    "sns.despine()"
   ]
  },
  {
   "cell_type": "markdown",
   "id": "exterior-investigation",
   "metadata": {
    "id": "exterior-investigation"
   },
   "source": [
    "### Comment on the numbers above\n",
    "\n",
    "* All numbers appear to be balanced. So, I declare \"No problem!\"\n",
    "* 1 is the most and 5 is the least."
   ]
  },
  {
   "cell_type": "markdown",
   "id": "integrated-fifth",
   "metadata": {
    "id": "integrated-fifth"
   },
   "source": [
    "### Let's draw a few samples from train set"
   ]
  },
  {
   "cell_type": "code",
   "execution_count": null,
   "id": "incredible-indianapolis",
   "metadata": {
    "colab": {
     "base_uri": "https://localhost:8080/",
     "height": 579
    },
    "id": "incredible-indianapolis",
    "outputId": "53cb3cc0-15a4-4e5e-b9ad-5d7cbb80bd88",
    "scrolled": true
   },
   "outputs": [
    {
     "data": {
      "text/html": [
       "<html>\n",
       "<head><meta charset=\"utf-8\" /></head>\n",
       "<body>\n",
       "    <div>            <script src=\"https://cdnjs.cloudflare.com/ajax/libs/mathjax/2.7.5/MathJax.js?config=TeX-AMS-MML_SVG\"></script><script type=\"text/javascript\">if (window.MathJax) {MathJax.Hub.Config({SVG: {font: \"STIX-Web\"}});}</script>                <script type=\"text/javascript\">window.PlotlyConfig = {MathJaxConfig: 'local'};</script>\n",
       "        <script src=\"https://cdn.plot.ly/plotly-2.8.3.min.js\"></script>                <div id=\"8b684905-d71f-44b5-ac02-001dcff64bb3\" class=\"plotly-graph-div\" style=\"height:525px; width:100%;\"></div>            <script type=\"text/javascript\">                                    window.PLOTLYENV=window.PLOTLYENV || {};                                    if (document.getElementById(\"8b684905-d71f-44b5-ac02-001dcff64bb3\")) {                    Plotly.newPlot(                        \"8b684905-d71f-44b5-ac02-001dcff64bb3\",                        [{\"name\":\"0\",\"source\":\"data:image/png;base64,iVBORw0KGgoAAAANSUhEUgAAABwAAAAcCAAAAABXZoBIAAAAmklEQVR4Xs2RwRGEIBRDn1vH/j6kENk+7INGmK3DQrCQ7AEFBPfuO2WSITABHsbUG5gD3jPfeBPqFBOv1sfAAbDvfC4JFgSY9zi7JrBKpbIjSlLuHJEkKQx9AGyKOe6DE3NJ8r1b8XePKneF8WiIRarKY6GlGDA3GoD6DlO6JOR14uqd+a2pPYkpr/BnpvWIt2q1/2kOYGx9Dj9wuUqW9fL6OwAAAABJRU5ErkJggg==\",\"type\":\"image\",\"xaxis\":\"x6\",\"yaxis\":\"y6\",\"hovertemplate\":\"x: %{x}<br>y: %{y}<br>color: %{z}<extra></extra>\"},{\"name\":\"1\",\"source\":\"data:image/png;base64,iVBORw0KGgoAAAANSUhEUgAAABwAAAAcCAAAAABXZoBIAAAA9ElEQVR4Xs3QL0uDURiG8eudBsPAP1gXRB2IwaDgJzDIgmCwjBXD6la2D2ATi2DSgYj4BUSbWQWbyJKKYTKUvTCQpcF9ZtiZZ+8jq+KVnvN7wjkc+JO2nTudsOjL3krtJau+Q0knFn2zXeli3Gq/6XenjxE3Tt3INdes9ouKkvas+rYkHSckFcZl4DocSSyB8lXiGErHzq1MWvVVJb08Xe6M2QXAvSQ56WH+h4a/4/OIaG539aDUGEIAFlt6BLItaX1g4bU9ADIz1Ou/ls+vALl9aHcGFqp041qtJzU37QbgTpLT20KQKIwbhfzZV+M8DvLv+gatAFc0vM053AAAAABJRU5ErkJggg==\",\"type\":\"image\",\"xaxis\":\"x7\",\"yaxis\":\"y7\",\"hovertemplate\":\"x: %{x}<br>y: %{y}<br>color: %{z}<extra></extra>\"},{\"name\":\"2\",\"source\":\"data:image/png;base64,iVBORw0KGgoAAAANSUhEUgAAABwAAAAcCAAAAABXZoBIAAABAklEQVR4XmNgGGiQ9exZJroYDGi/+/fvTxq6KAMDAwOD2bUXuzYd/PdiMgu6DAPv1Gf/Togy8Ex//k8bXY7B+9/XICYGBgaG+n93xdHkWI/++8jOwMDAwMC88V8pVJAJSntYMvBCxP6eYTBDk0QCbV+CilBF6v79+8QLZQd9viaNIrnx37+PcM6Of94MDAwIY3u/MsyCS86B0jDJQ+cZTGFycIDkIEMEEwqwuBYB4JLHkQSboDRccj0DiyaMDQkqJMAz599jdQiz5PtZARQ5Bgbu+f/ubenT0tLK+/1vFZocAwPb8s///v379+/ft72i6HIMDAzGpU///ftd6oouTk8AAIZUUBe+aLe9AAAAAElFTkSuQmCC\",\"type\":\"image\",\"xaxis\":\"x8\",\"yaxis\":\"y8\",\"hovertemplate\":\"x: %{x}<br>y: %{y}<br>color: %{z}<extra></extra>\"},{\"name\":\"3\",\"source\":\"data:image/png;base64,iVBORw0KGgoAAAANSUhEUgAAABwAAAAcCAAAAABXZoBIAAAA9klEQVR4Xs3QMUtCURiH8edGFIKXoCaTcNKGBIMmp75AFEEg7Y0FfYPaw4YWxV2/QNhSuQQ5BbVEQ4sQBEK0lC3/w20wPbe3S1vQs5xz3h8HDgf+WcHXuroS5fa4Omon4Px9GL10WMxfbMZ12HTTNZYg8/zazliD0lYK4ETaN+LrfcNJvwUIRg9MqNDXadofYzfD4nplluvwzY/G1c4lJ+nQAkBPklP1RhtWgOWW61Rn2HVR1hIwlU0DC3JJOCy8/AXjNyfiYPuJgR/5T1hLdZ9grh49fIxno7YH6pbLZ3d6zFmCQl+S0/tt3grAzrHkDip2/Ad9At/DUAJJAtbSAAAAAElFTkSuQmCC\",\"type\":\"image\",\"xaxis\":\"x9\",\"yaxis\":\"y9\",\"hovertemplate\":\"x: %{x}<br>y: %{y}<br>color: %{z}<extra></extra>\"},{\"name\":\"4\",\"source\":\"data:image/png;base64,iVBORw0KGgoAAAANSUhEUgAAABwAAAAcCAAAAABXZoBIAAABBklEQVR4Xs2Rvy9DURxHD++9JpIaisliYCKxqJcIC4NNLBJsxN/QZ2SzCqO1qUhHVAeLUZqwWCwSiUFq8SPVPH2f1PDeNXxjFme5yTm5N/ebL/wZXtQtWecYLElbVjqOpHrBypS506RVm7IWYGb97FOqWQ0wHX1I0lXeBiC3KyluLOVsAPqepPhg2GoA8lUl18vWpvSfSGUrHfuSHuubx+H8xGRkY1Upb+2XZrydST87z8PWBcWH8SIDMOKuOHwfvB4vCIJL3WSu18WFBNRVp9O5493JjNHbxWz4jaRpnw2lVQ8YKre/KqYx9iw19lYq99KhbbCWzaLwl10Gs6+StFP4+eI/5Btr1mz0vspo6AAAAABJRU5ErkJggg==\",\"type\":\"image\",\"xaxis\":\"x10\",\"yaxis\":\"y10\",\"hovertemplate\":\"x: %{x}<br>y: %{y}<br>color: %{z}<extra></extra>\"},{\"name\":\"5\",\"source\":\"data:image/png;base64,iVBORw0KGgoAAAANSUhEUgAAABwAAAAcCAAAAABXZoBIAAAAu0lEQVR4Xu2RsQ4BQRRFz4qQaLUKnQSFSi2bbK9QqvwBEr+h02holAo1vYSIRqKVaNHIanaWwr7ZMfMLbnXeO2+Smwz8gweA32b27Ky7QNX33sHGPBmon/STdca8AYhi4nnCWQBup/I1Atjul8PR9C6XSRp5obOaCH5fwlEWlIg02ymGqmbvdHpqVxB22sI4FHJkwEuzIysG2zIn9cGVTbOqLSG8aHTl46DRlUZsWWeRDrZssUoHW5pfwAeTAjNUf9veOwAAAABJRU5ErkJggg==\",\"type\":\"image\",\"xaxis\":\"x\",\"yaxis\":\"y\",\"hovertemplate\":\"x: %{x}<br>y: %{y}<br>color: %{z}<extra></extra>\"},{\"name\":\"6\",\"source\":\"data:image/png;base64,iVBORw0KGgoAAAANSUhEUgAAABwAAAAcCAAAAABXZoBIAAABBklEQVR4XsWNL0tDYRhHz1QElQkKMq5g0CQiglgMA4PDMC6oWCwmMWjxG2xln0D8wzQIdjFM0LIkokVWxLaBotwFFYbihuw3DPNe7vtuWU963nPehwf+kdNG48q1ZZORdFXS16TtAa4fpdvxgi6G7ALD76psOmxLCcN3ALhv54sHHhWRNGKY7ud2m7+cOaGHSbImaXfd1gAcfkiSvndCrssfBnuLJYjObsVT+WroAwBTiVEgulKW9vrs6DNzVNd+j20Djuta6rRlQFY6sV3AtKey7Vj2T8VfWmPtbnWgOeU+58wEmSfd5DYmnH7Xa91krPAq6SEvFQGImDm2xvwCpezlven/jh8Nzl0pzEXSmwAAAABJRU5ErkJggg==\",\"type\":\"image\",\"xaxis\":\"x2\",\"yaxis\":\"y2\",\"hovertemplate\":\"x: %{x}<br>y: %{y}<br>color: %{z}<extra></extra>\"},{\"name\":\"7\",\"source\":\"data:image/png;base64,iVBORw0KGgoAAAANSUhEUgAAABwAAAAcCAAAAABXZoBIAAAAh0lEQVR4XmNgoD9gROY0fNp0B5mPAup/X0HhM6HwGNRReGiSDBrIHHTJMmQOCzKHkQnVgSiS//8x/EfmoxuLAoiX3PgWmYcmeeE7E4qDUI399498B0kIoAkgwN3ff+2QuKg6mZiYbFAEkMHd33+RIxRV50YUHhowePI3EF0MAawPiqML0RkAANBrGuy3zN30AAAAAElFTkSuQmCC\",\"type\":\"image\",\"xaxis\":\"x3\",\"yaxis\":\"y3\",\"hovertemplate\":\"x: %{x}<br>y: %{y}<br>color: %{z}<extra></extra>\"},{\"name\":\"8\",\"source\":\"data:image/png;base64,iVBORw0KGgoAAAANSUhEUgAAABwAAAAcCAAAAABXZoBIAAAAyElEQVR4XuWQvQ4BURBGz7LNFhQK1TYbhfiPaJU0et5EvId4AxoJ8QQqhUYiES2F6BSb+AlRDMXuld2LRutU35y5c5MZ+A8MXeBIdOtHA8yUa18bQD0NEMM4tkequc76DwE2N8hBBAATRgVYFQ9DABYnGDbVvx9wpesFbz5EK85Ud4rKRfqWF98na5YMrrr0yexkrrsXExFbd4rqXXrvV/NZiuvoTlG+yNc1omPZB48ZIvmQTqDU9nyQD1Th5nl2/r4kiZJufuMJJsgysumV/dkAAAAASUVORK5CYII=\",\"type\":\"image\",\"xaxis\":\"x4\",\"yaxis\":\"y4\",\"hovertemplate\":\"x: %{x}<br>y: %{y}<br>color: %{z}<extra></extra>\"},{\"name\":\"9\",\"source\":\"data:image/png;base64,iVBORw0KGgoAAAANSUhEUgAAABwAAAAcCAAAAABXZoBIAAAA90lEQVR4XsWSIVPDQBCFv9rWNrbYnq6lWNDV1bGApTICA1iGqYxNLZoOMvoCrlDVY+paeXtBQHKX+wHw1L79ZufNvTn4e/XixQT2n/HyR6oUK7t0GO8BlBOn80NdxABINmKzPmOxsxjBtbhCAUlZn8dsZmzWB2AqlxGby/Hmd1TVVUhAadsw0C8eACfGZd5Vj34GpZs8ANXJnJg2Dxjo49g7tbb3QSsXu+fA5a7TyUpSbxaHwudBLjY4rGThjVpJ7h1oq1qUbkznGayby7Mn44wvvQcwvxu8L4Hp6ejt9nXbQgCShy+pxclHGWTTfpPREGC7D9H/6Bt8kGFXilKb9gAAAABJRU5ErkJggg==\",\"type\":\"image\",\"xaxis\":\"x5\",\"yaxis\":\"y5\",\"hovertemplate\":\"x: %{x}<br>y: %{y}<br>color: %{z}<extra></extra>\"}],                        {\"template\":{\"data\":{\"bar\":[{\"error_x\":{\"color\":\"#2a3f5f\"},\"error_y\":{\"color\":\"#2a3f5f\"},\"marker\":{\"line\":{\"color\":\"#E5ECF6\",\"width\":0.5},\"pattern\":{\"fillmode\":\"overlay\",\"size\":10,\"solidity\":0.2}},\"type\":\"bar\"}],\"barpolar\":[{\"marker\":{\"line\":{\"color\":\"#E5ECF6\",\"width\":0.5},\"pattern\":{\"fillmode\":\"overlay\",\"size\":10,\"solidity\":0.2}},\"type\":\"barpolar\"}],\"carpet\":[{\"aaxis\":{\"endlinecolor\":\"#2a3f5f\",\"gridcolor\":\"white\",\"linecolor\":\"white\",\"minorgridcolor\":\"white\",\"startlinecolor\":\"#2a3f5f\"},\"baxis\":{\"endlinecolor\":\"#2a3f5f\",\"gridcolor\":\"white\",\"linecolor\":\"white\",\"minorgridcolor\":\"white\",\"startlinecolor\":\"#2a3f5f\"},\"type\":\"carpet\"}],\"choropleth\":[{\"colorbar\":{\"outlinewidth\":0,\"ticks\":\"\"},\"type\":\"choropleth\"}],\"contour\":[{\"colorbar\":{\"outlinewidth\":0,\"ticks\":\"\"},\"colorscale\":[[0.0,\"#0d0887\"],[0.1111111111111111,\"#46039f\"],[0.2222222222222222,\"#7201a8\"],[0.3333333333333333,\"#9c179e\"],[0.4444444444444444,\"#bd3786\"],[0.5555555555555556,\"#d8576b\"],[0.6666666666666666,\"#ed7953\"],[0.7777777777777778,\"#fb9f3a\"],[0.8888888888888888,\"#fdca26\"],[1.0,\"#f0f921\"]],\"type\":\"contour\"}],\"contourcarpet\":[{\"colorbar\":{\"outlinewidth\":0,\"ticks\":\"\"},\"type\":\"contourcarpet\"}],\"heatmap\":[{\"colorbar\":{\"outlinewidth\":0,\"ticks\":\"\"},\"colorscale\":[[0.0,\"#0d0887\"],[0.1111111111111111,\"#46039f\"],[0.2222222222222222,\"#7201a8\"],[0.3333333333333333,\"#9c179e\"],[0.4444444444444444,\"#bd3786\"],[0.5555555555555556,\"#d8576b\"],[0.6666666666666666,\"#ed7953\"],[0.7777777777777778,\"#fb9f3a\"],[0.8888888888888888,\"#fdca26\"],[1.0,\"#f0f921\"]],\"type\":\"heatmap\"}],\"heatmapgl\":[{\"colorbar\":{\"outlinewidth\":0,\"ticks\":\"\"},\"colorscale\":[[0.0,\"#0d0887\"],[0.1111111111111111,\"#46039f\"],[0.2222222222222222,\"#7201a8\"],[0.3333333333333333,\"#9c179e\"],[0.4444444444444444,\"#bd3786\"],[0.5555555555555556,\"#d8576b\"],[0.6666666666666666,\"#ed7953\"],[0.7777777777777778,\"#fb9f3a\"],[0.8888888888888888,\"#fdca26\"],[1.0,\"#f0f921\"]],\"type\":\"heatmapgl\"}],\"histogram\":[{\"marker\":{\"pattern\":{\"fillmode\":\"overlay\",\"size\":10,\"solidity\":0.2}},\"type\":\"histogram\"}],\"histogram2d\":[{\"colorbar\":{\"outlinewidth\":0,\"ticks\":\"\"},\"colorscale\":[[0.0,\"#0d0887\"],[0.1111111111111111,\"#46039f\"],[0.2222222222222222,\"#7201a8\"],[0.3333333333333333,\"#9c179e\"],[0.4444444444444444,\"#bd3786\"],[0.5555555555555556,\"#d8576b\"],[0.6666666666666666,\"#ed7953\"],[0.7777777777777778,\"#fb9f3a\"],[0.8888888888888888,\"#fdca26\"],[1.0,\"#f0f921\"]],\"type\":\"histogram2d\"}],\"histogram2dcontour\":[{\"colorbar\":{\"outlinewidth\":0,\"ticks\":\"\"},\"colorscale\":[[0.0,\"#0d0887\"],[0.1111111111111111,\"#46039f\"],[0.2222222222222222,\"#7201a8\"],[0.3333333333333333,\"#9c179e\"],[0.4444444444444444,\"#bd3786\"],[0.5555555555555556,\"#d8576b\"],[0.6666666666666666,\"#ed7953\"],[0.7777777777777778,\"#fb9f3a\"],[0.8888888888888888,\"#fdca26\"],[1.0,\"#f0f921\"]],\"type\":\"histogram2dcontour\"}],\"mesh3d\":[{\"colorbar\":{\"outlinewidth\":0,\"ticks\":\"\"},\"type\":\"mesh3d\"}],\"parcoords\":[{\"line\":{\"colorbar\":{\"outlinewidth\":0,\"ticks\":\"\"}},\"type\":\"parcoords\"}],\"pie\":[{\"automargin\":true,\"type\":\"pie\"}],\"scatter\":[{\"marker\":{\"colorbar\":{\"outlinewidth\":0,\"ticks\":\"\"}},\"type\":\"scatter\"}],\"scatter3d\":[{\"line\":{\"colorbar\":{\"outlinewidth\":0,\"ticks\":\"\"}},\"marker\":{\"colorbar\":{\"outlinewidth\":0,\"ticks\":\"\"}},\"type\":\"scatter3d\"}],\"scattercarpet\":[{\"marker\":{\"colorbar\":{\"outlinewidth\":0,\"ticks\":\"\"}},\"type\":\"scattercarpet\"}],\"scattergeo\":[{\"marker\":{\"colorbar\":{\"outlinewidth\":0,\"ticks\":\"\"}},\"type\":\"scattergeo\"}],\"scattergl\":[{\"marker\":{\"colorbar\":{\"outlinewidth\":0,\"ticks\":\"\"}},\"type\":\"scattergl\"}],\"scattermapbox\":[{\"marker\":{\"colorbar\":{\"outlinewidth\":0,\"ticks\":\"\"}},\"type\":\"scattermapbox\"}],\"scatterpolar\":[{\"marker\":{\"colorbar\":{\"outlinewidth\":0,\"ticks\":\"\"}},\"type\":\"scatterpolar\"}],\"scatterpolargl\":[{\"marker\":{\"colorbar\":{\"outlinewidth\":0,\"ticks\":\"\"}},\"type\":\"scatterpolargl\"}],\"scatterternary\":[{\"marker\":{\"colorbar\":{\"outlinewidth\":0,\"ticks\":\"\"}},\"type\":\"scatterternary\"}],\"surface\":[{\"colorbar\":{\"outlinewidth\":0,\"ticks\":\"\"},\"colorscale\":[[0.0,\"#0d0887\"],[0.1111111111111111,\"#46039f\"],[0.2222222222222222,\"#7201a8\"],[0.3333333333333333,\"#9c179e\"],[0.4444444444444444,\"#bd3786\"],[0.5555555555555556,\"#d8576b\"],[0.6666666666666666,\"#ed7953\"],[0.7777777777777778,\"#fb9f3a\"],[0.8888888888888888,\"#fdca26\"],[1.0,\"#f0f921\"]],\"type\":\"surface\"}],\"table\":[{\"cells\":{\"fill\":{\"color\":\"#EBF0F8\"},\"line\":{\"color\":\"white\"}},\"header\":{\"fill\":{\"color\":\"#C8D4E3\"},\"line\":{\"color\":\"white\"}},\"type\":\"table\"}]},\"layout\":{\"annotationdefaults\":{\"arrowcolor\":\"#2a3f5f\",\"arrowhead\":0,\"arrowwidth\":1},\"autotypenumbers\":\"strict\",\"coloraxis\":{\"colorbar\":{\"outlinewidth\":0,\"ticks\":\"\"}},\"colorscale\":{\"diverging\":[[0,\"#8e0152\"],[0.1,\"#c51b7d\"],[0.2,\"#de77ae\"],[0.3,\"#f1b6da\"],[0.4,\"#fde0ef\"],[0.5,\"#f7f7f7\"],[0.6,\"#e6f5d0\"],[0.7,\"#b8e186\"],[0.8,\"#7fbc41\"],[0.9,\"#4d9221\"],[1,\"#276419\"]],\"sequential\":[[0.0,\"#0d0887\"],[0.1111111111111111,\"#46039f\"],[0.2222222222222222,\"#7201a8\"],[0.3333333333333333,\"#9c179e\"],[0.4444444444444444,\"#bd3786\"],[0.5555555555555556,\"#d8576b\"],[0.6666666666666666,\"#ed7953\"],[0.7777777777777778,\"#fb9f3a\"],[0.8888888888888888,\"#fdca26\"],[1.0,\"#f0f921\"]],\"sequentialminus\":[[0.0,\"#0d0887\"],[0.1111111111111111,\"#46039f\"],[0.2222222222222222,\"#7201a8\"],[0.3333333333333333,\"#9c179e\"],[0.4444444444444444,\"#bd3786\"],[0.5555555555555556,\"#d8576b\"],[0.6666666666666666,\"#ed7953\"],[0.7777777777777778,\"#fb9f3a\"],[0.8888888888888888,\"#fdca26\"],[1.0,\"#f0f921\"]]},\"colorway\":[\"#636efa\",\"#EF553B\",\"#00cc96\",\"#ab63fa\",\"#FFA15A\",\"#19d3f3\",\"#FF6692\",\"#B6E880\",\"#FF97FF\",\"#FECB52\"],\"font\":{\"color\":\"#2a3f5f\"},\"geo\":{\"bgcolor\":\"white\",\"lakecolor\":\"white\",\"landcolor\":\"#E5ECF6\",\"showlakes\":true,\"showland\":true,\"subunitcolor\":\"white\"},\"hoverlabel\":{\"align\":\"left\"},\"hovermode\":\"closest\",\"mapbox\":{\"style\":\"light\"},\"paper_bgcolor\":\"white\",\"plot_bgcolor\":\"#E5ECF6\",\"polar\":{\"angularaxis\":{\"gridcolor\":\"white\",\"linecolor\":\"white\",\"ticks\":\"\"},\"bgcolor\":\"#E5ECF6\",\"radialaxis\":{\"gridcolor\":\"white\",\"linecolor\":\"white\",\"ticks\":\"\"}},\"scene\":{\"xaxis\":{\"backgroundcolor\":\"#E5ECF6\",\"gridcolor\":\"white\",\"gridwidth\":2,\"linecolor\":\"white\",\"showbackground\":true,\"ticks\":\"\",\"zerolinecolor\":\"white\"},\"yaxis\":{\"backgroundcolor\":\"#E5ECF6\",\"gridcolor\":\"white\",\"gridwidth\":2,\"linecolor\":\"white\",\"showbackground\":true,\"ticks\":\"\",\"zerolinecolor\":\"white\"},\"zaxis\":{\"backgroundcolor\":\"#E5ECF6\",\"gridcolor\":\"white\",\"gridwidth\":2,\"linecolor\":\"white\",\"showbackground\":true,\"ticks\":\"\",\"zerolinecolor\":\"white\"}},\"shapedefaults\":{\"line\":{\"color\":\"#2a3f5f\"}},\"ternary\":{\"aaxis\":{\"gridcolor\":\"white\",\"linecolor\":\"white\",\"ticks\":\"\"},\"baxis\":{\"gridcolor\":\"white\",\"linecolor\":\"white\",\"ticks\":\"\"},\"bgcolor\":\"#E5ECF6\",\"caxis\":{\"gridcolor\":\"white\",\"linecolor\":\"white\",\"ticks\":\"\"}},\"title\":{\"x\":0.05},\"xaxis\":{\"automargin\":true,\"gridcolor\":\"white\",\"linecolor\":\"white\",\"ticks\":\"\",\"title\":{\"standoff\":15},\"zerolinecolor\":\"white\",\"zerolinewidth\":2},\"yaxis\":{\"automargin\":true,\"gridcolor\":\"white\",\"linecolor\":\"white\",\"ticks\":\"\",\"title\":{\"standoff\":15},\"zerolinecolor\":\"white\",\"zerolinewidth\":2}}},\"xaxis\":{\"anchor\":\"y\",\"domain\":[0.0,0.18400000000000002]},\"yaxis\":{\"anchor\":\"x\",\"domain\":[0.0,0.46499999999999997]},\"xaxis2\":{\"anchor\":\"y2\",\"domain\":[0.20400000000000001,0.388],\"matches\":\"x\"},\"yaxis2\":{\"anchor\":\"x2\",\"domain\":[0.0,0.46499999999999997],\"matches\":\"y\",\"showticklabels\":false},\"xaxis3\":{\"anchor\":\"y3\",\"domain\":[0.40800000000000003,0.5920000000000001],\"matches\":\"x\"},\"yaxis3\":{\"anchor\":\"x3\",\"domain\":[0.0,0.46499999999999997],\"matches\":\"y\",\"showticklabels\":false},\"xaxis4\":{\"anchor\":\"y4\",\"domain\":[0.6120000000000001,0.7960000000000002],\"matches\":\"x\"},\"yaxis4\":{\"anchor\":\"x4\",\"domain\":[0.0,0.46499999999999997],\"matches\":\"y\",\"showticklabels\":false},\"xaxis5\":{\"anchor\":\"y5\",\"domain\":[0.8160000000000001,1.0],\"matches\":\"x\"},\"yaxis5\":{\"anchor\":\"x5\",\"domain\":[0.0,0.46499999999999997],\"matches\":\"y\",\"showticklabels\":false},\"xaxis6\":{\"anchor\":\"y6\",\"domain\":[0.0,0.18400000000000002],\"matches\":\"x\",\"showticklabels\":false},\"yaxis6\":{\"anchor\":\"x6\",\"domain\":[0.5349999999999999,0.9999999999999999],\"matches\":\"y\"},\"xaxis7\":{\"anchor\":\"y7\",\"domain\":[0.20400000000000001,0.388],\"matches\":\"x\",\"showticklabels\":false},\"yaxis7\":{\"anchor\":\"x7\",\"domain\":[0.5349999999999999,0.9999999999999999],\"matches\":\"y\",\"showticklabels\":false},\"xaxis8\":{\"anchor\":\"y8\",\"domain\":[0.40800000000000003,0.5920000000000001],\"matches\":\"x\",\"showticklabels\":false},\"yaxis8\":{\"anchor\":\"x8\",\"domain\":[0.5349999999999999,0.9999999999999999],\"matches\":\"y\",\"showticklabels\":false},\"xaxis9\":{\"anchor\":\"y9\",\"domain\":[0.6120000000000001,0.7960000000000002],\"matches\":\"x\",\"showticklabels\":false},\"yaxis9\":{\"anchor\":\"x9\",\"domain\":[0.5349999999999999,0.9999999999999999],\"matches\":\"y\",\"showticklabels\":false},\"xaxis10\":{\"anchor\":\"y10\",\"domain\":[0.8160000000000001,1.0],\"matches\":\"x\",\"showticklabels\":false},\"yaxis10\":{\"anchor\":\"x10\",\"domain\":[0.5349999999999999,0.9999999999999999],\"matches\":\"y\",\"showticklabels\":false},\"annotations\":[{\"font\":{},\"showarrow\":false,\"text\":\"img=5\",\"x\":0.09200000000000001,\"xanchor\":\"center\",\"xref\":\"paper\",\"y\":0.46499999999999997,\"yanchor\":\"bottom\",\"yref\":\"paper\"},{\"font\":{},\"showarrow\":false,\"text\":\"img=6\",\"x\":0.29600000000000004,\"xanchor\":\"center\",\"xref\":\"paper\",\"y\":0.46499999999999997,\"yanchor\":\"bottom\",\"yref\":\"paper\"},{\"font\":{},\"showarrow\":false,\"text\":\"img=7\",\"x\":0.5,\"xanchor\":\"center\",\"xref\":\"paper\",\"y\":0.46499999999999997,\"yanchor\":\"bottom\",\"yref\":\"paper\"},{\"font\":{},\"showarrow\":false,\"text\":\"img=8\",\"x\":0.7040000000000002,\"xanchor\":\"center\",\"xref\":\"paper\",\"y\":0.46499999999999997,\"yanchor\":\"bottom\",\"yref\":\"paper\"},{\"font\":{},\"showarrow\":false,\"text\":\"img=9\",\"x\":0.908,\"xanchor\":\"center\",\"xref\":\"paper\",\"y\":0.46499999999999997,\"yanchor\":\"bottom\",\"yref\":\"paper\"},{\"font\":{},\"showarrow\":false,\"text\":\"img=0\",\"x\":0.09200000000000001,\"xanchor\":\"center\",\"xref\":\"paper\",\"y\":0.9999999999999999,\"yanchor\":\"bottom\",\"yref\":\"paper\"},{\"font\":{},\"showarrow\":false,\"text\":\"img=1\",\"x\":0.29600000000000004,\"xanchor\":\"center\",\"xref\":\"paper\",\"y\":0.9999999999999999,\"yanchor\":\"bottom\",\"yref\":\"paper\"},{\"font\":{},\"showarrow\":false,\"text\":\"img=2\",\"x\":0.5,\"xanchor\":\"center\",\"xref\":\"paper\",\"y\":0.9999999999999999,\"yanchor\":\"bottom\",\"yref\":\"paper\"},{\"font\":{},\"showarrow\":false,\"text\":\"img=3\",\"x\":0.7040000000000002,\"xanchor\":\"center\",\"xref\":\"paper\",\"y\":0.9999999999999999,\"yanchor\":\"bottom\",\"yref\":\"paper\"},{\"font\":{},\"showarrow\":false,\"text\":\"img=4\",\"x\":0.908,\"xanchor\":\"center\",\"xref\":\"paper\",\"y\":0.9999999999999999,\"yanchor\":\"bottom\",\"yref\":\"paper\"}],\"margin\":{\"t\":60}},                        {\"responsive\": true}                    ).then(function(){\n",
       "                            \n",
       "var gd = document.getElementById('8b684905-d71f-44b5-ac02-001dcff64bb3');\n",
       "var x = new MutationObserver(function (mutations, observer) {{\n",
       "        var display = window.getComputedStyle(gd).display;\n",
       "        if (!display || display === 'none') {{\n",
       "            console.log([gd, 'removed!']);\n",
       "            Plotly.purge(gd);\n",
       "            observer.disconnect();\n",
       "        }}\n",
       "}});\n",
       "\n",
       "// Listen for the removal of the full notebook cells\n",
       "var notebookContainer = gd.closest('#notebook-container');\n",
       "if (notebookContainer) {{\n",
       "    x.observe(notebookContainer, {childList: true});\n",
       "}}\n",
       "\n",
       "// Listen for the clearing of the current output cell\n",
       "var outputEl = gd.closest('.output');\n",
       "if (outputEl) {{\n",
       "    x.observe(outputEl, {childList: true});\n",
       "}}\n",
       "\n",
       "                        })                };                            </script>        </div>\n",
       "</body>\n",
       "</html>"
      ]
     },
     "metadata": {},
     "output_type": "display_data"
    },
    {
     "data": {
      "text/plain": [
       "<Figure size 1800x288 with 0 Axes>"
      ]
     },
     "metadata": {},
     "output_type": "display_data"
    }
   ],
   "source": [
    "%matplotlib inline\n",
    "# display k number of random mnist samples\n",
    "k = 10\n",
    "n = len(X) #total number of samples in the dataset\n",
    "\n",
    "perm_indices_k = np.random.permutation(n)[:k] #shuffle samples\n",
    "\n",
    "#Now the plot them 5 per row\n",
    "fig = plt.figure(figsize=(25, 4))\n",
    "img = np.array(X.iloc[perm_indices_k]).reshape(-1, 28, 28)\n",
    "fig = px.imshow(img,\n",
    "                color_continuous_scale='Blues_r',\n",
    "                facet_col=0, \n",
    "                binary_string=True, \n",
    "                facet_col_wrap=5,\n",
    "                labels = {'facet_col':'img'}\n",
    "               )\n",
    "fig.show()"
   ]
  },
  {
   "cell_type": "code",
   "execution_count": null,
   "id": "hungarian-implementation",
   "metadata": {
    "colab": {
     "base_uri": "https://localhost:8080/",
     "height": 1000
    },
    "id": "hungarian-implementation",
    "outputId": "0979097c-bdd7-413c-9b71-eddc139d2fde",
    "scrolled": true
   },
   "outputs": [
    {
     "name": "stdout",
     "output_type": "stream",
     "text": [
      "Label = 1\n"
     ]
    },
    {
     "data": {
      "image/png": "[encoded data removed]",
      "text/plain": [
       "<Figure size 2160x2160 with 1 Axes>"
      ]
     },
     "metadata": {},
     "output_type": "display_data"
    }
   ],
   "source": [
    "### More into drawing a random sample\n",
    "a_sample_x = X.sample(1)\n",
    "a_sample_y = int(y[a_sample_x.index])\n",
    "print('Label = {}'.format(a_sample_y))\n",
    "\n",
    "img = np.array(a_sample_x)[0].reshape( 28, 28)\n",
    "sns.set(style=\"ticks\", context=\"talk\",font_scale = 1)\n",
    "plt.style.use(\"dark_background\")\n",
    "fig = plt.figure(figsize = (30,30)) \n",
    "ax = fig.add_subplot(111)\n",
    "ax.imshow(img)\n",
    "width, height = img.shape\n",
    "thresh = img.max()/2.5\n",
    "for w in range(width):\n",
    "    for h in range(height):\n",
    "        val = round(img[w][h],2) if img[w][h] !=0 else 0\n",
    "        ax.annotate(str(val), xy=(h,w),\n",
    "                    horizontalalignment='center',\n",
    "                    verticalalignment='center',\n",
    "                    color='white' if img[w][h]<thresh else 'black')"
   ]
  },
  {
   "cell_type": "markdown",
   "id": "sorted-newfoundland",
   "metadata": {
    "id": "sorted-newfoundland"
   },
   "source": [
    "## MNIST : Building a Neural Network (v1)\n",
    "* Let's solve a simple binary classification problem around MNIST -- digit 0, or not. \n",
    "    * If a given image has label '0', the target class label would be 'True' (i.e., 1)\n",
    "    * Otherwise, 'False' (i.e., 0)\n",
    "    * That is, we are pretty much building a 0-digit recognizer.\n",
    "* The neural network we will build has just one neuron (at the output layer) -- no hidden layer."
   ]
  },
  {
   "cell_type": "markdown",
   "id": "diverse-amplifier",
   "metadata": {
    "id": "diverse-amplifier"
   },
   "source": [
    "### Step v1.1 We normalize the data to keep our gradients manageable"
   ]
  },
  {
   "cell_type": "code",
   "execution_count": null,
   "id": "guilty-history",
   "metadata": {
    "id": "guilty-history"
   },
   "outputs": [],
   "source": [
    "X = np.array(X / 255.0)"
   ]
  },
  {
   "cell_type": "markdown",
   "id": "framed-thunder",
   "metadata": {
    "id": "framed-thunder"
   },
   "source": [
    "### Step v1.2 Convert dataset for the binary classification problem\n",
    "* The default MNIST labels record 7 for an image of a seven, 4 for an image of a four, and so on.\n",
    "* But, we are building a zero-digit recognizer in version 1 (v1). \n",
    "* So, we want our labels to say 1 when we have a zero digit, and 0 otherwise.\n",
    "* Therefore, we need to overwrite the labels to make that happen."
   ]
  },
  {
   "cell_type": "code",
   "execution_count": null,
   "id": "hidden-employer",
   "metadata": {
    "id": "hidden-employer"
   },
   "outputs": [],
   "source": [
    "y_new = np.zeros(y.shape)\n",
    "y_new[np.where(y==0.0)[0]] = 1\n",
    "y = y_new"
   ]
  },
  {
   "cell_type": "markdown",
   "id": "damaged-investigation",
   "metadata": {
    "id": "damaged-investigation"
   },
   "source": [
    "### Step v1.3 Train-test split of the X,y dataset\n",
    "* 80%-20% train-test split of the X,y dataset\n",
    "* We also transform the shape of dataset so that each sample are placed in a column instead of row. This will ease matrix operations"
   ]
  },
  {
   "cell_type": "code",
   "execution_count": null,
   "id": "suspended-penetration",
   "metadata": {
    "id": "suspended-penetration"
   },
   "outputs": [],
   "source": [
    "n = len(X) #total number of samples in the dataset\n",
    "m = int(n*0.8) #80% of total samples will go to the training set, and rest will go to test set.\n",
    "m_test = X.shape[0] - m #The rest, i.e., 20% will go to test."
   ]
  },
  {
   "cell_type": "code",
   "execution_count": null,
   "id": "utility-jonathan",
   "metadata": {
    "id": "utility-jonathan"
   },
   "outputs": [],
   "source": [
    "#Now split the X, y into (X_train,y_train), and (X_test,y_test) tuples\n",
    "X_train, X_test = X[:m].T, X[m:].T\n",
    "y_train, y_test = y[:m].reshape(1,m), y[m:].reshape(1,m_test)"
   ]
  },
  {
   "cell_type": "code",
   "execution_count": null,
   "id": "mathematical-international",
   "metadata": {
    "id": "mathematical-international"
   },
   "outputs": [],
   "source": [
    "#And, shuffle the training set\n",
    "np.random.seed(4321)\n",
    "shuffle_indices = np.random.permutation(m)\n",
    "X_train, y_train = X_train[:,shuffle_indices], y_train[:,shuffle_indices]"
   ]
  },
  {
   "cell_type": "code",
   "execution_count": null,
   "id": "public-relevance",
   "metadata": {
    "colab": {
     "base_uri": "https://localhost:8080/",
     "height": 1000
    },
    "id": "public-relevance",
    "outputId": "a8fba959-26c4-4d98-d7ac-e0273d5f0862"
   },
   "outputs": [
    {
     "data": {
      "image/png": "[encoded data removed]",
      "text/plain": [
       "<Figure size 432x288 with 1 Axes>"
      ]
     },
     "metadata": {},
     "output_type": "display_data"
    },
    {
     "data": {
      "image/png": "[encoded data removed]",
      "text/plain": [
       "<Figure size 432x288 with 1 Axes>"
      ]
     },
     "metadata": {},
     "output_type": "display_data"
    },
    {
     "data": {
      "image/png": "[encoded data removed]",
      "text/plain": [
       "<Figure size 432x288 with 1 Axes>"
      ]
     },
     "metadata": {},
     "output_type": "display_data"
    },
    {
     "data": {
      "image/png": "[encoded data removed]",
      "text/plain": [
       "<Figure size 432x288 with 1 Axes>"
      ]
     },
     "metadata": {},
     "output_type": "display_data"
    },
    {
     "data": {
      "image/png": "[encoded data removed]",
      "text/plain": [
       "<Figure size 432x288 with 1 Axes>"
      ]
     },
     "metadata": {},
     "output_type": "display_data"
    },
    {
     "data": {
      "image/png": "[encoded data removed]",
      "text/plain": [
       "<Figure size 432x288 with 1 Axes>"
      ]
     },
     "metadata": {},
     "output_type": "display_data"
    },
    {
     "data": {
      "image/png": "[encoded data removed]",
      "text/plain": [
       "<Figure size 432x288 with 1 Axes>"
      ]
     },
     "metadata": {},
     "output_type": "display_data"
    },
    {
     "data": {
      "image/png": "[encoded data removed]",
      "text/plain": [
       "<Figure size 432x288 with 1 Axes>"
      ]
     },
     "metadata": {},
     "output_type": "display_data"
    },
    {
     "data": {
      "image/png": "[encoded data removed]",
      "text/plain": [
       "<Figure size 432x288 with 1 Axes>"
      ]
     },
     "metadata": {},
     "output_type": "display_data"
    },
    {
     "data": {
      "image/png": "[encoded data removed]",
      "text/plain": [
       "<Figure size 432x288 with 1 Axes>"
      ]
     },
     "metadata": {},
     "output_type": "display_data"
    },
    {
     "data": {
      "image/png": "[encoded data removed]",
      "text/plain": [
       "<Figure size 432x288 with 1 Axes>"
      ]
     },
     "metadata": {},
     "output_type": "display_data"
    },
    {
     "data": {
      "image/png": "[encoded data removed]",
      "text/plain": [
       "<Figure size 432x288 with 1 Axes>"
      ]
     },
     "metadata": {},
     "output_type": "display_data"
    },
    {
     "data": {
      "image/png": "[encoded data removed]",
      "text/plain": [
       "<Figure size 432x288 with 1 Axes>"
      ]
     },
     "metadata": {},
     "output_type": "display_data"
    },
    {
     "data": {
      "image/png": "[encoded data removed]",
      "text/plain": [
       "<Figure size 432x288 with 1 Axes>"
      ]
     },
     "metadata": {},
     "output_type": "display_data"
    },
    {
     "data": {
      "image/png": "[encoded data removed]",
      "text/plain": [
       "<Figure size 432x288 with 1 Axes>"
      ]
     },
     "metadata": {},
     "output_type": "display_data"
    },
    {
     "data": {
      "image/png": "[encoded data removed]",
      "text/plain": [
       "<Figure size 432x288 with 1 Axes>"
      ]
     },
     "metadata": {},
     "output_type": "display_data"
    },
    {
     "data": {
      "image/png": "[encoded data removed]",
      "text/plain": [
       "<Figure size 432x288 with 1 Axes>"
      ]
     },
     "metadata": {},
     "output_type": "display_data"
    },
    {
     "data": {
      "image/png": "[encoded data removed]",
      "text/plain": [
       "<Figure size 432x288 with 1 Axes>"
      ]
     },
     "metadata": {},
     "output_type": "display_data"
    },
    {
     "data": {
      "image/png": "[encoded data removed]",
      "text/plain": [
       "<Figure size 432x288 with 1 Axes>"
      ]
     },
     "metadata": {},
     "output_type": "display_data"
    },
    {
     "data": {
      "image/png": "[encoded data removed]",
      "text/plain": [
       "<Figure size 432x288 with 1 Axes>"
      ]
     },
     "metadata": {},
     "output_type": "display_data"
    }
   ],
   "source": [
    "#Print a random sample\n",
    "for idx in range(20):\n",
    "    plt.imshow(X_train[:,idx].reshape(28,28),cmap=matplotlib.cm.binary)\n",
    "    plt.axis('off')\n",
    "    plt.title('A sample with Label {}'.format(y_train[:,idx]))\n",
    "    plt.show()\n",
    "    #print(y_train[:,idx])"
   ]
  },
  {
   "cell_type": "markdown",
   "id": "painted-polyester",
   "metadata": {
    "id": "painted-polyester"
   },
   "source": [
    "### Step v1.4: Constructing the 1-neuron ANN\n",
    "* It's a feed-forward network with 784 (=$28\\times 28$), and single sigmoid neuron generating the output.\n",
    "\n",
    "![1-neuron-ANN](http://54.160.44.72/csci5931sp22/figs/ann-01.gvz.png)"
   ]
  },
  {
   "cell_type": "markdown",
   "id": "convinced-fraction",
   "metadata": {
    "id": "convinced-fraction"
   },
   "source": [
    "### Step v1.4.1: Defining the forward propagation\n",
    "The forward pass on a single example $x$ executes the following computation:\n",
    "$$\n",
    "\\hat{y} = \\sigma(w^Tx + b),\n",
    "$$\n",
    "where \n",
    "* $w$ is the weight vector of dimension $784$, \n",
    "* $x$ is a vector of an input sample of dimension $784$, and \n",
    "* $b$ is the bias. \n",
    "\n",
    "$\\sigma$ is the sigmoid activation function: $\\sigma(z) = \\dfrac{1}{1 + e^{-z}}$\n",
    "\n",
    "Let's first define the sigmoid function:"
   ]
  },
  {
   "cell_type": "code",
   "execution_count": null,
   "id": "former-helen",
   "metadata": {
    "id": "former-helen"
   },
   "outputs": [],
   "source": [
    "\"\"\" The sigmoid function that squashes input, z into the range [0,1] \"\"\"\n",
    "def sigmoid(z):\n",
    "    s = 1 / (1 + np.exp(-z))\n",
    "    return s"
   ]
  },
  {
   "cell_type": "code",
   "execution_count": null,
   "id": "thirty-yellow",
   "metadata": {
    "id": "thirty-yellow"
   },
   "outputs": [],
   "source": [
    "## Week 05 material (with tensorflow)\n",
    "\n",
    "\"\"\" The sigmoid function that squashes input, z into the range [0,1] \"\"\"\n",
    "@tf.function\n",
    "def TF_sigmoid(z):\n",
    "    s = tf.divide( tf.constant(1.0), tf.add(tf.constant(1.0),tf.exp(tf.negative(z))) )\n",
    "    return s"
   ]
  },
  {
   "cell_type": "code",
   "execution_count": null,
   "id": "mobile-trade",
   "metadata": {
    "colab": {
     "base_uri": "https://localhost:8080/"
    },
    "id": "mobile-trade",
    "outputId": "3db4a113-a80f-4709-9fd1-406c1bd73df8"
   },
   "outputs": [
    {
     "data": {
      "text/plain": [
       "0.789181706522253"
      ]
     },
     "execution_count": 34,
     "metadata": {},
     "output_type": "execute_result"
    }
   ],
   "source": [
    "sigmoid(1.32)"
   ]
  },
  {
   "cell_type": "code",
   "execution_count": null,
   "id": "enhanced-belize",
   "metadata": {
    "colab": {
     "base_uri": "https://localhost:8080/"
    },
    "id": "enhanced-belize",
    "outputId": "df34b924-11d6-492a-f3d2-ff2f8c30ec0a"
   },
   "outputs": [
    {
     "data": {
      "text/plain": [
       "<tf.Tensor: shape=(), dtype=float32, numpy=0.7891817>"
      ]
     },
     "execution_count": 35,
     "metadata": {},
     "output_type": "execute_result"
    }
   ],
   "source": [
    "TF_sigmoid(1.32)"
   ]
  },
  {
   "cell_type": "markdown",
   "id": "published-michael",
   "metadata": {
    "id": "published-michael"
   },
   "source": [
    "* We will vectorize by stacking samples side-by-side, so that our input matrix, $X$ has a sample in each column.\n",
    "* The shape of $X$ will become: $784 \\times m$, where $m$ is the number of samples in training.\n",
    "* The shape of $w$ will be: $784\\times 1$, i.e., a column-vector of size 784.\n",
    "* The shape of $b$ is 1.\n",
    "* Now, the vectorized form of the forward pass is then:\n",
    "$$\n",
    "\\hat{y} = \\sigma(w^TX + b)\n",
    "$$\n",
    "* Here, the shape of $\\hat{y}$ should be $1\\times m$, i.e., an $m$ dimensional row vector, containing the predicted $y$ values for the $m$ samples.\n",
    "* In our code, we will compute this in 2 stages:\n",
    "`z = np.matmul(w.T, X) + b`\n",
    "    * `Z` is the net input (i.e., weighted sum calculated at the neuron.\n",
    "    \n",
    "* and then, we will do:\n",
    "`A = sigmoid(z)`\n",
    "    * `A` for activation."
   ]
  },
  {
   "cell_type": "markdown",
   "id": "emerging-gender",
   "metadata": {
    "id": "emerging-gender"
   },
   "source": [
    "## A note on gradient descent algorithm to optimize a cost function, L\n",
    "![gd-intuition](http://54.160.44.72/csci5931sp22/figs/gd-intuition-2.png)"
   ]
  },
  {
   "cell_type": "markdown",
   "id": "neural-romance",
   "metadata": {
    "id": "neural-romance"
   },
   "source": [
    "* If slope, $\\dfrac{\\partial L}{\\partial w} \\geq 0$\n",
    "    * we are on the right side of optimum, $L$. So, we need to decrease $w$ **a little bit**.\n",
    "    * We do this using the gradient update:\n",
    "    $$\n",
    "    w = w - \\alpha \\dfrac{\\partial L}{\\partial w}\n",
    "    $$\n",
    "    where, $\\alpha$ is called the learning rate.\n",
    "* If slope, $\\dfrac{\\partial L}{\\partial w} < 0$\n",
    "    * we are on the left side of optimum, $L$. So, we need to increase $w$ **a little bit**.\n",
    "    * We do this using the same gradient update:\n",
    "    $$\n",
    "    w = w - \\alpha \\dfrac{\\partial L}{\\partial w}\n",
    "    $$\n",
    "* Please note, the above two gradient updates are actually the same statement."
   ]
  },
  {
   "cell_type": "markdown",
   "id": "desirable-sussex",
   "metadata": {
    "id": "desirable-sussex"
   },
   "source": [
    "### Step v1.4.2 Defining the Cost (or, Loss) function\n",
    "* We will use cross-entropy for our cost function. The idea of this cost function is the same from `logistic regression`:\n",
    "![cross-entropy-loss-plot](figs/cross-entropy-loss-plot.jpg)\n",
    "\n",
    "$\\text{cost}\\left(h_{w,b}(\\mathbf{x}),y\\right) = $\n",
    "\t$$ \n",
    "    \\begin{cases} \n",
    "    -\\log (h_{w,b}(\\mathbf{x}) ) & \\text{if}\\quad y=1 \\\\\n",
    "    -\\log (1-h_{w,b}(\\mathbf{x}) ) & \\text{if}\\quad y=0\n",
    "\\end{cases}\n",
    "    $$\n",
    "where, $h_{w,b}(\\mathbf{x}) = \\hat{y} = w^Tx + b$\n",
    "\n",
    "* Let's rewrite the above cost function using $\\hat{y}$:\n",
    "$\\text{cost}(\\hat{y},y) = $\n",
    "\n",
    "\t$$ \n",
    "        \\begin{cases} \n",
    "    -\\log\\hat{y} & \\text{if}\\quad y=1 \\\\\n",
    "    -\\log\\left(1-\\hat{y}\\right) & \\text{if}\\quad y=0\n",
    "    \\end{cases}\n",
    "    \n",
    "    $$\n",
    "\n",
    "* Key property of this cross-entropy cross-function is:\n",
    "    1. It's convex-looking, so a gradient descent algorithm can expect an optimum solution.\n",
    "    2. Cost=0, if $y=1, \\hat{y}=1$, \n",
    "    3. As $\\hat{y}\\rightarrow 0$, cost$\\rightarrow\\infty$\n",
    "        * If $\\hat{y}=0$, i.e., $pr(y=1|x,w,b)=0$, but the true value is, $y=1$, we can expect a much high cost as penalty.\n",
    "\t\t* Similarly, if $\\hat{y}=1$, i.e., $pr(y=0|x,w,b)=1$, when the ground true value is $y=0$, we should penalize the algorithm by a very high cost."
   ]
  },
  {
   "cell_type": "markdown",
   "id": "capable-helmet",
   "metadata": {
    "id": "capable-helmet"
   },
   "source": [
    "* The cross-entropy cost function can be simplified to the following to enforce the 2 conditions on $y$:\n",
    "$$\n",
    "\\text{cost}(\\hat{y},y) = \\begin{cases} \n",
    "\t-y\\log(\\hat{y})& \\text{if}\\quad y=1 \\\\\n",
    "\t-(1-y)\\log(1-\\hat{y})& \\text{if}\\quad y=0 \n",
    "\t\\end{cases}\n",
    "$$"
   ]
  },
  {
   "cell_type": "markdown",
   "id": "decimal-exchange",
   "metadata": {
    "id": "decimal-exchange"
   },
   "source": [
    "* Now, let's combine the two pieces of the piece-wise cost function above, that would yield the same cost value as in the original cost function:\n",
    "$$\n",
    "\\text{cost}(\\hat{y},y) = -y\\log(\\hat{y})-(1-y)\\log(1-\\hat{y})\n",
    "$$"
   ]
  },
  {
   "cell_type": "markdown",
   "id": "reflected-agreement",
   "metadata": {
    "id": "reflected-agreement"
   },
   "source": [
    "* Let's call $cost(\\hat{y},y)$ $L(\\hat{y},y)$ from now on for notational simplicity only, $L$ would mean \"Loss\".\n",
    "\n",
    "$$\n",
    "L(\\hat{y},y) = -y\\log(\\hat{y})-(1-y)\\log(1-\\hat{y})\n",
    "$$\n"
   ]
  },
  {
   "cell_type": "markdown",
   "id": "banner-arcade",
   "metadata": {
    "id": "banner-arcade"
   },
   "source": [
    "* Averaging over all the $m$ samples in a training set, we get:\n",
    "\n",
    "$$\n",
    "L(\\hat{y},y) = -\\dfrac{1}{m}\\sum_{i=1}^m \\left( y\\log(\\hat{y})+(1-y)\\log(1-\\hat{y})\\right)\n",
    "$$\n"
   ]
  },
  {
   "cell_type": "markdown",
   "id": "sufficient-california",
   "metadata": {
    "id": "sufficient-california"
   },
   "source": [
    "* We are now ready to define the cross-entropy loss function. So, let's do it then:"
   ]
  },
  {
   "cell_type": "code",
   "execution_count": null,
   "id": "suffering-tulsa",
   "metadata": {
    "id": "suffering-tulsa"
   },
   "outputs": [],
   "source": [
    "def compute_cross_entropy_loss(y_hat, y):\n",
    "    m = y.shape[1] #number of samples\n",
    "    L = -(1./m) * ( \n",
    "            np.sum( np.multiply(np.log(y_hat),y) ) + \n",
    "            np.sum( np.multiply(np.log(1-y_hat),(1-y)) ) )\n",
    "    return L\n"
   ]
  },
  {
   "cell_type": "code",
   "execution_count": null,
   "id": "honey-saskatchewan",
   "metadata": {
    "id": "honey-saskatchewan"
   },
   "outputs": [],
   "source": [
    "## Week-05 material\n",
    "@tf.function\n",
    "def TF_compute_cross_entropy_loss(y_hat, y):\n",
    "    m = y.shape[1] #number of samples\n",
    "    #L = -(1./m) * ( \n",
    "    #        np.sum( np.multiply(np.log(y_hat),y) ) + \n",
    "    #        np.sum( np.multiply(np.log(1-y_hat),(1-y)) ) )\n",
    "    \n",
    "\n",
    "    L = tf.multiply( tf.negative(tf.divide(tf.constant(1.0),tf.cast(tf.constant(m),dtype=tf.float32))), \n",
    "                    tf.add( tf.reduce_sum(tf.multiply(tf.math.log(y_hat),y)),\n",
    "                            tf.reduce_sum(tf.multiply(tf.subtract(tf.constant(1.0),y),\n",
    "                                        tf.math.log(tf.subtract(tf.constant(1.0),y_hat))\n",
    "                                       ))\n",
    "                          )\n",
    "                   )\n",
    "    return L\n"
   ]
  },
  {
   "cell_type": "code",
   "execution_count": null,
   "id": "adopted-highway",
   "metadata": {
    "id": "adopted-highway"
   },
   "outputs": [],
   "source": [
    "# Create 2 tensors with 50 random values between 0 and 100\n",
    "y1 = tf.cast(tf.constant(np.random.rand(10,50)),dtype=tf.float32)\n",
    "y2 = tf.cast(tf.constant(np.random.rand(10,50)),dtype=tf.float32)"
   ]
  },
  {
   "cell_type": "code",
   "execution_count": null,
   "id": "secure-scout",
   "metadata": {
    "colab": {
     "base_uri": "https://localhost:8080/"
    },
    "id": "secure-scout",
    "outputId": "88d91847-6069-4e7d-e9e0-57f0979e3aa3",
    "scrolled": true
   },
   "outputs": [
    {
     "data": {
      "text/plain": [
       "<tf.Tensor: shape=(), dtype=float32, numpy=9.794844>"
      ]
     },
     "execution_count": 39,
     "metadata": {},
     "output_type": "execute_result"
    }
   ],
   "source": [
    "TF_compute_cross_entropy_loss(y1,y2)"
   ]
  },
  {
   "cell_type": "code",
   "execution_count": null,
   "id": "coated-builder",
   "metadata": {
    "colab": {
     "base_uri": "https://localhost:8080/"
    },
    "id": "coated-builder",
    "outputId": "3436824c-9486-4f45-8595-f8b6be3b9ba1"
   },
   "outputs": [
    {
     "data": {
      "text/plain": [
       "9.79484375"
      ]
     },
     "execution_count": 40,
     "metadata": {},
     "output_type": "execute_result"
    }
   ],
   "source": [
    "#it's the same as numpy version of cross-entropy calculation, isn't it?\n",
    "compute_cross_entropy_loss(y1.numpy(),y2.numpy())"
   ]
  },
  {
   "cell_type": "code",
   "execution_count": null,
   "id": "premium-radiation",
   "metadata": {
    "id": "premium-radiation"
   },
   "outputs": [],
   "source": []
  },
  {
   "cell_type": "markdown",
   "id": "direct-phrase",
   "metadata": {
    "id": "direct-phrase"
   },
   "source": [
    "### Step v1.4.3: Defining backpropagation\n",
    "* For backpropagation, we will need to know how $L$ changes with respect to each component $w_j$ of the vector $w$. That is, we must compute each of the $\\dfrac{\\partial L}{\\partial w_j}$\n",
    "* Holding all values except $w_j$ fixed, we can think of $L$ being computed in three steps:\n",
    "    * $w_j \\rightarrow z \\rightarrow \\hat{y} \\rightarrow L$"
   ]
  },
  {
   "cell_type": "markdown",
   "id": "sweet-rapid",
   "metadata": {
    "id": "sweet-rapid"
   },
   "source": [
    "* The formulas for these steps are:\n",
    "$$\n",
    "\\begin{align*}\n",
    "\\nonumber z &=& w^Tx + b\\\\\n",
    "\\nonumber \\hat{y} &=& \\sigma(z)\\\\\n",
    "\\nonumber L(\\hat{y},y) &=& -y\\log(\\hat{y})-(1-y)\\log(1-\\hat{y})\n",
    "\\end{align*}\n",
    "$$"
   ]
  },
  {
   "cell_type": "markdown",
   "id": "durable-software",
   "metadata": {
    "id": "durable-software"
   },
   "source": [
    "* And the chain rule of differentiation says:\n",
    "$$\n",
    "\\dfrac{\\partial L}{\\partial w_j} =  \\dfrac{\\partial L}{\\partial \\hat{y}}\\dfrac{\\partial \\hat{y}}{\\partial z}\\dfrac{\\partial z}{\\partial w_j}\n",
    "$$"
   ]
  },
  {
   "cell_type": "markdown",
   "id": "consistent-operations",
   "metadata": {
    "id": "consistent-operations"
   },
   "source": [
    "* Let's first look at $\\dfrac{\\partial L}{\\partial \\hat{y}}$\n",
    "$$\n",
    "\\begin{align*}\n",
    "\\nonumber \\dfrac{\\partial L}{\\partial \\hat{y}} &=& \\dfrac{\\partial}{\\partial \\hat{y}}\\left(-y\\log(\\hat{y})-(1-y)\\log(1-\\hat{y}) \\right)\\\\\n",
    "\\nonumber &=& -y\\dfrac{\\partial }{\\partial \\hat{y}}\\log(\\hat{y}) - (1-y)\\dfrac{\\partial}{\\partial \\hat{y}}\\log(1-\\hat{y})\\\\\n",
    "\\nonumber &=& -y\\left(\\dfrac{1}{\\hat{y}}\\right) - (1-y)\\left(\\dfrac{-1}{1-\\hat{y}}\\right)\\\\\n",
    "\\nonumber &=& \\dfrac{-y}{\\hat{y}} + \\dfrac{(1-y)}{(1-\\hat{y})}\\\\\n",
    "\\nonumber &=& \\dfrac{-y(1-\\hat{y})+\\hat{y}(1-y)}{\\hat{y}(1-\\hat{y})}\\\\\n",
    "\\nonumber &=& \\dfrac{-y+y\\hat{y}+\\hat{y}-y\\hat{y}}{\\hat{y}(1-\\hat{y})}\\\\\n",
    "\\nonumber &=& \\dfrac{\\hat{y}-y}{\\hat{y}(1-\\hat{y})}\n",
    "\\end{align*}\n",
    "$$"
   ]
  },
  {
   "cell_type": "markdown",
   "id": "logical-congress",
   "metadata": {
    "id": "logical-congress"
   },
   "source": [
    "* Next, we will calculate $\\dfrac{\\partial \\hat{y}}{\\partial z}$\n",
    "$$\n",
    "\\begin{align*}\n",
    "\\nonumber \\dfrac{\\partial \\hat{y}}{\\partial z} &=& \\dfrac{\\partial \\sigma(z)}{\\partial z}\\\\\n",
    "\\nonumber &=& \\dfrac{\\partial }{\\partial z}\\left( \\dfrac{1}{1+e^{-z}}\\right)\\\\\n",
    "\\nonumber &=& \\dfrac{-1}{(1+e^{-z})^2}\\dfrac{\\partial }{\\partial z}\\left(1 + e^{-z}\\right)\\\\\n",
    "\\nonumber &=& \\dfrac{-1}{(1+e^{-z})^2}{(-e^{-z})}\\\\\n",
    "\\nonumber &=& \\dfrac{e^{-z}}{(1+e^{-z})^2}\\\\\n",
    "\\nonumber &=& \\dfrac{1+e^{-z}-1}{(1+e^{-z})^2}\\\\\n",
    "\\nonumber &=& \\dfrac{1+e^{-z}}{(1+e^{-z})^2} - \\dfrac{1}{(1+e^{-z})^2}\\\\\n",
    "\\nonumber &=& \\dfrac{1}{1+e^{-z}}-\\dfrac{1}{(1+e^{-z})^2}\\\\\n",
    "\\nonumber &=& \\sigma(z) - \\sigma(z)^2\\\\\n",
    "\\nonumber &=& \\sigma(z)(1-\\sigma(z))\\\\\n",
    "\\nonumber &=& \\hat{y}(1-\\hat{y})\n",
    "\\end{align*}\n",
    "$$"
   ]
  },
  {
   "cell_type": "markdown",
   "id": "apparent-equity",
   "metadata": {
    "id": "apparent-equity"
   },
   "source": [
    "* Finally, let's calculate $\\dfrac{\\partial z}{\\partial w_j}$\n",
    "$$\n",
    "\\begin{align*}\n",
    "\\nonumber \\dfrac{\\partial z}{\\partial w_j} &=& \\dfrac{\\partial}{\\partial w_j}\\left(w^Tx + b\\right)\\\\\n",
    "\\nonumber &=& \\dfrac{\\partial}{\\partial w_j}\\left(w_0x_0 + w_1x_1 + \\cdots + w_jx_j+\\cdots + w_nx_n + b\\right)\\\\\n",
    "\\nonumber &=& x_j\n",
    "\\end{align*}\n",
    "$$"
   ]
  },
  {
   "cell_type": "markdown",
   "id": "departmental-meter",
   "metadata": {
    "id": "departmental-meter"
   },
   "source": [
    "* We can now substitute these three derivatives into the chain rule:\n",
    "$$\n",
    "\\begin{align*}\n",
    "\\dfrac{\\partial L}{\\partial w_j} &=&  \\dfrac{\\partial L}{\\partial \\hat{y}}\\dfrac{\\partial \\hat{y}}{\\partial z}\\dfrac{\\partial z}{\\partial w_j}\\\\\n",
    "\\nonumber &=& \\dfrac{\\hat{y}-y}{\\hat{y}(1-\\hat{y})}\\hat{y}(1-\\hat{y})x_j\\\\\n",
    "\\nonumber &=& (\\hat{y}-y)x_j\n",
    "\\end{align*}\n",
    "$$"
   ]
  },
  {
   "cell_type": "markdown",
   "id": "satisfactory-western",
   "metadata": {
    "id": "satisfactory-western"
   },
   "source": [
    "* In vectorized form over $m$ training samples gives us:\n",
    "$$\n",
    "\\dfrac{\\partial L}{\\partial w} = \\dfrac{1}{m}X(\\hat{y}-y)^T\n",
    "$$"
   ]
  },
  {
   "cell_type": "markdown",
   "id": "acute-printing",
   "metadata": {
    "id": "acute-printing"
   },
   "source": [
    "* What about $\\dfrac{\\partial L}{\\partial b}$ ? If you'd follow the similar math above, we will get the following for a single sample:\n",
    "$$\n",
    "\\dfrac{\\partial L}{\\partial b} = (\\hat{y}-y)\n",
    "$$\n",
    "\n",
    "which in vectorized form would transform to:\n",
    "$$\n",
    "\\dfrac{\\partial L}{\\partial b} = \\dfrac{1}{m}\\sum_{i=1}^m\\left( \\hat{y}^{(i)}-y^{(i)} \\right)\n",
    "$$\n",
    "where, $\\hat{y}^{(i)}, y^{(i)}$ be the prediction and ground true labels of the $i^\\text{th}$ training sample."
   ]
  },
  {
   "cell_type": "markdown",
   "id": "executed-library",
   "metadata": {
    "id": "executed-library"
   },
   "source": [
    "* In our code, we will label $\\dfrac{\\partial L}{\\partial w}$ and $\\dfrac{\\partial L}{\\partial b}$ as `dW` and `db`."
   ]
  },
  {
   "cell_type": "markdown",
   "id": "plain-static",
   "metadata": {
    "id": "plain-static"
   },
   "source": [
    "### Step v1.4.4 Build and train\n",
    "* Okay? We are ready to do it now."
   ]
  },
  {
   "cell_type": "code",
   "execution_count": null,
   "id": "medium-mississippi",
   "metadata": {
    "id": "medium-mississippi"
   },
   "outputs": [],
   "source": [
    "learning_rate = 1.0\n",
    "\n",
    "X = X_train\n",
    "y = y_train"
   ]
  },
  {
   "cell_type": "code",
   "execution_count": null,
   "id": "behind-barrel",
   "metadata": {
    "id": "behind-barrel"
   },
   "outputs": [],
   "source": [
    "n_x = X.shape[0] #number of variables per training sample\n",
    "m = X.shape[1] #number of samples in the training set, X"
   ]
  },
  {
   "cell_type": "code",
   "execution_count": null,
   "id": "formal-kruger",
   "metadata": {
    "colab": {
     "base_uri": "https://localhost:8080/"
    },
    "id": "formal-kruger",
    "outputId": "5713130a-a977-40b5-cbe1-6cd56fbe1978"
   },
   "outputs": [
    {
     "name": "stdout",
     "output_type": "stream",
     "text": [
      "Shape of the weight vector, W is (784, 1)\n",
      "Shape of the bias weight, b is (1, 1)\n"
     ]
    }
   ],
   "source": [
    "W = np.random.randn(n_x,1)* 0.01 #The weight vector\n",
    "b = np.zeros((1,1)) #The bias weight vector\n",
    "print('Shape of the weight vector, W is {}'.format(W.shape))\n",
    "print('Shape of the bias weight, b is {}'.format(b.shape))"
   ]
  },
  {
   "cell_type": "code",
   "execution_count": null,
   "id": "lasting-turkey",
   "metadata": {
    "colab": {
     "base_uri": "https://localhost:8080/"
    },
    "id": "lasting-turkey",
    "outputId": "eaa4d99c-5d5d-40fb-b89a-0e425e478896"
   },
   "outputs": [
    {
     "name": "stderr",
     "output_type": "stream",
     "text": [
      "Epoch [1900]: Cost [0.022148242674021625]: 100%|██████████| 2000/2000 [01:27<00:00, 22.94it/s]"
     ]
    },
    {
     "name": "stdout",
     "output_type": "stream",
     "text": [
      "Final cost = 0.021984795669552\n"
     ]
    },
    {
     "name": "stderr",
     "output_type": "stream",
     "text": [
      "\n"
     ]
    }
   ],
   "source": [
    "max_iter = 2000 #Maximum number of iterations you want\n",
    "\n",
    "progress_bar = tqdm(range(max_iter))\n",
    "\n",
    "for i in progress_bar:\n",
    "\n",
    "    Z = np.matmul(W.T,X) + b  #The net_in\n",
    "    A = sigmoid(Z)            #Activation output, hat(y)\n",
    "    \n",
    "    cost = compute_cross_entropy_loss(A, y)\n",
    "    \n",
    "    #compute the 2 derivatives, dW, db\n",
    "    dW = (1/m)* np.matmul(X, (A-y).T)\n",
    "    db = (1/m)* np.sum(A-y, axis=1, keepdims=True)\n",
    "    \n",
    "    #Weight update\n",
    "    W = W - learning_rate * dW\n",
    "    b = b - learning_rate * db\n",
    "    \n",
    "    \n",
    "    #debug point\n",
    "    if (i % 100 == 0):\n",
    "        #print('Epoch [{}]: Cost [{}]'.format(i,cost))\n",
    "        progress_bar.set_description('Epoch [{}]: Cost [{}]'.format(i,cost))\n",
    "        \n",
    "print('Final cost = {}'.format(cost))"
   ]
  },
  {
   "cell_type": "markdown",
   "id": "technological-fellowship",
   "metadata": {
    "id": "technological-fellowship"
   },
   "source": [
    "* We could probably seek out a bit more accuracy with some more training by setting `max_iter` to higher numbers. But, note that the gains have slowed down considerably. So, let's just see how we did, by looking at the confusion matrix after evaluating on the test dataset."
   ]
  },
  {
   "cell_type": "code",
   "execution_count": null,
   "id": "dgRlSvkj6xct",
   "metadata": {
    "colab": {
     "base_uri": "https://localhost:8080/"
    },
    "id": "dgRlSvkj6xct",
    "outputId": "6039f261-6afa-43d9-9103-c7badf946b63"
   },
   "outputs": [
    {
     "name": "stdout",
     "output_type": "stream",
     "text": [
      "True\n"
     ]
    }
   ],
   "source": [
    "## Week-05 material\n",
    "\n",
    "tf.config.run_functions_eagerly(True)\n",
    "\n",
    "print(tf.executing_eagerly())\n"
   ]
  },
  {
   "cell_type": "code",
   "execution_count": null,
   "id": "9_bz_KzW67eR",
   "metadata": {
    "colab": {
     "base_uri": "https://localhost:8080/"
    },
    "id": "9_bz_KzW67eR",
    "outputId": "6d8e7916-aa82-4786-c3a2-d5e85af99ae0"
   },
   "outputs": [
    {
     "name": "stdout",
     "output_type": "stream",
     "text": [
      "True\n"
     ]
    }
   ],
   "source": [
    "\n"
   ]
  },
  {
   "cell_type": "code",
   "execution_count": null,
   "id": "coated-subcommittee",
   "metadata": {
    "colab": {
     "base_uri": "https://localhost:8080/"
    },
    "id": "coated-subcommittee",
    "outputId": "6089ad19-83c1-41e3-b9c5-f498e06395cf"
   },
   "outputs": [
    {
     "name": "stdout",
     "output_type": "stream",
     "text": [
      "True\n"
     ]
    },
    {
     "data": {
      "text/plain": [
       "<tf.Variable 'Variable:0' shape=(784, 33600) dtype=float32, numpy=\n",
       "array([[0., 0., 0., ..., 0., 0., 0.],\n",
       "       [0., 0., 0., ..., 0., 0., 0.],\n",
       "       [0., 0., 0., ..., 0., 0., 0.],\n",
       "       ...,\n",
       "       [0., 0., 0., ..., 0., 0., 0.],\n",
       "       [0., 0., 0., ..., 0., 0., 0.],\n",
       "       [0., 0., 0., ..., 0., 0., 0.]], dtype=float32)>"
      ]
     },
     "execution_count": 57,
     "metadata": {},
     "output_type": "execute_result"
    }
   ],
   "source": [
    "## Week-05 material\n",
    "\n",
    "TF_X = tf.Variable(X_train,dtype=tf.float32)\n",
    "TF_X"
   ]
  },
  {
   "cell_type": "code",
   "execution_count": null,
   "id": "absolute-cross",
   "metadata": {
    "colab": {
     "base_uri": "https://localhost:8080/"
    },
    "id": "absolute-cross",
    "outputId": "a3edd9b1-155f-41ea-a63b-8b862205a08d"
   },
   "outputs": [
    {
     "data": {
      "text/plain": [
       "<tf.Variable 'Variable:0' shape=(1, 33600) dtype=float32, numpy=array([[0., 0., 0., ..., 0., 0., 0.]], dtype=float32)>"
      ]
     },
     "execution_count": 58,
     "metadata": {},
     "output_type": "execute_result"
    }
   ],
   "source": [
    "TF_y = tf.Variable(y_train, dtype=tf.float32)\n",
    "TF_y"
   ]
  },
  {
   "cell_type": "code",
   "execution_count": null,
   "id": "fatal-isolation",
   "metadata": {
    "colab": {
     "base_uri": "https://localhost:8080/"
    },
    "id": "fatal-isolation",
    "outputId": "c7a755d5-8914-47e5-f6a9-628d3926387a"
   },
   "outputs": [
    {
     "name": "stdout",
     "output_type": "stream",
     "text": [
      "Shape of the weight vector, W is (784, 1)\n",
      "Shape of the bias weight, b is (1, 1)\n"
     ]
    }
   ],
   "source": [
    "TF_W = tf.Variable(np.random.randn(n_x,1)* 0.01, dtype=tf.float32) #The weight vector\n",
    "TF_b = tf.Variable(np.zeros((1,1)),dtype=tf.float32) #The bias weight vector\n",
    "print('Shape of the weight vector, W is {}'.format(TF_W.shape))\n",
    "print('Shape of the bias weight, b is {}'.format(TF_b.shape))"
   ]
  },
  {
   "cell_type": "code",
   "execution_count": null,
   "id": "aboriginal-positive",
   "metadata": {
    "colab": {
     "base_uri": "https://localhost:8080/"
    },
    "id": "aboriginal-positive",
    "outputId": "575b7e5f-38cf-412d-ebd6-e54d1b77274a"
   },
   "outputs": [
    {
     "name": "stderr",
     "output_type": "stream",
     "text": [
      "Epoch [1900]: Cost [0.022149477154016495]: 100%|██████████| 2000/2000 [00:07<00:00, 282.46it/s]"
     ]
    },
    {
     "name": "stdout",
     "output_type": "stream",
     "text": [
      "Final cost = 0.021985668689012527\n"
     ]
    },
    {
     "name": "stderr",
     "output_type": "stream",
     "text": [
      "\n"
     ]
    }
   ],
   "source": [
    "max_iter = 2000 #Maximum number of iterations you want\n",
    "\n",
    "progress_bar = tqdm(range(max_iter))\n",
    "\n",
    "for i in progress_bar:\n",
    "    #Z = np.matmul(W.T,X) + b  #The net_in\n",
    "\n",
    "    TF_Z = tf.add(tf.matmul(tf.transpose(TF_W),TF_X),TF_b)\n",
    "    TF_A = TF_sigmoid(TF_Z)            #Activation output, hat(y)\n",
    "\n",
    "    \n",
    "    cost = TF_compute_cross_entropy_loss(TF_A, TF_y)\n",
    "    \n",
    "    #compute the 2 derivatives, dW, db\n",
    "    #dW = (1/m)* np.matmul(X, (A-y).T)\n",
    "    TF_dW = tf.multiply( tf.divide(tf.constant(1.),tf.constant(m,dtype=tf.float32)),\n",
    "                      tf.matmul(TF_X,tf.transpose(tf.subtract(TF_A,TF_y)))\n",
    "                    )\n",
    "    #db = (1/m)* np.sum(A-y, axis=1, keepdims=True)\n",
    "    TF_db = tf.multiply( tf.divide(tf.constant(1.),tf.constant(m,dtype=tf.float32)),\n",
    "                         tf.reduce_sum(tf.subtract(TF_A,TF_y),axis=1,keepdims=True)\n",
    "                       )\n",
    "    \n",
    "    #Weight update\n",
    "    TF_W = tf.subtract(TF_W,tf.multiply(tf.constant(learning_rate,dtype=tf.float32), TF_dW))\n",
    "    TF_b = tf.subtract(TF_b,tf.multiply(tf.constant(learning_rate,dtype=tf.float32), TF_db))\n",
    "    \n",
    "    \n",
    "    #debug point\n",
    "    if (i % 100 == 0):\n",
    "        #print('Epoch [{}]: Cost [{}]'.format(i,cost))\n",
    "        progress_bar.set_description('Epoch [{}]: Cost [{}]'.format(i,cost))\n",
    "        \n",
    "print('Final cost = {}'.format(cost))"
   ]
  },
  {
   "cell_type": "code",
   "execution_count": null,
   "id": "harmful-sample",
   "metadata": {
    "id": "harmful-sample"
   },
   "outputs": [],
   "source": []
  },
  {
   "cell_type": "markdown",
   "id": "guided-freedom",
   "metadata": {
    "id": "guided-freedom"
   },
   "source": [
    "### Step v1.4.5 Evaluation"
   ]
  },
  {
   "cell_type": "code",
   "execution_count": null,
   "id": "hungry-issue",
   "metadata": {
    "id": "hungry-issue"
   },
   "outputs": [],
   "source": [
    "# Feed forward test dataset onto the network, with W, b trained.\n",
    "TF_X = tf.Variable(X_test,dtype=tf.float32)\n",
    "TF_y = tf.Variable(y_test,dtype=tf.float32)\n",
    "\n",
    "TF_Z = tf.add( tf.matmul( tf.transpose(TF_W), TF_X), TF_b) #the net_in\n",
    "TF_A = TF_sigmoid(TF_Z)                  #activated output, hat(y), the prediction\n",
    "A = TF_A.numpy() #convert tensor back to numpy array"
   ]
  },
  {
   "cell_type": "markdown",
   "id": "nutritional-bunch",
   "metadata": {
    "id": "nutritional-bunch"
   },
   "source": [
    "* Since the prediction, $A$ is a sigmoid output, ranging values between 0 and 1. \n",
    "* So, we need to translating it in-terms of probability:\n",
    "    * any prediction above 0.50 should be called class \"1\" (True), i.e., the zero digit recognized.\n",
    "    * otherwise, prediction will be called \"0\", i.e., the zero digit not recognized for a given sample."
   ]
  },
  {
   "cell_type": "code",
   "execution_count": null,
   "id": "focal-population",
   "metadata": {
    "id": "focal-population"
   },
   "outputs": [],
   "source": [
    "predictions = (A > 0.5)[0, :]  #our predictions\n",
    "labels = (y_test == 1)[0,:]    #the ground-true class labels"
   ]
  },
  {
   "cell_type": "code",
   "execution_count": null,
   "id": "asian-appeal",
   "metadata": {
    "colab": {
     "base_uri": "https://localhost:8080/"
    },
    "id": "asian-appeal",
    "outputId": "e4bfbe23-e592-40e2-db62-f729b8e1b27c"
   },
   "outputs": [
    {
     "name": "stdout",
     "output_type": "stream",
     "text": [
      "Confusion matrix: \n",
      "[[7517   35]\n",
      " [  31  817]]\n"
     ]
    }
   ],
   "source": [
    "#Now, build the confusion matrix\n",
    "conf_mat = confusion_matrix(predictions,labels)\n",
    "print('Confusion matrix: \\n{}'.format(conf_mat))"
   ]
  },
  {
   "cell_type": "markdown",
   "id": "christian-november",
   "metadata": {
    "id": "christian-november"
   },
   "source": [
    "* That's actually pretty good, right?\n",
    "* Here is how to interpret from a confusion matrix:\n",
    "<img src=\"http://54.160.44.72/csci5931sp22/figs/conf_mat.jpg\" width=600/>\n"
   ]
  },
  {
   "cell_type": "markdown",
   "id": "proud-salmon",
   "metadata": {
    "id": "proud-salmon"
   },
   "source": [
    "* And the classification report below. You can see the performance is extra-ordinarily good."
   ]
  },
  {
   "cell_type": "code",
   "execution_count": null,
   "id": "polar-perspective",
   "metadata": {
    "colab": {
     "base_uri": "https://localhost:8080/"
    },
    "id": "polar-perspective",
    "outputId": "dd8f7892-364a-43a8-b300-a0067ffa3fd4",
    "scrolled": false
   },
   "outputs": [
    {
     "name": "stdout",
     "output_type": "stream",
     "text": [
      "Classification report on the test set: \n",
      "              precision    recall  f1-score   support\n",
      "\n",
      "       False       1.00      1.00      1.00      7552\n",
      "        True       0.96      0.96      0.96       848\n",
      "\n",
      "    accuracy                           0.99      8400\n",
      "   macro avg       0.98      0.98      0.98      8400\n",
      "weighted avg       0.99      0.99      0.99      8400\n",
      "\n"
     ]
    }
   ],
   "source": [
    "print('Classification report on the test set: \\n{}'.format(classification_report(predictions,labels)))"
   ]
  },
  {
   "cell_type": "markdown",
   "id": "duplicate-prediction",
   "metadata": {
    "id": "duplicate-prediction"
   },
   "source": [
    "## Building a Neural Network (version 2)\n",
    "* With a hidden layer having 64 units.\n",
    "* I won't go through the derivations of all the formulas for the forward and backward passes this time.\n",
    "    * They are pretty direct extension of the work we did earlier for version 1.\n",
    "* Let's just dive right in and build the model"
   ]
  },
  {
   "cell_type": "markdown",
   "id": "false-protest",
   "metadata": {
    "id": "false-protest"
   },
   "source": [
    "### Step v2.1 Build and train"
   ]
  },
  {
   "cell_type": "code",
   "execution_count": null,
   "id": "completed-queue",
   "metadata": {
    "id": "completed-queue"
   },
   "outputs": [],
   "source": [
    "X = X_train\n",
    "y = y_train"
   ]
  },
  {
   "cell_type": "code",
   "execution_count": null,
   "id": "established-functionality",
   "metadata": {
    "id": "established-functionality"
   },
   "outputs": [],
   "source": [
    "n_x = X.shape[0]\n",
    "n_h = 64           #number of units in hidden layer\n",
    "learning_rate = 1"
   ]
  },
  {
   "cell_type": "code",
   "execution_count": null,
   "id": "industrial-championship",
   "metadata": {
    "id": "industrial-championship"
   },
   "outputs": [],
   "source": [
    "#weight initialization\n",
    "W1 = np.random.randn(n_h, n_x)\n",
    "b1 = np.zeros((n_h, 1))\n",
    "W2 = np.random.randn(1, n_h)\n",
    "b2 = np.zeros((1, 1))"
   ]
  },
  {
   "cell_type": "code",
   "execution_count": null,
   "id": "peripheral-following",
   "metadata": {
    "colab": {
     "base_uri": "https://localhost:8080/",
     "height": 265
    },
    "id": "peripheral-following",
    "outputId": "fddadeaf-ac66-46ff-f6ae-d000b599729d"
   },
   "outputs": [
    {
     "name": "stderr",
     "output_type": "stream",
     "text": [
      "Epoch [0]: Cost [0.18649637868882202]:   1%|▏         | 26/2000 [00:20<25:46,  1.28it/s]\n"
     ]
    },
    {
     "ename": "KeyboardInterrupt",
     "evalue": "ignored",
     "output_type": "error",
     "traceback": [
      "\u001b[0;31m---------------------------------------------------------------------------\u001b[0m",
      "\u001b[0;31mKeyboardInterrupt\u001b[0m                         Traceback (most recent call last)",
      "\u001b[0;32m<ipython-input-71-13f2d8db47cb>\u001b[0m in \u001b[0;36m<module>\u001b[0;34m()\u001b[0m\n\u001b[1;32m      5\u001b[0m \u001b[0;34m\u001b[0m\u001b[0m\n\u001b[1;32m      6\u001b[0m     \u001b[0;31m#Forward propagation\u001b[0m\u001b[0;34m\u001b[0m\u001b[0;34m\u001b[0m\u001b[0;34m\u001b[0m\u001b[0m\n\u001b[0;32m----> 7\u001b[0;31m     \u001b[0mZ1\u001b[0m \u001b[0;34m=\u001b[0m \u001b[0mnp\u001b[0m\u001b[0;34m.\u001b[0m\u001b[0mmatmul\u001b[0m\u001b[0;34m(\u001b[0m\u001b[0mW1\u001b[0m\u001b[0;34m,\u001b[0m \u001b[0mX\u001b[0m\u001b[0;34m)\u001b[0m \u001b[0;34m+\u001b[0m \u001b[0mb1\u001b[0m\u001b[0;34m\u001b[0m\u001b[0;34m\u001b[0m\u001b[0m\n\u001b[0m\u001b[1;32m      8\u001b[0m     \u001b[0mA1\u001b[0m \u001b[0;34m=\u001b[0m \u001b[0msigmoid\u001b[0m\u001b[0;34m(\u001b[0m\u001b[0mZ1\u001b[0m\u001b[0;34m)\u001b[0m\u001b[0;34m\u001b[0m\u001b[0;34m\u001b[0m\u001b[0m\n\u001b[1;32m      9\u001b[0m     \u001b[0mZ2\u001b[0m \u001b[0;34m=\u001b[0m \u001b[0mnp\u001b[0m\u001b[0;34m.\u001b[0m\u001b[0mmatmul\u001b[0m\u001b[0;34m(\u001b[0m\u001b[0mW2\u001b[0m\u001b[0;34m,\u001b[0m \u001b[0mA1\u001b[0m\u001b[0;34m)\u001b[0m \u001b[0;34m+\u001b[0m \u001b[0mb2\u001b[0m\u001b[0;34m\u001b[0m\u001b[0;34m\u001b[0m\u001b[0m\n",
      "\u001b[0;31mKeyboardInterrupt\u001b[0m: "
     ]
    }
   ],
   "source": [
    "max_iter = 2000\n",
    "\n",
    "progress_bar = tqdm(range(max_iter))\n",
    "for i in progress_bar:\n",
    "    \n",
    "    #Forward propagation\n",
    "    Z1 = np.matmul(W1, X) + b1\n",
    "    A1 = sigmoid(Z1)\n",
    "    Z2 = np.matmul(W2, A1) + b2\n",
    "    A2 = sigmoid(Z2)\n",
    "\n",
    "    #compute cost\n",
    "    cost = compute_cross_entropy_loss(A2, y)\n",
    "\n",
    "    #compute the derivatives for each of the weight parameters\n",
    "    dZ2 = A2-y\n",
    "    dW2 = (1./m) * np.matmul(dZ2, A1.T)\n",
    "    db2 = (1./m) * np.sum(dZ2, axis=1, keepdims=True)\n",
    "\n",
    "    dA1 = np.matmul(W2.T, dZ2)\n",
    "    dZ1 = dA1 * sigmoid(Z1) * (1 - sigmoid(Z1))\n",
    "    dW1 = (1./m) * np.matmul(dZ1, X.T)\n",
    "    db1 = (1./m) * np.sum(dZ1, axis=1, keepdims=True)\n",
    "\n",
    "    #gradient descent weight updates\n",
    "    W2 = W2 - learning_rate * dW2\n",
    "    b2 = b2 - learning_rate * db2\n",
    "    W1 = W1 - learning_rate * dW1\n",
    "    b1 = b1 - learning_rate * db1\n",
    "\n",
    "    #debug point\n",
    "    if i % 100 == 0:\n",
    "        progress_bar.set_description('Epoch [{}]: Cost [{}]'.format(i,cost))\n",
    "\n",
    "print(\"\\nFinal cost:\", cost)"
   ]
  },
  {
   "cell_type": "code",
   "execution_count": null,
   "id": "HLK4Wn4Jk2jc",
   "metadata": {
    "id": "HLK4Wn4Jk2jc"
   },
   "outputs": [],
   "source": [
    "TF_X = tf.Variable(X_train, dtype=tf.float32)\n",
    "TF_y = tf.Variable(y_train, dtype=tf.float32)"
   ]
  },
  {
   "cell_type": "code",
   "execution_count": null,
   "id": "phVS3nW6k2Sr",
   "metadata": {
    "id": "phVS3nW6k2Sr"
   },
   "outputs": [],
   "source": [
    "n_x = X.shape[0]\n",
    "n_h = 64           #number of units in hidden layer\n",
    "learning_rate = 1"
   ]
  },
  {
   "cell_type": "code",
   "execution_count": null,
   "id": "wOQ5tbZ-k19u",
   "metadata": {
    "id": "wOQ5tbZ-k19u"
   },
   "outputs": [],
   "source": [
    "#weight initialization\n",
    "TF_W1 = tf.Variable(np.random.randn(n_h, n_x), dtype=tf.float32)\n",
    "TF_b1 = tf.Variable(np.zeros((n_h, 1)), dtype=tf.float32)\n",
    "TF_W2 = tf.Variable(np.random.randn(1, n_h), dtype=tf.float32)\n",
    "TF_b2 = tf.Variable(np.zeros((1, 1)), dtype=tf.float32)"
   ]
  },
  {
   "cell_type": "code",
   "execution_count": null,
   "id": "qQUsuxBok1ue",
   "metadata": {
    "colab": {
     "base_uri": "https://localhost:8080/"
    },
    "id": "qQUsuxBok1ue",
    "outputId": "c6ba0ff1-0aee-4169-8c7d-e12bf56c8538"
   },
   "outputs": [
    {
     "name": "stderr",
     "output_type": "stream",
     "text": [
      "Epoch [1900]: Cost [0.022032838314771652]: 100%|██████████| 2000/2000 [00:24<00:00, 80.53it/s]"
     ]
    },
    {
     "name": "stdout",
     "output_type": "stream",
     "text": [
      "\n",
      "Final cost: tf.Tensor(0.02145777, shape=(), dtype=float32)\n"
     ]
    },
    {
     "name": "stderr",
     "output_type": "stream",
     "text": [
      "\n"
     ]
    }
   ],
   "source": [
    "max_iter = 2000\n",
    "\n",
    "progress_bar = tqdm(range(max_iter))\n",
    "for i in progress_bar:\n",
    "    \n",
    "    #Forward propagation\n",
    "    #Z1 = np.matmul(W1, X) + b1\n",
    "    TF_Z1 = tf.add( tf.matmul(TF_W1,TF_X), TF_b1)\n",
    "    #A1 = sigmoid(Z1)\n",
    "    TF_A1 = TF_sigmoid(TF_Z1)\n",
    "    #Z2 = np.matmul(W2, A1) + b2\n",
    "    TF_Z2 = tf.add( tf.matmul(TF_W2, TF_A1), TF_b2)\n",
    "    #A2 = sigmoid(Z2)\n",
    "    TF_A2 = TF_sigmoid(TF_Z2)\n",
    "\n",
    "    #compute cost\n",
    "    #cost = compute_cross_entropy_loss(A2, y)\n",
    "    cost = TF_compute_cross_entropy_loss(TF_A2, TF_y)\n",
    "\n",
    "    #compute the derivatives for each of the weight parameters\n",
    "    #dZ2 = A2-y\n",
    "    TF_dZ2 = tf.subtract(TF_A2, TF_y)\n",
    "    #dW2 = (1./m) * np.matmul(dZ2, A1.T)\n",
    "    TF_dW2 = tf.multiply( tf.divide(tf.constant(1.),tf.constant(m,dtype=tf.float32)),\n",
    "                                    tf.matmul(TF_dZ2, tf.transpose(TF_A1)))\n",
    "    #db2 = (1./m) * np.sum(dZ2, axis=1, keepdims=True)\n",
    "    TF_db2 = tf.multiply(tf.divide(tf.constant(1.),tf.constant(m,dtype=tf.float32)),tf.reduce_sum(TF_dZ2,axis=1,keepdims=True))\n",
    "\n",
    "    #dA1 = np.matmul(W2.T, dZ2)\n",
    "    TF_dA1 = tf.matmul(tf.transpose(TF_W2), TF_dZ2)\n",
    "    #dZ1 = dA1 * sigmoid(Z1) * (1 - sigmoid(Z1))\n",
    "    TF_dZ1 = tf.multiply( tf.multiply(TF_dA1, TF_sigmoid(TF_Z1)), tf.subtract(tf.constant(1.),TF_sigmoid(TF_Z1)))\n",
    "    #dW1 = (1./m) * np.matmul(dZ1, X.T)\n",
    "    TF_dW1 = tf.multiply(tf.divide(tf.constant(1.),tf.constant(m,dtype=tf.float32)), tf.matmul(TF_dZ1, tf.transpose(TF_X)))\n",
    "    #db1 = (1./m) * np.sum(dZ1, axis=1, keepdims=True)\n",
    "    TF_db1 = tf.multiply(tf.divide(tf.constant(1.),tf.constant(m,dtype=tf.float32)), tf.reduce_sum(TF_dZ1, axis=1,keepdims=True))\n",
    "\n",
    "    #gradient descent weight updates\n",
    "    #W2 = W2 - learning_rate * dW2\n",
    "    TF_W2 = tf.subtract(TF_W2, tf.multiply(tf.constant(learning_rate, dtype=tf.float32),TF_dW2))\n",
    "    #b2 = b2 - learning_rate * db2\n",
    "    TF_b2 = tf.subtract(TF_b2, tf.multiply(tf.constant(learning_rate, dtype=tf.float32),TF_db2))\n",
    "    #W1 = W1 - learning_rate * dW1\n",
    "    TF_W1 = tf.subtract(TF_W1, tf.multiply(tf.constant(learning_rate, dtype=tf.float32),TF_dW1))\n",
    "    #b1 = b1 - learning_rate * db1\n",
    "    TF_b1 = tf.subtract(TF_b1, tf.multiply(tf.constant(learning_rate, dtype=tf.float32),TF_db1))\n",
    "\n",
    "    #debug point\n",
    "    if i % 100 == 0:\n",
    "        progress_bar.set_description('Epoch [{}]: Cost [{}]'.format(i,cost))\n",
    "\n",
    "print(\"\\nFinal cost:\", cost)"
   ]
  },
  {
   "cell_type": "markdown",
   "id": "transparent-memorabilia",
   "metadata": {
    "id": "transparent-memorabilia"
   },
   "source": [
    "### Step v2.2 Evaluation"
   ]
  },
  {
   "cell_type": "code",
   "execution_count": null,
   "id": "shaped-rider",
   "metadata": {
    "id": "shaped-rider"
   },
   "outputs": [],
   "source": [
    "# Feed forward test dataset onto the hidden layer, with W1, b1 trained.\n",
    "TF_X = tf.Variable(X_test, dtype=tf.float32)\n",
    "\n",
    "TF_Z1 = tf.add(tf.matmul(TF_W1, TF_X), TF_b1) #the net_in\n",
    "TF_A1 = TF_sigmoid(TF_Z1)                  #activated output from the hidden layer\n",
    "#now, feed forward the hidden layer output to the next layer, output layer\n",
    "TF_Z2 = tf.add(tf.matmul(TF_W2,TF_A1), TF_b2)        #the net_in\n",
    "TF_A2 = TF_sigmoid(TF_Z2)                  #activated output from the output layer, hat(y), the prediction\n",
    "\n",
    "A2 = TF_A2.numpy() #convert it back to numpy"
   ]
  },
  {
   "cell_type": "markdown",
   "id": "outside-print",
   "metadata": {
    "id": "outside-print"
   },
   "source": [
    "* Since the prediction, $A2$ is a sigmoid output, ranging values between 0 and 1. \n",
    "* So, we need to translating it in-terms of probability:\n",
    "    * any prediction above 0.50 should be called class \"1\" (True), i.e., the zero digit recognized.\n",
    "    * otherwise, prediction will be called \"0\", i.e., the zero digit not recognized for a given sample."
   ]
  },
  {
   "cell_type": "code",
   "execution_count": null,
   "id": "absolute-editing",
   "metadata": {
    "id": "absolute-editing"
   },
   "outputs": [],
   "source": [
    "predictions = (A2 > 0.5)[0, :]  #our predictions\n",
    "labels = (y_test == 1)[0,:]    #the ground-true class labels"
   ]
  },
  {
   "cell_type": "code",
   "execution_count": null,
   "id": "laughing-offer",
   "metadata": {
    "colab": {
     "base_uri": "https://localhost:8080/"
    },
    "id": "laughing-offer",
    "outputId": "1c907e9c-0ed7-4aef-b2a4-91e7aef50056"
   },
   "outputs": [
    {
     "name": "stdout",
     "output_type": "stream",
     "text": [
      "Confusion matrix: \n",
      "[[7506   44]\n",
      " [  42  808]]\n"
     ]
    }
   ],
   "source": [
    "#Now, build the confusion matrix\n",
    "conf_mat = confusion_matrix(predictions,labels)\n",
    "print('Confusion matrix: \\n{}'.format(conf_mat))"
   ]
  },
  {
   "cell_type": "markdown",
   "id": "blond-infrastructure",
   "metadata": {
    "id": "blond-infrastructure"
   },
   "source": [
    "* That's actually pretty good, right?\n",
    "* Here is how to interpret from a confusion matrix:\n",
    "<img src=\"http://54.160.44.72/csci5931sp22/figs/conf_mat.jpg\" width=600/>\n"
   ]
  },
  {
   "cell_type": "markdown",
   "id": "worth-means",
   "metadata": {
    "id": "worth-means"
   },
   "source": [
    "* And the classification report below. You can see the performance is extra-ordinarily good."
   ]
  },
  {
   "cell_type": "code",
   "execution_count": null,
   "id": "activated-sense",
   "metadata": {
    "colab": {
     "base_uri": "https://localhost:8080/"
    },
    "id": "activated-sense",
    "outputId": "86a4f2bf-e7b5-4e56-c844-fb08f43d3bc6",
    "scrolled": false
   },
   "outputs": [
    {
     "name": "stdout",
     "output_type": "stream",
     "text": [
      "Classification report on the test set: \n",
      "              precision    recall  f1-score   support\n",
      "\n",
      "       False       0.99      0.99      0.99      7550\n",
      "        True       0.95      0.95      0.95       850\n",
      "\n",
      "    accuracy                           0.99      8400\n",
      "   macro avg       0.97      0.97      0.97      8400\n",
      "weighted avg       0.99      0.99      0.99      8400\n",
      "\n"
     ]
    }
   ],
   "source": [
    "print('Classification report on the test set: \\n{}'.format(classification_report(predictions,labels)))"
   ]
  },
  {
   "cell_type": "markdown",
   "id": "convinced-guidance",
   "metadata": {
    "id": "convinced-guidance"
   },
   "source": [
    "## Building a Neural Network (version 3)\n",
    "\n",
    "* Now we are upgrading to multi-class. We have a 10-class classification problem for the 10-digits to recognize (digit 0, digit 1, ..., digit 9)."
   ]
  },
  {
   "cell_type": "markdown",
   "id": "arranged-pittsburgh",
   "metadata": {
    "id": "arranged-pittsburgh"
   },
   "source": [
    "### Step v3.1: Load the original dataset"
   ]
  },
  {
   "cell_type": "code",
   "execution_count": null,
   "id": "southern-annex",
   "metadata": {
    "colab": {
     "base_uri": "https://localhost:8080/",
     "height": 248
    },
    "id": "southern-annex",
    "outputId": "95576602-3f3a-47ef-eafd-375755130fa7"
   },
   "outputs": [
    {
     "ename": "NameError",
     "evalue": "ignored",
     "output_type": "error",
     "traceback": [
      "\u001b[0;31m---------------------------------------------------------------------------\u001b[0m",
      "\u001b[0;31mNameError\u001b[0m                                 Traceback (most recent call last)",
      "\u001b[0;32m<ipython-input-1-d9d92b0032b3>\u001b[0m in \u001b[0;36m<module>\u001b[0;34m()\u001b[0m\n\u001b[1;32m      1\u001b[0m \u001b[0;31m# Load the original dataset again which contained the original labels 0-9 for each sample.\u001b[0m\u001b[0;34m\u001b[0m\u001b[0;34m\u001b[0m\u001b[0;34m\u001b[0m\u001b[0m\n\u001b[0;32m----> 2\u001b[0;31m \u001b[0mdataset\u001b[0m \u001b[0;34m=\u001b[0m \u001b[0mpd\u001b[0m\u001b[0;34m.\u001b[0m\u001b[0mread_csv\u001b[0m\u001b[0;34m(\u001b[0m\u001b[0mmnist_path\u001b[0m \u001b[0;34m+\u001b[0m \u001b[0;34m'mnist-dataset/train.csv'\u001b[0m\u001b[0;34m)\u001b[0m\u001b[0;34m\u001b[0m\u001b[0;34m\u001b[0m\u001b[0m\n\u001b[0m\u001b[1;32m      3\u001b[0m \u001b[0mX\u001b[0m \u001b[0;34m=\u001b[0m \u001b[0mnp\u001b[0m\u001b[0;34m.\u001b[0m\u001b[0marray\u001b[0m\u001b[0;34m(\u001b[0m\u001b[0mdataset\u001b[0m\u001b[0;34m.\u001b[0m\u001b[0mdrop\u001b[0m\u001b[0;34m(\u001b[0m\u001b[0;34m'label'\u001b[0m\u001b[0;34m,\u001b[0m\u001b[0maxis\u001b[0m\u001b[0;34m=\u001b[0m\u001b[0;36m1\u001b[0m\u001b[0;34m)\u001b[0m\u001b[0;34m)\u001b[0m\u001b[0;34m\u001b[0m\u001b[0;34m\u001b[0m\u001b[0m\n\u001b[1;32m      4\u001b[0m \u001b[0my\u001b[0m \u001b[0;34m=\u001b[0m \u001b[0mnp\u001b[0m\u001b[0;34m.\u001b[0m\u001b[0marray\u001b[0m\u001b[0;34m(\u001b[0m\u001b[0mdataset\u001b[0m\u001b[0;34m[\u001b[0m\u001b[0;34m'label'\u001b[0m\u001b[0;34m]\u001b[0m\u001b[0;34m)\u001b[0m\u001b[0;34m\u001b[0m\u001b[0;34m\u001b[0m\u001b[0m\n\u001b[1;32m      5\u001b[0m \u001b[0mX\u001b[0m \u001b[0;34m=\u001b[0m \u001b[0mX\u001b[0m \u001b[0;34m/\u001b[0m \u001b[0;36m255\u001b[0m   \u001b[0;31m#don't forget to scale\u001b[0m\u001b[0;34m\u001b[0m\u001b[0;34m\u001b[0m\u001b[0m\n",
      "\u001b[0;31mNameError\u001b[0m: name 'pd' is not defined"
     ]
    }
   ],
   "source": [
    "# Load the original dataset again which contained the original labels 0-9 for each sample.\n",
    "dataset = pd.read_csv(mnist_path + 'mnist-dataset/train.csv')\n",
    "X = np.array(dataset.drop('label',axis=1))\n",
    "y = np.array(dataset['label'])\n",
    "X = X / 255   #don't forget to scale"
   ]
  },
  {
   "cell_type": "markdown",
   "id": "polyphonic-growing",
   "metadata": {
    "id": "polyphonic-growing"
   },
   "source": [
    "### Step v3.2: One-hot encode the MNIST labels for each sample"
   ]
  },
  {
   "cell_type": "markdown",
   "id": "rapid-distributor",
   "metadata": {
    "id": "rapid-distributor"
   },
   "source": [
    "* We need to one-hot encode MNIST labels for each sample; that is, each label will become 10-dimensional one-hot vector, where index $i$ will be hot (i.e., 1) if the label is $i$.\n",
    "* For example, \n",
    "* a label '7' will be one-hot encoded as `[0, 0, 0, 0, 0,  0, 1, 0, 0, 0]`\n",
    "* a label '1' will be one-hot encoded as `[0, 1, 0, 0, 0,  0, 0, 0, 0, 0]`\n",
    "* etc."
   ]
  },
  {
   "cell_type": "code",
   "execution_count": null,
   "id": "under-summary",
   "metadata": {
    "id": "under-summary"
   },
   "outputs": [],
   "source": [
    "num_digits = 10\n",
    "num_samples = y.shape[0]\n",
    "\n",
    "y = y.reshape(1, num_samples)\n",
    "\n",
    "y_new = np.eye(num_digits)[y.astype('int32')]\n",
    "y_new = y_new.T.reshape(num_digits,num_samples)"
   ]
  },
  {
   "cell_type": "markdown",
   "id": "bound-sudan",
   "metadata": {
    "id": "bound-sudan"
   },
   "source": [
    "### Step v3.3 : re-split, reshape, and re-shuffle the training set\n",
    "* 80%-20% train-test split of the X,y dataset\n",
    "* We also transform the shape of dataset so that each sample are placed in a column instead of row. This will ease matrix operations"
   ]
  },
  {
   "cell_type": "code",
   "execution_count": null,
   "id": "associate-testament",
   "metadata": {
    "id": "associate-testament"
   },
   "outputs": [],
   "source": [
    "n = len(X) #total number of samples in the dataset\n",
    "m = int(n*0.8) #80% of total samples will go to the training set, and rest will go to test set.\n",
    "m_test = X.shape[0] - m #The rest, i.e., 20% will go to test."
   ]
  },
  {
   "cell_type": "code",
   "execution_count": null,
   "id": "generic-commodity",
   "metadata": {
    "id": "generic-commodity"
   },
   "outputs": [],
   "source": [
    "#Now split the X, y into (X_train,y_train), and (X_test,y_test) tuples\n",
    "X_train, X_test = X[:m].T, X[m:].T\n",
    "y_train, y_test = y_new[:,:m], y_new[:,m:]"
   ]
  },
  {
   "cell_type": "code",
   "execution_count": null,
   "id": "proud-slovak",
   "metadata": {
    "id": "proud-slovak"
   },
   "outputs": [],
   "source": [
    "#And, shuffle the training set\n",
    "np.random.seed(4321)\n",
    "shuffle_indices = np.random.permutation(m)\n",
    "X_train, y_train = X_train[:,shuffle_indices], y_train[:,shuffle_indices]"
   ]
  },
  {
   "cell_type": "code",
   "execution_count": null,
   "id": "stock-norfolk",
   "metadata": {
    "colab": {
     "base_uri": "https://localhost:8080/",
     "height": 1000
    },
    "id": "stock-norfolk",
    "outputId": "8de0fcdc-3032-4787-e7f6-38c746a4f153"
   },
   "outputs": [
    {
     "data": {
      "image/png": "[encoded data removed]",
      "text/plain": [
       "<Figure size 432x288 with 1 Axes>"
      ]
     },
     "metadata": {},
     "output_type": "display_data"
    },
    {
     "data": {
      "image/png": "[encoded data removed]",
      "text/plain": [
       "<Figure size 432x288 with 1 Axes>"
      ]
     },
     "metadata": {},
     "output_type": "display_data"
    },
    {
     "data": {
      "image/png": "[encoded data removed]",
      "text/plain": [
       "<Figure size 432x288 with 1 Axes>"
      ]
     },
     "metadata": {},
     "output_type": "display_data"
    },
    {
     "data": {
      "image/png": "[encoded data removed]",
      "text/plain": [
       "<Figure size 432x288 with 1 Axes>"
      ]
     },
     "metadata": {},
     "output_type": "display_data"
    },
    {
     "data": {
      "image/png": "[encoded data removed]",
      "text/plain": [
       "<Figure size 432x288 with 1 Axes>"
      ]
     },
     "metadata": {},
     "output_type": "display_data"
    },
    {
     "data": {
      "image/png": "[encoded data removed]",
      "text/plain": [
       "<Figure size 432x288 with 1 Axes>"
      ]
     },
     "metadata": {},
     "output_type": "display_data"
    },
    {
     "data": {
      "image/png": "[encoded data removed]",
      "text/plain": [
       "<Figure size 432x288 with 1 Axes>"
      ]
     },
     "metadata": {},
     "output_type": "display_data"
    },
    {
     "data": {
      "image/png": "[encoded data removed]",
      "text/plain": [
       "<Figure size 432x288 with 1 Axes>"
      ]
     },
     "metadata": {},
     "output_type": "display_data"
    },
    {
     "data": {
      "image/png": "[encoded data removed]",
      "text/plain": [
       "<Figure size 432x288 with 1 Axes>"
      ]
     },
     "metadata": {},
     "output_type": "display_data"
    },
    {
     "data": {
      "image/png": "[encoded data removed]",
      "text/plain": [
       "<Figure size 432x288 with 1 Axes>"
      ]
     },
     "metadata": {},
     "output_type": "display_data"
    },
    {
     "data": {
      "image/png": "[encoded data removed]",
      "text/plain": [
       "<Figure size 432x288 with 1 Axes>"
      ]
     },
     "metadata": {},
     "output_type": "display_data"
    },
    {
     "data": {
      "image/png": "[encoded data removed]",
      "text/plain": [
       "<Figure size 432x288 with 1 Axes>"
      ]
     },
     "metadata": {},
     "output_type": "display_data"
    },
    {
     "data": {
      "image/png": "[encoded data removed]",
      "text/plain": [
       "<Figure size 432x288 with 1 Axes>"
      ]
     },
     "metadata": {},
     "output_type": "display_data"
    },
    {
     "data": {
      "image/png": "[encoded data removed]",
      "text/plain": [
       "<Figure size 432x288 with 1 Axes>"
      ]
     },
     "metadata": {},
     "output_type": "display_data"
    },
    {
     "data": {
      "image/png": "[encoded data removed]",
      "text/plain": [
       "<Figure size 432x288 with 1 Axes>"
      ]
     },
     "metadata": {},
     "output_type": "display_data"
    },
    {
     "data": {
      "image/png": "[encoded data removed]",
      "text/plain": [
       "<Figure size 432x288 with 1 Axes>"
      ]
     },
     "metadata": {},
     "output_type": "display_data"
    },
    {
     "data": {
      "image/png": "[encoded data removed]",
      "text/plain": [
       "<Figure size 432x288 with 1 Axes>"
      ]
     },
     "metadata": {},
     "output_type": "display_data"
    },
    {
     "data": {
      "image/png": "[encoded data removed]",
      "text/plain": [
       "<Figure size 432x288 with 1 Axes>"
      ]
     },
     "metadata": {},
     "output_type": "display_data"
    },
    {
     "data": {
      "image/png": "[encoded data removed]",
      "text/plain": [
       "<Figure size 432x288 with 1 Axes>"
      ]
     },
     "metadata": {},
     "output_type": "display_data"
    },
    {
     "data": {
      "image/png": "[encoded data removed]",
      "text/plain": [
       "<Figure size 432x288 with 1 Axes>"
      ]
     },
     "metadata": {},
     "output_type": "display_data"
    }
   ],
   "source": [
    "#Print a random sample\n",
    "for idx in range(20):\n",
    "    plt.imshow(X_train[:,idx].reshape(28,28),cmap=matplotlib.cm.binary)\n",
    "    plt.axis('off')\n",
    "    plt.title('A sample with Label {}'.format(y_train[:,idx]))\n",
    "    plt.show()\n",
    "    #print(y_train[:,idx])"
   ]
  },
  {
   "cell_type": "markdown",
   "id": "further-mexican",
   "metadata": {
    "id": "further-mexican"
   },
   "source": [
    "### Step v3.4 : Forward propagation\n",
    "* Only the last layer of our network is changing.\n",
    "* To add the `softmax`, we have to replace our lone, final node with a 10-unit output layer. Its final activations are the exponentials of its $z$-values, normalized across all ten such exponentials.\n",
    "* So, instead of just computing $\\sigma(z)$, we compute the activation, $a_i$ for each unit $i$:\n",
    "$$\n",
    "a_i = \\dfrac{e^{z_i}}{ \\sum_{j=0}^9 e^{z_j}}\n",
    "$$\n",
    "* In our vectorized code, the last of forward propagation will be `A2 = np.exp(Z2) / np.sum(np.exp(Z2),axis=0)`"
   ]
  },
  {
   "cell_type": "markdown",
   "id": "acknowledged-receipt",
   "metadata": {
    "id": "acknowledged-receipt"
   },
   "source": [
    "### Step v3.5: Cost (i.e., loss) function\n",
    "* The cost function now has to generalize to more than two classes. The general formula for $n$ classes is:\n",
    "$$\n",
    "L(y,\\hat{y}) = - \\sum_{i=0}^n y_i\\log(\\hat{y}_i)\n",
    "$$\n",
    "* Averaging over $m$ training samples, this becomes:\n",
    "$$\n",
    "L(y,\\hat{y}) = - \\dfrac{1}{m}\\sum_{j=0}^m\\sum_{i=0}^n y_i\\log(\\hat{y}_i)\n",
    "$$\n",
    "* Okay? Now, let's define the multi-class loss function that we can call categorical cross entropy loss."
   ]
  },
  {
   "cell_type": "code",
   "execution_count": null,
   "id": "limiting-context",
   "metadata": {
    "id": "limiting-context"
   },
   "outputs": [],
   "source": [
    "def compute_categorical_cross_entropy_loss(y_hat, y):\n",
    "    L_sum = np.sum(np.multiply(y, np.log(y_hat)))\n",
    "    m = y.shape[1]\n",
    "    L = -(1/m)*L_sum\n",
    "    \n",
    "    return L"
   ]
  },
  {
   "cell_type": "code",
   "execution_count": null,
   "id": "AEPi2_Scqzwa",
   "metadata": {
    "id": "AEPi2_Scqzwa"
   },
   "outputs": [],
   "source": [
    "@tf.function\n",
    "def TF_compute_categorical_cross_entropy_loss(y_hat, y):\n",
    "    L_sum = tf.reduce_sum(tf.multiply(y, tf.math.log(y_hat)))\n",
    "    m = y.shape[1]\n",
    "    #L = -(1/m)*L_sum\n",
    "    L = tf.multiply(tf.negative(tf.divide(tf.constant(1.),tf.constant(m,dtype=tf.float32))),L_sum)\n",
    "    \n",
    "    return L"
   ]
  },
  {
   "cell_type": "markdown",
   "id": "facial-flavor",
   "metadata": {
    "id": "facial-flavor"
   },
   "source": [
    "### Step v3.6: Backpropagation\n",
    "* Luckily it turns out that backprop is not really affected by the switch to a softmax.\n",
    "* A softmax generalizes the sigmoid activation we have been using, and in such a way that the code we wrote earlier will still work.\n",
    "* You can verify that by inspecting the following derivative:\n",
    "$$\n",
    "\\dfrac{\\partial L}{\\partial z_i} = \\hat{y}_i - y_i\n",
    "$$"
   ]
  },
  {
   "cell_type": "markdown",
   "id": "dietary-participation",
   "metadata": {
    "id": "dietary-participation"
   },
   "source": [
    "### Step v3.7: Build and train"
   ]
  },
  {
   "cell_type": "code",
   "execution_count": null,
   "id": "sunset-enough",
   "metadata": {
    "id": "sunset-enough"
   },
   "outputs": [],
   "source": [
    "n_x = X_train.shape[0]   #number of variables per sample in the training set\n",
    "n_h = 64                 #number of units in the hidden layer\n",
    "learning_rate = 1"
   ]
  },
  {
   "cell_type": "code",
   "execution_count": null,
   "id": "dominant-cloud",
   "metadata": {
    "id": "dominant-cloud"
   },
   "outputs": [],
   "source": [
    "#Weight initialization\n",
    "W1 = np.random.randn(n_h, n_x)\n",
    "b1 = np.zeros((n_h, 1))\n",
    "W2 = np.random.randn(num_digits, n_h)\n",
    "b2 = np.zeros((num_digits, 1))"
   ]
  },
  {
   "cell_type": "code",
   "execution_count": null,
   "id": "sudden-rental",
   "metadata": {
    "id": "sudden-rental"
   },
   "outputs": [],
   "source": [
    "X = X_train\n",
    "y = y_train"
   ]
  },
  {
   "cell_type": "code",
   "execution_count": null,
   "id": "reverse-edwards",
   "metadata": {
    "colab": {
     "base_uri": "https://localhost:8080/",
     "height": 265
    },
    "id": "reverse-edwards",
    "outputId": "b3184f7c-8762-4530-b4bc-3ae20fd2b312"
   },
   "outputs": [
    {
     "name": "stderr",
     "output_type": "stream",
     "text": [
      "Epoch [0]: Cost [6.522889197279767]:   0%|          | 9/2000 [00:08<32:45,  1.01it/s]\n"
     ]
    },
    {
     "ename": "KeyboardInterrupt",
     "evalue": "ignored",
     "output_type": "error",
     "traceback": [
      "\u001b[0;31m---------------------------------------------------------------------------\u001b[0m",
      "\u001b[0;31mKeyboardInterrupt\u001b[0m                         Traceback (most recent call last)",
      "\u001b[0;32m<ipython-input-102-5bcd29b29a66>\u001b[0m in \u001b[0;36m<module>\u001b[0;34m()\u001b[0m\n\u001b[1;32m      5\u001b[0m \u001b[0;34m\u001b[0m\u001b[0m\n\u001b[1;32m      6\u001b[0m     \u001b[0;31m#Forward propagation\u001b[0m\u001b[0;34m\u001b[0m\u001b[0;34m\u001b[0m\u001b[0;34m\u001b[0m\u001b[0m\n\u001b[0;32m----> 7\u001b[0;31m     \u001b[0mZ1\u001b[0m \u001b[0;34m=\u001b[0m \u001b[0mnp\u001b[0m\u001b[0;34m.\u001b[0m\u001b[0mmatmul\u001b[0m\u001b[0;34m(\u001b[0m\u001b[0mW1\u001b[0m\u001b[0;34m,\u001b[0m\u001b[0mX\u001b[0m\u001b[0;34m)\u001b[0m \u001b[0;34m+\u001b[0m \u001b[0mb1\u001b[0m\u001b[0;34m\u001b[0m\u001b[0;34m\u001b[0m\u001b[0m\n\u001b[0m\u001b[1;32m      8\u001b[0m     \u001b[0mA1\u001b[0m \u001b[0;34m=\u001b[0m \u001b[0msigmoid\u001b[0m\u001b[0;34m(\u001b[0m\u001b[0mZ1\u001b[0m\u001b[0;34m)\u001b[0m\u001b[0;34m\u001b[0m\u001b[0;34m\u001b[0m\u001b[0m\n\u001b[1;32m      9\u001b[0m     \u001b[0mZ2\u001b[0m \u001b[0;34m=\u001b[0m \u001b[0mnp\u001b[0m\u001b[0;34m.\u001b[0m\u001b[0mmatmul\u001b[0m\u001b[0;34m(\u001b[0m\u001b[0mW2\u001b[0m\u001b[0;34m,\u001b[0m\u001b[0mA1\u001b[0m\u001b[0;34m)\u001b[0m \u001b[0;34m+\u001b[0m \u001b[0mb2\u001b[0m\u001b[0;34m\u001b[0m\u001b[0;34m\u001b[0m\u001b[0m\n",
      "\u001b[0;31mKeyboardInterrupt\u001b[0m: "
     ]
    }
   ],
   "source": [
    "max_iter = 2000\n",
    "\n",
    "progress_bar = tqdm(range(max_iter))\n",
    "for i in progress_bar:\n",
    "\n",
    "    #Forward propagation\n",
    "    Z1 = np.matmul(W1,X) + b1\n",
    "    A1 = sigmoid(Z1)\n",
    "    Z2 = np.matmul(W2,A1) + b2\n",
    "    A2 = np.exp(Z2) / np.sum(np.exp(Z2), axis=0)  #this is the softmax\n",
    "\n",
    "    cost = compute_categorical_cross_entropy_loss(A2, y)\n",
    "\n",
    "    #Compute all the derivatives\n",
    "    dZ2 = A2-y\n",
    "    dW2 = (1./m) * np.matmul(dZ2, A1.T)\n",
    "    db2 = (1./m) * np.sum(dZ2, axis=1, keepdims=True)\n",
    "\n",
    "    dA1 = np.matmul(W2.T, dZ2)\n",
    "    dZ1 = dA1 * sigmoid(Z1) * (1 - sigmoid(Z1))\n",
    "    dW1 = (1./m) * np.matmul(dZ1, X.T)\n",
    "    db1 = (1./m) * np.sum(dZ1, axis=1, keepdims=True)\n",
    "    \n",
    "    #Gradient descent weight updates\n",
    "    W2 = W2 - learning_rate * dW2\n",
    "    b2 = b2 - learning_rate * db2\n",
    "    W1 = W1 - learning_rate * dW1\n",
    "    b1 = b1 - learning_rate * db1\n",
    "\n",
    "    #Debug point\n",
    "    if (i % 100 == 0):\n",
    "        progress_bar.set_description('Epoch [{}]: Cost [{}]'.format(i,cost))\n",
    "\n",
    "print(\"\\nFinal cost:\", cost)"
   ]
  },
  {
   "cell_type": "code",
   "execution_count": null,
   "id": "L2XH9jZfrpF3",
   "metadata": {
    "id": "L2XH9jZfrpF3"
   },
   "outputs": [],
   "source": [
    "n_x = X_train.shape[0]   #number of variables per sample in the training set\n",
    "n_h = 64                 #number of units in the hidden layer\n",
    "learning_rate = 1"
   ]
  },
  {
   "cell_type": "code",
   "execution_count": null,
   "id": "RhRNus9CroyO",
   "metadata": {
    "id": "RhRNus9CroyO"
   },
   "outputs": [],
   "source": [
    "#Weight initialization\n",
    "TF_W1 = tf.Variable(np.random.randn(n_h, n_x), dtype=tf.float32)\n",
    "TF_b1 = tf.Variable(np.zeros((n_h, 1)), dtype=tf.float32)\n",
    "TF_W2 = tf.Variable(np.random.randn(num_digits, n_h), dtype=tf.float32)\n",
    "TF_b2 = tf.Variable(np.zeros((num_digits, 1)), dtype=tf.float32)"
   ]
  },
  {
   "cell_type": "code",
   "execution_count": null,
   "id": "8QXtg0JnrofV",
   "metadata": {
    "id": "8QXtg0JnrofV"
   },
   "outputs": [],
   "source": [
    "TF_X = tf.Variable(X_train, dtype=tf.float32)\n",
    "TF_y = tf.Variable(y_train, dtype=tf.float32)"
   ]
  },
  {
   "cell_type": "code",
   "execution_count": null,
   "id": "QiMhT50xroJu",
   "metadata": {
    "colab": {
     "base_uri": "https://localhost:8080/"
    },
    "id": "QiMhT50xroJu",
    "outputId": "ace270e7-4b6a-47b0-90ff-87fdeec8f19b"
   },
   "outputs": [
    {
     "name": "stderr",
     "output_type": "stream",
     "text": [
      "Epoch [1900]: Cost [0.22547344863414764]: 100%|██████████| 2000/2000 [00:23<00:00, 83.97it/s]"
     ]
    },
    {
     "name": "stdout",
     "output_type": "stream",
     "text": [
      "\n",
      "Final cost: tf.Tensor(0.22004856, shape=(), dtype=float32)\n"
     ]
    },
    {
     "name": "stderr",
     "output_type": "stream",
     "text": [
      "\n"
     ]
    }
   ],
   "source": [
    "max_iter = 2000\n",
    "\n",
    "progress_bar = tqdm(range(max_iter))\n",
    "for i in progress_bar:\n",
    "\n",
    "    #Forward propagation\n",
    "    #Z1 = np.matmul(W1,X) + b1\n",
    "    TF_Z1 = tf.add(tf.matmul(TF_W1, TF_X), TF_b1)\n",
    "    #A1 = sigmoid(Z1)\n",
    "    TF_A1 = TF_sigmoid(TF_Z1)\n",
    "    #Z2 = np.matmul(W2,A1) + b2\n",
    "    TF_Z2 = tf.add(tf.matmul(TF_W2, TF_A1), TF_b2)\n",
    "    #A2 = np.exp(Z2) / np.sum(np.exp(Z2), axis=0)  #this is the softmax\n",
    "    TF_A2 = tf.divide(tf.math.exp(TF_Z2), tf.reduce_sum(tf.math.exp(TF_Z2),axis=0))\n",
    "\n",
    "    cost = TF_compute_categorical_cross_entropy_loss(TF_A2, TF_y)\n",
    "\n",
    "    #Compute all the derivatives\n",
    "    #dZ2 = A2-y\n",
    "    TF_dZ2 = tf.subtract(TF_A2,TF_y)\n",
    "    #dW2 = (1./m) * np.matmul(dZ2, A1.T)\n",
    "    TF_dW2 = tf.multiply( tf.divide( tf.constant(1.),tf.constant(m,dtype=tf.float32)), \n",
    "                          tf.matmul(TF_dZ2, tf.transpose(TF_A1)))\n",
    "    #db2 = (1./m) * np.sum(dZ2, axis=1, keepdims=True)\n",
    "    TF_db2 = tf.multiply( tf.divide( tf.constant(1.),tf.constant(m,dtype=tf.float32)),\n",
    "                          tf.reduce_sum(TF_dZ2,axis=1,keepdims=True)\n",
    "                         )\n",
    "\n",
    "    #dA1 = np.matmul(W2.T, dZ2)\n",
    "    TF_dA1 = tf.matmul(tf.transpose(TF_W2), TF_dZ2)\n",
    "    #dZ1 = dA1 * sigmoid(Z1) * (1 - sigmoid(Z1))\n",
    "    TF_dZ1 = tf.multiply(tf.multiply( TF_dA1, TF_sigmoid(TF_Z1)), \n",
    "                       tf.subtract(tf.constant(1.), TF_sigmoid(TF_Z1)) )\n",
    "    #dW1 = (1./m) * np.matmul(dZ1, X.T)\n",
    "    TF_dW1 = tf.multiply( tf.divide(tf.constant(1.), tf.constant(m, dtype=tf.float32)),\n",
    "                          tf.matmul(TF_dZ1, tf.transpose(TF_X)) )\n",
    "    #db1 = (1./m) * np.sum(dZ1, axis=1, keepdims=True)\n",
    "    TF_db1 = tf.multiply(tf.divide(tf.constant(1.),tf.constant(m,dtype=tf.float32)),\n",
    "                         tf.reduce_sum(TF_dZ1, axis=1, keepdims=True))\n",
    "    \n",
    "    #Gradient descent weight updates\n",
    "    #W2 = W2 - learning_rate * dW2\n",
    "    TF_W2 = tf.subtract(TF_W2, tf.multiply(tf.constant(learning_rate,dtype=tf.float32),TF_dW2))\n",
    "    #b2 = b2 - learning_rate * db2\n",
    "    TF_b2 = tf.subtract(TF_b2, tf.multiply(tf.constant(learning_rate,dtype=tf.float32),TF_db2))\n",
    "    #W1 = W1 - learning_rate * dW1\n",
    "    TF_W1 = tf.subtract(TF_W1, tf.multiply(tf.constant(learning_rate,dtype=tf.float32),TF_dW1))\n",
    "    #b1 = b1 - learning_rate * db1\n",
    "    TF_b1 = tf.subtract(TF_b1, tf.multiply(tf.constant(learning_rate,dtype=tf.float32),TF_db1))\n",
    "\n",
    "    #Debug point\n",
    "    if (i % 100 == 0):\n",
    "        progress_bar.set_description('Epoch [{}]: Cost [{}]'.format(i,cost))\n",
    "\n",
    "print(\"\\nFinal cost:\", cost)"
   ]
  },
  {
   "cell_type": "markdown",
   "id": "lyric-tender",
   "metadata": {
    "id": "lyric-tender"
   },
   "source": [
    "### Step v3.8 Evaluation"
   ]
  },
  {
   "cell_type": "code",
   "execution_count": null,
   "id": "wanted-habitat",
   "metadata": {
    "id": "wanted-habitat"
   },
   "outputs": [],
   "source": [
    "TF_X = tf.Variable(X_test, dtype=tf.float32)\n",
    "# Feed forward test dataset onto the hidden layer, with W1, b1 trained.\n",
    "TF_Z1 = tf.add(tf.matmul(TF_W1, TF_X), TF_b1) #the net_in\n",
    "TF_A1 = TF_sigmoid(TF_Z1)                  #activated output from the hidden layer\n",
    "#now, feed forward the hidden layer output to the next layer, output layer\n",
    "TF_Z2 = tf.add(tf.matmul(TF_W2,TF_A1), TF_b2)        #the net_in\n",
    "TF_A2 = tf.divide( tf.math.exp(TF_Z2), tf.reduce_sum(tf.math.exp(TF_Z2), axis=0))  #softmax activated output from the output layer, \n",
    "                                              # it's the hat(y), the prediction\n",
    "A2 = TF_A2.numpy() #convert it back to numpy"
   ]
  },
  {
   "cell_type": "code",
   "execution_count": null,
   "id": "appointed-samoa",
   "metadata": {
    "id": "appointed-samoa"
   },
   "outputs": [],
   "source": [
    "predictions = np.argmax(A2, axis=0)  #our predictions. Please note the usage of argmax()\n",
    "labels = np.argmax(y_test, axis=0)    #the ground-true class labels"
   ]
  },
  {
   "cell_type": "code",
   "execution_count": null,
   "id": "auburn-afternoon",
   "metadata": {
    "colab": {
     "base_uri": "https://localhost:8080/"
    },
    "id": "auburn-afternoon",
    "outputId": "c962b3e9-1da8-4ec7-e366-0def47808064"
   },
   "outputs": [
    {
     "name": "stdout",
     "output_type": "stream",
     "text": [
      "Confusion matrix: \n",
      "[[807   0  15   3   3   8   8   2   3   8]\n",
      " [  0 922   1   2   6   3   1   3  18   6]\n",
      " [  7   4 717  31   5   5  10  14   9   1]\n",
      " [  5   6  11 783   1  27   0   6  20  11]\n",
      " [  0   1  11   0 749  12   5   6   4  28]\n",
      " [  8   1   2  26   0 649   6   3  20   8]\n",
      " [ 10   1  13   4  12  13 799   1   8   0]\n",
      " [  1   1   7   8   2   4   0 836   1  35]\n",
      " [  8  13  21  18   4  20   2   3 713   7]\n",
      " [  6   1   3   7  29   6   0  10   6 736]]\n"
     ]
    }
   ],
   "source": [
    "#Now, build the confusion matrix\n",
    "conf_mat = confusion_matrix(predictions,labels)\n",
    "print('Confusion matrix: \\n{}'.format(conf_mat))"
   ]
  },
  {
   "cell_type": "markdown",
   "id": "minus-affair",
   "metadata": {
    "id": "minus-affair"
   },
   "source": [
    "* And the classification report below. You can see the performance is extra-ordinarily good."
   ]
  },
  {
   "cell_type": "code",
   "execution_count": null,
   "id": "peripheral-phrase",
   "metadata": {
    "colab": {
     "base_uri": "https://localhost:8080/"
    },
    "id": "peripheral-phrase",
    "outputId": "90253e4e-d4a9-4959-e8b4-f39cdfee849f",
    "scrolled": false
   },
   "outputs": [
    {
     "name": "stdout",
     "output_type": "stream",
     "text": [
      "Classification report on the test set: \n",
      "              precision    recall  f1-score   support\n",
      "\n",
      "           0       0.95      0.94      0.94       857\n",
      "           1       0.97      0.96      0.96       962\n",
      "           2       0.90      0.89      0.89       803\n",
      "           3       0.89      0.90      0.89       870\n",
      "           4       0.92      0.92      0.92       816\n",
      "           5       0.87      0.90      0.88       723\n",
      "           6       0.96      0.93      0.94       861\n",
      "           7       0.95      0.93      0.94       895\n",
      "           8       0.89      0.88      0.89       809\n",
      "           9       0.88      0.92      0.90       804\n",
      "\n",
      "    accuracy                           0.92      8400\n",
      "   macro avg       0.92      0.92      0.92      8400\n",
      "weighted avg       0.92      0.92      0.92      8400\n",
      "\n"
     ]
    }
   ],
   "source": [
    "print('Classification report on the test set: \\n{}'.format(classification_report(predictions,labels)))"
   ]
  },
  {
   "cell_type": "markdown",
   "id": "meaningful-slovenia",
   "metadata": {
    "id": "meaningful-slovenia"
   },
   "source": [
    "## Building a Neural Network (version 4)\n",
    "\n",
    "* Let's improve our training algorithm from version 3.\n",
    "* The main driver in this improvement is just switching from `batch gradient descent` to `mini-batch gradient descent`.\n",
    "* There are 2 other smaller improvements:\n",
    "    1. We will add momentum to our gradient descent algorithm.\n",
    "    2. We will use clever technique to initialize all the weights of the network"
   ]
  },
  {
   "cell_type": "markdown",
   "id": "frank-writing",
   "metadata": {
    "id": "frank-writing"
   },
   "source": [
    "### Step v4.1 the dataset loading and scaling"
   ]
  },
  {
   "cell_type": "code",
   "execution_count": null,
   "id": "alternative-drove",
   "metadata": {
    "id": "alternative-drove"
   },
   "outputs": [],
   "source": [
    "# Load the original dataset again which contained the original labels 0-9 for each sample.\n",
    "dataset = pd.read_csv(mnist_path + 'mnist-dataset/train.csv')\n",
    "X = np.array(dataset.drop('label',axis=1))\n",
    "y = np.array(dataset['label'])\n",
    "X = X / 255   #don't forget to scale"
   ]
  },
  {
   "cell_type": "markdown",
   "id": "handed-tourism",
   "metadata": {
    "id": "handed-tourism"
   },
   "source": [
    "### Step v4.2: One-hot encode the MNIST labels for each sample"
   ]
  },
  {
   "cell_type": "markdown",
   "id": "assumed-coordinator",
   "metadata": {
    "id": "assumed-coordinator"
   },
   "source": [
    "* We need to one-hot encode MNIST labels for each sample; that is, each label will become 10-dimensional one-hot vector, where index $i$ will be hot (i.e., 1) if the label is $i$.\n",
    "* For example, \n",
    "* a label '7' will be one-hot encoded as `[0, 0, 0, 0, 0,  0, 1, 0, 0, 0]`\n",
    "* a label '1' will be one-hot encoded as `[0, 1, 0, 0, 0,  0, 0, 0, 0, 0]`\n",
    "* etc."
   ]
  },
  {
   "cell_type": "code",
   "execution_count": null,
   "id": "regulation-wichita",
   "metadata": {
    "id": "regulation-wichita"
   },
   "outputs": [],
   "source": [
    "num_digits = 10\n",
    "num_samples = y.shape[0]\n",
    "\n",
    "y = y.reshape(1, num_samples)\n",
    "\n",
    "y_new = np.eye(num_digits)[y.astype('int32')]\n",
    "y_new = y_new.T.reshape(num_digits,num_samples)"
   ]
  },
  {
   "cell_type": "markdown",
   "id": "renewable-kingdom",
   "metadata": {
    "id": "renewable-kingdom"
   },
   "source": [
    "### Step v4.3 : re-split, reshape, and re-shuffle the training set\n",
    "* 80%-20% train-test split of the X,y dataset\n",
    "* We also transform the shape of dataset so that each sample are placed in a column instead of row. This will ease matrix operations"
   ]
  },
  {
   "cell_type": "code",
   "execution_count": null,
   "id": "naval-modern",
   "metadata": {
    "id": "naval-modern"
   },
   "outputs": [],
   "source": [
    "n = len(X) #total number of samples in the dataset\n",
    "m = int(n*0.8) #80% of total samples will go to the training set, and rest will go to test set.\n",
    "m_test = X.shape[0] - m #The rest, i.e., 20% will go to test."
   ]
  },
  {
   "cell_type": "code",
   "execution_count": null,
   "id": "southern-avatar",
   "metadata": {
    "id": "southern-avatar"
   },
   "outputs": [],
   "source": [
    "#Now split the X, y into (X_train,y_train), and (X_test,y_test) tuples\n",
    "X_train, X_test = X[:m].T, X[m:].T\n",
    "y_train, y_test = y_new[:,:m], y_new[:,m:]"
   ]
  },
  {
   "cell_type": "code",
   "execution_count": null,
   "id": "qualified-wales",
   "metadata": {
    "id": "qualified-wales"
   },
   "outputs": [],
   "source": [
    "#And, shuffle the training set\n",
    "np.random.seed(4321)\n",
    "shuffle_indices = np.random.permutation(m)\n",
    "X_train, y_train = X_train[:,shuffle_indices], y_train[:,shuffle_indices]"
   ]
  },
  {
   "cell_type": "code",
   "execution_count": null,
   "id": "republican-martial",
   "metadata": {
    "colab": {
     "base_uri": "https://localhost:8080/",
     "height": 1000
    },
    "id": "republican-martial",
    "outputId": "102922dd-5f95-416d-dd21-eae71ca0d14f"
   },
   "outputs": [
    {
     "data": {
      "image/png": "[encoded data removed]",
      "text/plain": [
       "<Figure size 432x288 with 1 Axes>"
      ]
     },
     "metadata": {},
     "output_type": "display_data"
    },
    {
     "data": {
      "image/png": "[encoded data removed]",
      "text/plain": [
       "<Figure size 432x288 with 1 Axes>"
      ]
     },
     "metadata": {},
     "output_type": "display_data"
    },
    {
     "data": {
      "image/png": "[encoded data removed]",
      "text/plain": [
       "<Figure size 432x288 with 1 Axes>"
      ]
     },
     "metadata": {},
     "output_type": "display_data"
    },
    {
     "data": {
      "image/png": "[encoded data removed]",
      "text/plain": [
       "<Figure size 432x288 with 1 Axes>"
      ]
     },
     "metadata": {},
     "output_type": "display_data"
    },
    {
     "data": {
      "image/png": "[encoded data removed]",
      "text/plain": [
       "<Figure size 432x288 with 1 Axes>"
      ]
     },
     "metadata": {},
     "output_type": "display_data"
    },
    {
     "data": {
      "image/png": "[encoded data removed]",
      "text/plain": [
       "<Figure size 432x288 with 1 Axes>"
      ]
     },
     "metadata": {},
     "output_type": "display_data"
    },
    {
     "data": {
      "image/png": "[encoded data removed]",
      "text/plain": [
       "<Figure size 432x288 with 1 Axes>"
      ]
     },
     "metadata": {},
     "output_type": "display_data"
    },
    {
     "data": {
      "image/png": "[encoded data removed]",
      "text/plain": [
       "<Figure size 432x288 with 1 Axes>"
      ]
     },
     "metadata": {},
     "output_type": "display_data"
    },
    {
     "data": {
      "image/png": "[encoded data removed]",
      "text/plain": [
       "<Figure size 432x288 with 1 Axes>"
      ]
     },
     "metadata": {},
     "output_type": "display_data"
    },
    {
     "data": {
      "image/png": "[encoded data removed]",
      "text/plain": [
       "<Figure size 432x288 with 1 Axes>"
      ]
     },
     "metadata": {},
     "output_type": "display_data"
    },
    {
     "data": {
      "image/png": "[encoded data removed]",
      "text/plain": [
       "<Figure size 432x288 with 1 Axes>"
      ]
     },
     "metadata": {},
     "output_type": "display_data"
    },
    {
     "data": {
      "image/png": "[encoded data removed]",
      "text/plain": [
       "<Figure size 432x288 with 1 Axes>"
      ]
     },
     "metadata": {},
     "output_type": "display_data"
    },
    {
     "data": {
      "image/png": "[encoded data removed]",
      "text/plain": [
       "<Figure size 432x288 with 1 Axes>"
      ]
     },
     "metadata": {},
     "output_type": "display_data"
    },
    {
     "data": {
      "image/png": "[encoded data removed]",
      "text/plain": [
       "<Figure size 432x288 with 1 Axes>"
      ]
     },
     "metadata": {},
     "output_type": "display_data"
    },
    {
     "data": {
      "image/png": "[encoded data removed]",
      "text/plain": [
       "<Figure size 432x288 with 1 Axes>"
      ]
     },
     "metadata": {},
     "output_type": "display_data"
    },
    {
     "data": {
      "image/png": "[encoded data removed]",
      "text/plain": [
       "<Figure size 432x288 with 1 Axes>"
      ]
     },
     "metadata": {},
     "output_type": "display_data"
    },
    {
     "data": {
      "image/png": "[encoded data removed]",
      "text/plain": [
       "<Figure size 432x288 with 1 Axes>"
      ]
     },
     "metadata": {},
     "output_type": "display_data"
    },
    {
     "data": {
      "image/png": "[encoded data removed]",
      "text/plain": [
       "<Figure size 432x288 with 1 Axes>"
      ]
     },
     "metadata": {},
     "output_type": "display_data"
    },
    {
     "data": {
      "image/png": "[encoded data removed]",
      "text/plain": [
       "<Figure size 432x288 with 1 Axes>"
      ]
     },
     "metadata": {},
     "output_type": "display_data"
    },
    {
     "data": {
      "image/png": "[encoded data removed]",
      "text/plain": [
       "<Figure size 432x288 with 1 Axes>"
      ]
     },
     "metadata": {},
     "output_type": "display_data"
    }
   ],
   "source": [
    "#Print a random sample\n",
    "for idx in range(20):\n",
    "    plt.imshow(X_train[:,idx].reshape(28,28),cmap=matplotlib.cm.binary)\n",
    "    plt.axis('off')\n",
    "    plt.title('A sample with Label {}'.format(y_train[:,idx]))\n",
    "    plt.show()\n",
    "    #print(y_train[:,idx])"
   ]
  },
  {
   "cell_type": "markdown",
   "id": "black-nicaragua",
   "metadata": {
    "id": "black-nicaragua"
   },
   "source": [
    "### Step v4.4 : defining few functions to modularize the codes we've developed before\n",
    "* Last 2 functions are new, and they just put the steps of forward and backward propagation into their own functions.\n",
    "    * This tidies up the training code to follow, so that we can focus on the new elements, especially the mini-batch gradient descent and the momentum.\n",
    "* Also, note that in the process we introduce 3 dictionaries: `params`, `cache`, and `grads`. These are for conveniently passing information back and forth between the forward and backward passes."
   ]
  },
  {
   "cell_type": "code",
   "execution_count": null,
   "id": "twenty-biodiversity",
   "metadata": {
    "id": "twenty-biodiversity"
   },
   "outputs": [],
   "source": [
    "def sigmoid(z):\n",
    "    s = 1. / (1. + np.exp(-z))\n",
    "    return s"
   ]
  },
  {
   "cell_type": "code",
   "execution_count": null,
   "id": "IjZ24VeJwhsN",
   "metadata": {
    "id": "IjZ24VeJwhsN"
   },
   "outputs": [],
   "source": [
    "## Week 05 material (with tensorflow)\n",
    "\n",
    "\"\"\" The sigmoid function that squashes input, z into the range [0,1] \"\"\"\n",
    "@tf.function\n",
    "def TF_sigmoid(z):\n",
    "    s = tf.divide( tf.constant(1.0), tf.add(tf.constant(1.0),tf.exp(tf.negative(z))) )\n",
    "    return s"
   ]
  },
  {
   "cell_type": "code",
   "execution_count": null,
   "id": "industrial-straight",
   "metadata": {
    "id": "industrial-straight"
   },
   "outputs": [],
   "source": [
    "def compute_categorical_entropy_loss(y_hat, y):\n",
    "\n",
    "    L_sum = np.sum(np.multiply(y, np.log(y_hat)))\n",
    "    m = y.shape[1]\n",
    "    L = -(1./m) * L_sum\n",
    "\n",
    "    return L"
   ]
  },
  {
   "cell_type": "code",
   "execution_count": null,
   "id": "UKgT8KvyxEld",
   "metadata": {
    "id": "UKgT8KvyxEld"
   },
   "outputs": [],
   "source": [
    "@tf.function\n",
    "def TF_compute_categorical_cross_entropy_loss(y_hat, y):\n",
    "    L_sum = tf.reduce_sum(tf.multiply(y, tf.math.log(y_hat)))\n",
    "    m = y.shape[1]\n",
    "    #L = -(1/m)*L_sum\n",
    "    L = tf.multiply(tf.negative(tf.divide(tf.constant(1.),tf.constant(m,dtype=tf.float32))),L_sum)\n",
    "    \n",
    "    return L"
   ]
  },
  {
   "cell_type": "code",
   "execution_count": null,
   "id": "horizontal-edgar",
   "metadata": {
    "id": "horizontal-edgar"
   },
   "outputs": [],
   "source": [
    "def feed_forward(X, params):\n",
    "\n",
    "    cache = {}\n",
    "\n",
    "    cache[\"Z1\"] = np.matmul(params[\"W1\"], X) + params[\"b1\"]\n",
    "    cache[\"A1\"] = sigmoid(cache[\"Z1\"])\n",
    "    cache[\"Z2\"] = np.matmul(params[\"W2\"], cache[\"A1\"]) + params[\"b2\"]\n",
    "    cache[\"A2\"] = np.exp(cache[\"Z2\"]) / np.sum(np.exp(cache[\"Z2\"]), axis=0)\n",
    "\n",
    "    return cache"
   ]
  },
  {
   "cell_type": "code",
   "execution_count": null,
   "id": "wcpok2NpxNth",
   "metadata": {
    "id": "wcpok2NpxNth"
   },
   "outputs": [],
   "source": [
    "@tf.function\n",
    "def TF_feed_forward(X, params):\n",
    "\n",
    "    cache = {}\n",
    "\n",
    "    cache[\"Z1\"] = tf.add(tf.matmul(params[\"W1\"], X), params[\"b1\"])\n",
    "    cache[\"A1\"] = TF_sigmoid(cache[\"Z1\"])\n",
    "    cache[\"Z2\"] = tf.add(tf.matmul(params[\"W2\"], cache[\"A1\"]), params[\"b2\"])\n",
    "    cache[\"A2\"] = tf.divide(tf.math.exp(cache[\"Z2\"]), tf.reduce_sum(tf.math.exp(cache[\"Z2\"]), axis=0))\n",
    "\n",
    "    return cache"
   ]
  },
  {
   "cell_type": "code",
   "execution_count": null,
   "id": "automated-handbook",
   "metadata": {
    "id": "automated-handbook"
   },
   "outputs": [],
   "source": [
    "def back_propagate(X, y, params, cache):\n",
    "\n",
    "    dZ2 = cache[\"A2\"] - y\n",
    "    dW2 = (1./m_batch) * np.matmul(dZ2, cache[\"A1\"].T)\n",
    "    db2 = (1./m_batch) * np.sum(dZ2, axis=1, keepdims=True)\n",
    "\n",
    "    dA1 = np.matmul(params[\"W2\"].T, dZ2)\n",
    "    dZ1 = dA1 * sigmoid(cache[\"Z1\"]) * (1 - sigmoid(cache[\"Z1\"]))\n",
    "    dW1 = (1./m_batch) * np.matmul(dZ1, X.T)\n",
    "    db1 = (1./m_batch) * np.sum(dZ1, axis=1, keepdims=True)\n",
    "\n",
    "    grads = {\"dW1\": dW1, \"db1\": db1, \"dW2\": dW2, \"db2\": db2}\n",
    "\n",
    "    return grads"
   ]
  },
  {
   "cell_type": "code",
   "execution_count": null,
   "id": "HRRC2kkAxrvj",
   "metadata": {
    "id": "HRRC2kkAxrvj"
   },
   "outputs": [],
   "source": [
    "@tf.function\n",
    "def TF_back_propagate(X, y, params, cache):\n",
    "\n",
    "    dZ2 = tf.subtract(cache[\"A2\"] , y)\n",
    "    dW2 = tf.multiply( tf.divide(tf.constant(1.), tf.constant(m_batch,dtype=tf.float32)) , \n",
    "                      tf.matmul(dZ2, tf.transpose(cache[\"A1\"])))\n",
    "    db2 = tf.multiply( tf.divide(tf.constant(1.), tf.constant(m_batch,dtype=tf.float32)) , \n",
    "                      tf.reduce_sum(dZ2, axis=1, keepdims=True) )\n",
    "\n",
    "    dA1 = tf.matmul(tf.transpose(params[\"W2\"]), dZ2)\n",
    "    dZ1 = tf.multiply(tf.multiply(dA1,TF_sigmoid(cache[\"Z1\"])), \n",
    "                      tf.subtract(tf.constant(1.), TF_sigmoid(cache[\"Z1\"])))\n",
    "    dW1 = tf.multiply(tf.divide(tf.constant(1.),tf.constant(m_batch,dtype=tf.float32)), tf.matmul(dZ1, tf.transpose(X)))\n",
    "    db1 = tf.multiply(tf.divide(tf.constant(1.),tf.constant(m_batch,dtype=tf.float32)), tf.reduce_sum(dZ1, axis=1, keepdims=True))\n",
    "\n",
    "    grads = {\"dW1\": dW1, \"db1\": db1, \"dW2\": dW2, \"db2\": db2}\n",
    "\n",
    "    return grads"
   ]
  },
  {
   "cell_type": "markdown",
   "id": "gentle-toyota",
   "metadata": {
    "id": "gentle-toyota"
   },
   "source": [
    "### Step v4.5: Build and train"
   ]
  },
  {
   "cell_type": "markdown",
   "id": "humanitarian-award",
   "metadata": {
    "id": "humanitarian-award"
   },
   "source": [
    "* To switch to mini-batch gradient descent, we add another `for` loop inside the pass through each epoch.\n",
    "* At each pass, we randomly shuffle the training set, then iterate through it in chunks of `batch_size`, which we will arbitrarily set to `128`."
   ]
  },
  {
   "cell_type": "markdown",
   "id": "saved-gregory",
   "metadata": {
    "id": "saved-gregory"
   },
   "source": [
    "* Next, we add `momentum`. We keep a moving average of our gradients. \n",
    "    * A reference article can be found here [Link](https://towardsdatascience.com/stochastic-gradient-descent-with-momentum-a84097641a5d)\n",
    "* So, instead of updating our parameters by doing \n",
    "\n",
    "`params[\"W1\"] = params[\"W1\"] - learning_rate * grads[\"dW1\"]`\n",
    "* we do this:\n",
    "\n",
    "`V_dW1 = (beta * V_dW1 + (1. - beta) * grads[\"dW1\"])`\n",
    "\n",
    "`params[\"W1\"] = params[\"W1\"] - learning_rate * V_dW1'`"
   ]
  },
  {
   "cell_type": "markdown",
   "id": "outer-toyota",
   "metadata": {
    "id": "outer-toyota"
   },
   "source": [
    "* Finally, we improve our weight initializations too. \n",
    "* We shrink the variance of the weights in each layer. We will set the variance for each layer to $\\dfrac{1}{n}$, where $n$ is the number of inputs feeding into that layer.\n",
    "* Previously, we have been using `np.random.randn()` function to get our weights initialized. And, this function draws from the standard normal distribution.\n",
    "* To adjust the variance to $\\dfrac{1}{n}$, we just divide by $\\sqrt{n}$.\n",
    "* In code, this means that instead of doing --\n",
    "\n",
    "`np.random.randn(n_h, n_x)`\n",
    "\n",
    "we do \n",
    "\n",
    "`np.random.randn(n_h,n_x) * np.sqrt(1. / n_x)`\n",
    "\n",
    "* A reference article can be found here [Link](https://towardsdatascience.com/weight-initialization-in-neural-networks-a-journey-from-the-basics-to-kaiming-954fb9b47c79)"
   ]
  },
  {
   "cell_type": "markdown",
   "id": "covered-consequence",
   "metadata": {
    "id": "covered-consequence"
   },
   "source": [
    "Okay, let's build and train!\n"
   ]
  },
  {
   "cell_type": "code",
   "execution_count": null,
   "id": "tender-receiver",
   "metadata": {
    "id": "tender-receiver"
   },
   "outputs": [],
   "source": [
    "np.random.seed(4321)"
   ]
  },
  {
   "cell_type": "code",
   "execution_count": null,
   "id": "maritime-medicare",
   "metadata": {
    "id": "maritime-medicare"
   },
   "outputs": [],
   "source": [
    "\n",
    "# hyperparameters\n",
    "n_x = X_train.shape[0]\n",
    "n_h = 64\n",
    "learning_rate = 4\n",
    "beta = .9\n",
    "batch_size = 128\n",
    "batches = -(-m // batch_size)"
   ]
  },
  {
   "cell_type": "code",
   "execution_count": null,
   "id": "incorporate-administrator",
   "metadata": {
    "id": "incorporate-administrator"
   },
   "outputs": [],
   "source": [
    "# weight initialization\n",
    "params = { \"W1\": np.random.randn(n_h, n_x) * np.sqrt(1. / n_x),\n",
    "           \"b1\": np.zeros((n_h, 1)) * np.sqrt(1. / n_x),\n",
    "           \"W2\": np.random.randn(num_digits, n_h) * np.sqrt(1. / n_h),\n",
    "           \"b2\": np.zeros((num_digits, 1)) * np.sqrt(1. / n_h) }\n",
    "\n",
    "V_dW1 = np.zeros(params[\"W1\"].shape)\n",
    "V_db1 = np.zeros(params[\"b1\"].shape)\n",
    "V_dW2 = np.zeros(params[\"W2\"].shape)\n",
    "V_db2 = np.zeros(params[\"b2\"].shape)"
   ]
  },
  {
   "cell_type": "code",
   "execution_count": null,
   "id": "interstate-storm",
   "metadata": {
    "colab": {
     "base_uri": "https://localhost:8080/",
     "height": 380
    },
    "id": "interstate-storm",
    "outputId": "49ace103-ccd2-4d9a-aca6-78e2084064de"
   },
   "outputs": [
    {
     "name": "stderr",
     "output_type": "stream",
     "text": [
      "Epoch 5: training cost = 0.05970921105435164, test cost = 0.11186532861695749:  25%|██▌       | 5/20 [00:12<00:36,  2.41s/it]\n"
     ]
    },
    {
     "ename": "KeyboardInterrupt",
     "evalue": "ignored",
     "output_type": "error",
     "traceback": [
      "\u001b[0;31m---------------------------------------------------------------------------\u001b[0m",
      "\u001b[0;31mKeyboardInterrupt\u001b[0m                         Traceback (most recent call last)",
      "\u001b[0;32m<ipython-input-134-638c03611510>\u001b[0m in \u001b[0;36m<module>\u001b[0;34m()\u001b[0m\n\u001b[1;32m     17\u001b[0m \u001b[0;34m\u001b[0m\u001b[0m\n\u001b[1;32m     18\u001b[0m         \u001b[0;31m#forward propagation\u001b[0m\u001b[0;34m\u001b[0m\u001b[0;34m\u001b[0m\u001b[0;34m\u001b[0m\u001b[0m\n\u001b[0;32m---> 19\u001b[0;31m         \u001b[0mcache\u001b[0m \u001b[0;34m=\u001b[0m \u001b[0mfeed_forward\u001b[0m\u001b[0;34m(\u001b[0m\u001b[0mX\u001b[0m\u001b[0;34m,\u001b[0m \u001b[0mparams\u001b[0m\u001b[0;34m)\u001b[0m\u001b[0;34m\u001b[0m\u001b[0;34m\u001b[0m\u001b[0m\n\u001b[0m\u001b[1;32m     20\u001b[0m \u001b[0;34m\u001b[0m\u001b[0m\n\u001b[1;32m     21\u001b[0m         \u001b[0;31m#calculating the gradients\u001b[0m\u001b[0;34m\u001b[0m\u001b[0;34m\u001b[0m\u001b[0;34m\u001b[0m\u001b[0m\n",
      "\u001b[0;32m<ipython-input-126-9063784d2a65>\u001b[0m in \u001b[0;36mfeed_forward\u001b[0;34m(X, params)\u001b[0m\n\u001b[1;32m      3\u001b[0m     \u001b[0mcache\u001b[0m \u001b[0;34m=\u001b[0m \u001b[0;34m{\u001b[0m\u001b[0;34m}\u001b[0m\u001b[0;34m\u001b[0m\u001b[0;34m\u001b[0m\u001b[0m\n\u001b[1;32m      4\u001b[0m \u001b[0;34m\u001b[0m\u001b[0m\n\u001b[0;32m----> 5\u001b[0;31m     \u001b[0mcache\u001b[0m\u001b[0;34m[\u001b[0m\u001b[0;34m\"Z1\"\u001b[0m\u001b[0;34m]\u001b[0m \u001b[0;34m=\u001b[0m \u001b[0mnp\u001b[0m\u001b[0;34m.\u001b[0m\u001b[0mmatmul\u001b[0m\u001b[0;34m(\u001b[0m\u001b[0mparams\u001b[0m\u001b[0;34m[\u001b[0m\u001b[0;34m\"W1\"\u001b[0m\u001b[0;34m]\u001b[0m\u001b[0;34m,\u001b[0m \u001b[0mX\u001b[0m\u001b[0;34m)\u001b[0m \u001b[0;34m+\u001b[0m \u001b[0mparams\u001b[0m\u001b[0;34m[\u001b[0m\u001b[0;34m\"b1\"\u001b[0m\u001b[0;34m]\u001b[0m\u001b[0;34m\u001b[0m\u001b[0;34m\u001b[0m\u001b[0m\n\u001b[0m\u001b[1;32m      6\u001b[0m     \u001b[0mcache\u001b[0m\u001b[0;34m[\u001b[0m\u001b[0;34m\"A1\"\u001b[0m\u001b[0;34m]\u001b[0m \u001b[0;34m=\u001b[0m \u001b[0msigmoid\u001b[0m\u001b[0;34m(\u001b[0m\u001b[0mcache\u001b[0m\u001b[0;34m[\u001b[0m\u001b[0;34m\"Z1\"\u001b[0m\u001b[0;34m]\u001b[0m\u001b[0;34m)\u001b[0m\u001b[0;34m\u001b[0m\u001b[0;34m\u001b[0m\u001b[0m\n\u001b[1;32m      7\u001b[0m     \u001b[0mcache\u001b[0m\u001b[0;34m[\u001b[0m\u001b[0;34m\"Z2\"\u001b[0m\u001b[0;34m]\u001b[0m \u001b[0;34m=\u001b[0m \u001b[0mnp\u001b[0m\u001b[0;34m.\u001b[0m\u001b[0mmatmul\u001b[0m\u001b[0;34m(\u001b[0m\u001b[0mparams\u001b[0m\u001b[0;34m[\u001b[0m\u001b[0;34m\"W2\"\u001b[0m\u001b[0;34m]\u001b[0m\u001b[0;34m,\u001b[0m \u001b[0mcache\u001b[0m\u001b[0;34m[\u001b[0m\u001b[0;34m\"A1\"\u001b[0m\u001b[0;34m]\u001b[0m\u001b[0;34m)\u001b[0m \u001b[0;34m+\u001b[0m \u001b[0mparams\u001b[0m\u001b[0;34m[\u001b[0m\u001b[0;34m\"b2\"\u001b[0m\u001b[0;34m]\u001b[0m\u001b[0;34m\u001b[0m\u001b[0;34m\u001b[0m\u001b[0m\n",
      "\u001b[0;31mKeyboardInterrupt\u001b[0m: "
     ]
    }
   ],
   "source": [
    "max_iter = 20\n",
    "\n",
    "progress_bar = tqdm(range(max_iter))\n",
    "for i in progress_bar:\n",
    "\n",
    "    permutation = np.random.permutation(X_train.shape[1])\n",
    "    X_train_shuffled = X_train[:, permutation]\n",
    "    y_train_shuffled = y_train[:, permutation]\n",
    "\n",
    "    for j in range(batches):\n",
    "        #Determine the training batch\n",
    "        begin = j * batch_size\n",
    "        end = min(begin + batch_size, X_train.shape[1] - 1)\n",
    "        X = X_train_shuffled[:, begin:end]\n",
    "        y = y_train_shuffled[:, begin:end]\n",
    "        m_batch = end - begin\n",
    "\n",
    "        #forward propagation\n",
    "        cache = feed_forward(X, params)\n",
    "        \n",
    "        #calculating the gradients\n",
    "        grads = back_propagate(X, y, params, cache)\n",
    "\n",
    "        #updating the momentum\n",
    "        V_dW1 = (beta * V_dW1 + (1. - beta) * grads[\"dW1\"])\n",
    "        V_db1 = (beta * V_db1 + (1. - beta) * grads[\"db1\"])\n",
    "        V_dW2 = (beta * V_dW2 + (1. - beta) * grads[\"dW2\"])\n",
    "        V_db2 = (beta * V_db2 + (1. - beta) * grads[\"db2\"])\n",
    "\n",
    "        #weight updates\n",
    "        params[\"W1\"] = params[\"W1\"] - learning_rate * V_dW1\n",
    "        params[\"b1\"] = params[\"b1\"] - learning_rate * V_db1\n",
    "        params[\"W2\"] = params[\"W2\"] - learning_rate * V_dW2\n",
    "        params[\"b2\"] = params[\"b2\"] - learning_rate * V_db2\n",
    "\n",
    "    #training cost at this iteration\n",
    "    cache = feed_forward(X_train, params)\n",
    "    train_cost = compute_categorical_cross_entropy_loss(cache[\"A2\"], y_train )\n",
    "    #test cost at this iteration\n",
    "    cache = feed_forward(X_test, params)\n",
    "    test_cost = compute_categorical_cross_entropy_loss(cache[\"A2\"], y_test )\n",
    "    \n",
    "    #debug point\n",
    "    progress_bar.set_description(\"Epoch {}: training cost = {}, test cost = {}\".format(i+1 ,train_cost, test_cost))\n",
    "\n",
    "print(\"\\nDone.\")"
   ]
  },
  {
   "cell_type": "code",
   "execution_count": null,
   "id": "lpdFag7Gzu8-",
   "metadata": {
    "id": "lpdFag7Gzu8-"
   },
   "outputs": [],
   "source": [
    "\n",
    "# hyperparameters\n",
    "n_x = X_train.shape[0]\n",
    "n_h = 64\n",
    "learning_rate = 4\n",
    "beta = .9\n",
    "batch_size = 128\n",
    "batches = -(-m // batch_size)"
   ]
  },
  {
   "cell_type": "code",
   "execution_count": null,
   "id": "9o7Stf1zzugt",
   "metadata": {
    "id": "9o7Stf1zzugt"
   },
   "outputs": [],
   "source": [
    "# weight initialization\n",
    "params = { \"W1\": tf.Variable(np.random.randn(n_h, n_x) * np.sqrt(1. / n_x), dtype=tf.float32),\n",
    "           \"b1\": tf.Variable(np.zeros((n_h, 1)) * np.sqrt(1. / n_x), dtype=tf.float32),\n",
    "           \"W2\": tf.Variable(np.random.randn(num_digits, n_h) * np.sqrt(1. / n_h), dtype=tf.float32),\n",
    "           \"b2\": tf.Variable(np.zeros((num_digits, 1)) * np.sqrt(1. / n_h), dtype=tf.float32) }\n",
    "\n",
    "V_dW1 = tf.zeros(params[\"W1\"].shape)\n",
    "V_db1 = tf.zeros(params[\"b1\"].shape)\n",
    "V_dW2 = tf.zeros(params[\"W2\"].shape)\n",
    "V_db2 = tf.zeros(params[\"b2\"].shape)"
   ]
  },
  {
   "cell_type": "code",
   "execution_count": null,
   "id": "6TBuoy2yzuLI",
   "metadata": {
    "colab": {
     "base_uri": "https://localhost:8080/"
    },
    "id": "6TBuoy2yzuLI",
    "outputId": "91d92381-80be-43a4-d572-c4d96817a509"
   },
   "outputs": [
    {
     "name": "stderr",
     "output_type": "stream",
     "text": [
      "Epoch 20: training cost = 0.005303682293742895, test cost = 0.10298463702201843: 100%|██████████| 20/20 [00:59<00:00,  2.96s/it]"
     ]
    },
    {
     "name": "stdout",
     "output_type": "stream",
     "text": [
      "\n",
      "Done.\n"
     ]
    },
    {
     "name": "stderr",
     "output_type": "stream",
     "text": [
      "\n"
     ]
    }
   ],
   "source": [
    "max_iter = 20\n",
    "\n",
    "progress_bar = tqdm(range(max_iter))\n",
    "for i in progress_bar:\n",
    "\n",
    "    permutation = np.random.permutation(X_train.shape[1])\n",
    "    X_train_shuffled = X_train[:, permutation]\n",
    "    y_train_shuffled = y_train[:, permutation]\n",
    "\n",
    "    for j in range(batches):\n",
    "        #Determine the training batch\n",
    "        begin = j * batch_size\n",
    "        end = min(begin + batch_size, X_train.shape[1] - 1)\n",
    "        X = tf.Variable(X_train_shuffled[:, begin:end], dtype=tf.float32)\n",
    "        y = tf.Variable(y_train_shuffled[:, begin:end], dtype=tf.float32)\n",
    "        m_batch = end - begin\n",
    "\n",
    "        #forward propagation\n",
    "        cache = TF_feed_forward(X, params)\n",
    "        \n",
    "        #calculating the gradients\n",
    "        grads = TF_back_propagate(X, y, params, cache)\n",
    "\n",
    "        #updating the momentum\n",
    "        V_dW1 = tf.add(tf.multiply(tf.constant(beta,dtype=tf.float32),V_dW1),\n",
    "                       tf.multiply(tf.subtract( tf.constant(1.), tf.constant(beta,dtype=tf.float32)), grads[\"dW1\"]))\n",
    "        V_db1 = tf.add(tf.multiply(tf.constant(beta,dtype=tf.float32),V_db1),\n",
    "                       tf.multiply(tf.subtract( tf.constant(1.), tf.constant(beta,dtype=tf.float32)), grads[\"db1\"]))\n",
    "        V_dW2 = tf.add(tf.multiply(tf.constant(beta,dtype=tf.float32),V_dW2),\n",
    "                       tf.multiply(tf.subtract( tf.constant(1.), tf.constant(beta,dtype=tf.float32)), grads[\"dW2\"]))\n",
    "        V_db2 = tf.add(tf.multiply(tf.constant(beta,dtype=tf.float32),V_db2),\n",
    "                       tf.multiply(tf.subtract( tf.constant(1.), tf.constant(beta,dtype=tf.float32)), grads[\"db2\"]))\n",
    "\n",
    "        #weight updates\n",
    "        params[\"W1\"] = tf.subtract(params[\"W1\"], tf.multiply(tf.constant(learning_rate, dtype=tf.float32), V_dW1))\n",
    "        params[\"b1\"] = tf.subtract(params[\"b1\"], tf.multiply(tf.constant(learning_rate, dtype=tf.float32), V_db1))\n",
    "        params[\"W2\"] = tf.subtract(params[\"W2\"], tf.multiply(tf.constant(learning_rate, dtype=tf.float32), V_dW2))\n",
    "        params[\"b2\"] = tf.subtract(params[\"b2\"], tf.multiply(tf.constant(learning_rate, dtype=tf.float32), V_db2))\n",
    "\n",
    "\n",
    "    #training cost at this iteration\n",
    "    cache = TF_feed_forward(tf.Variable(X_train, dtype=tf.float32), params)\n",
    "    train_cost = TF_compute_categorical_cross_entropy_loss(cache[\"A2\"], tf.Variable(y_train, dtype=tf.float32) )\n",
    "    #test cost at this iteration\n",
    "    cache = TF_feed_forward(tf.Variable(X_test, dtype=tf.float32), params)\n",
    "    test_cost = TF_compute_categorical_cross_entropy_loss(cache[\"A2\"], tf.Variable(y_test, dtype=tf.float32) )\n",
    "    \n",
    "    #debug point\n",
    "    progress_bar.set_description(\"Epoch {}: training cost = {}, test cost = {}\".format(i+1 ,train_cost, test_cost))\n",
    "\n",
    "print(\"\\nDone.\")"
   ]
  },
  {
   "cell_type": "code",
   "execution_count": null,
   "id": "zgBgEu_Bztuy",
   "metadata": {
    "id": "zgBgEu_Bztuy"
   },
   "outputs": [],
   "source": []
  },
  {
   "cell_type": "code",
   "execution_count": null,
   "id": "BQMmjHkDztUL",
   "metadata": {
    "id": "BQMmjHkDztUL"
   },
   "outputs": [],
   "source": []
  },
  {
   "cell_type": "markdown",
   "id": "aboriginal-database",
   "metadata": {
    "id": "aboriginal-database"
   },
   "source": [
    "### Step v4.6 Evaluation"
   ]
  },
  {
   "cell_type": "code",
   "execution_count": null,
   "id": "norwegian-nirvana",
   "metadata": {
    "id": "norwegian-nirvana"
   },
   "outputs": [],
   "source": [
    "#predict the test set\n",
    "cache = TF_feed_forward(tf.Variable(X_test, dtype=tf.float32), params)\n",
    "predictions = np.argmax(cache[\"A2\"].numpy(), axis=0)\n",
    "labels = np.argmax(y_test, axis=0)\n"
   ]
  },
  {
   "cell_type": "code",
   "execution_count": null,
   "id": "other-rwanda",
   "metadata": {
    "colab": {
     "base_uri": "https://localhost:8080/"
    },
    "id": "other-rwanda",
    "outputId": "a794e818-7a50-4512-f69d-fa3b5d4b8cec"
   },
   "outputs": [
    {
     "name": "stdout",
     "output_type": "stream",
     "text": [
      "Confusion matrix: \n",
      "[[840   0   6   2   1   3   3   1   2   4]\n",
      " [  0 940   1   3   4   3   2   1   8   3]\n",
      " [  2   2 780   6   2   1   2   6   0   1]\n",
      " [  1   1   1 849   0   7   0   3   3   9]\n",
      " [  0   1   2   0 786   2   2   0   3  11]\n",
      " [  0   1   3  11   0 721   1   2   6   6]\n",
      " [  4   0   1   0   3   5 821   0   5   0]\n",
      " [  0   2   3   4   0   0   0 867   0   9]\n",
      " [  5   3   2   5   3   2   0   1 772   7]\n",
      " [  0   0   2   2  12   3   0   3   3 790]]\n"
     ]
    }
   ],
   "source": [
    "#Now, build the confusion matrix\n",
    "conf_mat = confusion_matrix(predictions,labels)\n",
    "print('Confusion matrix: \\n{}'.format(conf_mat))"
   ]
  },
  {
   "cell_type": "markdown",
   "id": "hindu-discussion",
   "metadata": {
    "id": "hindu-discussion"
   },
   "source": [
    "* And the classification report below. You can see the performance is extra-ordinarily good."
   ]
  },
  {
   "cell_type": "code",
   "execution_count": null,
   "id": "thorough-cliff",
   "metadata": {
    "colab": {
     "base_uri": "https://localhost:8080/"
    },
    "id": "thorough-cliff",
    "outputId": "f849cb34-0a43-4b3a-8ebe-3c25abb2f2d1",
    "scrolled": true
   },
   "outputs": [
    {
     "name": "stdout",
     "output_type": "stream",
     "text": [
      "Classification report on the test set: \n",
      "              precision    recall  f1-score   support\n",
      "\n",
      "           0       0.99      0.97      0.98       862\n",
      "           1       0.99      0.97      0.98       965\n",
      "           2       0.97      0.97      0.97       802\n",
      "           3       0.96      0.97      0.97       874\n",
      "           4       0.97      0.97      0.97       807\n",
      "           5       0.97      0.96      0.96       751\n",
      "           6       0.99      0.98      0.98       839\n",
      "           7       0.98      0.98      0.98       885\n",
      "           8       0.96      0.96      0.96       800\n",
      "           9       0.94      0.97      0.95       815\n",
      "\n",
      "    accuracy                           0.97      8400\n",
      "   macro avg       0.97      0.97      0.97      8400\n",
      "weighted avg       0.97      0.97      0.97      8400\n",
      "\n"
     ]
    }
   ],
   "source": [
    "print('Classification report on the test set: \\n{}'.format(classification_report(predictions,labels)))"
   ]
  },
  {
   "cell_type": "markdown",
   "id": "t7lvspCLInCz",
   "metadata": {
    "id": "t7lvspCLInCz"
   },
   "source": [
    "## Building a Neural Network (version 5)\n",
    "\n",
    "* Let's explore Tensorflow's automatic differentation"
   ]
  },
  {
   "cell_type": "markdown",
   "id": "hXZxASeyInDD",
   "metadata": {
    "id": "hXZxASeyInDD"
   },
   "source": [
    "### Step v5.1 the dataset loading and scaling"
   ]
  },
  {
   "cell_type": "code",
   "execution_count": null,
   "id": "-Df26QUGInDE",
   "metadata": {
    "id": "-Df26QUGInDE"
   },
   "outputs": [],
   "source": [
    "# Load the original dataset again which contained the original labels 0-9 for each sample.\n",
    "dataset = pd.read_csv(mnist_path + 'mnist-dataset/train.csv')\n",
    "X = np.array(dataset.drop('label',axis=1))\n",
    "y = np.array(dataset['label'])\n",
    "X = X / 255   #don't forget to scale"
   ]
  },
  {
   "cell_type": "markdown",
   "id": "PKuEdcjzInDG",
   "metadata": {
    "id": "PKuEdcjzInDG"
   },
   "source": [
    "### Step v5.2: One-hot encode the MNIST labels for each sample"
   ]
  },
  {
   "cell_type": "markdown",
   "id": "PhGIEILrInDH",
   "metadata": {
    "id": "PhGIEILrInDH"
   },
   "source": [
    "* We need to one-hot encode MNIST labels for each sample; that is, each label will become 10-dimensional one-hot vector, where index $i$ will be hot (i.e., 1) if the label is $i$.\n",
    "* For example, \n",
    "* a label '7' will be one-hot encoded as `[0, 0, 0, 0, 0,  0, 1, 0, 0, 0]`\n",
    "* a label '1' will be one-hot encoded as `[0, 1, 0, 0, 0,  0, 0, 0, 0, 0]`\n",
    "* etc."
   ]
  },
  {
   "cell_type": "code",
   "execution_count": null,
   "id": "kqcEZOy8InDI",
   "metadata": {
    "id": "kqcEZOy8InDI"
   },
   "outputs": [],
   "source": [
    "num_digits = 10\n",
    "num_samples = y.shape[0]\n",
    "\n",
    "y = y.reshape(1, num_samples)\n",
    "\n",
    "y_new = np.eye(num_digits)[y.astype('int32')]\n",
    "y_new = y_new.T.reshape(num_digits,num_samples)"
   ]
  },
  {
   "cell_type": "markdown",
   "id": "PVvEQ2DjInDJ",
   "metadata": {
    "id": "PVvEQ2DjInDJ"
   },
   "source": [
    "### Step v5.3 : re-split, reshape, and re-shuffle the training set\n",
    "* 80%-20% train-test split of the X,y dataset\n",
    "* We also transform the shape of dataset so that each sample are placed in a column instead of row. This will ease matrix operations"
   ]
  },
  {
   "cell_type": "code",
   "execution_count": null,
   "id": "H_3rVJJuInDJ",
   "metadata": {
    "id": "H_3rVJJuInDJ"
   },
   "outputs": [],
   "source": [
    "n = len(X) #total number of samples in the dataset\n",
    "m = int(n*0.8) #80% of total samples will go to the training set, and rest will go to test set.\n",
    "m_test = X.shape[0] - m #The rest, i.e., 20% will go to test."
   ]
  },
  {
   "cell_type": "code",
   "execution_count": null,
   "id": "Psux5N7VInDK",
   "metadata": {
    "id": "Psux5N7VInDK"
   },
   "outputs": [],
   "source": [
    "#Now split the X, y into (X_train,y_train), and (X_test,y_test) tuples\n",
    "X_train, X_test = X[:m].T, X[m:].T\n",
    "y_train, y_test = y_new[:,:m], y_new[:,m:]"
   ]
  },
  {
   "cell_type": "code",
   "execution_count": null,
   "id": "pveYTA1hInDL",
   "metadata": {
    "id": "pveYTA1hInDL"
   },
   "outputs": [],
   "source": [
    "#And, shuffle the training set\n",
    "np.random.seed(4321)\n",
    "shuffle_indices = np.random.permutation(m)\n",
    "X_train, y_train = X_train[:,shuffle_indices], y_train[:,shuffle_indices]"
   ]
  },
  {
   "cell_type": "code",
   "execution_count": null,
   "id": "ghT7xJL7InDM",
   "metadata": {
    "colab": {
     "base_uri": "https://localhost:8080/",
     "height": 1000
    },
    "id": "ghT7xJL7InDM",
    "outputId": "03af65a9-c25f-4ccd-bc37-a53cc1d5da2e"
   },
   "outputs": [
    {
     "data": {
      "image/png": "[encoded data removed]",
      "text/plain": [
       "<Figure size 432x288 with 1 Axes>"
      ]
     },
     "metadata": {
      "needs_background": "light"
     },
     "output_type": "display_data"
    },
    {
     "data": {
      "image/png": "[encoded data removed]",
      "text/plain": [
       "<Figure size 432x288 with 1 Axes>"
      ]
     },
     "metadata": {
      "needs_background": "light"
     },
     "output_type": "display_data"
    },
    {
     "data": {
      "image/png": "[encoded data removed]",
      "text/plain": [
       "<Figure size 432x288 with 1 Axes>"
      ]
     },
     "metadata": {
      "needs_background": "light"
     },
     "output_type": "display_data"
    },
    {
     "data": {
      "image/png": "[encoded data removed]",
      "text/plain": [
       "<Figure size 432x288 with 1 Axes>"
      ]
     },
     "metadata": {
      "needs_background": "light"
     },
     "output_type": "display_data"
    },
    {
     "data": {
      "image/png": "[encoded data removed]",
      "text/plain": [
       "<Figure size 432x288 with 1 Axes>"
      ]
     },
     "metadata": {
      "needs_background": "light"
     },
     "output_type": "display_data"
    },
    {
     "data": {
      "image/png": "[encoded data removed]",
      "text/plain": [
       "<Figure size 432x288 with 1 Axes>"
      ]
     },
     "metadata": {
      "needs_background": "light"
     },
     "output_type": "display_data"
    },
    {
     "data": {
      "image/png": "[encoded data removed]",
      "text/plain": [
       "<Figure size 432x288 with 1 Axes>"
      ]
     },
     "metadata": {
      "needs_background": "light"
     },
     "output_type": "display_data"
    },
    {
     "data": {
      "image/png": "[encoded data removed]",
      "text/plain": [
       "<Figure size 432x288 with 1 Axes>"
      ]
     },
     "metadata": {
      "needs_background": "light"
     },
     "output_type": "display_data"
    },
    {
     "data": {
      "image/png": "[encoded data removed]",
      "text/plain": [
       "<Figure size 432x288 with 1 Axes>"
      ]
     },
     "metadata": {
      "needs_background": "light"
     },
     "output_type": "display_data"
    },
    {
     "data": {
      "image/png": "[encoded data removed]",
      "text/plain": [
       "<Figure size 432x288 with 1 Axes>"
      ]
     },
     "metadata": {
      "needs_background": "light"
     },
     "output_type": "display_data"
    },
    {
     "data": {
      "image/png": "[encoded data removed]",
      "text/plain": [
       "<Figure size 432x288 with 1 Axes>"
      ]
     },
     "metadata": {
      "needs_background": "light"
     },
     "output_type": "display_data"
    },
    {
     "data": {
      "image/png": "[encoded data removed]",
      "text/plain": [
       "<Figure size 432x288 with 1 Axes>"
      ]
     },
     "metadata": {
      "needs_background": "light"
     },
     "output_type": "display_data"
    },
    {
     "data": {
      "image/png": "[encoded data removed]",
      "text/plain": [
       "<Figure size 432x288 with 1 Axes>"
      ]
     },
     "metadata": {
      "needs_background": "light"
     },
     "output_type": "display_data"
    },
    {
     "data": {
      "image/png": "[encoded data removed]",
      "text/plain": [
       "<Figure size 432x288 with 1 Axes>"
      ]
     },
     "metadata": {
      "needs_background": "light"
     },
     "output_type": "display_data"
    },
    {
     "data": {
      "image/png": "[encoded data removed]",
      "text/plain": [
       "<Figure size 432x288 with 1 Axes>"
      ]
     },
     "metadata": {
      "needs_background": "light"
     },
     "output_type": "display_data"
    },
    {
     "data": {
      "image/png": "[encoded data removed]",
      "text/plain": [
       "<Figure size 432x288 with 1 Axes>"
      ]
     },
     "metadata": {
      "needs_background": "light"
     },
     "output_type": "display_data"
    },
    {
     "data": {
      "image/png": "[encoded data removed]",
      "text/plain": [
       "<Figure size 432x288 with 1 Axes>"
      ]
     },
     "metadata": {
      "needs_background": "light"
     },
     "output_type": "display_data"
    },
    {
     "data": {
      "image/png": "[encoded data removed]",
      "text/plain": [
       "<Figure size 432x288 with 1 Axes>"
      ]
     },
     "metadata": {
      "needs_background": "light"
     },
     "output_type": "display_data"
    },
    {
     "data": {
      "image/png": "[encoded data removed]",
      "text/plain": [
       "<Figure size 432x288 with 1 Axes>"
      ]
     },
     "metadata": {
      "needs_background": "light"
     },
     "output_type": "display_data"
    },
    {
     "data": {
      "image/png": "[encoded data removed]",
      "text/plain": [
       "<Figure size 432x288 with 1 Axes>"
      ]
     },
     "metadata": {
      "needs_background": "light"
     },
     "output_type": "display_data"
    }
   ],
   "source": [
    "#Print a random sample\n",
    "for idx in range(20):\n",
    "    plt.imshow(X_train[:,idx].reshape(28,28),cmap=matplotlib.cm.binary)\n",
    "    plt.axis('off')\n",
    "    plt.title('A sample with Label {}'.format(y_train[:,idx]))\n",
    "    plt.show()\n",
    "    #print(y_train[:,idx])"
   ]
  },
  {
   "cell_type": "markdown",
   "id": "03CmEcD8InDN",
   "metadata": {
    "id": "03CmEcD8InDN"
   },
   "source": [
    "### Step v5.4 : defining few functions to modularize the codes we've developed before\n",
    "* Last 2 functions are new, and they just put the steps of forward and backward propagation into their own functions.\n",
    "    * This tidies up the training code to follow, so that we can focus on the new elements, especially the mini-batch gradient descent and the momentum.\n",
    "* Also, note that in the process we introduce 3 dictionaries: `params`, `cache`, and `grads`. These are for conveniently passing information back and forth between the forward and backward passes."
   ]
  },
  {
   "cell_type": "code",
   "execution_count": null,
   "id": "Ft19kZuHInDP",
   "metadata": {
    "id": "Ft19kZuHInDP"
   },
   "outputs": [],
   "source": [
    "## Week 05 material (with tensorflow)\n",
    "\n",
    "\"\"\" The sigmoid function that squashes input, z into the range [0,1] \"\"\"\n",
    "@tf.function\n",
    "def TF_sigmoid(z):\n",
    "    s = tf.divide( tf.constant(1.0), tf.add(tf.constant(1.0),tf.exp(tf.negative(z))) )\n",
    "    return s"
   ]
  },
  {
   "cell_type": "code",
   "execution_count": null,
   "id": "e9k07QFqInDQ",
   "metadata": {
    "id": "e9k07QFqInDQ"
   },
   "outputs": [],
   "source": [
    "@tf.function\n",
    "def TF_compute_categorical_cross_entropy_loss(y_hat, y):\n",
    "    L_sum = tf.reduce_sum(tf.multiply(y, tf.math.log(y_hat)))\n",
    "    m = y.shape[1]\n",
    "    #L = -(1/m)*L_sum\n",
    "    L = tf.multiply(tf.negative(tf.divide(tf.constant(1.),tf.constant(m,dtype=tf.float32))),L_sum)\n",
    "    \n",
    "    return L"
   ]
  },
  {
   "cell_type": "code",
   "execution_count": null,
   "id": "koAhBRzrInDR",
   "metadata": {
    "id": "koAhBRzrInDR"
   },
   "outputs": [],
   "source": [
    "@tf.function\n",
    "def TF_feed_forward(X, params):\n",
    "\n",
    "    cache = {}\n",
    "\n",
    "    cache[\"Z1\"] = tf.add(tf.matmul(params[\"W1\"], X), params[\"b1\"])\n",
    "    cache[\"A1\"] = TF_sigmoid(cache[\"Z1\"])\n",
    "    cache[\"Z2\"] = tf.add(tf.matmul(params[\"W2\"], cache[\"A1\"]), params[\"b2\"])\n",
    "    cache[\"A2\"] = tf.divide(tf.math.exp(cache[\"Z2\"]), tf.reduce_sum(tf.math.exp(cache[\"Z2\"]), axis=0))\n",
    "\n",
    "    return cache"
   ]
  },
  {
   "cell_type": "markdown",
   "id": "XERn8r7tInDT",
   "metadata": {
    "id": "XERn8r7tInDT"
   },
   "source": [
    "### Step v5.5: Build and train"
   ]
  },
  {
   "cell_type": "markdown",
   "id": "DjlwUFDdInDU",
   "metadata": {
    "id": "DjlwUFDdInDU"
   },
   "source": [
    "* To switch to mini-batch gradient descent, we add another `for` loop inside the pass through each epoch.\n",
    "* At each pass, we randomly shuffle the training set, then iterate through it in chunks of `batch_size`, which we will arbitrarily set to `128`."
   ]
  },
  {
   "cell_type": "markdown",
   "id": "VvWA-j7VInDU",
   "metadata": {
    "id": "VvWA-j7VInDU"
   },
   "source": [
    "* Next, we add `momentum`. We keep a moving average of our gradients. \n",
    "    * A reference article can be found here [Link](https://towardsdatascience.com/stochastic-gradient-descent-with-momentum-a84097641a5d)\n",
    "* So, instead of updating our parameters by doing \n",
    "\n",
    "`params[\"W1\"] = params[\"W1\"] - learning_rate * grads[\"dW1\"]`\n",
    "* we do this:\n",
    "\n",
    "`V_dW1 = (beta * V_dW1 + (1. - beta) * grads[\"dW1\"])`\n",
    "\n",
    "`params[\"W1\"] = params[\"W1\"] - learning_rate * V_dW1'`"
   ]
  },
  {
   "cell_type": "markdown",
   "id": "SvfQFUjqInDV",
   "metadata": {
    "id": "SvfQFUjqInDV"
   },
   "source": [
    "* Finally, we improve our weight initializations too. \n",
    "* We shrink the variance of the weights in each layer. We will set the variance for each layer to $\\dfrac{1}{n}$, where $n$ is the number of inputs feeding into that layer.\n",
    "* Previously, we have been using `np.random.randn()` function to get our weights initialized. And, this function draws from the standard normal distribution.\n",
    "* To adjust the variance to $\\dfrac{1}{n}$, we just divide by $\\sqrt{n}$.\n",
    "* In code, this means that instead of doing --\n",
    "\n",
    "`np.random.randn(n_h, n_x)`\n",
    "\n",
    "we do \n",
    "\n",
    "`np.random.randn(n_h,n_x) * np.sqrt(1. / n_x)`\n",
    "\n",
    "* A reference article can be found here [Link](https://towardsdatascience.com/weight-initialization-in-neural-networks-a-journey-from-the-basics-to-kaiming-954fb9b47c79)"
   ]
  },
  {
   "cell_type": "markdown",
   "id": "06SdWMqnInDV",
   "metadata": {
    "id": "06SdWMqnInDV"
   },
   "source": [
    "Okay, let's build and train!\n"
   ]
  },
  {
   "cell_type": "code",
   "execution_count": null,
   "id": "avFGzJM9InDX",
   "metadata": {
    "id": "avFGzJM9InDX"
   },
   "outputs": [],
   "source": [
    "# hyperparameters\n",
    "n_x = X_train.shape[0]\n",
    "n_h = 64\n",
    "learning_rate = 4\n",
    "beta = .9\n",
    "batch_size = 128\n",
    "batches = -(-m // batch_size)"
   ]
  },
  {
   "cell_type": "code",
   "execution_count": null,
   "id": "RTLOIXVrInDY",
   "metadata": {
    "id": "RTLOIXVrInDY"
   },
   "outputs": [],
   "source": [
    "# weight initialization\n",
    "W1 = tf.Variable(np.random.randn(n_h, n_x) * np.sqrt(1. / n_x), dtype=tf.float32, trainable=True)\n",
    "b1 = tf.Variable(np.zeros((n_h, 1)) * np.sqrt(1. / n_x), dtype=tf.float32, trainable=True)\n",
    "W2 = tf.Variable(np.random.randn(num_digits, n_h) * np.sqrt(1. / n_h), dtype=tf.float32, trainable=True)\n",
    "b2 = tf.Variable(np.zeros((num_digits, 1)) * np.sqrt(1. / n_h), dtype=tf.float32, trainable=True)\n",
    "\n",
    "V_dW1 = tf.zeros(W1.shape)\n",
    "V_db1 = tf.zeros(b1.shape)\n",
    "V_dW2 = tf.zeros(W2.shape)\n",
    "V_db2 = tf.zeros(b2.shape)"
   ]
  },
  {
   "cell_type": "code",
   "execution_count": null,
   "id": "Xgn7gUUhInDY",
   "metadata": {
    "colab": {
     "base_uri": "https://localhost:8080/"
    },
    "id": "Xgn7gUUhInDY",
    "outputId": "65fd5ad8-6d82-4c90-89f9-9331cdae7253"
   },
   "outputs": [
    {
     "name": "stderr",
     "output_type": "stream",
     "text": [
      "Epoch 20: training cost = 0.005960743874311447, test cost = 0.10360763967037201: 100%|██████████| 20/20 [01:47<00:00,  5.38s/it]"
     ]
    },
    {
     "name": "stdout",
     "output_type": "stream",
     "text": [
      "\n",
      "Done.\n"
     ]
    },
    {
     "name": "stderr",
     "output_type": "stream",
     "text": [
      "\n"
     ]
    }
   ],
   "source": [
    "max_iter = 20\n",
    "\n",
    "progress_bar = tqdm(range(max_iter))\n",
    "for i in progress_bar:\n",
    "\n",
    "    permutation = np.random.permutation(X_train.shape[1])\n",
    "    X_train_shuffled = X_train[:, permutation]\n",
    "    y_train_shuffled = y_train[:, permutation]\n",
    "\n",
    "    for j in range(batches):\n",
    "        #Determine the training batch\n",
    "        begin = j * batch_size\n",
    "        end = min(begin + batch_size, X_train.shape[1] - 1)\n",
    "        X = tf.Variable(X_train_shuffled[:, begin:end], dtype=tf.float32, trainable=False)\n",
    "        y = tf.Variable(y_train_shuffled[:, begin:end], dtype=tf.float32, trainable=False)\n",
    "        m_batch = end - begin\n",
    "\n",
    "        #forward propagation\n",
    "        with tf.GradientTape(watch_accessed_variables=False) as tape: #disable watching all variables\n",
    "          tape.watch([W1, b1, W2, b2]) #instead connect the gradient for only these 4 variables\n",
    "\n",
    "          Z1 = tf.add(tf.matmul(W1, X), b1)\n",
    "          A1 = TF_sigmoid(Z1)\n",
    "          Z2 = tf.add(tf.matmul(W2, A1), b2)\n",
    "          A2 = tf.divide(tf.math.exp(Z2), tf.reduce_sum(tf.math.exp(Z2), axis=0))\n",
    "\n",
    "          #computing cost\n",
    "          L_sum = tf.reduce_sum(tf.multiply(y, tf.math.log(A2)))\n",
    "          cost = tf.multiply(tf.negative(tf.divide(tf.constant(1.),tf.constant(m_batch,dtype=tf.float32))),L_sum)\n",
    "                \n",
    "        #calculating the gradients (with automatic differentiation)\n",
    "        [dW1, db1, dW2, db2] = tape.gradient(cost, [W1, b1, W2, b2])\n",
    "        grads = {'W1': dW1,'b1': db1, 'W2': dW2,'b2': db2}\n",
    "\n",
    "        #updating the momentum\n",
    "        V_dW1 = tf.add(tf.multiply(tf.constant(beta,dtype=tf.float32),V_dW1),\n",
    "                       tf.multiply(tf.subtract( tf.constant(1.), tf.constant(beta,dtype=tf.float32)), grads[\"W1\"]))\n",
    "        V_db1 = tf.add(tf.multiply(tf.constant(beta,dtype=tf.float32),V_db1),\n",
    "                       tf.multiply(tf.subtract( tf.constant(1.), tf.constant(beta,dtype=tf.float32)), grads[\"b1\"]))\n",
    "        V_dW2 = tf.add(tf.multiply(tf.constant(beta,dtype=tf.float32),V_dW2),\n",
    "                       tf.multiply(tf.subtract( tf.constant(1.), tf.constant(beta,dtype=tf.float32)), grads[\"W2\"]))\n",
    "        V_db2 = tf.add(tf.multiply(tf.constant(beta,dtype=tf.float32),V_db2),\n",
    "                       tf.multiply(tf.subtract( tf.constant(1.), tf.constant(beta,dtype=tf.float32)), grads[\"b2\"]))\n",
    "\n",
    "        #weight updates\n",
    "        W1 = tf.subtract(W1, tf.multiply(tf.constant(learning_rate, dtype=tf.float32), V_dW1))\n",
    "        b1 = tf.subtract(b1, tf.multiply(tf.constant(learning_rate, dtype=tf.float32), V_db1))\n",
    "        W2 = tf.subtract(W2, tf.multiply(tf.constant(learning_rate, dtype=tf.float32), V_dW2))\n",
    "        b2 = tf.subtract(b2, tf.multiply(tf.constant(learning_rate, dtype=tf.float32), V_db2))\n",
    "\n",
    "    #training cost at this iteration\n",
    "    cache = TF_feed_forward(tf.Variable(X_train, dtype=tf.float32), params={\"W1\":W1,\"b1\":b1, \"W2\":W2, \"b2\":b2})\n",
    "    train_cost = TF_compute_categorical_cross_entropy_loss(cache[\"A2\"], tf.Variable(y_train, dtype=tf.float32) )\n",
    "\n",
    "    #test cost at this iteration\n",
    "    cache = TF_feed_forward(tf.Variable(X_test, dtype=tf.float32), params={\"W1\":W1,\"b1\":b1, \"W2\":W2, \"b2\":b2})\n",
    "    test_cost = TF_compute_categorical_cross_entropy_loss(cache[\"A2\"], tf.Variable(y_test, dtype=tf.float32) )\n",
    "    \n",
    "    #debug point\n",
    "    progress_bar.set_description(\"Epoch {}: training cost = {}, test cost = {}\".format(i+1 ,train_cost, test_cost))\n",
    "\n",
    "print(\"\\nDone.\")"
   ]
  },
  {
   "cell_type": "code",
   "execution_count": null,
   "id": "t7Djj3YcInDZ",
   "metadata": {
    "id": "t7Djj3YcInDZ"
   },
   "outputs": [],
   "source": []
  },
  {
   "cell_type": "code",
   "execution_count": null,
   "id": "rJ19Kr2wInDZ",
   "metadata": {
    "id": "rJ19Kr2wInDZ"
   },
   "outputs": [],
   "source": []
  },
  {
   "cell_type": "markdown",
   "id": "Ki4q8NFbInDa",
   "metadata": {
    "id": "Ki4q8NFbInDa"
   },
   "source": [
    "**bold text**### Step v5.6 Evaluation"
   ]
  },
  {
   "cell_type": "code",
   "execution_count": null,
   "id": "Ron9vZ_LInDb",
   "metadata": {
    "id": "Ron9vZ_LInDb"
   },
   "outputs": [],
   "source": [
    "#predict the test set\n",
    "cache = TF_feed_forward(tf.Variable(X_test, dtype=tf.float32), params={\"W1\":W1,\"b1\":b1, \"W2\":W2, \"b2\":b2})\n",
    "predictions = np.argmax(cache[\"A2\"].numpy(), axis=0)\n",
    "labels = np.argmax(y_test, axis=0)\n"
   ]
  },
  {
   "cell_type": "code",
   "execution_count": null,
   "id": "GKlh_dUCInDe",
   "metadata": {
    "colab": {
     "base_uri": "https://localhost:8080/"
    },
    "id": "GKlh_dUCInDe",
    "outputId": "9df35570-a23b-416b-ecc2-1dc0a9f46175"
   },
   "outputs": [
    {
     "name": "stdout",
     "output_type": "stream",
     "text": [
      "Confusion matrix: \n",
      "[[838   0   3   2   0   4   3   2   1   4]\n",
      " [  0 938   0   1   4   1   2   1   5   2]\n",
      " [  1   1 778   4   2   4   1   3   1   2]\n",
      " [  2   1   3 853   1   7   0   3   2   6]\n",
      " [  0   0   2   0 776   3   1   0   1   8]\n",
      " [  1   0   0  12   0 714   2   2   6   2]\n",
      " [  7   0   2   0   3   4 820   0   3   1]\n",
      " [  0   3   3   2   1   1   1 869   0   8]\n",
      " [  3   6   7   4   5   5   1   2 783   5]\n",
      " [  0   1   3   4  19   4   0   2   0 802]]\n"
     ]
    }
   ],
   "source": [
    "#Now, build the confusion matrix\n",
    "conf_mat = confusion_matrix(predictions,labels)\n",
    "print('Confusion matrix: \\n{}'.format(conf_mat))"
   ]
  },
  {
   "cell_type": "markdown",
   "id": "2CTApDwhInDg",
   "metadata": {
    "id": "2CTApDwhInDg"
   },
   "source": [
    "* And the classification report below. You can see the performance is extra-ordinarily good."
   ]
  },
  {
   "cell_type": "code",
   "execution_count": null,
   "id": "obN1KS4JInDg",
   "metadata": {
    "colab": {
     "base_uri": "https://localhost:8080/"
    },
    "id": "obN1KS4JInDg",
    "outputId": "051f25bc-0a23-4f49-f730-517ad7768c6b",
    "scrolled": true
   },
   "outputs": [
    {
     "name": "stdout",
     "output_type": "stream",
     "text": [
      "Classification report on the test set: \n",
      "              precision    recall  f1-score   support\n",
      "\n",
      "           0       0.98      0.98      0.98       857\n",
      "           1       0.99      0.98      0.99       954\n",
      "           2       0.97      0.98      0.97       797\n",
      "           3       0.97      0.97      0.97       878\n",
      "           4       0.96      0.98      0.97       791\n",
      "           5       0.96      0.97      0.96       739\n",
      "           6       0.99      0.98      0.98       840\n",
      "           7       0.98      0.98      0.98       888\n",
      "           8       0.98      0.95      0.96       821\n",
      "           9       0.95      0.96      0.96       835\n",
      "\n",
      "    accuracy                           0.97      8400\n",
      "   macro avg       0.97      0.97      0.97      8400\n",
      "weighted avg       0.97      0.97      0.97      8400\n",
      "\n"
     ]
    }
   ],
   "source": [
    "print('Classification report on the test set: \\n{}'.format(classification_report(predictions,labels)))"
   ]
  },
  {
   "cell_type": "markdown",
   "id": "4CH8kxe2xhW6",
   "metadata": {
    "id": "4CH8kxe2xhW6"
   },
   "source": [
    "## Building a Neural Network (version 6)\n",
    "\n",
    "* Let's explore Tensorflow's Keras wrapper"
   ]
  },
  {
   "cell_type": "markdown",
   "id": "1lKKw5qTxhXE",
   "metadata": {
    "id": "1lKKw5qTxhXE"
   },
   "source": [
    "### Step v6.1 the dataset loading and scaling"
   ]
  },
  {
   "cell_type": "code",
   "execution_count": null,
   "id": "Wn5TbyYWxhXF",
   "metadata": {
    "id": "Wn5TbyYWxhXF"
   },
   "outputs": [],
   "source": [
    "# Load the original dataset again which contained the original labels 0-9 for each sample.\n",
    "dataset = pd.read_csv(mnist_path + 'mnist-dataset/train.csv')\n",
    "X = np.array(dataset.drop('label',axis=1))\n",
    "y = np.array(dataset['label'])\n",
    "X = X / 255   #don't forget to scale"
   ]
  },
  {
   "cell_type": "markdown",
   "id": "TalCYc9JxhXG",
   "metadata": {
    "id": "TalCYc9JxhXG"
   },
   "source": [
    "### Step v6.2: One-hot encode the MNIST labels for each sample"
   ]
  },
  {
   "cell_type": "markdown",
   "id": "5_I5ftTPxhXG",
   "metadata": {
    "id": "5_I5ftTPxhXG"
   },
   "source": [
    "* We need to one-hot encode MNIST labels for each sample; that is, each label will become 10-dimensional one-hot vector, where index $i$ will be hot (i.e., 1) if the label is $i$.\n",
    "* For example, \n",
    "* a label '7' will be one-hot encoded as `[0, 0, 0, 0, 0,  0, 1, 0, 0, 0]`\n",
    "* a label '1' will be one-hot encoded as `[0, 1, 0, 0, 0,  0, 0, 0, 0, 0]`\n",
    "* etc."
   ]
  },
  {
   "cell_type": "code",
   "execution_count": null,
   "id": "zbpIioAExhXG",
   "metadata": {
    "id": "zbpIioAExhXG"
   },
   "outputs": [],
   "source": [
    "num_digits = 10\n",
    "num_samples = y.shape[0]\n",
    "\n",
    "y = y.reshape(1, num_samples)\n",
    "\n",
    "y_new = np.eye(num_digits)[y.astype('int32')]\n",
    "y_new = y_new.T.reshape(num_digits,num_samples)"
   ]
  },
  {
   "cell_type": "markdown",
   "id": "0eCcX0U3xhXH",
   "metadata": {
    "id": "0eCcX0U3xhXH"
   },
   "source": [
    "### Step v6.3 : re-split, reshape, and re-shuffle the training set\n",
    "* 80%-20% train-test split of the X,y dataset\n",
    "* We also transform the shape of dataset so that each sample are placed in a column instead of row. This will ease matrix operations"
   ]
  },
  {
   "cell_type": "code",
   "execution_count": null,
   "id": "EkTMy8qKxhXH",
   "metadata": {
    "id": "EkTMy8qKxhXH"
   },
   "outputs": [],
   "source": [
    "n = len(X) #total number of samples in the dataset\n",
    "m = int(n*0.8) #80% of total samples will go to the training set, and rest will go to test set.\n",
    "m_test = X.shape[0] - m #The rest, i.e., 20% will go to test."
   ]
  },
  {
   "cell_type": "code",
   "execution_count": null,
   "id": "qwKVchluxhXH",
   "metadata": {
    "id": "qwKVchluxhXH"
   },
   "outputs": [],
   "source": [
    "#Now split the X, y into (X_train,y_train), and (X_test,y_test) tuples\n",
    "X_train, X_test = X[:m].T, X[m:].T\n",
    "y_train, y_test = y_new[:,:m], y_new[:,m:]"
   ]
  },
  {
   "cell_type": "code",
   "execution_count": null,
   "id": "UGVLdE2l9hE8",
   "metadata": {
    "colab": {
     "base_uri": "https://localhost:8080/"
    },
    "id": "UGVLdE2l9hE8",
    "outputId": "55ad8109-9d33-46c3-ec81-e5d9ae2c851a"
   },
   "outputs": [
    {
     "data": {
      "text/plain": [
       "(784, 33600)"
      ]
     },
     "execution_count": 25,
     "metadata": {},
     "output_type": "execute_result"
    }
   ],
   "source": [
    "X_train.shape"
   ]
  },
  {
   "cell_type": "code",
   "execution_count": null,
   "id": "tIUe88ivxhXI",
   "metadata": {
    "id": "tIUe88ivxhXI"
   },
   "outputs": [],
   "source": [
    "#And, shuffle the training set\n",
    "np.random.seed(4321)\n",
    "shuffle_indices = np.random.permutation(m)\n",
    "X_train, y_train = X_train[:,shuffle_indices], y_train[:,shuffle_indices]"
   ]
  },
  {
   "cell_type": "markdown",
   "id": "ctTOAnT_-q-2",
   "metadata": {
    "id": "ctTOAnT_-q-2"
   },
   "source": [
    "### Step v6.4: Build and train"
   ]
  },
  {
   "cell_type": "code",
   "execution_count": null,
   "id": "1_SG1eDc7py3",
   "metadata": {
    "id": "1_SG1eDc7py3"
   },
   "outputs": [],
   "source": [
    "from tensorflow import keras\n",
    "from tensorflow.keras import layers\n",
    "from tensorflow.keras.models import Sequential\n",
    "from tensorflow.keras.layers import Dense\n"
   ]
  },
  {
   "cell_type": "code",
   "execution_count": null,
   "id": "suwzfJAF89e7",
   "metadata": {
    "id": "suwzfJAF89e7"
   },
   "outputs": [],
   "source": [
    "# hyperparameters\n",
    "n_x = X_train.shape[0]\n",
    "n_h = 64\n",
    "batch_size = 128"
   ]
  },
  {
   "cell_type": "code",
   "execution_count": null,
   "id": "e1PmLI-M7r2h",
   "metadata": {
    "id": "e1PmLI-M7r2h"
   },
   "outputs": [],
   "source": [
    "# define the 784-256-128-10 architecture using Keras\n",
    "model = Sequential()\n",
    "model.add(Dense(n_h, input_shape=(n_x,), activation=\"sigmoid\"))\n",
    "model.add(Dense(10, activation=\"softmax\"))"
   ]
  },
  {
   "cell_type": "code",
   "execution_count": null,
   "id": "EEidUYqN96rF",
   "metadata": {
    "id": "EEidUYqN96rF"
   },
   "outputs": [],
   "source": [
    "adam = tf.keras.optimizers.Adam(learning_rate=0.001, beta_1=0.9, beta_2=0.999, epsilon=1e-07)"
   ]
  },
  {
   "cell_type": "code",
   "execution_count": null,
   "id": "RhzIfbS58uzd",
   "metadata": {
    "id": "RhzIfbS58uzd"
   },
   "outputs": [],
   "source": [
    "model.compile(\n",
    "  optimizer=adam,\n",
    "  loss='categorical_crossentropy',\n",
    "  metrics=['accuracy'],\n",
    ")"
   ]
  },
  {
   "cell_type": "code",
   "execution_count": null,
   "id": "sNvWmGQ981w-",
   "metadata": {
    "colab": {
     "base_uri": "https://localhost:8080/"
    },
    "id": "sNvWmGQ981w-",
    "outputId": "7178800f-4016-4328-8bb4-f055a61c378d"
   },
   "outputs": [
    {
     "name": "stdout",
     "output_type": "stream",
     "text": [
      "Epoch 1/20\n",
      "263/263 [==============================] - 2s 4ms/step - loss: 0.9773 - accuracy: 0.7903\n",
      "Epoch 2/20\n",
      "263/263 [==============================] - 1s 4ms/step - loss: 0.4112 - accuracy: 0.8993\n",
      "Epoch 3/20\n",
      "263/263 [==============================] - 1s 4ms/step - loss: 0.3147 - accuracy: 0.9145\n",
      "Epoch 4/20\n",
      "263/263 [==============================] - 1s 4ms/step - loss: 0.2689 - accuracy: 0.9255\n",
      "Epoch 5/20\n",
      "263/263 [==============================] - 1s 4ms/step - loss: 0.2389 - accuracy: 0.9334\n",
      "Epoch 6/20\n",
      "263/263 [==============================] - 1s 4ms/step - loss: 0.2150 - accuracy: 0.9412\n",
      "Epoch 7/20\n",
      "263/263 [==============================] - 1s 4ms/step - loss: 0.1966 - accuracy: 0.9452\n",
      "Epoch 8/20\n",
      "263/263 [==============================] - 1s 4ms/step - loss: 0.1805 - accuracy: 0.9493\n",
      "Epoch 9/20\n",
      "263/263 [==============================] - 1s 4ms/step - loss: 0.1676 - accuracy: 0.9537\n",
      "Epoch 10/20\n",
      "263/263 [==============================] - 1s 4ms/step - loss: 0.1560 - accuracy: 0.9562\n",
      "Epoch 11/20\n",
      "263/263 [==============================] - 1s 4ms/step - loss: 0.1459 - accuracy: 0.9596\n",
      "Epoch 12/20\n",
      "263/263 [==============================] - 1s 4ms/step - loss: 0.1364 - accuracy: 0.9626\n",
      "Epoch 13/20\n",
      "263/263 [==============================] - 1s 4ms/step - loss: 0.1284 - accuracy: 0.9651\n",
      "Epoch 14/20\n",
      "263/263 [==============================] - 1s 4ms/step - loss: 0.1207 - accuracy: 0.9676\n",
      "Epoch 15/20\n",
      "263/263 [==============================] - 1s 4ms/step - loss: 0.1139 - accuracy: 0.9700\n",
      "Epoch 16/20\n",
      "263/263 [==============================] - 1s 4ms/step - loss: 0.1073 - accuracy: 0.9714\n",
      "Epoch 17/20\n",
      "263/263 [==============================] - 1s 4ms/step - loss: 0.1018 - accuracy: 0.9733\n",
      "Epoch 18/20\n",
      "263/263 [==============================] - 1s 4ms/step - loss: 0.0961 - accuracy: 0.9749\n",
      "Epoch 19/20\n",
      "263/263 [==============================] - 1s 4ms/step - loss: 0.0906 - accuracy: 0.9769\n",
      "Epoch 20/20\n",
      "263/263 [==============================] - 1s 4ms/step - loss: 0.0857 - accuracy: 0.9781\n"
     ]
    },
    {
     "data": {
      "text/plain": [
       "<keras.callbacks.History at 0x7f10e697a890>"
      ]
     },
     "execution_count": 31,
     "metadata": {},
     "output_type": "execute_result"
    }
   ],
   "source": [
    "model.fit(\n",
    "  X_train.T, # training data\n",
    "  y_train.T, # training targets\n",
    "  epochs=20,\n",
    "  batch_size=batch_size,\n",
    ")"
   ]
  },
  {
   "cell_type": "markdown",
   "id": "4PBwm5bTxhXO",
   "metadata": {
    "id": "4PBwm5bTxhXO"
   },
   "source": [
    "### Step v6.6 Evaluation"
   ]
  },
  {
   "cell_type": "code",
   "execution_count": null,
   "id": "a2CoDBlgxhXP",
   "metadata": {
    "id": "a2CoDBlgxhXP"
   },
   "outputs": [],
   "source": [
    "#predict the test set\n",
    "prediction_scores = model.predict(X_test.T, batch_size=128)\n",
    "predictions = np.argmax(prediction_scores,axis=1)\n",
    "labels = np.argmax(y_test, axis=0)\n"
   ]
  },
  {
   "cell_type": "code",
   "execution_count": null,
   "id": "uuhqttJrxhXP",
   "metadata": {
    "colab": {
     "base_uri": "https://localhost:8080/"
    },
    "id": "uuhqttJrxhXP",
    "outputId": "f8974267-e4c6-4a52-c30d-1de3082ea776"
   },
   "outputs": [
    {
     "name": "stdout",
     "output_type": "stream",
     "text": [
      "Confusion matrix: \n",
      "[[831   0   4   3   1   4   5   2   1   6]\n",
      " [  0 932   2   1   7   3   2   1  13   5]\n",
      " [  4   2 765   8   2   5   4   7   2   1]\n",
      " [  0   4   6 846   0  11   0   3   3  10]\n",
      " [  1   0   7   0 769   4   3   1   2  17]\n",
      " [  1   1   2  11   1 698   3   1   6   4]\n",
      " [  6   0   5   0   9   3 812   0   1   0]\n",
      " [  2   3   4   5   0   1   0 864   0  10]\n",
      " [  6   7   4   5   4  12   2   2 771   6]\n",
      " [  1   1   2   3  18   6   0   3   3 781]]\n"
     ]
    }
   ],
   "source": [
    "#Now, build the confusion matrix\n",
    "conf_mat = confusion_matrix(predictions,labels)\n",
    "print('Confusion matrix: \\n{}'.format(conf_mat))"
   ]
  },
  {
   "cell_type": "markdown",
   "id": "DgV5i-S_xhXP",
   "metadata": {
    "id": "DgV5i-S_xhXP"
   },
   "source": [
    "* And the classification report below. You can see the performance is extra-ordinarily good."
   ]
  },
  {
   "cell_type": "code",
   "execution_count": null,
   "id": "1Avh4IRLxhXQ",
   "metadata": {
    "colab": {
     "base_uri": "https://localhost:8080/"
    },
    "id": "1Avh4IRLxhXQ",
    "outputId": "77109b0d-7099-4a08-fedc-f553af92daf8",
    "scrolled": true
   },
   "outputs": [
    {
     "name": "stdout",
     "output_type": "stream",
     "text": [
      "Classification report on the test set: \n",
      "              precision    recall  f1-score   support\n",
      "\n",
      "           0       0.98      0.97      0.97       857\n",
      "           1       0.98      0.96      0.97       966\n",
      "           2       0.96      0.96      0.96       800\n",
      "           3       0.96      0.96      0.96       883\n",
      "           4       0.95      0.96      0.95       804\n",
      "           5       0.93      0.96      0.95       728\n",
      "           6       0.98      0.97      0.97       836\n",
      "           7       0.98      0.97      0.97       889\n",
      "           8       0.96      0.94      0.95       819\n",
      "           9       0.93      0.95      0.94       818\n",
      "\n",
      "    accuracy                           0.96      8400\n",
      "   macro avg       0.96      0.96      0.96      8400\n",
      "weighted avg       0.96      0.96      0.96      8400\n",
      "\n"
     ]
    }
   ],
   "source": [
    "print('Classification report on the test set: \\n{}'.format(classification_report(predictions,labels)))"
   ]
  },
  {
   "cell_type": "markdown",
   "id": "K_FiSoi8xhXQ",
   "metadata": {
    "id": "K_FiSoi8xhXQ"
   },
   "source": [
    "## That's all Folks!"
   ]
  }
 ],
 "metadata": {
  "accelerator": "GPU",
  "celltoolbar": "Slideshow",
  "colab": {
   "collapsed_sections": [
    "painted-polyester",
    "further-mexican",
    "facial-flavor"
   ],
   "name": "Week-03+05-MNIST--the-helloworld-project-with-Tensorflow.ipynb",
   "provenance": []
  },
  "kernelspec": {
   "display_name": "Python 3",
   "language": "python",
   "name": "python3"
  },
  "language_info": {
   "codemirror_mode": {
    "name": "ipython",
    "version": 3
   },
   "file_extension": ".py",
   "mimetype": "text/x-python",
   "name": "python",
   "nbconvert_exporter": "python",
   "pygments_lexer": "ipython3",
   "version": "3.9.9"
  }
 },
 "nbformat": 4,
 "nbformat_minor": 5
}
