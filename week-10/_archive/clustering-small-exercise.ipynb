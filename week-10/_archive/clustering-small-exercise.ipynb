{
 "cells": [
  {
   "cell_type": "markdown",
   "id": "645d157f",
   "metadata": {},
   "source": [
    "# Small exercise on clustering\n"
   ]
  },
  {
   "cell_type": "code",
   "execution_count": 3,
   "id": "4c0618fb",
   "metadata": {},
   "outputs": [],
   "source": [
    "import pandas as pd \n",
    "import numpy as np\n",
    "import matplotlib.pyplot as plt\n",
    "import matplotlib.cm as cm\n",
    "import warnings\n",
    "\n",
    "warnings.filterwarnings('ignore')\n",
    "\n",
    "#from sklearn.cluster import KMeans\n",
    "#from sklearn.metrics import silhouette_samples , silhouette_score\n",
    "from sklearn.datasets import make_blobs\n",
    "colormap = ['r', 'g', 'b', 'c', 'm', 'y', 'k']"
   ]
  },
  {
   "cell_type": "code",
   "execution_count": 4,
   "id": "f21203c8",
   "metadata": {},
   "outputs": [],
   "source": [
    "# Generating the sample data from make_blobs\n",
    "X, y = make_blobs(n_samples=10,cluster_std=1,centers=3,\n",
    "                  shuffle=True,center_box=(-2,2), n_features=2,random_state=54321)\n"
   ]
  },
  {
   "cell_type": "code",
   "execution_count": 6,
   "id": "fdcca456-4c56-44fb-b624-6e189034f57a",
   "metadata": {},
   "outputs": [
    {
     "data": {
      "text/plain": [
       "(array([[ 1.75921544, -0.84664191],\n",
       "        [ 1.49969879, -0.8262837 ],\n",
       "        [ 1.70201088,  0.41253921],\n",
       "        [ 0.05173659,  0.08354449],\n",
       "        [ 2.14606047,  0.65069616],\n",
       "        [ 0.99487547,  0.47927744],\n",
       "        [-0.38187704, -0.04045527],\n",
       "        [ 1.92975786,  0.27962795],\n",
       "        [ 1.07209844,  0.54344191],\n",
       "        [ 0.39204461,  0.64682097]]),\n",
       " array([1, 1, 0, 2, 0, 0, 2, 1, 0, 2]))"
      ]
     },
     "execution_count": 6,
     "metadata": {},
     "output_type": "execute_result"
    }
   ],
   "source": [
    "X, y"
   ]
  },
  {
   "cell_type": "code",
   "execution_count": 7,
   "id": "67c1af70-7e1e-4b1e-a28d-907301688f0b",
   "metadata": {},
   "outputs": [],
   "source": [
    "y = y.astype(int) #making y integers.\n"
   ]
  },
  {
   "cell_type": "code",
   "execution_count": 8,
   "id": "a0146183-9d1e-4772-bda2-8d77638cb6a6",
   "metadata": {},
   "outputs": [],
   "source": [
    "dataset = pd.DataFrame(np.column_stack((X,y)),columns=['x1','x2','y'])"
   ]
  },
  {
   "cell_type": "code",
   "execution_count": 9,
   "id": "d1edfcab-8e5e-482b-aba3-8c8304069cc1",
   "metadata": {},
   "outputs": [],
   "source": [
    "dataset[['y']] = dataset[['y']].astype(int)"
   ]
  },
  {
   "cell_type": "code",
   "execution_count": 13,
   "id": "e8d3b45c-95eb-4ff2-a061-cfe7310d122a",
   "metadata": {},
   "outputs": [
    {
     "data": {
      "text/html": [
       "<div>\n",
       "<style scoped>\n",
       "    .dataframe tbody tr th:only-of-type {\n",
       "        vertical-align: middle;\n",
       "    }\n",
       "\n",
       "    .dataframe tbody tr th {\n",
       "        vertical-align: top;\n",
       "    }\n",
       "\n",
       "    .dataframe thead th {\n",
       "        text-align: right;\n",
       "    }\n",
       "</style>\n",
       "<table border=\"1\" class=\"dataframe\">\n",
       "  <thead>\n",
       "    <tr style=\"text-align: right;\">\n",
       "      <th></th>\n",
       "      <th>x1</th>\n",
       "      <th>x2</th>\n",
       "      <th>y</th>\n",
       "    </tr>\n",
       "  </thead>\n",
       "  <tbody>\n",
       "    <tr>\n",
       "      <th>0</th>\n",
       "      <td>1.759215</td>\n",
       "      <td>-0.846642</td>\n",
       "      <td>1</td>\n",
       "    </tr>\n",
       "    <tr>\n",
       "      <th>1</th>\n",
       "      <td>1.499699</td>\n",
       "      <td>-0.826284</td>\n",
       "      <td>1</td>\n",
       "    </tr>\n",
       "    <tr>\n",
       "      <th>2</th>\n",
       "      <td>1.702011</td>\n",
       "      <td>0.412539</td>\n",
       "      <td>0</td>\n",
       "    </tr>\n",
       "    <tr>\n",
       "      <th>3</th>\n",
       "      <td>0.051737</td>\n",
       "      <td>0.083544</td>\n",
       "      <td>2</td>\n",
       "    </tr>\n",
       "    <tr>\n",
       "      <th>4</th>\n",
       "      <td>2.146060</td>\n",
       "      <td>0.650696</td>\n",
       "      <td>0</td>\n",
       "    </tr>\n",
       "    <tr>\n",
       "      <th>5</th>\n",
       "      <td>0.994875</td>\n",
       "      <td>0.479277</td>\n",
       "      <td>0</td>\n",
       "    </tr>\n",
       "    <tr>\n",
       "      <th>6</th>\n",
       "      <td>-0.381877</td>\n",
       "      <td>-0.040455</td>\n",
       "      <td>2</td>\n",
       "    </tr>\n",
       "    <tr>\n",
       "      <th>7</th>\n",
       "      <td>1.929758</td>\n",
       "      <td>0.279628</td>\n",
       "      <td>1</td>\n",
       "    </tr>\n",
       "    <tr>\n",
       "      <th>8</th>\n",
       "      <td>1.072098</td>\n",
       "      <td>0.543442</td>\n",
       "      <td>0</td>\n",
       "    </tr>\n",
       "    <tr>\n",
       "      <th>9</th>\n",
       "      <td>0.392045</td>\n",
       "      <td>0.646821</td>\n",
       "      <td>2</td>\n",
       "    </tr>\n",
       "  </tbody>\n",
       "</table>\n",
       "</div>"
      ],
      "text/plain": [
       "         x1        x2  y\n",
       "0  1.759215 -0.846642  1\n",
       "1  1.499699 -0.826284  1\n",
       "2  1.702011  0.412539  0\n",
       "3  0.051737  0.083544  2\n",
       "4  2.146060  0.650696  0\n",
       "5  0.994875  0.479277  0\n",
       "6 -0.381877 -0.040455  2\n",
       "7  1.929758  0.279628  1\n",
       "8  1.072098  0.543442  0\n",
       "9  0.392045  0.646821  2"
      ]
     },
     "execution_count": 13,
     "metadata": {},
     "output_type": "execute_result"
    }
   ],
   "source": [
    "dataset.head(n=10)"
   ]
  },
  {
   "cell_type": "code",
   "execution_count": 12,
   "id": "110339c4",
   "metadata": {},
   "outputs": [
    {
     "data": {
      "image/png": "[encoded data removed]",
      "text/plain": [
       "<Figure size 640x480 with 1 Axes>"
      ]
     },
     "metadata": {},
     "output_type": "display_data"
    }
   ],
   "source": [
    "\n",
    "plt.scatter(X[:,0],X[:,1],c=[colormap[k] for k in y])\n",
    "plt.show()\n"
   ]
  },
  {
   "cell_type": "code",
   "execution_count": 14,
   "id": "9a43aa39",
   "metadata": {},
   "outputs": [],
   "source": [
    "c0_members = dataset.query('y==0')"
   ]
  },
  {
   "cell_type": "code",
   "execution_count": 15,
   "id": "b554f291-056e-4533-aecc-7d3bc551ee5b",
   "metadata": {},
   "outputs": [
    {
     "data": {
      "text/html": [
       "<div>\n",
       "<style scoped>\n",
       "    .dataframe tbody tr th:only-of-type {\n",
       "        vertical-align: middle;\n",
       "    }\n",
       "\n",
       "    .dataframe tbody tr th {\n",
       "        vertical-align: top;\n",
       "    }\n",
       "\n",
       "    .dataframe thead th {\n",
       "        text-align: right;\n",
       "    }\n",
       "</style>\n",
       "<table border=\"1\" class=\"dataframe\">\n",
       "  <thead>\n",
       "    <tr style=\"text-align: right;\">\n",
       "      <th></th>\n",
       "      <th>x1</th>\n",
       "      <th>x2</th>\n",
       "      <th>y</th>\n",
       "    </tr>\n",
       "  </thead>\n",
       "  <tbody>\n",
       "    <tr>\n",
       "      <th>2</th>\n",
       "      <td>1.702011</td>\n",
       "      <td>0.412539</td>\n",
       "      <td>0</td>\n",
       "    </tr>\n",
       "    <tr>\n",
       "      <th>4</th>\n",
       "      <td>2.146060</td>\n",
       "      <td>0.650696</td>\n",
       "      <td>0</td>\n",
       "    </tr>\n",
       "    <tr>\n",
       "      <th>5</th>\n",
       "      <td>0.994875</td>\n",
       "      <td>0.479277</td>\n",
       "      <td>0</td>\n",
       "    </tr>\n",
       "    <tr>\n",
       "      <th>8</th>\n",
       "      <td>1.072098</td>\n",
       "      <td>0.543442</td>\n",
       "      <td>0</td>\n",
       "    </tr>\n",
       "  </tbody>\n",
       "</table>\n",
       "</div>"
      ],
      "text/plain": [
       "         x1        x2  y\n",
       "2  1.702011  0.412539  0\n",
       "4  2.146060  0.650696  0\n",
       "5  0.994875  0.479277  0\n",
       "8  1.072098  0.543442  0"
      ]
     },
     "execution_count": 15,
     "metadata": {},
     "output_type": "execute_result"
    }
   ],
   "source": [
    "c0_members"
   ]
  },
  {
   "cell_type": "code",
   "execution_count": 17,
   "id": "b431700d-3372-4fa5-a103-9a6b23984343",
   "metadata": {},
   "outputs": [],
   "source": [
    "c1_members = dataset.query('y==1')"
   ]
  },
  {
   "cell_type": "code",
   "execution_count": 16,
   "id": "3cca87d7-b242-441b-8556-9c846f618325",
   "metadata": {},
   "outputs": [],
   "source": [
    "c2_members = dataset.query('y==2')"
   ]
  },
  {
   "cell_type": "code",
   "execution_count": 53,
   "id": "5ab2d9f3-a775-4979-b7b9-41f3afe8214d",
   "metadata": {},
   "outputs": [
    {
     "data": {
      "text/html": [
       "<div>\n",
       "<style scoped>\n",
       "    .dataframe tbody tr th:only-of-type {\n",
       "        vertical-align: middle;\n",
       "    }\n",
       "\n",
       "    .dataframe tbody tr th {\n",
       "        vertical-align: top;\n",
       "    }\n",
       "\n",
       "    .dataframe thead th {\n",
       "        text-align: right;\n",
       "    }\n",
       "</style>\n",
       "<table border=\"1\" class=\"dataframe\">\n",
       "  <thead>\n",
       "    <tr style=\"text-align: right;\">\n",
       "      <th></th>\n",
       "      <th>x1</th>\n",
       "      <th>x2</th>\n",
       "      <th>y</th>\n",
       "    </tr>\n",
       "  </thead>\n",
       "  <tbody>\n",
       "    <tr>\n",
       "      <th>2</th>\n",
       "      <td>1.702011</td>\n",
       "      <td>0.412539</td>\n",
       "      <td>0</td>\n",
       "    </tr>\n",
       "    <tr>\n",
       "      <th>4</th>\n",
       "      <td>2.146060</td>\n",
       "      <td>0.650696</td>\n",
       "      <td>0</td>\n",
       "    </tr>\n",
       "    <tr>\n",
       "      <th>5</th>\n",
       "      <td>0.994875</td>\n",
       "      <td>0.479277</td>\n",
       "      <td>0</td>\n",
       "    </tr>\n",
       "    <tr>\n",
       "      <th>8</th>\n",
       "      <td>1.072098</td>\n",
       "      <td>0.543442</td>\n",
       "      <td>0</td>\n",
       "    </tr>\n",
       "  </tbody>\n",
       "</table>\n",
       "</div>"
      ],
      "text/plain": [
       "         x1        x2  y\n",
       "2  1.702011  0.412539  0\n",
       "4  2.146060  0.650696  0\n",
       "5  0.994875  0.479277  0\n",
       "8  1.072098  0.543442  0"
      ]
     },
     "execution_count": 53,
     "metadata": {},
     "output_type": "execute_result"
    }
   ],
   "source": [
    "c0_members"
   ]
  },
  {
   "cell_type": "code",
   "execution_count": 18,
   "id": "d3019bb9-0ccd-4ad1-bf1d-0589cef67ac7",
   "metadata": {},
   "outputs": [
    {
     "data": {
      "text/html": [
       "<div>\n",
       "<style scoped>\n",
       "    .dataframe tbody tr th:only-of-type {\n",
       "        vertical-align: middle;\n",
       "    }\n",
       "\n",
       "    .dataframe tbody tr th {\n",
       "        vertical-align: top;\n",
       "    }\n",
       "\n",
       "    .dataframe thead th {\n",
       "        text-align: right;\n",
       "    }\n",
       "</style>\n",
       "<table border=\"1\" class=\"dataframe\">\n",
       "  <thead>\n",
       "    <tr style=\"text-align: right;\">\n",
       "      <th></th>\n",
       "      <th>x1</th>\n",
       "      <th>x2</th>\n",
       "      <th>y</th>\n",
       "    </tr>\n",
       "  </thead>\n",
       "  <tbody>\n",
       "    <tr>\n",
       "      <th>0</th>\n",
       "      <td>1.759215</td>\n",
       "      <td>-0.846642</td>\n",
       "      <td>1</td>\n",
       "    </tr>\n",
       "    <tr>\n",
       "      <th>1</th>\n",
       "      <td>1.499699</td>\n",
       "      <td>-0.826284</td>\n",
       "      <td>1</td>\n",
       "    </tr>\n",
       "    <tr>\n",
       "      <th>7</th>\n",
       "      <td>1.929758</td>\n",
       "      <td>0.279628</td>\n",
       "      <td>1</td>\n",
       "    </tr>\n",
       "  </tbody>\n",
       "</table>\n",
       "</div>"
      ],
      "text/plain": [
       "         x1        x2  y\n",
       "0  1.759215 -0.846642  1\n",
       "1  1.499699 -0.826284  1\n",
       "7  1.929758  0.279628  1"
      ]
     },
     "execution_count": 18,
     "metadata": {},
     "output_type": "execute_result"
    }
   ],
   "source": [
    "c1_members"
   ]
  },
  {
   "cell_type": "code",
   "execution_count": 20,
   "id": "1e1074eb-710e-4de9-acd6-5a94fa154e7e",
   "metadata": {},
   "outputs": [
    {
     "data": {
      "text/html": [
       "<div>\n",
       "<style scoped>\n",
       "    .dataframe tbody tr th:only-of-type {\n",
       "        vertical-align: middle;\n",
       "    }\n",
       "\n",
       "    .dataframe tbody tr th {\n",
       "        vertical-align: top;\n",
       "    }\n",
       "\n",
       "    .dataframe thead th {\n",
       "        text-align: right;\n",
       "    }\n",
       "</style>\n",
       "<table border=\"1\" class=\"dataframe\">\n",
       "  <thead>\n",
       "    <tr style=\"text-align: right;\">\n",
       "      <th></th>\n",
       "      <th>x1</th>\n",
       "      <th>x2</th>\n",
       "      <th>y</th>\n",
       "    </tr>\n",
       "  </thead>\n",
       "  <tbody>\n",
       "    <tr>\n",
       "      <th>2</th>\n",
       "      <td>1.702011</td>\n",
       "      <td>0.412539</td>\n",
       "      <td>0</td>\n",
       "    </tr>\n",
       "    <tr>\n",
       "      <th>4</th>\n",
       "      <td>2.146060</td>\n",
       "      <td>0.650696</td>\n",
       "      <td>0</td>\n",
       "    </tr>\n",
       "    <tr>\n",
       "      <th>5</th>\n",
       "      <td>0.994875</td>\n",
       "      <td>0.479277</td>\n",
       "      <td>0</td>\n",
       "    </tr>\n",
       "    <tr>\n",
       "      <th>8</th>\n",
       "      <td>1.072098</td>\n",
       "      <td>0.543442</td>\n",
       "      <td>0</td>\n",
       "    </tr>\n",
       "  </tbody>\n",
       "</table>\n",
       "</div>"
      ],
      "text/plain": [
       "         x1        x2  y\n",
       "2  1.702011  0.412539  0\n",
       "4  2.146060  0.650696  0\n",
       "5  0.994875  0.479277  0\n",
       "8  1.072098  0.543442  0"
      ]
     },
     "execution_count": 20,
     "metadata": {},
     "output_type": "execute_result"
    }
   ],
   "source": [
    "c0_members"
   ]
  },
  {
   "cell_type": "code",
   "execution_count": 21,
   "id": "7f08c426",
   "metadata": {},
   "outputs": [
    {
     "data": {
      "text/plain": [
       "x1    5.915045\n",
       "dtype: float64"
      ]
     },
     "execution_count": 21,
     "metadata": {},
     "output_type": "execute_result"
    }
   ],
   "source": [
    "np.sum(c0_members[['x1']])"
   ]
  },
  {
   "cell_type": "code",
   "execution_count": 55,
   "id": "274ddbf9-388c-4e7c-b4d2-2a4f044eb399",
   "metadata": {},
   "outputs": [
    {
     "data": {
      "text/plain": [
       "x2    2.085955\n",
       "dtype: float64"
      ]
     },
     "execution_count": 55,
     "metadata": {},
     "output_type": "execute_result"
    }
   ],
   "source": [
    "np.sum(c0_members[['x2']])"
   ]
  },
  {
   "cell_type": "code",
   "execution_count": 56,
   "id": "ce7e788f-7bd0-4fa7-8e60-e88961886d69",
   "metadata": {},
   "outputs": [
    {
     "data": {
      "text/plain": [
       "4"
      ]
     },
     "execution_count": 56,
     "metadata": {},
     "output_type": "execute_result"
    }
   ],
   "source": [
    "len(c0_members)"
   ]
  },
  {
   "cell_type": "code",
   "execution_count": 22,
   "id": "8c2fae82-1e0f-477d-a8b7-5af3d8679d76",
   "metadata": {},
   "outputs": [],
   "source": [
    "c0_centroid = [ np.sum(c0_members[['x1']])/len(c0_members),\n",
    "                np.sum(c0_members[['x2']])/len(c0_members),\n",
    "              ]"
   ]
  },
  {
   "cell_type": "code",
   "execution_count": 25,
   "id": "d8e0a953-2672-49bc-926c-2010a34a59f0",
   "metadata": {},
   "outputs": [],
   "source": [
    "c1_centroid = [ np.sum(c1_members[['x1']])/len(c1_members),\n",
    "                np.sum(c1_members[['x2']])/len(c1_members),\n",
    "              ]"
   ]
  },
  {
   "cell_type": "code",
   "execution_count": 26,
   "id": "7d2c1dfe-b104-4e49-a5c6-a40cf3e32125",
   "metadata": {},
   "outputs": [],
   "source": [
    "c2_centroid = [ np.sum(c2_members[['x1']])/len(c2_members),\n",
    "                np.sum(c2_members[['x2']])/len(c2_members),\n",
    "              ]"
   ]
  },
  {
   "cell_type": "code",
   "execution_count": 27,
   "id": "c6e29175-a57a-4462-ac5a-b835d7a5622b",
   "metadata": {},
   "outputs": [
    {
     "data": {
      "text/plain": [
       "([x1    1.478761\n",
       "  dtype: float64,\n",
       "  x2    0.521489\n",
       "  dtype: float64],\n",
       " [x1    1.729557\n",
       "  dtype: float64,\n",
       "  x2   -0.464433\n",
       "  dtype: float64],\n",
       " [x1    0.020635\n",
       "  dtype: float64,\n",
       "  x2    0.22997\n",
       "  dtype: float64])"
      ]
     },
     "execution_count": 27,
     "metadata": {},
     "output_type": "execute_result"
    }
   ],
   "source": [
    "c0_centroid, c1_centroid, c2_centroid"
   ]
  },
  {
   "cell_type": "code",
   "execution_count": 29,
   "id": "0c0f5b71-56f5-48b2-b8fd-d937cd56b78e",
   "metadata": {},
   "outputs": [
    {
     "data": {
      "image/png": "[encoded data removed]",
      "text/plain": [
       "<Figure size 640x480 with 1 Axes>"
      ]
     },
     "metadata": {},
     "output_type": "display_data"
    }
   ],
   "source": [
    "\n",
    "plt.scatter(X[:,0],X[:,1],c=[colormap[k] for k in y])\n",
    "plt.plot(c0_centroid[0],c0_centroid[1],marker='+', markersize=10, color='r') \n",
    "plt.plot(c1_centroid[0],c1_centroid[1],marker='+', markersize=10, color='g') \n",
    "plt.plot(c2_centroid[0],c2_centroid[1],marker='+', markersize=10, color='b') \n",
    "\n",
    "plt.show()"
   ]
  },
  {
   "cell_type": "code",
   "execution_count": null,
   "id": "c59201fb-5db8-4b20-8d05-79cf0e9eecf6",
   "metadata": {},
   "outputs": [],
   "source": []
  }
 ],
 "metadata": {
  "kernelspec": {
   "display_name": "Python3.9+Torch2",
   "language": "python",
   "name": "venv-torch2"
  },
  "language_info": {
   "codemirror_mode": {
    "name": "ipython",
    "version": 3
   },
   "file_extension": ".py",
   "mimetype": "text/x-python",
   "name": "python",
   "nbconvert_exporter": "python",
   "pygments_lexer": "ipython3",
   "version": "3.9.18"
  },
  "varInspector": {
   "cols": {
    "lenName": 16,
    "lenType": 16,
    "lenVar": 40
   },
   "kernels_config": {
    "python": {
     "delete_cmd_postfix": "",
     "delete_cmd_prefix": "del ",
     "library": "var_list.py",
     "varRefreshCmd": "print(var_dic_list())"
    },
    "r": {
     "delete_cmd_postfix": ") ",
     "delete_cmd_prefix": "rm(",
     "library": "var_list.r",
     "varRefreshCmd": "cat(var_dic_list()) "
    }
   },
   "types_to_exclude": [
    "module",
    "function",
    "builtin_function_or_method",
    "instance",
    "_Feature"
   ],
   "window_display": false
  }
 },
 "nbformat": 4,
 "nbformat_minor": 5
}
