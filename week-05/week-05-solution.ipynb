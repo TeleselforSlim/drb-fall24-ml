{
 "cells": [
  {
   "cell_type": "markdown",
   "id": "4f7fd1cb-2734-4169-abb2-a59933b35eca",
   "metadata": {},
   "source": [
    "## Week-5 activities"
   ]
  },
  {
   "cell_type": "code",
   "execution_count": 1,
   "id": "72c04ab7-dfa7-49d1-be97-21d521096cbd",
   "metadata": {},
   "outputs": [],
   "source": [
    "import pandas as pd"
   ]
  },
  {
   "cell_type": "code",
   "execution_count": 5,
   "id": "eef31cc8-9550-4d44-bf63-dbf8c12dbed5",
   "metadata": {},
   "outputs": [],
   "source": [
    "simple_df = pd.read_excel('dataset/w5-simple-regression-trainset.xlsx',sheet_name='Sheet1')"
   ]
  },
  {
   "cell_type": "markdown",
   "id": "be45b163-10cc-402b-883f-661348dabe53",
   "metadata": {},
   "source": [
    "Task 1. Draw a linear regression line through the dataset `dataset/w5-simple-regression-trainset.xlsx`. Please note: the excel file contains data only in `Sheet1`. **Using Scikit-learn library allowed.**\n"
   ]
  },
  {
   "cell_type": "code",
   "execution_count": null,
   "id": "142ef783-85bf-4818-8b0b-6c699bc3e334",
   "metadata": {},
   "outputs": [],
   "source": []
  },
  {
   "cell_type": "markdown",
   "id": "06ee2f7c-5859-4e75-a91b-742c3aadc5b0",
   "metadata": {},
   "source": [
    "Task 2. Draw polynomial regression lines of degree 2, 3, 4, 5, 6, 7, 8, 9, 10, 20, 50, 100 through the dataset. Evaluate each of the models (including the model in #1) on the test set `dataset/w5-simple-testset.xlsx` in terms of RMSE and R2-score. Comments? **Using scikit-learn library allowed.**\n"
   ]
  },
  {
   "cell_type": "markdown",
   "id": "dc2d9e57-79fa-4717-af63-33fe546b2171",
   "metadata": {},
   "source": []
  },
  {
   "cell_type": "markdown",
   "id": "e5c9198e-9679-4b50-b523-77654684f705",
   "metadata": {},
   "source": [
    "Task 3. **Using scikit-learn library NOT ALLOWED**: Assuming you have gone through regression model lecture slides `Week-04-05--Regression-ML-Fall2024.pdf`. Build a simple linear regression model with the same `dataset/w5-simple-regression-trainset.xlsx` dataset in `Sheet1` with the following methods: i) closed form solution, ii) batch gradient descent, iii) stochastic gradient descent, iv) mini-batch gradient descent. And, compare your results with the evaluation metrics you got in #2.\n",
    "   - For methods (ii)-(iv) vary value of learning rate and save all evaluation metrics.\n",
    "   - For methods (iv) vary batch size and save all evaluation metrics.\n"
   ]
  },
  {
   "cell_type": "code",
   "execution_count": null,
   "id": "ea7e0e07-9740-429f-abbc-6d3b50c78a3b",
   "metadata": {},
   "outputs": [],
   "source": []
  },
  {
   "cell_type": "markdown",
   "id": "16837daa-6d82-4a43-b324-fbfc1e31edca",
   "metadata": {},
   "source": [
    "Task 4. Build a regression model for dataset in `dataset/w5-multi-regression-trainset.xlsx`. Please note it's a multiple linear regression task. **Using scikit-learn library allowed**. Evaluate the model on the provided test set, `dataset/w5-multi-regression-testset.xlsx` in terms of RMSE and R2-score.\n"
   ]
  },
  {
   "cell_type": "code",
   "execution_count": null,
   "id": "9b6771a5-02bb-41fd-91a6-5c9187f81079",
   "metadata": {},
   "outputs": [],
   "source": []
  },
  {
   "cell_type": "markdown",
   "id": "a35608f1-5c39-4606-9b29-258d1d1ca357",
   "metadata": {},
   "source": [
    "Task 5. Now, do the same as in task #4 without scikit-learn library. Apply the 4 solution approaches: (i) closed-form solution, (ii) batch gradient descent, (iii) stochastic gradient descent, (iv) mini-batch gradient descent. Don't forget to tune the *hyper-parameters* like learning rate.. Compare with results obtained in task #4."
   ]
  },
  {
   "cell_type": "code",
   "execution_count": null,
   "id": "e6008ec4-4bc6-45a4-8ac7-0a79727d7509",
   "metadata": {},
   "outputs": [],
   "source": []
  },
  {
   "cell_type": "code",
   "execution_count": null,
   "id": "391e4ab7-31a1-4384-a856-3b3817d2f9dd",
   "metadata": {},
   "outputs": [],
   "source": []
  }
 ],
 "metadata": {
  "kernelspec": {
   "display_name": "Python3.9+Torch2",
   "language": "python",
   "name": "venv-torch2"
  },
  "language_info": {
   "codemirror_mode": {
    "name": "ipython",
    "version": 3
   },
   "file_extension": ".py",
   "mimetype": "text/x-python",
   "name": "python",
   "nbconvert_exporter": "python",
   "pygments_lexer": "ipython3",
   "version": "3.9.18"
  }
 },
 "nbformat": 4,
 "nbformat_minor": 5
}
