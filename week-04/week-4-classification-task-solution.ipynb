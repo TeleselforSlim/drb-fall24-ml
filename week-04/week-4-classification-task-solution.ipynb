{
 "cells": [
  {
   "cell_type": "markdown",
   "id": "a02e1364-a23e-4bec-8eac-2152fb8e3c87",
   "metadata": {},
   "source": [
    "### Classification task\n",
    "* classifying tropical fruit types from 34 features extracted from the images of fruits.\n",
    "* Types present: {Barhee, Deglet Nour, Sukkary, Rotab Mozafati, Ruthana, Safawi, and Sagai}\n",
    "* Use-case: Given the 34 features from a new image of a fruit and pass it to the classifier, the classifier will be able to tell its type."
   ]
  },
  {
   "cell_type": "code",
   "execution_count": 1,
   "id": "ea4b7727-3584-49c2-991d-15b168c32d68",
   "metadata": {},
   "outputs": [],
   "source": [
    "import pandas as pd"
   ]
  },
  {
   "cell_type": "markdown",
   "id": "03d60fc3-de99-4945-b449-d7c11bc66bf2",
   "metadata": {},
   "source": [
    "* In case of the following error while calling `pd.read_excel()` function:\n",
    "```\n",
    "ImportError: Missing optional dependency 'openpyxl'.  Use pip or conda to install openpyxl.\n",
    "```\n",
    "    * Do as it says: `pip install openpyxl`"
   ]
  },
  {
   "cell_type": "code",
   "execution_count": 2,
   "id": "b8c97613-5fdb-4639-921b-c480e8a68c4d",
   "metadata": {},
   "outputs": [],
   "source": [
    "#!pip install openpyxl"
   ]
  },
  {
   "cell_type": "code",
   "execution_count": 3,
   "id": "8a1eb8d2-18a2-4cd6-bf0c-bfcb44fd88b2",
   "metadata": {},
   "outputs": [],
   "source": [
    "df = pd.read_excel('datasets/classification-task/F.xlsx', sheet_name='Sheet_02')\n"
   ]
  },
  {
   "cell_type": "code",
   "execution_count": 4,
   "id": "40e4a209-6188-4c3e-a0c4-7cb7da4c2212",
   "metadata": {},
   "outputs": [
    {
     "data": {
      "text/html": [
       "<div>\n",
       "<style scoped>\n",
       "    .dataframe tbody tr th:only-of-type {\n",
       "        vertical-align: middle;\n",
       "    }\n",
       "\n",
       "    .dataframe tbody tr th {\n",
       "        vertical-align: top;\n",
       "    }\n",
       "\n",
       "    .dataframe thead th {\n",
       "        text-align: right;\n",
       "    }\n",
       "</style>\n",
       "<table border=\"1\" class=\"dataframe\">\n",
       "  <thead>\n",
       "    <tr style=\"text-align: right;\">\n",
       "      <th></th>\n",
       "      <th>AREA</th>\n",
       "      <th>PERIMETER</th>\n",
       "      <th>MAJOR_AXIS</th>\n",
       "      <th>MINOR_AXIS</th>\n",
       "      <th>ECCENTRICITY</th>\n",
       "      <th>EQDIASQ</th>\n",
       "      <th>SOLIDITY</th>\n",
       "      <th>CONVEX_AREA</th>\n",
       "      <th>EXTENT</th>\n",
       "      <th>ASPECT_RATIO</th>\n",
       "      <th>...</th>\n",
       "      <th>KurtosisRR</th>\n",
       "      <th>KurtosisRG</th>\n",
       "      <th>KurtosisRB</th>\n",
       "      <th>EntropyRR</th>\n",
       "      <th>EntropyRG</th>\n",
       "      <th>EntropyRB</th>\n",
       "      <th>ALLdaub4RR</th>\n",
       "      <th>ALLdaub4RG</th>\n",
       "      <th>ALLdaub4RB</th>\n",
       "      <th>Class</th>\n",
       "    </tr>\n",
       "  </thead>\n",
       "  <tbody>\n",
       "    <tr>\n",
       "      <th>0</th>\n",
       "      <td>422163</td>\n",
       "      <td>2378.908</td>\n",
       "      <td>837.8484</td>\n",
       "      <td>645.6693</td>\n",
       "      <td>0.6373</td>\n",
       "      <td>733.1539</td>\n",
       "      <td>0.9947</td>\n",
       "      <td>424428</td>\n",
       "      <td>0.7831</td>\n",
       "      <td>1.2976</td>\n",
       "      <td>...</td>\n",
       "      <td>3.2370</td>\n",
       "      <td>2.9574</td>\n",
       "      <td>4.2287</td>\n",
       "      <td>-59191263232</td>\n",
       "      <td>-50714214400</td>\n",
       "      <td>-39922372608</td>\n",
       "      <td>58.7255</td>\n",
       "      <td>54.9554</td>\n",
       "      <td>47.8400</td>\n",
       "      <td>BERHI</td>\n",
       "    </tr>\n",
       "    <tr>\n",
       "      <th>1</th>\n",
       "      <td>338136</td>\n",
       "      <td>2085.144</td>\n",
       "      <td>723.8198</td>\n",
       "      <td>595.2073</td>\n",
       "      <td>0.5690</td>\n",
       "      <td>656.1464</td>\n",
       "      <td>0.9974</td>\n",
       "      <td>339014</td>\n",
       "      <td>0.7795</td>\n",
       "      <td>1.2161</td>\n",
       "      <td>...</td>\n",
       "      <td>2.6228</td>\n",
       "      <td>2.6350</td>\n",
       "      <td>3.1704</td>\n",
       "      <td>-34233065472</td>\n",
       "      <td>-37462601728</td>\n",
       "      <td>-31477794816</td>\n",
       "      <td>50.0259</td>\n",
       "      <td>52.8168</td>\n",
       "      <td>47.8315</td>\n",
       "      <td>BERHI</td>\n",
       "    </tr>\n",
       "    <tr>\n",
       "      <th>2</th>\n",
       "      <td>526843</td>\n",
       "      <td>2647.394</td>\n",
       "      <td>940.7379</td>\n",
       "      <td>715.3638</td>\n",
       "      <td>0.6494</td>\n",
       "      <td>819.0222</td>\n",
       "      <td>0.9962</td>\n",
       "      <td>528876</td>\n",
       "      <td>0.7657</td>\n",
       "      <td>1.3150</td>\n",
       "      <td>...</td>\n",
       "      <td>3.7516</td>\n",
       "      <td>3.8611</td>\n",
       "      <td>4.7192</td>\n",
       "      <td>-93948354560</td>\n",
       "      <td>-74738221056</td>\n",
       "      <td>-60311207936</td>\n",
       "      <td>65.4772</td>\n",
       "      <td>59.2860</td>\n",
       "      <td>51.9378</td>\n",
       "      <td>BERHI</td>\n",
       "    </tr>\n",
       "    <tr>\n",
       "      <th>3</th>\n",
       "      <td>416063</td>\n",
       "      <td>2351.210</td>\n",
       "      <td>827.9804</td>\n",
       "      <td>645.2988</td>\n",
       "      <td>0.6266</td>\n",
       "      <td>727.8378</td>\n",
       "      <td>0.9948</td>\n",
       "      <td>418255</td>\n",
       "      <td>0.7759</td>\n",
       "      <td>1.2831</td>\n",
       "      <td>...</td>\n",
       "      <td>5.0401</td>\n",
       "      <td>8.6136</td>\n",
       "      <td>8.2618</td>\n",
       "      <td>-32074307584</td>\n",
       "      <td>-32060925952</td>\n",
       "      <td>-29575010304</td>\n",
       "      <td>43.3900</td>\n",
       "      <td>44.1259</td>\n",
       "      <td>41.1882</td>\n",
       "      <td>BERHI</td>\n",
       "    </tr>\n",
       "    <tr>\n",
       "      <th>4</th>\n",
       "      <td>347562</td>\n",
       "      <td>2160.354</td>\n",
       "      <td>763.9877</td>\n",
       "      <td>582.8359</td>\n",
       "      <td>0.6465</td>\n",
       "      <td>665.2291</td>\n",
       "      <td>0.9908</td>\n",
       "      <td>350797</td>\n",
       "      <td>0.7569</td>\n",
       "      <td>1.3108</td>\n",
       "      <td>...</td>\n",
       "      <td>2.7016</td>\n",
       "      <td>2.9761</td>\n",
       "      <td>4.4146</td>\n",
       "      <td>-39980974080</td>\n",
       "      <td>-35980042240</td>\n",
       "      <td>-25593278464</td>\n",
       "      <td>52.7743</td>\n",
       "      <td>50.9080</td>\n",
       "      <td>42.6666</td>\n",
       "      <td>BERHI</td>\n",
       "    </tr>\n",
       "  </tbody>\n",
       "</table>\n",
       "<p>5 rows × 35 columns</p>\n",
       "</div>"
      ],
      "text/plain": [
       "     AREA  PERIMETER  MAJOR_AXIS  MINOR_AXIS  ECCENTRICITY   EQDIASQ  \\\n",
       "0  422163   2378.908    837.8484    645.6693        0.6373  733.1539   \n",
       "1  338136   2085.144    723.8198    595.2073        0.5690  656.1464   \n",
       "2  526843   2647.394    940.7379    715.3638        0.6494  819.0222   \n",
       "3  416063   2351.210    827.9804    645.2988        0.6266  727.8378   \n",
       "4  347562   2160.354    763.9877    582.8359        0.6465  665.2291   \n",
       "\n",
       "   SOLIDITY  CONVEX_AREA  EXTENT  ASPECT_RATIO  ...  KurtosisRR  KurtosisRG  \\\n",
       "0    0.9947       424428  0.7831        1.2976  ...      3.2370      2.9574   \n",
       "1    0.9974       339014  0.7795        1.2161  ...      2.6228      2.6350   \n",
       "2    0.9962       528876  0.7657        1.3150  ...      3.7516      3.8611   \n",
       "3    0.9948       418255  0.7759        1.2831  ...      5.0401      8.6136   \n",
       "4    0.9908       350797  0.7569        1.3108  ...      2.7016      2.9761   \n",
       "\n",
       "   KurtosisRB    EntropyRR    EntropyRG    EntropyRB  ALLdaub4RR  ALLdaub4RG  \\\n",
       "0      4.2287 -59191263232 -50714214400 -39922372608     58.7255     54.9554   \n",
       "1      3.1704 -34233065472 -37462601728 -31477794816     50.0259     52.8168   \n",
       "2      4.7192 -93948354560 -74738221056 -60311207936     65.4772     59.2860   \n",
       "3      8.2618 -32074307584 -32060925952 -29575010304     43.3900     44.1259   \n",
       "4      4.4146 -39980974080 -35980042240 -25593278464     52.7743     50.9080   \n",
       "\n",
       "   ALLdaub4RB  Class  \n",
       "0     47.8400  BERHI  \n",
       "1     47.8315  BERHI  \n",
       "2     51.9378  BERHI  \n",
       "3     41.1882  BERHI  \n",
       "4     42.6666  BERHI  \n",
       "\n",
       "[5 rows x 35 columns]"
      ]
     },
     "execution_count": 4,
     "metadata": {},
     "output_type": "execute_result"
    }
   ],
   "source": [
    "df.head(n=5)"
   ]
  },
  {
   "attachments": {},
   "cell_type": "markdown",
   "id": "3912abe5-a56a-4385-b1f4-bf05585df19c",
   "metadata": {},
   "source": [
    "### Q-1\n",
    "* How many samples are there in the dataset?\n",
    "* Also, how many features are there per sample, excluding the class/type label?\n",
    "* Print the number of unique classes (i.e., fruit types), list the class names, and their frequency distribution"
   ]
  },
  {
   "cell_type": "code",
   "execution_count": 13,
   "id": "4c5c5323-51dc-4f6a-9796-0cff550ab514",
   "metadata": {},
   "outputs": [
    {
     "data": {
      "text/plain": [
       "(898, 35)"
      ]
     },
     "execution_count": 13,
     "metadata": {},
     "output_type": "execute_result"
    }
   ],
   "source": [
    "df.shape"
   ]
  },
  {
   "cell_type": "code",
   "execution_count": 14,
   "id": "b7e6f50e-3643-4e06-a890-b24a6371b245",
   "metadata": {},
   "outputs": [
    {
     "data": {
      "text/plain": [
       "7"
      ]
     },
     "execution_count": 14,
     "metadata": {},
     "output_type": "execute_result"
    }
   ],
   "source": [
    "df['Class'].nunique() #--> number of unique values"
   ]
  },
  {
   "cell_type": "code",
   "execution_count": 7,
   "id": "de250e7f-ec6a-4bd4-bba9-38935b54a76e",
   "metadata": {},
   "outputs": [
    {
     "data": {
      "text/plain": [
       "array(['BERHI', 'DEGLET', 'DOKOL', 'IRAQI', 'ROTANA', 'SAFAVI', 'SOGAY'],\n",
       "      dtype=object)"
      ]
     },
     "execution_count": 7,
     "metadata": {},
     "output_type": "execute_result"
    }
   ],
   "source": [
    "df['Class'].unique() ## --> list of unique values"
   ]
  },
  {
   "cell_type": "code",
   "execution_count": 8,
   "id": "32dbd1ac-15ee-43c0-8354-7f622547feee",
   "metadata": {},
   "outputs": [
    {
     "data": {
      "text/plain": [
       "Class\n",
       "DOKOL     204\n",
       "SAFAVI    199\n",
       "ROTANA    166\n",
       "DEGLET     98\n",
       "SOGAY      94\n",
       "IRAQI      72\n",
       "BERHI      65\n",
       "Name: count, dtype: int64"
      ]
     },
     "execution_count": 8,
     "metadata": {},
     "output_type": "execute_result"
    }
   ],
   "source": [
    "df['Class'].value_counts() #--> class distribution\n"
   ]
  },
  {
   "cell_type": "code",
   "execution_count": null,
   "id": "8db7a6aa-0140-4dee-9ece-a765e7c8e419",
   "metadata": {},
   "outputs": [],
   "source": []
  },
  {
   "attachments": {},
   "cell_type": "markdown",
   "id": "07a513cd-e3f1-4345-9a41-6b22b1c62fc5",
   "metadata": {},
   "source": [
    "### Q-2\n",
    "* List mean, stdev, min, max of each of the features in the dataset"
   ]
  },
  {
   "cell_type": "code",
   "execution_count": 9,
   "id": "9b2d738e-91d5-4441-b785-38c7b87f024b",
   "metadata": {},
   "outputs": [
    {
     "data": {
      "text/html": [
       "<div>\n",
       "<style scoped>\n",
       "    .dataframe tbody tr th:only-of-type {\n",
       "        vertical-align: middle;\n",
       "    }\n",
       "\n",
       "    .dataframe tbody tr th {\n",
       "        vertical-align: top;\n",
       "    }\n",
       "\n",
       "    .dataframe thead th {\n",
       "        text-align: right;\n",
       "    }\n",
       "</style>\n",
       "<table border=\"1\" class=\"dataframe\">\n",
       "  <thead>\n",
       "    <tr style=\"text-align: right;\">\n",
       "      <th></th>\n",
       "      <th>AREA</th>\n",
       "      <th>PERIMETER</th>\n",
       "      <th>MAJOR_AXIS</th>\n",
       "      <th>MINOR_AXIS</th>\n",
       "      <th>ECCENTRICITY</th>\n",
       "      <th>EQDIASQ</th>\n",
       "      <th>SOLIDITY</th>\n",
       "      <th>CONVEX_AREA</th>\n",
       "      <th>EXTENT</th>\n",
       "      <th>ASPECT_RATIO</th>\n",
       "      <th>...</th>\n",
       "      <th>SkewRB</th>\n",
       "      <th>KurtosisRR</th>\n",
       "      <th>KurtosisRG</th>\n",
       "      <th>KurtosisRB</th>\n",
       "      <th>EntropyRR</th>\n",
       "      <th>EntropyRG</th>\n",
       "      <th>EntropyRB</th>\n",
       "      <th>ALLdaub4RR</th>\n",
       "      <th>ALLdaub4RG</th>\n",
       "      <th>ALLdaub4RB</th>\n",
       "    </tr>\n",
       "  </thead>\n",
       "  <tbody>\n",
       "    <tr>\n",
       "      <th>count</th>\n",
       "      <td>898.000000</td>\n",
       "      <td>898.000000</td>\n",
       "      <td>898.000000</td>\n",
       "      <td>898.000000</td>\n",
       "      <td>898.000000</td>\n",
       "      <td>898.000000</td>\n",
       "      <td>898.000000</td>\n",
       "      <td>898.000000</td>\n",
       "      <td>898.000000</td>\n",
       "      <td>898.000000</td>\n",
       "      <td>...</td>\n",
       "      <td>898.000000</td>\n",
       "      <td>898.000000</td>\n",
       "      <td>898.000000</td>\n",
       "      <td>898.000000</td>\n",
       "      <td>8.980000e+02</td>\n",
       "      <td>8.980000e+02</td>\n",
       "      <td>8.980000e+02</td>\n",
       "      <td>898.000000</td>\n",
       "      <td>898.000000</td>\n",
       "      <td>898.000000</td>\n",
       "    </tr>\n",
       "    <tr>\n",
       "      <th>mean</th>\n",
       "      <td>298295.207127</td>\n",
       "      <td>2057.660953</td>\n",
       "      <td>750.811994</td>\n",
       "      <td>495.872785</td>\n",
       "      <td>0.737468</td>\n",
       "      <td>604.577938</td>\n",
       "      <td>0.981840</td>\n",
       "      <td>303845.592428</td>\n",
       "      <td>0.736267</td>\n",
       "      <td>2.131102</td>\n",
       "      <td>...</td>\n",
       "      <td>0.250518</td>\n",
       "      <td>4.247845</td>\n",
       "      <td>5.110894</td>\n",
       "      <td>3.780928</td>\n",
       "      <td>-3.185021e+10</td>\n",
       "      <td>-2.901860e+10</td>\n",
       "      <td>-2.771876e+10</td>\n",
       "      <td>50.082888</td>\n",
       "      <td>48.805681</td>\n",
       "      <td>48.098393</td>\n",
       "    </tr>\n",
       "    <tr>\n",
       "      <th>std</th>\n",
       "      <td>107245.205337</td>\n",
       "      <td>410.012459</td>\n",
       "      <td>144.059326</td>\n",
       "      <td>114.268917</td>\n",
       "      <td>0.088727</td>\n",
       "      <td>119.593888</td>\n",
       "      <td>0.018157</td>\n",
       "      <td>108815.656947</td>\n",
       "      <td>0.053745</td>\n",
       "      <td>17.820778</td>\n",
       "      <td>...</td>\n",
       "      <td>0.632918</td>\n",
       "      <td>2.892357</td>\n",
       "      <td>3.745463</td>\n",
       "      <td>2.049831</td>\n",
       "      <td>2.037241e+10</td>\n",
       "      <td>1.712952e+10</td>\n",
       "      <td>1.484137e+10</td>\n",
       "      <td>16.063125</td>\n",
       "      <td>14.125911</td>\n",
       "      <td>10.813862</td>\n",
       "    </tr>\n",
       "    <tr>\n",
       "      <th>min</th>\n",
       "      <td>1987.000000</td>\n",
       "      <td>911.828000</td>\n",
       "      <td>336.722700</td>\n",
       "      <td>2.283200</td>\n",
       "      <td>0.344800</td>\n",
       "      <td>50.298400</td>\n",
       "      <td>0.836600</td>\n",
       "      <td>2257.000000</td>\n",
       "      <td>0.512300</td>\n",
       "      <td>1.065300</td>\n",
       "      <td>...</td>\n",
       "      <td>-1.029100</td>\n",
       "      <td>1.708200</td>\n",
       "      <td>1.607600</td>\n",
       "      <td>1.767200</td>\n",
       "      <td>-1.091224e+11</td>\n",
       "      <td>-9.261697e+10</td>\n",
       "      <td>-8.747177e+10</td>\n",
       "      <td>15.191100</td>\n",
       "      <td>20.524700</td>\n",
       "      <td>22.130000</td>\n",
       "    </tr>\n",
       "    <tr>\n",
       "      <th>25%</th>\n",
       "      <td>206948.000000</td>\n",
       "      <td>1726.091500</td>\n",
       "      <td>641.068650</td>\n",
       "      <td>404.684375</td>\n",
       "      <td>0.685625</td>\n",
       "      <td>513.317075</td>\n",
       "      <td>0.978825</td>\n",
       "      <td>210022.750000</td>\n",
       "      <td>0.705875</td>\n",
       "      <td>1.373725</td>\n",
       "      <td>...</td>\n",
       "      <td>-0.196950</td>\n",
       "      <td>2.536625</td>\n",
       "      <td>2.508850</td>\n",
       "      <td>2.577275</td>\n",
       "      <td>-4.429444e+10</td>\n",
       "      <td>-3.894638e+10</td>\n",
       "      <td>-3.564534e+10</td>\n",
       "      <td>38.224425</td>\n",
       "      <td>38.654525</td>\n",
       "      <td>39.250725</td>\n",
       "    </tr>\n",
       "    <tr>\n",
       "      <th>50%</th>\n",
       "      <td>319833.000000</td>\n",
       "      <td>2196.345450</td>\n",
       "      <td>791.363400</td>\n",
       "      <td>495.054850</td>\n",
       "      <td>0.754700</td>\n",
       "      <td>638.140950</td>\n",
       "      <td>0.987300</td>\n",
       "      <td>327207.000000</td>\n",
       "      <td>0.746950</td>\n",
       "      <td>1.524150</td>\n",
       "      <td>...</td>\n",
       "      <td>0.135550</td>\n",
       "      <td>3.069800</td>\n",
       "      <td>3.127800</td>\n",
       "      <td>3.080700</td>\n",
       "      <td>-2.826156e+10</td>\n",
       "      <td>-2.620990e+10</td>\n",
       "      <td>-2.392928e+10</td>\n",
       "      <td>53.841300</td>\n",
       "      <td>50.337800</td>\n",
       "      <td>49.614100</td>\n",
       "    </tr>\n",
       "    <tr>\n",
       "      <th>75%</th>\n",
       "      <td>382573.000000</td>\n",
       "      <td>2389.716575</td>\n",
       "      <td>858.633750</td>\n",
       "      <td>589.031700</td>\n",
       "      <td>0.802150</td>\n",
       "      <td>697.930525</td>\n",
       "      <td>0.991800</td>\n",
       "      <td>388804.000000</td>\n",
       "      <td>0.775850</td>\n",
       "      <td>1.674750</td>\n",
       "      <td>...</td>\n",
       "      <td>0.593950</td>\n",
       "      <td>4.449850</td>\n",
       "      <td>7.320400</td>\n",
       "      <td>4.283125</td>\n",
       "      <td>-1.460482e+10</td>\n",
       "      <td>-1.433105e+10</td>\n",
       "      <td>-1.660367e+10</td>\n",
       "      <td>63.063350</td>\n",
       "      <td>59.573600</td>\n",
       "      <td>56.666675</td>\n",
       "    </tr>\n",
       "    <tr>\n",
       "      <th>max</th>\n",
       "      <td>546063.000000</td>\n",
       "      <td>2811.997100</td>\n",
       "      <td>1222.723000</td>\n",
       "      <td>766.453600</td>\n",
       "      <td>1.000000</td>\n",
       "      <td>833.827900</td>\n",
       "      <td>0.997400</td>\n",
       "      <td>552598.000000</td>\n",
       "      <td>0.856200</td>\n",
       "      <td>535.525700</td>\n",
       "      <td>...</td>\n",
       "      <td>3.092300</td>\n",
       "      <td>26.171100</td>\n",
       "      <td>26.736700</td>\n",
       "      <td>32.249500</td>\n",
       "      <td>-1.627316e+08</td>\n",
       "      <td>-5.627727e+08</td>\n",
       "      <td>-4.370435e+08</td>\n",
       "      <td>79.828900</td>\n",
       "      <td>83.064900</td>\n",
       "      <td>74.104600</td>\n",
       "    </tr>\n",
       "  </tbody>\n",
       "</table>\n",
       "<p>8 rows × 34 columns</p>\n",
       "</div>"
      ],
      "text/plain": [
       "                AREA    PERIMETER   MAJOR_AXIS  MINOR_AXIS  ECCENTRICITY  \\\n",
       "count     898.000000   898.000000   898.000000  898.000000    898.000000   \n",
       "mean   298295.207127  2057.660953   750.811994  495.872785      0.737468   \n",
       "std    107245.205337   410.012459   144.059326  114.268917      0.088727   \n",
       "min      1987.000000   911.828000   336.722700    2.283200      0.344800   \n",
       "25%    206948.000000  1726.091500   641.068650  404.684375      0.685625   \n",
       "50%    319833.000000  2196.345450   791.363400  495.054850      0.754700   \n",
       "75%    382573.000000  2389.716575   858.633750  589.031700      0.802150   \n",
       "max    546063.000000  2811.997100  1222.723000  766.453600      1.000000   \n",
       "\n",
       "          EQDIASQ    SOLIDITY    CONVEX_AREA      EXTENT  ASPECT_RATIO  ...  \\\n",
       "count  898.000000  898.000000     898.000000  898.000000    898.000000  ...   \n",
       "mean   604.577938    0.981840  303845.592428    0.736267      2.131102  ...   \n",
       "std    119.593888    0.018157  108815.656947    0.053745     17.820778  ...   \n",
       "min     50.298400    0.836600    2257.000000    0.512300      1.065300  ...   \n",
       "25%    513.317075    0.978825  210022.750000    0.705875      1.373725  ...   \n",
       "50%    638.140950    0.987300  327207.000000    0.746950      1.524150  ...   \n",
       "75%    697.930525    0.991800  388804.000000    0.775850      1.674750  ...   \n",
       "max    833.827900    0.997400  552598.000000    0.856200    535.525700  ...   \n",
       "\n",
       "           SkewRB  KurtosisRR  KurtosisRG  KurtosisRB     EntropyRR  \\\n",
       "count  898.000000  898.000000  898.000000  898.000000  8.980000e+02   \n",
       "mean     0.250518    4.247845    5.110894    3.780928 -3.185021e+10   \n",
       "std      0.632918    2.892357    3.745463    2.049831  2.037241e+10   \n",
       "min     -1.029100    1.708200    1.607600    1.767200 -1.091224e+11   \n",
       "25%     -0.196950    2.536625    2.508850    2.577275 -4.429444e+10   \n",
       "50%      0.135550    3.069800    3.127800    3.080700 -2.826156e+10   \n",
       "75%      0.593950    4.449850    7.320400    4.283125 -1.460482e+10   \n",
       "max      3.092300   26.171100   26.736700   32.249500 -1.627316e+08   \n",
       "\n",
       "          EntropyRG     EntropyRB  ALLdaub4RR  ALLdaub4RG  ALLdaub4RB  \n",
       "count  8.980000e+02  8.980000e+02  898.000000  898.000000  898.000000  \n",
       "mean  -2.901860e+10 -2.771876e+10   50.082888   48.805681   48.098393  \n",
       "std    1.712952e+10  1.484137e+10   16.063125   14.125911   10.813862  \n",
       "min   -9.261697e+10 -8.747177e+10   15.191100   20.524700   22.130000  \n",
       "25%   -3.894638e+10 -3.564534e+10   38.224425   38.654525   39.250725  \n",
       "50%   -2.620990e+10 -2.392928e+10   53.841300   50.337800   49.614100  \n",
       "75%   -1.433105e+10 -1.660367e+10   63.063350   59.573600   56.666675  \n",
       "max   -5.627727e+08 -4.370435e+08   79.828900   83.064900   74.104600  \n",
       "\n",
       "[8 rows x 34 columns]"
      ]
     },
     "execution_count": 9,
     "metadata": {},
     "output_type": "execute_result"
    }
   ],
   "source": [
    "df.describe()"
   ]
  },
  {
   "cell_type": "code",
   "execution_count": 10,
   "id": "f6e48162-5ff9-4170-b2a1-516f59b5588b",
   "metadata": {},
   "outputs": [],
   "source": [
    "#save \n",
    "display_opt = {'display.max_rows': pd.get_option('display.max_rows'),\n",
    "               'display.max_columns': pd.get_option('display.max_columns'),\n",
    "              }"
   ]
  },
  {
   "cell_type": "code",
   "execution_count": 11,
   "id": "1af1b8d6-8793-4fd0-8195-e782e84d62c9",
   "metadata": {},
   "outputs": [],
   "source": [
    "pd.set_option('display.max_columns',None)"
   ]
  },
  {
   "cell_type": "code",
   "execution_count": 12,
   "id": "9f02d0a6-61f2-4408-8b2c-1631ca6bb27d",
   "metadata": {},
   "outputs": [
    {
     "data": {
      "text/html": [
       "<div>\n",
       "<style scoped>\n",
       "    .dataframe tbody tr th:only-of-type {\n",
       "        vertical-align: middle;\n",
       "    }\n",
       "\n",
       "    .dataframe tbody tr th {\n",
       "        vertical-align: top;\n",
       "    }\n",
       "\n",
       "    .dataframe thead th {\n",
       "        text-align: right;\n",
       "    }\n",
       "</style>\n",
       "<table border=\"1\" class=\"dataframe\">\n",
       "  <thead>\n",
       "    <tr style=\"text-align: right;\">\n",
       "      <th></th>\n",
       "      <th>AREA</th>\n",
       "      <th>PERIMETER</th>\n",
       "      <th>MAJOR_AXIS</th>\n",
       "      <th>MINOR_AXIS</th>\n",
       "      <th>ECCENTRICITY</th>\n",
       "      <th>EQDIASQ</th>\n",
       "      <th>SOLIDITY</th>\n",
       "      <th>CONVEX_AREA</th>\n",
       "      <th>EXTENT</th>\n",
       "      <th>ASPECT_RATIO</th>\n",
       "      <th>ROUNDNESS</th>\n",
       "      <th>COMPACTNESS</th>\n",
       "      <th>SHAPEFACTOR_1</th>\n",
       "      <th>SHAPEFACTOR_2</th>\n",
       "      <th>SHAPEFACTOR_3</th>\n",
       "      <th>SHAPEFACTOR_4</th>\n",
       "      <th>MeanRR</th>\n",
       "      <th>MeanRG</th>\n",
       "      <th>MeanRB</th>\n",
       "      <th>StdDevRR</th>\n",
       "      <th>StdDevRG</th>\n",
       "      <th>StdDevRB</th>\n",
       "      <th>SkewRR</th>\n",
       "      <th>SkewRG</th>\n",
       "      <th>SkewRB</th>\n",
       "      <th>KurtosisRR</th>\n",
       "      <th>KurtosisRG</th>\n",
       "      <th>KurtosisRB</th>\n",
       "      <th>EntropyRR</th>\n",
       "      <th>EntropyRG</th>\n",
       "      <th>EntropyRB</th>\n",
       "      <th>ALLdaub4RR</th>\n",
       "      <th>ALLdaub4RG</th>\n",
       "      <th>ALLdaub4RB</th>\n",
       "    </tr>\n",
       "  </thead>\n",
       "  <tbody>\n",
       "    <tr>\n",
       "      <th>count</th>\n",
       "      <td>898.000000</td>\n",
       "      <td>898.000000</td>\n",
       "      <td>898.000000</td>\n",
       "      <td>898.000000</td>\n",
       "      <td>898.000000</td>\n",
       "      <td>898.000000</td>\n",
       "      <td>898.000000</td>\n",
       "      <td>898.000000</td>\n",
       "      <td>898.000000</td>\n",
       "      <td>898.000000</td>\n",
       "      <td>898.000000</td>\n",
       "      <td>898.000000</td>\n",
       "      <td>898.000000</td>\n",
       "      <td>898.000000</td>\n",
       "      <td>898.000000</td>\n",
       "      <td>898.000000</td>\n",
       "      <td>898.000000</td>\n",
       "      <td>898.000000</td>\n",
       "      <td>898.000000</td>\n",
       "      <td>898.000000</td>\n",
       "      <td>898.000000</td>\n",
       "      <td>898.000000</td>\n",
       "      <td>898.000000</td>\n",
       "      <td>898.000000</td>\n",
       "      <td>898.000000</td>\n",
       "      <td>898.000000</td>\n",
       "      <td>898.000000</td>\n",
       "      <td>898.000000</td>\n",
       "      <td>8.980000e+02</td>\n",
       "      <td>8.980000e+02</td>\n",
       "      <td>8.980000e+02</td>\n",
       "      <td>898.000000</td>\n",
       "      <td>898.000000</td>\n",
       "      <td>898.000000</td>\n",
       "    </tr>\n",
       "    <tr>\n",
       "      <th>mean</th>\n",
       "      <td>298295.207127</td>\n",
       "      <td>2057.660953</td>\n",
       "      <td>750.811994</td>\n",
       "      <td>495.872785</td>\n",
       "      <td>0.737468</td>\n",
       "      <td>604.577938</td>\n",
       "      <td>0.981840</td>\n",
       "      <td>303845.592428</td>\n",
       "      <td>0.736267</td>\n",
       "      <td>2.131102</td>\n",
       "      <td>0.857720</td>\n",
       "      <td>0.807190</td>\n",
       "      <td>0.003428</td>\n",
       "      <td>0.001794</td>\n",
       "      <td>0.655420</td>\n",
       "      <td>0.988680</td>\n",
       "      <td>100.165885</td>\n",
       "      <td>97.609401</td>\n",
       "      <td>96.194889</td>\n",
       "      <td>29.047436</td>\n",
       "      <td>26.383362</td>\n",
       "      <td>26.148330</td>\n",
       "      <td>0.089266</td>\n",
       "      <td>0.564139</td>\n",
       "      <td>0.250518</td>\n",
       "      <td>4.247845</td>\n",
       "      <td>5.110894</td>\n",
       "      <td>3.780928</td>\n",
       "      <td>-3.185021e+10</td>\n",
       "      <td>-2.901860e+10</td>\n",
       "      <td>-2.771876e+10</td>\n",
       "      <td>50.082888</td>\n",
       "      <td>48.805681</td>\n",
       "      <td>48.098393</td>\n",
       "    </tr>\n",
       "    <tr>\n",
       "      <th>std</th>\n",
       "      <td>107245.205337</td>\n",
       "      <td>410.012459</td>\n",
       "      <td>144.059326</td>\n",
       "      <td>114.268917</td>\n",
       "      <td>0.088727</td>\n",
       "      <td>119.593888</td>\n",
       "      <td>0.018157</td>\n",
       "      <td>108815.656947</td>\n",
       "      <td>0.053745</td>\n",
       "      <td>17.820778</td>\n",
       "      <td>0.070839</td>\n",
       "      <td>0.062175</td>\n",
       "      <td>0.020456</td>\n",
       "      <td>0.000428</td>\n",
       "      <td>0.094314</td>\n",
       "      <td>0.020473</td>\n",
       "      <td>32.126549</td>\n",
       "      <td>28.251801</td>\n",
       "      <td>21.627409</td>\n",
       "      <td>6.306931</td>\n",
       "      <td>5.462164</td>\n",
       "      <td>4.905078</td>\n",
       "      <td>0.943285</td>\n",
       "      <td>1.039813</td>\n",
       "      <td>0.632918</td>\n",
       "      <td>2.892357</td>\n",
       "      <td>3.745463</td>\n",
       "      <td>2.049831</td>\n",
       "      <td>2.037241e+10</td>\n",
       "      <td>1.712952e+10</td>\n",
       "      <td>1.484137e+10</td>\n",
       "      <td>16.063125</td>\n",
       "      <td>14.125911</td>\n",
       "      <td>10.813862</td>\n",
       "    </tr>\n",
       "    <tr>\n",
       "      <th>min</th>\n",
       "      <td>1987.000000</td>\n",
       "      <td>911.828000</td>\n",
       "      <td>336.722700</td>\n",
       "      <td>2.283200</td>\n",
       "      <td>0.344800</td>\n",
       "      <td>50.298400</td>\n",
       "      <td>0.836600</td>\n",
       "      <td>2257.000000</td>\n",
       "      <td>0.512300</td>\n",
       "      <td>1.065300</td>\n",
       "      <td>0.004800</td>\n",
       "      <td>0.041100</td>\n",
       "      <td>0.001700</td>\n",
       "      <td>0.001100</td>\n",
       "      <td>0.001700</td>\n",
       "      <td>0.756800</td>\n",
       "      <td>30.382600</td>\n",
       "      <td>41.048000</td>\n",
       "      <td>44.256900</td>\n",
       "      <td>7.303800</td>\n",
       "      <td>8.655700</td>\n",
       "      <td>5.148600</td>\n",
       "      <td>-1.724200</td>\n",
       "      <td>-1.834400</td>\n",
       "      <td>-1.029100</td>\n",
       "      <td>1.708200</td>\n",
       "      <td>1.607600</td>\n",
       "      <td>1.767200</td>\n",
       "      <td>-1.091224e+11</td>\n",
       "      <td>-9.261697e+10</td>\n",
       "      <td>-8.747177e+10</td>\n",
       "      <td>15.191100</td>\n",
       "      <td>20.524700</td>\n",
       "      <td>22.130000</td>\n",
       "    </tr>\n",
       "    <tr>\n",
       "      <th>25%</th>\n",
       "      <td>206948.000000</td>\n",
       "      <td>1726.091500</td>\n",
       "      <td>641.068650</td>\n",
       "      <td>404.684375</td>\n",
       "      <td>0.685625</td>\n",
       "      <td>513.317075</td>\n",
       "      <td>0.978825</td>\n",
       "      <td>210022.750000</td>\n",
       "      <td>0.705875</td>\n",
       "      <td>1.373725</td>\n",
       "      <td>0.827750</td>\n",
       "      <td>0.768050</td>\n",
       "      <td>0.002200</td>\n",
       "      <td>0.001500</td>\n",
       "      <td>0.589975</td>\n",
       "      <td>0.989300</td>\n",
       "      <td>76.448000</td>\n",
       "      <td>77.306125</td>\n",
       "      <td>78.502375</td>\n",
       "      <td>24.901525</td>\n",
       "      <td>22.289650</td>\n",
       "      <td>22.890975</td>\n",
       "      <td>-0.549900</td>\n",
       "      <td>-0.230200</td>\n",
       "      <td>-0.196950</td>\n",
       "      <td>2.536625</td>\n",
       "      <td>2.508850</td>\n",
       "      <td>2.577275</td>\n",
       "      <td>-4.429444e+10</td>\n",
       "      <td>-3.894638e+10</td>\n",
       "      <td>-3.564534e+10</td>\n",
       "      <td>38.224425</td>\n",
       "      <td>38.654525</td>\n",
       "      <td>39.250725</td>\n",
       "    </tr>\n",
       "    <tr>\n",
       "      <th>50%</th>\n",
       "      <td>319833.000000</td>\n",
       "      <td>2196.345450</td>\n",
       "      <td>791.363400</td>\n",
       "      <td>495.054850</td>\n",
       "      <td>0.754700</td>\n",
       "      <td>638.140950</td>\n",
       "      <td>0.987300</td>\n",
       "      <td>327207.000000</td>\n",
       "      <td>0.746950</td>\n",
       "      <td>1.524150</td>\n",
       "      <td>0.867750</td>\n",
       "      <td>0.804950</td>\n",
       "      <td>0.002600</td>\n",
       "      <td>0.001600</td>\n",
       "      <td>0.647950</td>\n",
       "      <td>0.993600</td>\n",
       "      <td>107.682450</td>\n",
       "      <td>100.676000</td>\n",
       "      <td>99.225600</td>\n",
       "      <td>29.709450</td>\n",
       "      <td>25.638300</td>\n",
       "      <td>26.469000</td>\n",
       "      <td>-0.162700</td>\n",
       "      <td>0.243750</td>\n",
       "      <td>0.135550</td>\n",
       "      <td>3.069800</td>\n",
       "      <td>3.127800</td>\n",
       "      <td>3.080700</td>\n",
       "      <td>-2.826156e+10</td>\n",
       "      <td>-2.620990e+10</td>\n",
       "      <td>-2.392928e+10</td>\n",
       "      <td>53.841300</td>\n",
       "      <td>50.337800</td>\n",
       "      <td>49.614100</td>\n",
       "    </tr>\n",
       "    <tr>\n",
       "      <th>75%</th>\n",
       "      <td>382573.000000</td>\n",
       "      <td>2389.716575</td>\n",
       "      <td>858.633750</td>\n",
       "      <td>589.031700</td>\n",
       "      <td>0.802150</td>\n",
       "      <td>697.930525</td>\n",
       "      <td>0.991800</td>\n",
       "      <td>388804.000000</td>\n",
       "      <td>0.775850</td>\n",
       "      <td>1.674750</td>\n",
       "      <td>0.899500</td>\n",
       "      <td>0.848875</td>\n",
       "      <td>0.003200</td>\n",
       "      <td>0.002075</td>\n",
       "      <td>0.720625</td>\n",
       "      <td>0.996400</td>\n",
       "      <td>126.127450</td>\n",
       "      <td>119.159600</td>\n",
       "      <td>113.332250</td>\n",
       "      <td>33.274375</td>\n",
       "      <td>29.905325</td>\n",
       "      <td>29.482375</td>\n",
       "      <td>0.471025</td>\n",
       "      <td>1.406550</td>\n",
       "      <td>0.593950</td>\n",
       "      <td>4.449850</td>\n",
       "      <td>7.320400</td>\n",
       "      <td>4.283125</td>\n",
       "      <td>-1.460482e+10</td>\n",
       "      <td>-1.433105e+10</td>\n",
       "      <td>-1.660367e+10</td>\n",
       "      <td>63.063350</td>\n",
       "      <td>59.573600</td>\n",
       "      <td>56.666675</td>\n",
       "    </tr>\n",
       "    <tr>\n",
       "      <th>max</th>\n",
       "      <td>546063.000000</td>\n",
       "      <td>2811.997100</td>\n",
       "      <td>1222.723000</td>\n",
       "      <td>766.453600</td>\n",
       "      <td>1.000000</td>\n",
       "      <td>833.827900</td>\n",
       "      <td>0.997400</td>\n",
       "      <td>552598.000000</td>\n",
       "      <td>0.856200</td>\n",
       "      <td>535.525700</td>\n",
       "      <td>0.977300</td>\n",
       "      <td>0.968100</td>\n",
       "      <td>0.615400</td>\n",
       "      <td>0.004300</td>\n",
       "      <td>0.937300</td>\n",
       "      <td>0.999500</td>\n",
       "      <td>159.649400</td>\n",
       "      <td>166.135400</td>\n",
       "      <td>148.211400</td>\n",
       "      <td>48.571200</td>\n",
       "      <td>45.510700</td>\n",
       "      <td>42.422800</td>\n",
       "      <td>3.223600</td>\n",
       "      <td>3.697100</td>\n",
       "      <td>3.092300</td>\n",
       "      <td>26.171100</td>\n",
       "      <td>26.736700</td>\n",
       "      <td>32.249500</td>\n",
       "      <td>-1.627316e+08</td>\n",
       "      <td>-5.627727e+08</td>\n",
       "      <td>-4.370435e+08</td>\n",
       "      <td>79.828900</td>\n",
       "      <td>83.064900</td>\n",
       "      <td>74.104600</td>\n",
       "    </tr>\n",
       "  </tbody>\n",
       "</table>\n",
       "</div>"
      ],
      "text/plain": [
       "                AREA    PERIMETER   MAJOR_AXIS  MINOR_AXIS  ECCENTRICITY  \\\n",
       "count     898.000000   898.000000   898.000000  898.000000    898.000000   \n",
       "mean   298295.207127  2057.660953   750.811994  495.872785      0.737468   \n",
       "std    107245.205337   410.012459   144.059326  114.268917      0.088727   \n",
       "min      1987.000000   911.828000   336.722700    2.283200      0.344800   \n",
       "25%    206948.000000  1726.091500   641.068650  404.684375      0.685625   \n",
       "50%    319833.000000  2196.345450   791.363400  495.054850      0.754700   \n",
       "75%    382573.000000  2389.716575   858.633750  589.031700      0.802150   \n",
       "max    546063.000000  2811.997100  1222.723000  766.453600      1.000000   \n",
       "\n",
       "          EQDIASQ    SOLIDITY    CONVEX_AREA      EXTENT  ASPECT_RATIO  \\\n",
       "count  898.000000  898.000000     898.000000  898.000000    898.000000   \n",
       "mean   604.577938    0.981840  303845.592428    0.736267      2.131102   \n",
       "std    119.593888    0.018157  108815.656947    0.053745     17.820778   \n",
       "min     50.298400    0.836600    2257.000000    0.512300      1.065300   \n",
       "25%    513.317075    0.978825  210022.750000    0.705875      1.373725   \n",
       "50%    638.140950    0.987300  327207.000000    0.746950      1.524150   \n",
       "75%    697.930525    0.991800  388804.000000    0.775850      1.674750   \n",
       "max    833.827900    0.997400  552598.000000    0.856200    535.525700   \n",
       "\n",
       "        ROUNDNESS  COMPACTNESS  SHAPEFACTOR_1  SHAPEFACTOR_2  SHAPEFACTOR_3  \\\n",
       "count  898.000000   898.000000     898.000000     898.000000     898.000000   \n",
       "mean     0.857720     0.807190       0.003428       0.001794       0.655420   \n",
       "std      0.070839     0.062175       0.020456       0.000428       0.094314   \n",
       "min      0.004800     0.041100       0.001700       0.001100       0.001700   \n",
       "25%      0.827750     0.768050       0.002200       0.001500       0.589975   \n",
       "50%      0.867750     0.804950       0.002600       0.001600       0.647950   \n",
       "75%      0.899500     0.848875       0.003200       0.002075       0.720625   \n",
       "max      0.977300     0.968100       0.615400       0.004300       0.937300   \n",
       "\n",
       "       SHAPEFACTOR_4      MeanRR      MeanRG      MeanRB    StdDevRR  \\\n",
       "count     898.000000  898.000000  898.000000  898.000000  898.000000   \n",
       "mean        0.988680  100.165885   97.609401   96.194889   29.047436   \n",
       "std         0.020473   32.126549   28.251801   21.627409    6.306931   \n",
       "min         0.756800   30.382600   41.048000   44.256900    7.303800   \n",
       "25%         0.989300   76.448000   77.306125   78.502375   24.901525   \n",
       "50%         0.993600  107.682450  100.676000   99.225600   29.709450   \n",
       "75%         0.996400  126.127450  119.159600  113.332250   33.274375   \n",
       "max         0.999500  159.649400  166.135400  148.211400   48.571200   \n",
       "\n",
       "         StdDevRG    StdDevRB      SkewRR      SkewRG      SkewRB  KurtosisRR  \\\n",
       "count  898.000000  898.000000  898.000000  898.000000  898.000000  898.000000   \n",
       "mean    26.383362   26.148330    0.089266    0.564139    0.250518    4.247845   \n",
       "std      5.462164    4.905078    0.943285    1.039813    0.632918    2.892357   \n",
       "min      8.655700    5.148600   -1.724200   -1.834400   -1.029100    1.708200   \n",
       "25%     22.289650   22.890975   -0.549900   -0.230200   -0.196950    2.536625   \n",
       "50%     25.638300   26.469000   -0.162700    0.243750    0.135550    3.069800   \n",
       "75%     29.905325   29.482375    0.471025    1.406550    0.593950    4.449850   \n",
       "max     45.510700   42.422800    3.223600    3.697100    3.092300   26.171100   \n",
       "\n",
       "       KurtosisRG  KurtosisRB     EntropyRR     EntropyRG     EntropyRB  \\\n",
       "count  898.000000  898.000000  8.980000e+02  8.980000e+02  8.980000e+02   \n",
       "mean     5.110894    3.780928 -3.185021e+10 -2.901860e+10 -2.771876e+10   \n",
       "std      3.745463    2.049831  2.037241e+10  1.712952e+10  1.484137e+10   \n",
       "min      1.607600    1.767200 -1.091224e+11 -9.261697e+10 -8.747177e+10   \n",
       "25%      2.508850    2.577275 -4.429444e+10 -3.894638e+10 -3.564534e+10   \n",
       "50%      3.127800    3.080700 -2.826156e+10 -2.620990e+10 -2.392928e+10   \n",
       "75%      7.320400    4.283125 -1.460482e+10 -1.433105e+10 -1.660367e+10   \n",
       "max     26.736700   32.249500 -1.627316e+08 -5.627727e+08 -4.370435e+08   \n",
       "\n",
       "       ALLdaub4RR  ALLdaub4RG  ALLdaub4RB  \n",
       "count  898.000000  898.000000  898.000000  \n",
       "mean    50.082888   48.805681   48.098393  \n",
       "std     16.063125   14.125911   10.813862  \n",
       "min     15.191100   20.524700   22.130000  \n",
       "25%     38.224425   38.654525   39.250725  \n",
       "50%     53.841300   50.337800   49.614100  \n",
       "75%     63.063350   59.573600   56.666675  \n",
       "max     79.828900   83.064900   74.104600  "
      ]
     },
     "execution_count": 12,
     "metadata": {},
     "output_type": "execute_result"
    }
   ],
   "source": [
    "df.describe()"
   ]
  },
  {
   "cell_type": "markdown",
   "id": "5ef84da4-7e57-4f5e-ae20-df1f646d9987",
   "metadata": {},
   "source": [
    "### Q-3\n",
    "* Shuffle the data samples"
   ]
  },
  {
   "cell_type": "code",
   "execution_count": 68,
   "id": "33f2c5c2-0b02-480e-9161-212236a68e45",
   "metadata": {},
   "outputs": [],
   "source": [
    "df_shuffled = df.sample(frac=1)"
   ]
  },
  {
   "cell_type": "code",
   "execution_count": null,
   "id": "1af2c91a-6339-46d9-ac91-93b15c7e87d7",
   "metadata": {},
   "outputs": [],
   "source": []
  },
  {
   "cell_type": "markdown",
   "id": "48a0aa30-a786-497a-bff7-28664a46e948",
   "metadata": {},
   "source": [
    "### Q-4\n",
    "* Split the dataset into training (80%) and test (20%)\n"
   ]
  },
  {
   "cell_type": "code",
   "execution_count": 18,
   "id": "f8cd250c-45df-4b71-94b5-575c2df3c49b",
   "metadata": {},
   "outputs": [],
   "source": [
    "from sklearn.model_selection import train_test_split"
   ]
  },
  {
   "cell_type": "code",
   "execution_count": 20,
   "id": "359a3456-70de-4e44-9bf0-d13f46ab5b71",
   "metadata": {},
   "outputs": [],
   "source": [
    "X = df_shuffled.iloc[:,:-1]\n",
    "y = df_shuffled.iloc[:,-1]"
   ]
  },
  {
   "cell_type": "code",
   "execution_count": 21,
   "id": "c71aced9-dd97-4e39-be9c-8798cdd1e9f8",
   "metadata": {},
   "outputs": [],
   "source": [
    "X_train, X_test, y_train, y_test = train_test_split(X,y,test_size=0.2)"
   ]
  },
  {
   "cell_type": "markdown",
   "id": "05c4ea96-66d7-4ca5-bcc4-dfd36a193c5c",
   "metadata": {},
   "source": [
    "### Q-5\n",
    "* Scale all independent features."
   ]
  },
  {
   "cell_type": "code",
   "execution_count": 22,
   "id": "9cd002f3-f607-434c-8eae-cbc760382ec1",
   "metadata": {},
   "outputs": [
    {
     "data": {
      "text/html": [
       "<style>#sk-container-id-1 {color: black;}#sk-container-id-1 pre{padding: 0;}#sk-container-id-1 div.sk-toggleable {background-color: white;}#sk-container-id-1 label.sk-toggleable__label {cursor: pointer;display: block;width: 100%;margin-bottom: 0;padding: 0.3em;box-sizing: border-box;text-align: center;}#sk-container-id-1 label.sk-toggleable__label-arrow:before {content: \"▸\";float: left;margin-right: 0.25em;color: #696969;}#sk-container-id-1 label.sk-toggleable__label-arrow:hover:before {color: black;}#sk-container-id-1 div.sk-estimator:hover label.sk-toggleable__label-arrow:before {color: black;}#sk-container-id-1 div.sk-toggleable__content {max-height: 0;max-width: 0;overflow: hidden;text-align: left;background-color: #f0f8ff;}#sk-container-id-1 div.sk-toggleable__content pre {margin: 0.2em;color: black;border-radius: 0.25em;background-color: #f0f8ff;}#sk-container-id-1 input.sk-toggleable__control:checked~div.sk-toggleable__content {max-height: 200px;max-width: 100%;overflow: auto;}#sk-container-id-1 input.sk-toggleable__control:checked~label.sk-toggleable__label-arrow:before {content: \"▾\";}#sk-container-id-1 div.sk-estimator input.sk-toggleable__control:checked~label.sk-toggleable__label {background-color: #d4ebff;}#sk-container-id-1 div.sk-label input.sk-toggleable__control:checked~label.sk-toggleable__label {background-color: #d4ebff;}#sk-container-id-1 input.sk-hidden--visually {border: 0;clip: rect(1px 1px 1px 1px);clip: rect(1px, 1px, 1px, 1px);height: 1px;margin: -1px;overflow: hidden;padding: 0;position: absolute;width: 1px;}#sk-container-id-1 div.sk-estimator {font-family: monospace;background-color: #f0f8ff;border: 1px dotted black;border-radius: 0.25em;box-sizing: border-box;margin-bottom: 0.5em;}#sk-container-id-1 div.sk-estimator:hover {background-color: #d4ebff;}#sk-container-id-1 div.sk-parallel-item::after {content: \"\";width: 100%;border-bottom: 1px solid gray;flex-grow: 1;}#sk-container-id-1 div.sk-label:hover label.sk-toggleable__label {background-color: #d4ebff;}#sk-container-id-1 div.sk-serial::before {content: \"\";position: absolute;border-left: 1px solid gray;box-sizing: border-box;top: 0;bottom: 0;left: 50%;z-index: 0;}#sk-container-id-1 div.sk-serial {display: flex;flex-direction: column;align-items: center;background-color: white;padding-right: 0.2em;padding-left: 0.2em;position: relative;}#sk-container-id-1 div.sk-item {position: relative;z-index: 1;}#sk-container-id-1 div.sk-parallel {display: flex;align-items: stretch;justify-content: center;background-color: white;position: relative;}#sk-container-id-1 div.sk-item::before, #sk-container-id-1 div.sk-parallel-item::before {content: \"\";position: absolute;border-left: 1px solid gray;box-sizing: border-box;top: 0;bottom: 0;left: 50%;z-index: -1;}#sk-container-id-1 div.sk-parallel-item {display: flex;flex-direction: column;z-index: 1;position: relative;background-color: white;}#sk-container-id-1 div.sk-parallel-item:first-child::after {align-self: flex-end;width: 50%;}#sk-container-id-1 div.sk-parallel-item:last-child::after {align-self: flex-start;width: 50%;}#sk-container-id-1 div.sk-parallel-item:only-child::after {width: 0;}#sk-container-id-1 div.sk-dashed-wrapped {border: 1px dashed gray;margin: 0 0.4em 0.5em 0.4em;box-sizing: border-box;padding-bottom: 0.4em;background-color: white;}#sk-container-id-1 div.sk-label label {font-family: monospace;font-weight: bold;display: inline-block;line-height: 1.2em;}#sk-container-id-1 div.sk-label-container {text-align: center;}#sk-container-id-1 div.sk-container {/* jupyter's `normalize.less` sets `[hidden] { display: none; }` but bootstrap.min.css set `[hidden] { display: none !important; }` so we also need the `!important` here to be able to override the default hidden behavior on the sphinx rendered scikit-learn.org. See: https://github.com/scikit-learn/scikit-learn/issues/21755 */display: inline-block !important;position: relative;}#sk-container-id-1 div.sk-text-repr-fallback {display: none;}</style><div id=\"sk-container-id-1\" class=\"sk-top-container\"><div class=\"sk-text-repr-fallback\"><pre>StandardScaler()</pre><b>In a Jupyter environment, please rerun this cell to show the HTML representation or trust the notebook. <br />On GitHub, the HTML representation is unable to render, please try loading this page with nbviewer.org.</b></div><div class=\"sk-container\" hidden><div class=\"sk-item\"><div class=\"sk-estimator sk-toggleable\"><input class=\"sk-toggleable__control sk-hidden--visually\" id=\"sk-estimator-id-1\" type=\"checkbox\" checked><label for=\"sk-estimator-id-1\" class=\"sk-toggleable__label sk-toggleable__label-arrow\">StandardScaler</label><div class=\"sk-toggleable__content\"><pre>StandardScaler()</pre></div></div></div></div></div>"
      ],
      "text/plain": [
       "StandardScaler()"
      ]
     },
     "execution_count": 22,
     "metadata": {},
     "output_type": "execute_result"
    }
   ],
   "source": [
    "from sklearn.preprocessing import StandardScaler\n",
    "scaler = StandardScaler()\n",
    "scaler.fit(X_train)"
   ]
  },
  {
   "cell_type": "code",
   "execution_count": 23,
   "id": "8547089c-c00a-44bf-89d9-c9bbb1e04a58",
   "metadata": {},
   "outputs": [],
   "source": [
    "X_train_scaled = scaler.transform(X_train)"
   ]
  },
  {
   "attachments": {},
   "cell_type": "markdown",
   "id": "504147c4-642f-4fa0-89b9-044fdc239c5b",
   "metadata": {},
   "source": [
    "### Q-6\n",
    "* Build a classifier with the training set."
   ]
  },
  {
   "cell_type": "code",
   "execution_count": 24,
   "id": "6b027a54-606b-4f41-9d8b-26e08104716b",
   "metadata": {},
   "outputs": [],
   "source": [
    "from sklearn.neighbors import KNeighborsClassifier\n",
    "knn = KNeighborsClassifier(n_neighbors=3)"
   ]
  },
  {
   "cell_type": "code",
   "execution_count": 25,
   "id": "6fe6fb23-05be-4357-9654-8ddd7242f7e2",
   "metadata": {},
   "outputs": [
    {
     "data": {
      "text/html": [
       "<style>#sk-container-id-2 {color: black;}#sk-container-id-2 pre{padding: 0;}#sk-container-id-2 div.sk-toggleable {background-color: white;}#sk-container-id-2 label.sk-toggleable__label {cursor: pointer;display: block;width: 100%;margin-bottom: 0;padding: 0.3em;box-sizing: border-box;text-align: center;}#sk-container-id-2 label.sk-toggleable__label-arrow:before {content: \"▸\";float: left;margin-right: 0.25em;color: #696969;}#sk-container-id-2 label.sk-toggleable__label-arrow:hover:before {color: black;}#sk-container-id-2 div.sk-estimator:hover label.sk-toggleable__label-arrow:before {color: black;}#sk-container-id-2 div.sk-toggleable__content {max-height: 0;max-width: 0;overflow: hidden;text-align: left;background-color: #f0f8ff;}#sk-container-id-2 div.sk-toggleable__content pre {margin: 0.2em;color: black;border-radius: 0.25em;background-color: #f0f8ff;}#sk-container-id-2 input.sk-toggleable__control:checked~div.sk-toggleable__content {max-height: 200px;max-width: 100%;overflow: auto;}#sk-container-id-2 input.sk-toggleable__control:checked~label.sk-toggleable__label-arrow:before {content: \"▾\";}#sk-container-id-2 div.sk-estimator input.sk-toggleable__control:checked~label.sk-toggleable__label {background-color: #d4ebff;}#sk-container-id-2 div.sk-label input.sk-toggleable__control:checked~label.sk-toggleable__label {background-color: #d4ebff;}#sk-container-id-2 input.sk-hidden--visually {border: 0;clip: rect(1px 1px 1px 1px);clip: rect(1px, 1px, 1px, 1px);height: 1px;margin: -1px;overflow: hidden;padding: 0;position: absolute;width: 1px;}#sk-container-id-2 div.sk-estimator {font-family: monospace;background-color: #f0f8ff;border: 1px dotted black;border-radius: 0.25em;box-sizing: border-box;margin-bottom: 0.5em;}#sk-container-id-2 div.sk-estimator:hover {background-color: #d4ebff;}#sk-container-id-2 div.sk-parallel-item::after {content: \"\";width: 100%;border-bottom: 1px solid gray;flex-grow: 1;}#sk-container-id-2 div.sk-label:hover label.sk-toggleable__label {background-color: #d4ebff;}#sk-container-id-2 div.sk-serial::before {content: \"\";position: absolute;border-left: 1px solid gray;box-sizing: border-box;top: 0;bottom: 0;left: 50%;z-index: 0;}#sk-container-id-2 div.sk-serial {display: flex;flex-direction: column;align-items: center;background-color: white;padding-right: 0.2em;padding-left: 0.2em;position: relative;}#sk-container-id-2 div.sk-item {position: relative;z-index: 1;}#sk-container-id-2 div.sk-parallel {display: flex;align-items: stretch;justify-content: center;background-color: white;position: relative;}#sk-container-id-2 div.sk-item::before, #sk-container-id-2 div.sk-parallel-item::before {content: \"\";position: absolute;border-left: 1px solid gray;box-sizing: border-box;top: 0;bottom: 0;left: 50%;z-index: -1;}#sk-container-id-2 div.sk-parallel-item {display: flex;flex-direction: column;z-index: 1;position: relative;background-color: white;}#sk-container-id-2 div.sk-parallel-item:first-child::after {align-self: flex-end;width: 50%;}#sk-container-id-2 div.sk-parallel-item:last-child::after {align-self: flex-start;width: 50%;}#sk-container-id-2 div.sk-parallel-item:only-child::after {width: 0;}#sk-container-id-2 div.sk-dashed-wrapped {border: 1px dashed gray;margin: 0 0.4em 0.5em 0.4em;box-sizing: border-box;padding-bottom: 0.4em;background-color: white;}#sk-container-id-2 div.sk-label label {font-family: monospace;font-weight: bold;display: inline-block;line-height: 1.2em;}#sk-container-id-2 div.sk-label-container {text-align: center;}#sk-container-id-2 div.sk-container {/* jupyter's `normalize.less` sets `[hidden] { display: none; }` but bootstrap.min.css set `[hidden] { display: none !important; }` so we also need the `!important` here to be able to override the default hidden behavior on the sphinx rendered scikit-learn.org. See: https://github.com/scikit-learn/scikit-learn/issues/21755 */display: inline-block !important;position: relative;}#sk-container-id-2 div.sk-text-repr-fallback {display: none;}</style><div id=\"sk-container-id-2\" class=\"sk-top-container\"><div class=\"sk-text-repr-fallback\"><pre>KNeighborsClassifier(n_neighbors=3)</pre><b>In a Jupyter environment, please rerun this cell to show the HTML representation or trust the notebook. <br />On GitHub, the HTML representation is unable to render, please try loading this page with nbviewer.org.</b></div><div class=\"sk-container\" hidden><div class=\"sk-item\"><div class=\"sk-estimator sk-toggleable\"><input class=\"sk-toggleable__control sk-hidden--visually\" id=\"sk-estimator-id-2\" type=\"checkbox\" checked><label for=\"sk-estimator-id-2\" class=\"sk-toggleable__label sk-toggleable__label-arrow\">KNeighborsClassifier</label><div class=\"sk-toggleable__content\"><pre>KNeighborsClassifier(n_neighbors=3)</pre></div></div></div></div></div>"
      ],
      "text/plain": [
       "KNeighborsClassifier(n_neighbors=3)"
      ]
     },
     "execution_count": 25,
     "metadata": {},
     "output_type": "execute_result"
    }
   ],
   "source": [
    "knn.fit(X_train_scaled,y_train)"
   ]
  },
  {
   "attachments": {},
   "cell_type": "markdown",
   "id": "58343c9f-e398-40f9-96b7-a2b3bdf2864b",
   "metadata": {},
   "source": [
    "### Q-7\n",
    "* Predict class label of just one sample picked from the test set."
   ]
  },
  {
   "cell_type": "code",
   "execution_count": null,
   "id": "849abb9c-bb63-4c76-b7e9-6723fd2d9922",
   "metadata": {},
   "outputs": [],
   "source": []
  },
  {
   "cell_type": "code",
   "execution_count": 26,
   "id": "8c5394cb-c55a-424b-bff4-1bb6e8d01cf2",
   "metadata": {},
   "outputs": [
    {
     "data": {
      "text/plain": [
       "(180, 34)"
      ]
     },
     "execution_count": 26,
     "metadata": {},
     "output_type": "execute_result"
    }
   ],
   "source": [
    "X_test.shape"
   ]
  },
  {
   "cell_type": "code",
   "execution_count": 35,
   "id": "646a113a-3b24-40c7-8fa1-d16a0df1ac4f",
   "metadata": {},
   "outputs": [],
   "source": [
    "import numpy as np"
   ]
  },
  {
   "cell_type": "code",
   "execution_count": 36,
   "id": "28caa4f1-18cb-46e3-b550-34f101e9a653",
   "metadata": {},
   "outputs": [],
   "source": [
    "a_sample = np.array(X_test.iloc[0,:])"
   ]
  },
  {
   "cell_type": "code",
   "execution_count": 44,
   "id": "1426bd55-9ac0-4b15-9fe9-26c465d37ab5",
   "metadata": {},
   "outputs": [],
   "source": [
    "a_sample = a_sample.ravel().reshape(1,-1)"
   ]
  },
  {
   "cell_type": "code",
   "execution_count": 45,
   "id": "fd30bb09-005b-4bb3-9c52-9440c97247d8",
   "metadata": {},
   "outputs": [
    {
     "data": {
      "text/plain": [
       "(1, 34)"
      ]
     },
     "execution_count": 45,
     "metadata": {},
     "output_type": "execute_result"
    }
   ],
   "source": [
    "a_sample.shape"
   ]
  },
  {
   "cell_type": "code",
   "execution_count": 49,
   "id": "2bff3cbf-fa7a-4d87-aca1-bed4930d04ca",
   "metadata": {},
   "outputs": [
    {
     "name": "stderr",
     "output_type": "stream",
     "text": [
      "/home/ashiskb/miniconda3/envs/venv-torch2/lib/python3.9/site-packages/sklearn/base.py:465: UserWarning: X does not have valid feature names, but StandardScaler was fitted with feature names\n",
      "  warnings.warn(\n"
     ]
    }
   ],
   "source": [
    "a_sample_scaled = scaler.transform(a_sample)"
   ]
  },
  {
   "cell_type": "code",
   "execution_count": null,
   "id": "edf01961-dd75-4208-b8ca-40f75a87c0c3",
   "metadata": {},
   "outputs": [],
   "source": []
  },
  {
   "cell_type": "code",
   "execution_count": 50,
   "id": "454ffdf0-eff7-40ee-81e5-af23beb61a02",
   "metadata": {},
   "outputs": [],
   "source": [
    "y_pred = knn.predict(a_sample)"
   ]
  },
  {
   "cell_type": "code",
   "execution_count": 51,
   "id": "37b4f406-e01b-450c-bc16-0e3bc79196f4",
   "metadata": {},
   "outputs": [
    {
     "data": {
      "text/plain": [
       "array(['ROTANA'], dtype=object)"
      ]
     },
     "execution_count": 51,
     "metadata": {},
     "output_type": "execute_result"
    }
   ],
   "source": [
    "y_pred"
   ]
  },
  {
   "cell_type": "markdown",
   "id": "d3d4b62e-e0c4-42a4-b1ce-0ca932ea7c99",
   "metadata": {},
   "source": [
    "### Q-8\n",
    "* Evaluate the model performance based on the test set."
   ]
  },
  {
   "cell_type": "code",
   "execution_count": 57,
   "id": "0cccb9f6-4bf3-48ec-bdb5-cf12214160a1",
   "metadata": {},
   "outputs": [],
   "source": [
    "def cm_scores(y_actual, y_pred):\n",
    "    y_actual = np.array(y_actual)\n",
    "    TP = 0\n",
    "    FP = 0\n",
    "    TN = 0\n",
    "    FN = 0\n",
    "\n",
    "    for i in range(len(y_pred)): \n",
    "        if y_actual[i]==y_pred[i]==1:\n",
    "           TP += 1\n",
    "        if y_pred[i]==1 and y_actual[i]==0:\n",
    "           FP += 1\n",
    "        if y_actual[i]==y_pred[i]==0:\n",
    "           TN += 1\n",
    "        if y_pred[i]==0 and y_actual[i]==1:\n",
    "           FN += 1\n",
    "\n",
    "    return (TN, FP, FN, TP) "
   ]
  },
  {
   "cell_type": "code",
   "execution_count": 58,
   "id": "d22290ce-70e9-488a-970b-77bb494e29ad",
   "metadata": {},
   "outputs": [],
   "source": [
    "X_test_scaled = scaler.transform(X_test)"
   ]
  },
  {
   "cell_type": "code",
   "execution_count": 59,
   "id": "fd291bac-35c8-4cf4-9ccf-c1fcb87a4d1b",
   "metadata": {},
   "outputs": [],
   "source": [
    "y_pred = knn.predict(X_test_scaled)"
   ]
  },
  {
   "cell_type": "code",
   "execution_count": 64,
   "id": "6bb8e7ad-3539-4589-ac94-911c9011ff24",
   "metadata": {},
   "outputs": [
    {
     "data": {
      "text/plain": [
       "496    ROTANA\n",
       "273     DOKOL\n",
       "438     IRAQI\n",
       "726    SAFAVI\n",
       "700    SAFAVI\n",
       "        ...  \n",
       "435     IRAQI\n",
       "245     DOKOL\n",
       "874     SOGAY\n",
       "713    SAFAVI\n",
       "301     DOKOL\n",
       "Name: Class, Length: 180, dtype: object"
      ]
     },
     "execution_count": 64,
     "metadata": {},
     "output_type": "execute_result"
    }
   ],
   "source": [
    "y_test"
   ]
  },
  {
   "cell_type": "code",
   "execution_count": 63,
   "id": "c32ed542-7b3a-4aa3-9a86-d7f8106c21b6",
   "metadata": {},
   "outputs": [
    {
     "data": {
      "text/plain": [
       "array(['ROTANA', 'DOKOL', 'IRAQI', 'SAFAVI', 'SAFAVI', 'IRAQI', 'DOKOL',\n",
       "       'SAFAVI', 'DEGLET', 'DOKOL', 'DEGLET', 'DOKOL', 'IRAQI', 'SAFAVI',\n",
       "       'IRAQI', 'ROTANA', 'ROTANA', 'ROTANA', 'DEGLET', 'ROTANA',\n",
       "       'ROTANA', 'SAFAVI', 'ROTANA', 'ROTANA', 'DOKOL', 'SOGAY', 'DOKOL',\n",
       "       'SOGAY', 'DOKOL', 'SAFAVI', 'DOKOL', 'BERHI', 'ROTANA', 'ROTANA',\n",
       "       'SAFAVI', 'DEGLET', 'ROTANA', 'DOKOL', 'SOGAY', 'SAFAVI', 'ROTANA',\n",
       "       'SAFAVI', 'ROTANA', 'DEGLET', 'ROTANA', 'SOGAY', 'ROTANA',\n",
       "       'SAFAVI', 'SAFAVI', 'DOKOL', 'SAFAVI', 'DOKOL', 'BERHI', 'SAFAVI',\n",
       "       'DEGLET', 'ROTANA', 'BERHI', 'DEGLET', 'SOGAY', 'ROTANA', 'SAFAVI',\n",
       "       'SAFAVI', 'SOGAY', 'SAFAVI', 'DOKOL', 'SAFAVI', 'IRAQI', 'IRAQI',\n",
       "       'SAFAVI', 'SAFAVI', 'SOGAY', 'ROTANA', 'BERHI', 'DOKOL', 'SAFAVI',\n",
       "       'SOGAY', 'SOGAY', 'SAFAVI', 'DOKOL', 'SAFAVI', 'DOKOL', 'SAFAVI',\n",
       "       'DOKOL', 'ROTANA', 'SOGAY', 'ROTANA', 'SAFAVI', 'IRAQI', 'SOGAY',\n",
       "       'ROTANA', 'SOGAY', 'SAFAVI', 'SAFAVI', 'DEGLET', 'DEGLET', 'DOKOL',\n",
       "       'DEGLET', 'SOGAY', 'DOKOL', 'SAFAVI', 'SOGAY', 'BERHI', 'DOKOL',\n",
       "       'DEGLET', 'DEGLET', 'ROTANA', 'DOKOL', 'ROTANA', 'ROTANA', 'DOKOL',\n",
       "       'IRAQI', 'SAFAVI', 'DOKOL', 'SAFAVI', 'DOKOL', 'DEGLET', 'BERHI',\n",
       "       'SAFAVI', 'DOKOL', 'SAFAVI', 'SAFAVI', 'SAFAVI', 'DEGLET', 'DOKOL',\n",
       "       'DOKOL', 'SAFAVI', 'ROTANA', 'SAFAVI', 'DOKOL', 'SOGAY', 'ROTANA',\n",
       "       'ROTANA', 'DOKOL', 'SAFAVI', 'SAFAVI', 'SAFAVI', 'BERHI', 'DOKOL',\n",
       "       'DOKOL', 'BERHI', 'SOGAY', 'DEGLET', 'SAFAVI', 'IRAQI', 'SAFAVI',\n",
       "       'DOKOL', 'ROTANA', 'DOKOL', 'DOKOL', 'ROTANA', 'SAFAVI', 'ROTANA',\n",
       "       'IRAQI', 'SOGAY', 'ROTANA', 'IRAQI', 'DEGLET', 'SAFAVI', 'SOGAY',\n",
       "       'ROTANA', 'SAFAVI', 'SOGAY', 'SAFAVI', 'SOGAY', 'ROTANA', 'SAFAVI',\n",
       "       'DOKOL', 'DEGLET', 'IRAQI', 'ROTANA', 'SAFAVI', 'DOKOL', 'SAFAVI',\n",
       "       'DOKOL', 'DOKOL', 'IRAQI', 'DOKOL', 'SOGAY', 'SAFAVI', 'DOKOL'],\n",
       "      dtype=object)"
      ]
     },
     "execution_count": 63,
     "metadata": {},
     "output_type": "execute_result"
    }
   ],
   "source": [
    "y_pred"
   ]
  },
  {
   "cell_type": "code",
   "execution_count": 65,
   "id": "5103b18c-4e53-4e31-834f-a49859d0740f",
   "metadata": {},
   "outputs": [],
   "source": [
    "from sklearn.metrics import classification_report"
   ]
  },
  {
   "cell_type": "code",
   "execution_count": 67,
   "id": "a8752090-a5ed-4425-b42c-1b8ad562e163",
   "metadata": {},
   "outputs": [
    {
     "name": "stdout",
     "output_type": "stream",
     "text": [
      "              precision    recall  f1-score   support\n",
      "\n",
      "       BERHI       0.88      0.78      0.82         9\n",
      "      DEGLET       0.76      0.72      0.74        18\n",
      "       DOKOL       0.95      0.88      0.91        42\n",
      "       IRAQI       1.00      0.93      0.96        14\n",
      "      ROTANA       0.97      0.94      0.96        35\n",
      "      SAFAVI       1.00      0.98      0.99        49\n",
      "       SOGAY       0.57      0.92      0.71        13\n",
      "\n",
      "    accuracy                           0.91       180\n",
      "   macro avg       0.88      0.88      0.87       180\n",
      "weighted avg       0.92      0.91      0.91       180\n",
      "\n"
     ]
    }
   ],
   "source": [
    "print(classification_report(y_test,y_pred))"
   ]
  },
  {
   "cell_type": "markdown",
   "id": "7cac4aef-844e-4d9f-b3b4-64d17c458bca",
   "metadata": {},
   "source": [
    "### Q-9\n",
    "* Can you do **better**? Here, **better** is a very subjective term :("
   ]
  },
  {
   "cell_type": "code",
   "execution_count": null,
   "id": "43fea1d3-d794-4763-9e92-0b40bc138948",
   "metadata": {},
   "outputs": [],
   "source": []
  }
 ],
 "metadata": {
  "kernelspec": {
   "display_name": "Python3.9+Torch2",
   "language": "python",
   "name": "venv-torch2"
  },
  "language_info": {
   "codemirror_mode": {
    "name": "ipython",
    "version": 3
   },
   "file_extension": ".py",
   "mimetype": "text/x-python",
   "name": "python",
   "nbconvert_exporter": "python",
   "pygments_lexer": "ipython3",
   "version": "3.9.18"
  }
 },
 "nbformat": 4,
 "nbformat_minor": 5
}
