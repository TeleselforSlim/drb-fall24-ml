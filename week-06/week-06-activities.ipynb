{
 "cells": [
  {
   "cell_type": "markdown",
   "id": "4f7fd1cb-2734-4169-abb2-a59933b35eca",
   "metadata": {},
   "source": [
    "## Week-6 activities"
   ]
  },
  {
   "cell_type": "markdown",
   "id": "b467122d-98f9-4935-84fd-67eddf70c8e1",
   "metadata": {},
   "source": [
    "### The imports"
   ]
  },
  {
   "cell_type": "code",
   "execution_count": 2,
   "id": "72c04ab7-dfa7-49d1-be97-21d521096cbd",
   "metadata": {},
   "outputs": [],
   "source": [
    "import pandas as pd\n",
    "import numpy as np\n",
    "import matplotlib.pyplot as plt"
   ]
  },
  {
   "cell_type": "code",
   "execution_count": 6,
   "id": "eef31cc8-9550-4d44-bf63-dbf8c12dbed5",
   "metadata": {},
   "outputs": [],
   "source": [
    "simple_df = pd.read_excel('dataset/w5-multi-regression-trainset.xlsx',sheet_name='Sheet1')"
   ]
  },
  {
   "cell_type": "code",
   "execution_count": 7,
   "id": "13861dda-3012-4d46-8dd6-8453c2c09935",
   "metadata": {},
   "outputs": [
    {
     "data": {
      "text/html": [
       "<div>\n",
       "<style scoped>\n",
       "    .dataframe tbody tr th:only-of-type {\n",
       "        vertical-align: middle;\n",
       "    }\n",
       "\n",
       "    .dataframe tbody tr th {\n",
       "        vertical-align: top;\n",
       "    }\n",
       "\n",
       "    .dataframe thead th {\n",
       "        text-align: right;\n",
       "    }\n",
       "</style>\n",
       "<table border=\"1\" class=\"dataframe\">\n",
       "  <thead>\n",
       "    <tr style=\"text-align: right;\">\n",
       "      <th></th>\n",
       "      <th>x1</th>\n",
       "      <th>x2</th>\n",
       "      <th>x3</th>\n",
       "      <th>x4</th>\n",
       "      <th>y</th>\n",
       "    </tr>\n",
       "  </thead>\n",
       "  <tbody>\n",
       "    <tr>\n",
       "      <th>0</th>\n",
       "      <td>165349.20</td>\n",
       "      <td>136897.80</td>\n",
       "      <td>471784.10</td>\n",
       "      <td>New York</td>\n",
       "      <td>192261.83</td>\n",
       "    </tr>\n",
       "    <tr>\n",
       "      <th>1</th>\n",
       "      <td>162597.70</td>\n",
       "      <td>151377.59</td>\n",
       "      <td>443898.53</td>\n",
       "      <td>California</td>\n",
       "      <td>191792.06</td>\n",
       "    </tr>\n",
       "    <tr>\n",
       "      <th>2</th>\n",
       "      <td>153441.51</td>\n",
       "      <td>101145.55</td>\n",
       "      <td>407934.54</td>\n",
       "      <td>Florida</td>\n",
       "      <td>191050.39</td>\n",
       "    </tr>\n",
       "    <tr>\n",
       "      <th>3</th>\n",
       "      <td>144372.41</td>\n",
       "      <td>118671.85</td>\n",
       "      <td>383199.62</td>\n",
       "      <td>New York</td>\n",
       "      <td>182901.99</td>\n",
       "    </tr>\n",
       "    <tr>\n",
       "      <th>4</th>\n",
       "      <td>142107.34</td>\n",
       "      <td>91391.77</td>\n",
       "      <td>366168.42</td>\n",
       "      <td>Florida</td>\n",
       "      <td>166187.94</td>\n",
       "    </tr>\n",
       "  </tbody>\n",
       "</table>\n",
       "</div>"
      ],
      "text/plain": [
       "          x1         x2         x3          x4          y\n",
       "0  165349.20  136897.80  471784.10    New York  192261.83\n",
       "1  162597.70  151377.59  443898.53  California  191792.06\n",
       "2  153441.51  101145.55  407934.54     Florida  191050.39\n",
       "3  144372.41  118671.85  383199.62    New York  182901.99\n",
       "4  142107.34   91391.77  366168.42     Florida  166187.94"
      ]
     },
     "execution_count": 7,
     "metadata": {},
     "output_type": "execute_result"
    }
   ],
   "source": [
    "simple_df.head()"
   ]
  },
  {
   "cell_type": "markdown",
   "id": "be45b163-10cc-402b-883f-661348dabe53",
   "metadata": {},
   "source": [
    "Task 1. (*from week-5*): Draw a linear regression line through the dataset `dataset/w5-simple-regression-trainset.xlsx`. Please note: the excel file contains data only in `Sheet1`. **Using Scikit-learn library allowed.**\n"
   ]
  },
  {
   "cell_type": "code",
   "execution_count": null,
   "id": "142ef783-85bf-4818-8b0b-6c699bc3e334",
   "metadata": {},
   "outputs": [],
   "source": [
    "#check week-5 folder"
   ]
  },
  {
   "cell_type": "markdown",
   "id": "06ee2f7c-5859-4e75-a91b-742c3aadc5b0",
   "metadata": {},
   "source": [
    "Task 2. (*from week-5*): Draw polynomial regression lines of degree 2, 3, 4, 5, 6, 7, 8, 9, 10, 20, 50, 100 through the dataset. Evaluate each of the models (including the model in #1) on the test set `dataset/w5-simple-testset.xlsx` in terms of RMSE and R2-score. Comments? **Using scikit-learn library allowed.**\n"
   ]
  },
  {
   "cell_type": "code",
   "execution_count": null,
   "id": "e0adbd83-e3d0-49a0-936b-d4690dd1fe71",
   "metadata": {},
   "outputs": [],
   "source": [
    "#check week-5 folder"
   ]
  },
  {
   "cell_type": "markdown",
   "id": "e5c9198e-9679-4b50-b523-77654684f705",
   "metadata": {},
   "source": [
    "Task 3. (*from week-5*): **Using scikit-learn library NOT ALLOWED**: Assuming you have gone through regression model lecture slides `Week-04-05--Regression-ML-Fall2024.pdf`. Build a simple linear regression model with the same `dataset/w5-simple-regression-trainset.xlsx` dataset in `Sheet1` with the following methods: i) closed form solution, ii) batch gradient descent, iii) stochastic gradient descent, iv) mini-batch gradient descent. And, compare your results with the evaluation metrics you got in #2.\n",
    "   - For methods (ii)-(iv) vary value of learning rate and save all evaluation metrics.\n",
    "   - For methods (iv) vary batch size and save all evaluation metrics.\n"
   ]
  },
  {
   "cell_type": "code",
   "execution_count": null,
   "id": "ea7e0e07-9740-429f-abbc-6d3b50c78a3b",
   "metadata": {},
   "outputs": [],
   "source": [
    "#check week-5 folder"
   ]
  },
  {
   "cell_type": "markdown",
   "id": "16837daa-6d82-4a43-b324-fbfc1e31edca",
   "metadata": {},
   "source": [
    "Task 4. (*from week-5*): Build a regression model for dataset in `dataset/w5-multi-regression-trainset.xlsx`. Please note it's a multiple linear regression task. **Using scikit-learn library allowed**. Evaluate the model on the provided test set, `dataset/w5-multi-regression-testset.xlsx` in terms of RMSE and R2-score.\n"
   ]
  },
  {
   "cell_type": "code",
   "execution_count": null,
   "id": "9b6771a5-02bb-41fd-91a6-5c9187f81079",
   "metadata": {},
   "outputs": [],
   "source": [
    "#check week-5 folder"
   ]
  },
  {
   "cell_type": "markdown",
   "id": "a35608f1-5c39-4606-9b29-258d1d1ca357",
   "metadata": {},
   "source": [
    "Task 5. (*from week-5*): Now, do the same as in task #4 without scikit-learn library. Apply the 4 solution approaches: (i) closed-form solution, (ii) batch gradient descent, (iii) stochastic gradient descent, (iv) mini-batch gradient descent. Don't forget to tune the *hyper-parameters* like learning rate.. Compare with results obtained in task #4."
   ]
  },
  {
   "cell_type": "code",
   "execution_count": null,
   "id": "e6008ec4-4bc6-45a4-8ac7-0a79727d7509",
   "metadata": {},
   "outputs": [],
   "source": [
    "#check week-5 folder"
   ]
  },
  {
   "cell_type": "markdown",
   "id": "04f61ec9-e576-4923-b939-bfaffcd3a1bf",
   "metadata": {},
   "source": [
    "**Task 6**: Piggybacking on Task 4 where scikit-learn library usage is allowed: solve using [scikit-learn Pipeline](https://scikit-learn.org/stable/modules/generated/sklearn.pipeline.Pipeline.html) and train the Pipeline with `dataset/w5-multi-regression-trainset.xlsx` and evaluate the pipeline with `dataset/w5-multi-regression-testset.xlsx` in terms of RMSE and R2-score."
   ]
  },
  {
   "cell_type": "code",
   "execution_count": null,
   "id": "af12b500-8fcb-4dc0-80f7-8307b2cb94f4",
   "metadata": {},
   "outputs": [],
   "source": [
    "#check week-5 folder"
   ]
  },
  {
   "cell_type": "markdown",
   "id": "60c99336-1ccf-4c3b-a4d2-a79d1c84af10",
   "metadata": {},
   "source": [
    "**Task 7**: Repeat task 6 with the `scikit-learn Pipeline` but apply one of your custom regressor from task 5."
   ]
  },
  {
   "cell_type": "code",
   "execution_count": null,
   "id": "784d186c-cdb7-487b-8509-834a7c6a58e7",
   "metadata": {},
   "outputs": [],
   "source": [
    "#@TODO"
   ]
  },
  {
   "cell_type": "markdown",
   "id": "19c39e13-1837-4f33-8db5-72f725a4e9fa",
   "metadata": {},
   "source": [
    "**Task 8**: Plot $y=f(x) = x^2-5x+5$, Optimize (i.e., minimize) the function: solve $x$ such that $y$ has the minimum value. Test if the solution changes if $y$ is halved; i.e., $y = \\dfrac{1}{2}(x^2-5x+5)$.\n"
   ]
  },
  {
   "cell_type": "code",
   "execution_count": 13,
   "id": "429e3c13-b930-48a6-9007-75f88ddc7e78",
   "metadata": {},
   "outputs": [],
   "source": [
    "x = np.linspace(-5,5,200) #generating x-axis points\n",
    "y = x**2 -5*x + 5\n"
   ]
  },
  {
   "cell_type": "code",
   "execution_count": 18,
   "id": "8f546098-8200-4fd1-aa5f-676acd9d6d14",
   "metadata": {},
   "outputs": [
    {
     "data": {
      "text/plain": [
       "Text(0, 0.5, 'y')"
      ]
     },
     "execution_count": 18,
     "metadata": {},
     "output_type": "execute_result"
    },
    {
     "data": {
      "image/png": "[encoded data removed]",
      "text/plain": [
       "<Figure size 900x900 with 1 Axes>"
      ]
     },
     "metadata": {},
     "output_type": "display_data"
    }
   ],
   "source": [
    "#now plot\n",
    "# Initialize layout\n",
    "fig, ax = plt.subplots(figsize=(9, 9))\n",
    "\n",
    "# Add scatterplot\n",
    "ax.scatter(x, y, s=20, alpha=0.7, edgecolors=\"b\")\n",
    "plt.xlim([-5,5])\n",
    "plt.ylim([-5,10])\n",
    "\n",
    "#generate x-axis points\n",
    "# Plot regression line (in-red)\n",
    "ax.plot(x, y, color=\"r\", lw=2.5)\n",
    "plt.xlabel('x')\n",
    "plt.ylabel('y')"
   ]
  },
  {
   "cell_type": "markdown",
   "id": "1d7b6b28-ebd8-4ad7-90c9-bf79f403e9a0",
   "metadata": {},
   "source": [
    "* derivative of $y$ w.r.to $x$\n",
    "$\\dfrac{dy}{dx} =  2*x - 5$\n",
    "* Setting the derivating to 0, we get: $2* x- 5 = 0$\n",
    "* So, $x = \\dfrac{5}{2} = 2.5$\n",
    "* Therefore, at $x=2.5$, $y$ is minimum. (Solved)"
   ]
  },
  {
   "cell_type": "markdown",
   "id": "bbb8810b-2b90-4463-8abe-42238a8f1236",
   "metadata": {},
   "source": [
    "* The solution, $x$ remains the same = $2.5$ even if you $y$ is halved."
   ]
  },
  {
   "cell_type": "code",
   "execution_count": null,
   "id": "27c88d83-bb33-4803-8f07-7d4a1303d74a",
   "metadata": {},
   "outputs": [],
   "source": []
  },
  {
   "cell_type": "code",
   "execution_count": null,
   "id": "42a97d2b-9dc3-40ba-8e33-5056044b3f83",
   "metadata": {},
   "outputs": [],
   "source": []
  },
  {
   "cell_type": "code",
   "execution_count": null,
   "id": "791c4af9-797f-4cb2-a5fb-4004b585295b",
   "metadata": {},
   "outputs": [],
   "source": [
    "\n"
   ]
  },
  {
   "cell_type": "markdown",
   "id": "6984a31a-c050-4b7a-8d6c-de1de1a839ab",
   "metadata": {},
   "source": [
    "**Task 9**: Repeat task 8 with $y = f(x) = -x^2+4x+3$. Also, check if the solution changes if $y$ is doubled, i.e., $y = 2(-x^2+4x+3) = -2x^2+8x+6$.\n"
   ]
  },
  {
   "cell_type": "code",
   "execution_count": 11,
   "id": "6c6a6a2d-48ec-4eb5-9ad7-13117b630f52",
   "metadata": {},
   "outputs": [],
   "source": [
    "x = np.linspace(-20,20,200) #generating x-axis points\n",
    "y = -x**2 + 4*x + 3\n"
   ]
  },
  {
   "cell_type": "code",
   "execution_count": 12,
   "id": "c3f0b790-7413-4548-9a76-e554186363f0",
   "metadata": {},
   "outputs": [
    {
     "data": {
      "text/plain": [
       "Text(0, 0.5, 'y')"
      ]
     },
     "execution_count": 12,
     "metadata": {},
     "output_type": "execute_result"
    },
    {
     "data": {
      "image/png": "[encoded data removed]",
      "text/plain": [
       "<Figure size 900x900 with 1 Axes>"
      ]
     },
     "metadata": {},
     "output_type": "display_data"
    }
   ],
   "source": [
    "#now plot\n",
    "# Initialize layout\n",
    "fig, ax = plt.subplots(figsize=(9, 9))\n",
    "\n",
    "# Add scatterplot\n",
    "ax.scatter(x, y, s=20, alpha=0.7, edgecolors=\"b\")\n",
    "plt.xlim([-20,20])\n",
    "\n",
    "#generate x-axis points\n",
    "# Plot regression line (in-red)\n",
    "ax.plot(x, y, color=\"r\", lw=2.5)\n",
    "plt.xlabel('x')\n",
    "plt.ylabel('y')"
   ]
  },
  {
   "cell_type": "markdown",
   "id": "37f99b03-69ac-4535-93d0-4ce046343b98",
   "metadata": {},
   "source": [
    "* Obviously this is not a minimization problem, it's a maximization problem.\n",
    "* derivative of $y$ w.r.to $x$:\n",
    "$\\dfrac{dy}{dx} =  -2*x + 4$\n",
    "* Setting the derivating to 0, we get: $-2x + 4 = 0$\n",
    "* So, $x = 2$\n",
    "* Therefore, at $x=2$, $y$ is maximum. (Solved)"
   ]
  },
  {
   "cell_type": "code",
   "execution_count": null,
   "id": "c6b704f4-2b97-448b-b0e3-b9eb5568a905",
   "metadata": {},
   "outputs": [],
   "source": []
  },
  {
   "cell_type": "code",
   "execution_count": null,
   "id": "f4398364-fca7-4efa-8f5e-2f7b72ae3940",
   "metadata": {},
   "outputs": [],
   "source": []
  },
  {
   "cell_type": "markdown",
   "id": "2d2212e9-5628-412b-89a4-d798057ae06c",
   "metadata": {},
   "source": [
    "**Task 10**: Repeat task 8 with $y = f(x) = x \\log x$. Also, check if the solution changes if $y$ is negated, i.e., $y = -x\\log x$."
   ]
  },
  {
   "cell_type": "code",
   "execution_count": null,
   "id": "a46812b1-b8db-4e8a-a7c5-dd8e8e1bdead",
   "metadata": {},
   "outputs": [],
   "source": []
  },
  {
   "cell_type": "code",
   "execution_count": 16,
   "id": "fdfdb86f-3b3e-4227-8734-e30693bd0a84",
   "metadata": {},
   "outputs": [],
   "source": [
    "import numpy as np\n",
    "import matplotlib.pyplot as plt"
   ]
  },
  {
   "cell_type": "code",
   "execution_count": 15,
   "id": "43a659bf-f790-4863-b749-dd44f34a59bd",
   "metadata": {},
   "outputs": [
    {
     "name": "stderr",
     "output_type": "stream",
     "text": [
      "/tmp/ipykernel_1250747/3961859206.py:2: RuntimeWarning: invalid value encountered in log\n",
      "  y = x*np.log(x)\n"
     ]
    }
   ],
   "source": [
    "x = np.linspace(-3,3,100)\n",
    "y = x*np.log(x)"
   ]
  },
  {
   "cell_type": "code",
   "execution_count": 18,
   "id": "cec29e8e-a6d7-42a6-ac9c-66c93a38ad2b",
   "metadata": {},
   "outputs": [
    {
     "data": {
      "text/plain": [
       "(-3.0, 3.0)"
      ]
     },
     "execution_count": 18,
     "metadata": {},
     "output_type": "execute_result"
    },
    {
     "data": {
      "image/png": "[encoded data removed]",
      "text/plain": [
       "<Figure size 640x480 with 1 Axes>"
      ]
     },
     "metadata": {},
     "output_type": "display_data"
    }
   ],
   "source": [
    "plt.plot(x,y)\n",
    "plt.xlim([-3,3])"
   ]
  },
  {
   "cell_type": "markdown",
   "id": "2a2a9d57-22af-4dcf-876e-7806664b3539",
   "metadata": {},
   "source": [
    "* derivative of $y$ w.r.to $x$:\n",
    "$\\dfrac{dy}{dx} =  x\\dfrac{1}{x} + \\log x = 1 + \\log x$\n",
    "* Setting the derivating to 0, we get: $1 + \\log x = 0$\n",
    "* So, $\\log x = -1$\n",
    "* $e^{\\log x} = e^{-1}$\n",
    "* $x = e^{-1} = 0.3678794$\n",
    "* Therefore, at $x=0.3678794$, $y$ is minimum. (Solved)"
   ]
  },
  {
   "cell_type": "code",
   "execution_count": 19,
   "id": "989b3374-9120-4ebd-ba9e-214ee634aea7",
   "metadata": {},
   "outputs": [
    {
     "data": {
      "text/plain": [
       "0.36787944117144233"
      ]
     },
     "execution_count": 19,
     "metadata": {},
     "output_type": "execute_result"
    }
   ],
   "source": [
    "np.exp(-1)"
   ]
  },
  {
   "cell_type": "markdown",
   "id": "0f7f704e-d761-43b4-be4b-e3e417599a63",
   "metadata": {},
   "source": [
    "**Task 11**: Given $A = \\begin{bmatrix}3 & 0 & 2\\\\2 & 0 & -2\\\\0 & 1 & 1\\end{bmatrix}$. i) compute its inverse, i.e., $A^{-1}$. ii) Check if $AA^{-1} = A^{-1}A = I$. ii) compute its trace, i.e., $\\text{tr}(A)$."
   ]
  },
  {
   "cell_type": "code",
   "execution_count": 1,
   "id": "427c538f-28bf-4358-9d16-cc6681b251cf",
   "metadata": {},
   "outputs": [],
   "source": [
    "import numpy as np"
   ]
  },
  {
   "cell_type": "code",
   "execution_count": 9,
   "id": "f2d7ec86-545b-4b5a-8973-8c29e6aec48b",
   "metadata": {},
   "outputs": [
    {
     "data": {
      "text/plain": [
       "matrix([[ 3,  0,  2],\n",
       "        [ 2,  0, -2],\n",
       "        [ 0,  1,  1]])"
      ]
     },
     "execution_count": 9,
     "metadata": {},
     "output_type": "execute_result"
    }
   ],
   "source": [
    "A = np.matrix( [[3,0,2 ], [2,0,-2], [0, 1, 1] ] )\n",
    "A"
   ]
  },
  {
   "cell_type": "code",
   "execution_count": 8,
   "id": "45f2ab76-9a52-4923-9c39-cb9c7b1d0d80",
   "metadata": {},
   "outputs": [
    {
     "data": {
      "text/plain": [
       "matrix([[ 0.2,  0.2,  0. ],\n",
       "        [-0.2,  0.3,  1. ],\n",
       "        [ 0.2, -0.3, -0. ]])"
      ]
     },
     "execution_count": 8,
     "metadata": {},
     "output_type": "execute_result"
    }
   ],
   "source": [
    "A_inv = np.linalg.inv(A)\n",
    "A_inv"
   ]
  },
  {
   "cell_type": "code",
   "execution_count": 10,
   "id": "868a53a3-1b4c-4eaa-9b5e-5ec27342b138",
   "metadata": {},
   "outputs": [
    {
     "data": {
      "text/plain": [
       "matrix([[ 1.00000000e+00,  0.00000000e+00,  0.00000000e+00],\n",
       "        [-5.55111512e-17,  1.00000000e+00,  0.00000000e+00],\n",
       "        [ 0.00000000e+00,  0.00000000e+00,  1.00000000e+00]])"
      ]
     },
     "execution_count": 10,
     "metadata": {},
     "output_type": "execute_result"
    }
   ],
   "source": [
    "np.dot(A,A_inv)"
   ]
  },
  {
   "cell_type": "code",
   "execution_count": 11,
   "id": "bbffb24e-1391-4781-9ab1-35766b689d14",
   "metadata": {},
   "outputs": [
    {
     "data": {
      "text/plain": [
       "4"
      ]
     },
     "execution_count": 11,
     "metadata": {},
     "output_type": "execute_result"
    }
   ],
   "source": [
    "np.trace(A)"
   ]
  },
  {
   "cell_type": "code",
   "execution_count": 12,
   "id": "ca0e2bc5-bd82-4573-a192-9f30095833dd",
   "metadata": {},
   "outputs": [
    {
     "data": {
      "text/plain": [
       "matrix([[ 3,  0,  2],\n",
       "        [ 2,  0, -2],\n",
       "        [ 0,  1,  1]])"
      ]
     },
     "execution_count": 12,
     "metadata": {},
     "output_type": "execute_result"
    }
   ],
   "source": [
    "A"
   ]
  },
  {
   "cell_type": "code",
   "execution_count": 13,
   "id": "583a0cc9-eea6-4f5f-ad2f-ce96b488e0e8",
   "metadata": {},
   "outputs": [
    {
     "data": {
      "text/plain": [
       "matrix([[ 3,  2,  0],\n",
       "        [ 0,  0,  1],\n",
       "        [ 2, -2,  1]])"
      ]
     },
     "execution_count": 13,
     "metadata": {},
     "output_type": "execute_result"
    }
   ],
   "source": [
    "A.T"
   ]
  },
  {
   "cell_type": "markdown",
   "id": "29887e8f-21cc-4d20-a76c-e7e7464d1648",
   "metadata": {},
   "source": [
    "**Task 12**: Given $P = \\begin{bmatrix}3 & 0 & 2\\end{bmatrix}$, and $Q = \\begin{bmatrix}1 & 2 & 3 & 4\\\\5 & 6 & 7 & 8\\\\9 & 10 & 11 & 12\\end{bmatrix}$, and $R = \\begin{bmatrix}2 & 1\\\\1 & -3 \\\\4 & 1\\\\1 & -5\\end{bmatrix}$, and $S = \\begin{bmatrix}1\\\\2\\end{bmatrix}$,  i) compute $PQRS$, ii) compute $\\text{tr}(PQRS)$, iii) check if $\\text{tr}(PQRS) = \\text{tr}(QRSP) = \\text{tr}(RSPQ) = \\text{tr}(SPQR)$"
   ]
  },
  {
   "cell_type": "code",
   "execution_count": null,
   "id": "9d61a8c3-4aa8-41f9-b7f7-7ec3a955cd0f",
   "metadata": {},
   "outputs": [],
   "source": [
    "import numpy as np"
   ]
  },
  {
   "cell_type": "code",
   "execution_count": 20,
   "id": "66cb76eb-6de8-4b06-aa6c-a75c1487e095",
   "metadata": {},
   "outputs": [],
   "source": [
    "P = np.matrix([3,0,2])\n",
    "Q = np.matrix([[1,2,3,4],[5,6,7,8],[9,10,11,12]])\n",
    "R = np.matrix([[2,1],[1,-3],[4,1],[1,-5]])\n",
    "S = np.matrix([[1],[2]])"
   ]
  },
  {
   "cell_type": "code",
   "execution_count": 22,
   "id": "0006882c-f6f3-4d37-9eb9-fe3350dd80d4",
   "metadata": {},
   "outputs": [
    {
     "data": {
      "text/plain": [
       "matrix([[-184]])"
      ]
     },
     "execution_count": 22,
     "metadata": {},
     "output_type": "execute_result"
    }
   ],
   "source": [
    "#i) compute PQRS\n",
    "PQRS = np.dot(P,np.dot(Q,np.dot(R,S)))\n",
    "PQRS"
   ]
  },
  {
   "cell_type": "code",
   "execution_count": 23,
   "id": "56d3bb0f-a7f2-4a58-8534-62c347b1f439",
   "metadata": {},
   "outputs": [
    {
     "data": {
      "text/plain": [
       "-184"
      ]
     },
     "execution_count": 23,
     "metadata": {},
     "output_type": "execute_result"
    }
   ],
   "source": [
    "#ii) compute trace of PQRS\n",
    "np.trace(PQRS)"
   ]
  },
  {
   "cell_type": "code",
   "execution_count": 25,
   "id": "33f5bef5-58a9-4811-a69a-4d698733f8b3",
   "metadata": {},
   "outputs": [],
   "source": [
    "#iii) check if tr(PQRS)==tr(QRSP)==tr(RSPQ)==tr(SPQR)\n",
    "QRSP = np.dot(Q,np.dot(R,np.dot(S,P)))\n",
    "RSPQ = np.dot(R,np.dot(S,np.dot(P,Q)))\n",
    "SPQR = np.dot(S,np.dot(P,np.dot(Q,R)))\n",
    "assert np.trace(PQRS) == np.trace(QRSP)\n",
    "assert np.trace(QRSP) == np.trace(RSPQ)\n",
    "assert np.trace(RSPQ) == np.trace(SPQR)\n",
    "#if nothing printed through the asserts, it means the conditions were satisfied."
   ]
  },
  {
   "cell_type": "code",
   "execution_count": null,
   "id": "785a85da-3352-4a63-bd13-2faa0a34c4ff",
   "metadata": {},
   "outputs": [],
   "source": []
  },
  {
   "cell_type": "markdown",
   "id": "1e298a51-60a2-4da0-b274-a5f7966aeee4",
   "metadata": {},
   "source": [
    "**Task 13**: Given $A = \\begin{bmatrix}1 & 2 & 3\\\\4 & 5 & 6\\\\7&8&9\\end{bmatrix}$, $B = \\begin{bmatrix}10 & 11 & 12\\\\13 & 14 & 15\\\\16&17&18\\end{bmatrix}$, and $C = \\begin{bmatrix}19 & 20 & 21\\\\22 & 23 & 24\\\\25 & 26 & 27\\end{bmatrix}$, \n",
    "* i) compute $\\text{tr}(A+B+C)$,\n",
    "* ii) check if true: $\\text{tr}(A+B+C) = tr(A) + tr(B) + tr(C)$,\n",
    "* iii) check if true: $\\text{tr}(3A) = 3\\text{tr}(A)$,\n",
    "* iv) check if true: $\\text{tr}(B) = \\text{tr}(B^T)$\n",
    "* v) check if true: $(ABC)^T = C^TB^TA^T$\n",
    "* vi) check if true: $(A+B+C)^T = A^T + B^T + C^T$"
   ]
  },
  {
   "cell_type": "code",
   "execution_count": 26,
   "id": "289ad1c6-2195-4982-bf31-b942ae4ae032",
   "metadata": {},
   "outputs": [],
   "source": [
    "import numpy as np\n",
    "A = np.matrix([[1,2,3],[4,5,6],[7,8,9]])\n",
    "B = np.matrix([[10,11,12],[13,14,15],[16,17,18]])\n",
    "C = np.matrix([[19,20,21],[22,23,24],[25,26,27]])\n"
   ]
  },
  {
   "cell_type": "code",
   "execution_count": 27,
   "id": "e260d838-b2ce-481b-a011-f46fcbce6296",
   "metadata": {},
   "outputs": [
    {
     "data": {
      "text/plain": [
       "126"
      ]
     },
     "execution_count": 27,
     "metadata": {},
     "output_type": "execute_result"
    }
   ],
   "source": [
    "#i) compute tr(A+B+C)\n",
    "np.trace(A + B + C)"
   ]
  },
  {
   "cell_type": "code",
   "execution_count": 29,
   "id": "4a2aa068-e7f8-4573-9226-623f557b3440",
   "metadata": {},
   "outputs": [
    {
     "data": {
      "text/plain": [
       "126"
      ]
     },
     "execution_count": 29,
     "metadata": {},
     "output_type": "execute_result"
    }
   ],
   "source": [
    "#ii) check if true: tr(A+B+C)==tr(A)+tr(B)+tr(C)\n",
    "np.trace(A) + np.trace(B) + np.trace(C)"
   ]
  },
  {
   "cell_type": "markdown",
   "id": "35f69050-e538-4aa8-a8dc-e0d2acd9c876",
   "metadata": {},
   "source": [
    "* Yep, it's true"
   ]
  },
  {
   "cell_type": "code",
   "execution_count": 30,
   "id": "7a12aff3-9b2d-487a-ba8b-845856befd57",
   "metadata": {},
   "outputs": [
    {
     "data": {
      "text/plain": [
       "45"
      ]
     },
     "execution_count": 30,
     "metadata": {},
     "output_type": "execute_result"
    }
   ],
   "source": [
    "#iii) check if true: tr(3A) = 3tr(A)\n",
    "np.trace(3*A)"
   ]
  },
  {
   "cell_type": "code",
   "execution_count": 31,
   "id": "b3bebca1-b09b-4e14-9e4a-ecf895407e22",
   "metadata": {},
   "outputs": [
    {
     "data": {
      "text/plain": [
       "45"
      ]
     },
     "execution_count": 31,
     "metadata": {},
     "output_type": "execute_result"
    }
   ],
   "source": [
    "3*np.trace(A)"
   ]
  },
  {
   "cell_type": "markdown",
   "id": "22d8d83e-6dd2-4a3c-b587-f18379100315",
   "metadata": {},
   "source": [
    "* Yep, it's true too."
   ]
  },
  {
   "cell_type": "code",
   "execution_count": 32,
   "id": "652cbf79-5cef-420b-accb-e5d30c810de8",
   "metadata": {},
   "outputs": [
    {
     "data": {
      "text/plain": [
       "42"
      ]
     },
     "execution_count": 32,
     "metadata": {},
     "output_type": "execute_result"
    }
   ],
   "source": [
    "#iv) check if true: tr(B) == tr(B^T)\n",
    "np.trace(B)"
   ]
  },
  {
   "cell_type": "code",
   "execution_count": 33,
   "id": "bcc88635-13df-4a3a-a929-261c4e2ac405",
   "metadata": {},
   "outputs": [
    {
     "data": {
      "text/plain": [
       "42"
      ]
     },
     "execution_count": 33,
     "metadata": {},
     "output_type": "execute_result"
    }
   ],
   "source": [
    "np.trace(B.T)"
   ]
  },
  {
   "cell_type": "markdown",
   "id": "f628be6b-7033-451d-a832-b89fe4e7a467",
   "metadata": {},
   "source": [
    "Yep, it's true too."
   ]
  },
  {
   "cell_type": "code",
   "execution_count": 35,
   "id": "911b68d1-d6d1-4081-8d33-23c9ef3099b7",
   "metadata": {},
   "outputs": [],
   "source": [
    "#v) check if true: (ABC)^T == C^TB^TA^T\n",
    "ResultLeft = (np.dot(A,np.dot(B,C))).T\n",
    "ResultRight = np.dot(C.T,np.dot(B.T,A.T))"
   ]
  },
  {
   "cell_type": "code",
   "execution_count": 36,
   "id": "cb6d0cda-c6f1-4caa-b866-d69ea98819fc",
   "metadata": {},
   "outputs": [
    {
     "data": {
      "text/plain": [
       "(matrix([[ 5976, 14346, 22716],\n",
       "         [ 6246, 14994, 23742],\n",
       "         [ 6516, 15642, 24768]]),\n",
       " matrix([[ 5976, 14346, 22716],\n",
       "         [ 6246, 14994, 23742],\n",
       "         [ 6516, 15642, 24768]]))"
      ]
     },
     "execution_count": 36,
     "metadata": {},
     "output_type": "execute_result"
    }
   ],
   "source": [
    "ResultLeft, ResultRight"
   ]
  },
  {
   "cell_type": "code",
   "execution_count": 37,
   "id": "902d9a90-7e1f-4e6f-90a6-d48233f91029",
   "metadata": {},
   "outputs": [],
   "source": [
    "#vi) check if true: (A+B+C)^T = A^T + B^T + C^T"
   ]
  },
  {
   "cell_type": "code",
   "execution_count": 38,
   "id": "a8c47f0f-4a26-494f-be70-f629515e598b",
   "metadata": {},
   "outputs": [
    {
     "data": {
      "text/plain": [
       "matrix([[30, 39, 48],\n",
       "        [33, 42, 51],\n",
       "        [36, 45, 54]])"
      ]
     },
     "execution_count": 38,
     "metadata": {},
     "output_type": "execute_result"
    }
   ],
   "source": [
    "(A+B+C).T"
   ]
  },
  {
   "cell_type": "code",
   "execution_count": 39,
   "id": "83ff0849-20e4-4dac-b8ba-dbcd18a07184",
   "metadata": {},
   "outputs": [
    {
     "data": {
      "text/plain": [
       "matrix([[30, 39, 48],\n",
       "        [33, 42, 51],\n",
       "        [36, 45, 54]])"
      ]
     },
     "execution_count": 39,
     "metadata": {},
     "output_type": "execute_result"
    }
   ],
   "source": [
    "A.T + B.T + C.T"
   ]
  },
  {
   "cell_type": "code",
   "execution_count": null,
   "id": "e2af5db0-1a8d-4ead-bcb4-0bd81f42ba6d",
   "metadata": {},
   "outputs": [],
   "source": []
  },
  {
   "cell_type": "code",
   "execution_count": null,
   "id": "4e956ad6-21c5-4a61-9547-5f1fad4cabec",
   "metadata": {},
   "outputs": [],
   "source": []
  },
  {
   "cell_type": "code",
   "execution_count": null,
   "id": "f19fa1b2-faf3-4633-9f4b-f1895ce3550f",
   "metadata": {},
   "outputs": [],
   "source": []
  },
  {
   "cell_type": "markdown",
   "id": "5e29c955-71e3-45cb-a957-3575e6177fec",
   "metadata": {},
   "source": [
    "## Drawing a simple contour plot"
   ]
  },
  {
   "cell_type": "code",
   "execution_count": 1,
   "id": "4e492ed1-49a1-41b2-ac6d-a92e22b8e4d0",
   "metadata": {},
   "outputs": [],
   "source": [
    "import numpy as np\n",
    "import matplotlib.pyplot as plt\n",
    "\n",
    "import matplotlib.cm as cm\n",
    "\n",
    "delta = 0.025\n",
    "x = np.arange(-3.0, 3.0, delta)\n",
    "y = np.arange(-2.0, 2.0, delta)\n",
    "X, Y = np.meshgrid(x, y)\n",
    "\n",
    "\n"
   ]
  },
  {
   "cell_type": "code",
   "execution_count": 2,
   "id": "c04c34c8-3105-413f-8b42-891263dd2f92",
   "metadata": {},
   "outputs": [
    {
     "data": {
      "text/plain": [
       "((240,), (160,), (160, 240), (160, 240))"
      ]
     },
     "execution_count": 2,
     "metadata": {},
     "output_type": "execute_result"
    }
   ],
   "source": [
    "x.shape, y.shape, X.shape, Y.shape"
   ]
  },
  {
   "cell_type": "markdown",
   "id": "6bef0e6a-017f-4a5d-bdf5-0b0d391e0067",
   "metadata": {},
   "source": [
    "$z = e^{-x^2-y^2} - e^{-(x-1)^2-(y-1)^2}$"
   ]
  },
  {
   "cell_type": "code",
   "execution_count": 3,
   "id": "c2fcbcb0-1454-49a5-b4f8-03b32f821473",
   "metadata": {},
   "outputs": [],
   "source": [
    "Z1 = np.exp(-X**2 - Y**2)\n",
    "Z2 = np.exp(-(X - 1)**2 - (Y - 1)**2)\n",
    "Z = (Z1 - Z2) * 2\n",
    "\n",
    "\n"
   ]
  },
  {
   "cell_type": "code",
   "execution_count": null,
   "id": "e95dfc4c-8961-4799-a977-4965d9222d19",
   "metadata": {},
   "outputs": [],
   "source": []
  },
  {
   "cell_type": "code",
   "execution_count": 22,
   "id": "c478871b-9c31-4a3a-8a16-9e262570733d",
   "metadata": {},
   "outputs": [
    {
     "data": {
      "text/plain": [
       "Text(0, 0.5, 'y')"
      ]
     },
     "execution_count": 22,
     "metadata": {},
     "output_type": "execute_result"
    },
    {
     "data": {
      "image/png": "[encoded data removed]",
      "text/plain": [
       "<Figure size 640x480 with 1 Axes>"
      ]
     },
     "metadata": {},
     "output_type": "display_data"
    }
   ],
   "source": [
    "fig, ax = plt.subplots()\n",
    "CS = ax.contour(X, Y, Z)\n",
    "ax.clabel(CS, inline=True, fontsize=10)\n",
    "ax.set_title('Simplest default with labels')\n",
    "ax.set_xlabel('x')\n",
    "ax.set_ylabel('y')"
   ]
  },
  {
   "cell_type": "code",
   "execution_count": null,
   "id": "36443d67-2894-4eef-838e-7facb55a795e",
   "metadata": {},
   "outputs": [],
   "source": []
  },
  {
   "cell_type": "code",
   "execution_count": null,
   "id": "615dfd6c-d590-46a9-99ba-e9bbac2e341a",
   "metadata": {},
   "outputs": [],
   "source": []
  },
  {
   "cell_type": "code",
   "execution_count": null,
   "id": "7208f37e-5f4a-4be1-a69a-0f82edfba0c8",
   "metadata": {},
   "outputs": [],
   "source": []
  }
 ],
 "metadata": {
  "kernelspec": {
   "display_name": "Python3.9+Torch2",
   "language": "python",
   "name": "venv-torch2"
  },
  "language_info": {
   "codemirror_mode": {
    "name": "ipython",
    "version": 3
   },
   "file_extension": ".py",
   "mimetype": "text/x-python",
   "name": "python",
   "nbconvert_exporter": "python",
   "pygments_lexer": "ipython3",
   "version": "3.9.18"
  }
 },
 "nbformat": 4,
 "nbformat_minor": 5
}
